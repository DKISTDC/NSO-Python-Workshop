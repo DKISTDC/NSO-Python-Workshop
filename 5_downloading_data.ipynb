{
 "cells": [
  {
   "cell_type": "markdown",
   "id": "6b4cabf8",
   "metadata": {},
   "source": [
    "# Downloading Data\n",
    "\n",
    "## Setting up and using Globus\n",
    "\n",
    "<!--\n",
    "- login flow\n",
    "- GCP\n",
    "- paths\n",
    "- endpoints\n",
    "- monitoring jobs w/ web interface\n",
    "- download single file\n",
    "-->\n",
    "\n",
    "We've seen how to search and download the ASDF metadata files with Fido.\n",
    "However, the actual data files are distributed using [Globus](https://www.globus.org/)\n",
    "For the next portion of the workshop you will need to be running Globus Connect Personal, so follow the installation instructions for your platform [here](https://www.globus.org/globus-connect-personal) if you haven't already.\n",
    "During the setup, you will need to login to Globus.\n",
    "For this you can use your login for your institution, or alternatively you can login with Google or ORCID.\n",
    "\n",
    "Once Globus is installed and set up, you will need to run Globus Connect Personal (GCP) as described on the installation page.\n",
    "You will need to do this every time you want to download data, either through the user tools or through the Globus web app.\n",
    "When you start GCP You may also want to define the location or locations on your computer which you want Globus to have access to.\n",
    "On Linux you can do this using the `-restrict-paths` command line argument, or by editing the config file.\n",
    "On Windows and Mac OS this option is in the \"Access\" tab of the configuration options.\n",
    "Globus will only be able to transfer files onto your machine in the specified paths.\n",
    "\n",
    "### The Globus web app\n",
    "\n",
    "Many of you will already be familiar with using the [Globus web app](https://app.globus.org/) to download data.\n",
    "If you are not, you should read through the [getting started docs here](https://docs.globus.org/how-to/get-started/).\n",
    "We will not be using the web app significantly for this workshop, and generally we don't recommend downloading data this way, since the user tools are better suited to navigating the quantities of data that DKIST provides.\n",
    "However, we will be going over how to use the web app now so that we can demonstrate some of the underlying concepts.\n",
    "\n",
    "**Endpoints** (also called **Collections** in the web app) are locations registered with Globus for data transfer.\n",
    "For example, you may want to define an endpoint for both your desktop machine in the office and your laptop, so that you can download data on each depending on where you're working.\n",
    "You would then be able to transfer data directly from one to the other using Globus.\n",
    "Many institutions will have their own Globus endpoints, such as a computing cluster, that you may have access to.\n",
    "DKIST has an endpoint called \"DKIST Data Transfer\", which is where DKIST data will be made available.\n",
    "\n",
    "**Paths** are ...?\n",
    "\n",
    "To start a data transfer from one endpoint to another, go to the \"File Manager\" tab of the web app.\n",
    "Here you will find a split screen - on either side you can select an endpoint in the \"Collection\" search box.\n",
    "Select \"DKSIT Data Transfer\" on the left hand side and the endpoint corresponding to your local machine on the right.\n",
    "Then you can navigate the file system on either machine (remembering that Globus will only have access to whichever local directories you've specified).\n",
    "\n",
    "Let's demonstrate a simple file transfer by grabbing the preview movie for a dataset.\n",
    "On the right hand side in your local endpoint, navigate to a suitable place to download the movie.\n",
    "Then on the right hand side navigate to `/data/pid_1_123/BEOGN/`.\n",
    "We will use this dataset for this and some other examples later in this session.\n",
    "You should see a list of the files available in this dataset, mostly the data stored in `.fits` format.\n",
    "Select the preview movie, `BEOGN.mp4`, by clicking the checkbox next to it, then click the \"Start\" button above the file list to begin the download.\n",
    "\n",
    "You can check the progress of your transfer by going to the \"Activity\" tab, which shows both active and previous transfers.\n",
    "Various useful information is displayed here but for now the most important is whether the transfer task has failed or succeeded.\n",
    "In either case Globus will also send an email to your registered email address when the task finishes.\n",
    "Of course in this trivial example this is unneccessary, but if you're transfering a whole large dataset it will likely take some time to download and it may be useful to be notified when it's complete.\n",
    "You do not need to leave the web app open for the transfer to continue, but remember that you do need to have GCP running - so if you stop it then your data download will stop as well.\n",
    "\n",
    "If you try transfering the same file again to the same location, you will find that the task completes successfully but the file is not actually transferred.\n",
    "This is to save download time and avoid duplication.\n",
    "\n",
    "## Dataset and downloading\n",
    "\n",
    "<!--\n",
    "- Download from globus\n",
    "- Download whole dataset/many datasets\n",
    "- Download to remote endpoints\n",
    "-->\n",
    "\n",
    "## Downloading Data Based on Seeing"
   ]
  },
  {
   "cell_type": "code",
   "execution_count": null,
   "id": "1b47e2ca",
   "metadata": {},
   "outputs": [],
   "source": []
  },
  {
   "cell_type": "markdown",
   "id": "e080a807",
   "metadata": {},
   "source": [
    "Let's find a dataset with the highest average value of r0 (this is bad?).\n",
    "First we'll search for all unembargoed VISP data, as embargoed data is no use to us for this excercise."
   ]
  },
  {
   "cell_type": "code",
   "execution_count": null,
   "id": "2a40f750",
   "metadata": {},
   "outputs": [],
   "source": []
  },
  {
   "cell_type": "markdown",
   "id": "d07cc671",
   "metadata": {},
   "source": [
    "Next, since we want to use the highest average $r_0$, we can have Fido sort the results and output just the useful columns."
   ]
  },
  {
   "cell_type": "code",
   "execution_count": null,
   "id": "4e351c2e",
   "metadata": {},
   "outputs": [],
   "source": []
  },
  {
   "cell_type": "markdown",
   "id": "b8ef2b6c",
   "metadata": {},
   "source": [
    "This gives us the dataset `BEOGN`, which happens to be the same one we have been using already.\n",
    "(So you should already have the ASDF file available on your machine but we'll go through the motions anyway for completeness.\n",
    "Fido won't re-download an existing file anyway unless told to.)\n",
    "We can download the dataset ASDF with Fido to inspect it in more detail.\n",
    "Remember that this only downloads a single ASDF file with some more metadata about the dataset, not the actual science data."
   ]
  },
  {
   "cell_type": "code",
   "execution_count": null,
   "id": "1b80a2d6",
   "metadata": {
    "tags": [
     "remove-stderr"
    ]
   },
   "outputs": [],
   "source": []
  },
  {
   "cell_type": "markdown",
   "id": "925b1e3f",
   "metadata": {},
   "source": [
    "Now that we have access to the FITS headers we can inspect the $r_0$ more closely, just as we did in the previous session.\n",
    "Remember that `DINDEX4` is the Stokes index, so we can plot the $r_0$ for just Stokes I like so:"
   ]
  },
  {
   "cell_type": "code",
   "execution_count": null,
   "id": "29ec01aa",
   "metadata": {},
   "outputs": [],
   "source": []
  },
  {
   "cell_type": "markdown",
   "id": "0f56453d",
   "metadata": {},
   "source": [
    "Now let's slice down our dataset based on the first frame where $r_0$ is high:"
   ]
  },
  {
   "cell_type": "code",
   "execution_count": null,
   "id": "f9d487ed",
   "metadata": {},
   "outputs": [],
   "source": []
  },
  {
   "cell_type": "markdown",
   "id": "9e63447e",
   "metadata": {},
   "source": [
    "We can now download only these files, remember you need globus-connect-personal running for this."
   ]
  },
  {
   "cell_type": "code",
   "execution_count": null,
   "id": "9d57ddf6",
   "metadata": {
    "tags": [
     "skip-execution"
    ]
   },
   "outputs": [],
   "source": []
  },
  {
   "cell_type": "markdown",
   "id": "cde5a114",
   "metadata": {},
   "source": [
    "Now let's plot the Stokes I data at some wavelength:"
   ]
  },
  {
   "cell_type": "code",
   "execution_count": null,
   "id": "d134c765",
   "metadata": {
    "tags": [
     "skip-execution"
    ]
   },
   "outputs": [],
   "source": []
  },
  {
   "cell_type": "markdown",
   "id": "051fe1d1",
   "metadata": {},
   "source": [
    "You will notice that a lot of it is missing.\n",
    "This is because we have deliberately only downloaded those frames with an acceptably low $r_0$.\n",
    "You may also notice though, that the `Dataset` object continues to function normally without the rest of the data.\n",
    "When we try to access the data, if the file is missing then `Dataset` fills in the corresponding portions of the array with NaNs.\n",
    "\n",
    "Since the seeing is bad for a significant contiguous portion of the data, we may simply want to discount that part and look only at the useful data.\n",
    "In this case we can use the sub-dataset we made earlier:"
   ]
  },
  {
   "cell_type": "code",
   "execution_count": null,
   "id": "537e204d",
   "metadata": {
    "tags": [
     "skip-execution"
    ]
   },
   "outputs": [],
   "source": []
  },
  {
   "cell_type": "markdown",
   "id": "5bbfed54",
   "metadata": {},
   "source": [
    "Or of course we can make any arbitrary slice to look at whatever subset of the data we prefer.\n",
    "\n",
    "\n",
    "## Plotting again\n",
    "\n",
    "<!--\n",
    "- put data in the plot\n",
    "- animations\n",
    "- single image w/ coord overlay\n",
    "- line plots\n",
    "- plotting (ndcube)\n",
    "-->"
   ]
  }
 ],
 "metadata": {
  "kernelspec": {
   "display_name": "Python 3",
   "language": "python",
   "name": "python3"
  }
 },
 "nbformat": 4,
 "nbformat_minor": 5
}
