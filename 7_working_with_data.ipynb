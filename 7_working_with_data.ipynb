{
 "cells": [
  {
   "cell_type": "markdown",
   "id": "0a5acb59",
   "metadata": {},
   "source": [
    "# Working with Data\n",
    "\n",
    "## Downloading Data Based on Seeing"
   ]
  },
  {
   "cell_type": "code",
   "execution_count": null,
   "id": "0b217023",
   "metadata": {},
   "outputs": [],
   "source": []
  },
  {
   "cell_type": "markdown",
   "id": "f53fa665",
   "metadata": {},
   "source": [
    "Let's find a dataset with the highest average value of r0 (this is bad?).\n",
    "First we'll search for all unembargoed VISP data, as embargoed data is no use to us for this excercise."
   ]
  },
  {
   "cell_type": "code",
   "execution_count": null,
   "id": "db5aebd8",
   "metadata": {},
   "outputs": [],
   "source": []
  },
  {
   "cell_type": "markdown",
   "id": "e4757e14",
   "metadata": {},
   "source": [
    "Next, since we want to use the highest average $r_0$, we can have Fido sort the results and output just the useful columns."
   ]
  },
  {
   "cell_type": "code",
   "execution_count": null,
   "id": "74ac1081",
   "metadata": {},
   "outputs": [],
   "source": []
  },
  {
   "cell_type": "markdown",
   "id": "a97bffd5",
   "metadata": {},
   "source": [
    "This gives us the dataset `BEOGN`, which happens to be the same one we have been using already.\n",
    "(So you should already have the ASDF file available on your machine but we'll go through the motions anyway for completeness.\n",
    "Fido won't re-download an existing file anyway unless told to.)\n",
    "We can download the dataset ASDF with Fido to inspect it in more detail.\n",
    "Remember that this only downloads a single ASDF file with some more metadata about the dataset, not the actual science data."
   ]
  },
  {
   "cell_type": "code",
   "execution_count": null,
   "id": "cf023a82",
   "metadata": {
    "tags": [
     "remove-stderr"
    ]
   },
   "outputs": [],
   "source": []
  },
  {
   "cell_type": "markdown",
   "id": "8a35b5ba",
   "metadata": {},
   "source": [
    "Now that we have access to the FITS headers we can inspect the $r_0$ more closely, just as we did in the previous session.\n",
    "Remember that `DINDEX4` is the Stokes index, so we can plot the $r_0$ for just Stokes I like so:"
   ]
  },
  {
   "cell_type": "code",
   "execution_count": null,
   "id": "64df8515",
   "metadata": {},
   "outputs": [],
   "source": []
  },
  {
   "cell_type": "markdown",
   "id": "5a85fdb8",
   "metadata": {},
   "source": [
    "Now let's slice down our dataset based on the first frame where $r_0$ is high:"
   ]
  },
  {
   "cell_type": "code",
   "execution_count": null,
   "id": "db92f1fc",
   "metadata": {},
   "outputs": [],
   "source": []
  },
  {
   "cell_type": "markdown",
   "id": "9613b3cb",
   "metadata": {},
   "source": [
    "We can now download only these files, remember you need globus-connect-personal running for this."
   ]
  },
  {
   "cell_type": "code",
   "execution_count": null,
   "id": "e7a321e6",
   "metadata": {
    "tags": [
     "skip-execution"
    ]
   },
   "outputs": [],
   "source": []
  },
  {
   "cell_type": "markdown",
   "id": "446b888f",
   "metadata": {},
   "source": [
    "Now let's plot the Stokes I data at some wavelength:"
   ]
  },
  {
   "cell_type": "code",
   "execution_count": null,
   "id": "f9da35c9",
   "metadata": {
    "tags": [
     "skip-execution"
    ]
   },
   "outputs": [],
   "source": []
  },
  {
   "cell_type": "markdown",
   "id": "21c06647",
   "metadata": {},
   "source": [
    "You will notice that a lot of it is missing.\n",
    "This is because we have deliberately only downloaded those frames with an acceptably low $r_0$.\n",
    "You may also notice though, that the `Dataset` object continues to function normally without the rest of the data.\n",
    "When we try to access the data, if the file is missing then `Dataset` fills in the corresponding portions of the array with NaNs.\n",
    "\n",
    "Since the seeing is bad for a significant contiguous portion of the data, we may simply want to discount that part and look only at the useful data.\n",
    "In this case we can use the sub-dataset we made earlier:"
   ]
  },
  {
   "cell_type": "code",
   "execution_count": null,
   "id": "ebe18063",
   "metadata": {
    "tags": [
     "skip-execution"
    ]
   },
   "outputs": [],
   "source": []
  },
  {
   "cell_type": "markdown",
   "id": "30654e39",
   "metadata": {},
   "source": [
    "Or of course we can make any arbitrary slice to look at whatever subset of the data we prefer."
   ]
  }
 ],
 "metadata": {
  "kernelspec": {
   "display_name": "Python 3",
   "language": "python",
   "name": "python3"
  }
 },
 "nbformat": 4,
 "nbformat_minor": 5
}
