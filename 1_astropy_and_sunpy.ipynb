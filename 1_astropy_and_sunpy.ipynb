{
 "cells": [
  {
   "cell_type": "markdown",
   "id": "67a3b506",
   "metadata": {},
   "source": [
    "# Astropy and SunPy - A Quick Primer\n",
    "\n",
    "Before we progress to searching for DKIST data we need to cover some functionality of the [SunPy](https://sunpy.org) and [Astropy](https://astropy.org) packages.\n",
    "These two packages, amongst a few others, are the core components of the DKIST tools.\n",
    "In this session we shall only quickly cover the functionality of SunPy and Astropy we need for the rest of the workshop.\n",
    "There are many other parts of these packages which are useful when working with DKIST data, which you should explore.\n",
    "\n",
    "As we covered in the introduction, Python is a modular language; Astropy provides fundamental functionality for a lot of different types of astronomy.\n",
    "In this section we shall cover the following parts of Astropy:\n",
    "\n",
    "* Units\n",
    "* World Coordinate Systems\n",
    "* Coordinates\n",
    "\n",
    "## Units\n",
    "\n",
    "Astropy provides a subpackage {obj}`astropy.units` which provides tools for associating physical units with numbers and arrays.\n",
    "This lets you do mathematical operations on these arrays while propagating the units.\n",
    "\n",
    "To get started we import `astropy.units`; because we are going to be using this a lot, we import it as `u`."
   ]
  },
  {
   "cell_type": "code",
   "execution_count": 1,
   "id": "17fb669a",
   "metadata": {},
   "outputs": [],
   "source": [
    "import astropy.units as u"
   ]
  },
  {
   "cell_type": "markdown",
   "id": "3c2e0f6b",
   "metadata": {},
   "source": [
    "Now we can access various units as such:"
   ]
  },
  {
   "cell_type": "code",
   "execution_count": 3,
   "id": "b6c58789",
   "metadata": {},
   "outputs": [
    {
     "data": {
      "text/latex": [
       "$\\mathrm{m}$"
      ],
      "text/plain": [
       "Unit(\"m\")"
      ]
     },
     "execution_count": 3,
     "metadata": {},
     "output_type": "execute_result"
    }
   ],
   "source": [
    "u.meter"
   ]
  },
  {
   "cell_type": "code",
   "execution_count": 4,
   "id": "aa78b957",
   "metadata": {},
   "outputs": [
    {
     "data": {
      "text/latex": [
       "$\\mathrm{kg}$"
      ],
      "text/plain": [
       "Unit(\"kg\")"
      ]
     },
     "execution_count": 4,
     "metadata": {},
     "output_type": "execute_result"
    }
   ],
   "source": [
    "u.kg"
   ]
  },
  {
   "cell_type": "markdown",
   "id": "29f4fc3e",
   "metadata": {},
   "source": [
    "We can now attach a unit to a number:"
   ]
  },
  {
   "cell_type": "code",
   "execution_count": 6,
   "id": "7dd88dba",
   "metadata": {},
   "outputs": [
    {
     "data": {
      "text/latex": [
       "$10 \\; \\mathrm{m}$"
      ],
      "text/plain": [
       "<Quantity 10. m>"
      ]
     },
     "execution_count": 6,
     "metadata": {},
     "output_type": "execute_result"
    }
   ],
   "source": [
    "length = 10 * u.m\n",
    "length"
   ]
  },
  {
   "cell_type": "markdown",
   "id": "a8afe6dc",
   "metadata": {},
   "source": [
    "We can also compose multiple quantities (a number with a unit):"
   ]
  },
  {
   "cell_type": "code",
   "execution_count": 7,
   "id": "bf096af1",
   "metadata": {},
   "outputs": [
    {
     "data": {
      "text/latex": [
       "$0.33333333 \\; \\mathrm{\\frac{m}{min}}$"
      ],
      "text/plain": [
       "<Quantity 0.33333333 m / min>"
      ]
     },
     "execution_count": 7,
     "metadata": {},
     "output_type": "execute_result"
    }
   ],
   "source": [
    "speed = length / (30 * u.min)\n",
    "speed"
   ]
  },
  {
   "cell_type": "markdown",
   "id": "51caa48c",
   "metadata": {},
   "source": [
    "Using the `.to()` method on a `u.Quantity` object lets you convert a quantity to a different unit."
   ]
  },
  {
   "cell_type": "code",
   "execution_count": 8,
   "id": "cbe5302e",
   "metadata": {},
   "outputs": [
    {
     "data": {
      "text/latex": [
       "$0.02 \\; \\mathrm{\\frac{km}{h}}$"
      ],
      "text/plain": [
       "<Quantity 0.02 km / h>"
      ]
     },
     "execution_count": 8,
     "metadata": {},
     "output_type": "execute_result"
    }
   ],
   "source": [
    "speed.to(u.km/u.h)"
   ]
  },
  {
   "cell_type": "code",
   "execution_count": 9,
   "id": "cb5c2570",
   "metadata": {},
   "outputs": [
    {
     "data": {
      "text/latex": [
       "$0.0055555556 \\; \\mathrm{\\frac{m}{s}}$"
      ],
      "text/plain": [
       "<Quantity 0.00555556 m / s>"
      ]
     },
     "execution_count": 9,
     "metadata": {},
     "output_type": "execute_result"
    }
   ],
   "source": [
    "speed.to(u.m/u.s)"
   ]
  },
  {
   "cell_type": "markdown",
   "id": "ad4ce114",
   "metadata": {},
   "source": [
    "### Equivalencies\n",
    "\n",
    "Some conversions are not done by a conversion factor as between miles and kilometers – for example converting between wavelength and frequency:"
   ]
  },
  {
   "cell_type": "code",
   "execution_count": 10,
   "id": "cfff1dcb",
   "metadata": {
    "scrolled": true,
    "tags": [
     "raises-exception"
    ]
   },
   "outputs": [
    {
     "ename": "UnitConversionError",
     "evalue": "'nm' (length) and 'Hz' (frequency) are not convertible",
     "output_type": "error",
     "traceback": [
      "\u001b[0;31m---------------------------------------------------------------------------\u001b[0m",
      "\u001b[0;31mUnitConversionError\u001b[0m                       Traceback (most recent call last)",
      "Cell \u001b[0;32mIn[10], line 1\u001b[0m\n\u001b[0;32m----> 1\u001b[0m \u001b[43m(\u001b[49m\u001b[38;5;241;43m656.281\u001b[39;49m\u001b[43m \u001b[49m\u001b[38;5;241;43m*\u001b[39;49m\u001b[43m \u001b[49m\u001b[43mu\u001b[49m\u001b[38;5;241;43m.\u001b[39;49m\u001b[43mnm\u001b[49m\u001b[43m)\u001b[49m\u001b[38;5;241;43m.\u001b[39;49m\u001b[43mto\u001b[49m\u001b[43m(\u001b[49m\u001b[43mu\u001b[49m\u001b[38;5;241;43m.\u001b[39;49m\u001b[43mHz\u001b[49m\u001b[43m)\u001b[49m\n",
      "File \u001b[0;32m~/.virtualenvs/instructor-user-tools-workshop/lib/python3.11/site-packages/astropy/units/quantity.py:935\u001b[0m, in \u001b[0;36mQuantity.to\u001b[0;34m(self, unit, equivalencies, copy)\u001b[0m\n\u001b[1;32m    931\u001b[0m unit \u001b[38;5;241m=\u001b[39m Unit(unit)\n\u001b[1;32m    932\u001b[0m \u001b[38;5;28;01mif\u001b[39;00m copy:\n\u001b[1;32m    933\u001b[0m     \u001b[38;5;66;03m# Avoid using to_value to ensure that we make a copy. We also\u001b[39;00m\n\u001b[1;32m    934\u001b[0m     \u001b[38;5;66;03m# don't want to slow down this method (esp. the scalar case).\u001b[39;00m\n\u001b[0;32m--> 935\u001b[0m     value \u001b[38;5;241m=\u001b[39m \u001b[38;5;28;43mself\u001b[39;49m\u001b[38;5;241;43m.\u001b[39;49m\u001b[43m_to_value\u001b[49m\u001b[43m(\u001b[49m\u001b[43munit\u001b[49m\u001b[43m,\u001b[49m\u001b[43m \u001b[49m\u001b[43mequivalencies\u001b[49m\u001b[43m)\u001b[49m\n\u001b[1;32m    936\u001b[0m \u001b[38;5;28;01melse\u001b[39;00m:\n\u001b[1;32m    937\u001b[0m     \u001b[38;5;66;03m# to_value only copies if necessary\u001b[39;00m\n\u001b[1;32m    938\u001b[0m     value \u001b[38;5;241m=\u001b[39m \u001b[38;5;28mself\u001b[39m\u001b[38;5;241m.\u001b[39mto_value(unit, equivalencies)\n",
      "File \u001b[0;32m~/.virtualenvs/instructor-user-tools-workshop/lib/python3.11/site-packages/astropy/units/quantity.py:888\u001b[0m, in \u001b[0;36mQuantity._to_value\u001b[0;34m(self, unit, equivalencies)\u001b[0m\n\u001b[1;32m    885\u001b[0m     equivalencies \u001b[38;5;241m=\u001b[39m \u001b[38;5;28mself\u001b[39m\u001b[38;5;241m.\u001b[39m_equivalencies\n\u001b[1;32m    886\u001b[0m \u001b[38;5;28;01mif\u001b[39;00m \u001b[38;5;129;01mnot\u001b[39;00m \u001b[38;5;28mself\u001b[39m\u001b[38;5;241m.\u001b[39mdtype\u001b[38;5;241m.\u001b[39mnames \u001b[38;5;129;01mor\u001b[39;00m \u001b[38;5;28misinstance\u001b[39m(\u001b[38;5;28mself\u001b[39m\u001b[38;5;241m.\u001b[39munit, StructuredUnit):\n\u001b[1;32m    887\u001b[0m     \u001b[38;5;66;03m# Standard path, let unit to do work.\u001b[39;00m\n\u001b[0;32m--> 888\u001b[0m     \u001b[38;5;28;01mreturn\u001b[39;00m \u001b[38;5;28;43mself\u001b[39;49m\u001b[38;5;241;43m.\u001b[39;49m\u001b[43munit\u001b[49m\u001b[38;5;241;43m.\u001b[39;49m\u001b[43mto\u001b[49m\u001b[43m(\u001b[49m\n\u001b[1;32m    889\u001b[0m \u001b[43m        \u001b[49m\u001b[43munit\u001b[49m\u001b[43m,\u001b[49m\u001b[43m \u001b[49m\u001b[38;5;28;43mself\u001b[39;49m\u001b[38;5;241;43m.\u001b[39;49m\u001b[43mview\u001b[49m\u001b[43m(\u001b[49m\u001b[43mnp\u001b[49m\u001b[38;5;241;43m.\u001b[39;49m\u001b[43mndarray\u001b[49m\u001b[43m)\u001b[49m\u001b[43m,\u001b[49m\u001b[43m \u001b[49m\u001b[43mequivalencies\u001b[49m\u001b[38;5;241;43m=\u001b[39;49m\u001b[43mequivalencies\u001b[49m\n\u001b[1;32m    890\u001b[0m \u001b[43m    \u001b[49m\u001b[43m)\u001b[49m\n\u001b[1;32m    892\u001b[0m \u001b[38;5;28;01melse\u001b[39;00m:\n\u001b[1;32m    893\u001b[0m     \u001b[38;5;66;03m# The .to() method of a simple unit cannot convert a structured\u001b[39;00m\n\u001b[1;32m    894\u001b[0m     \u001b[38;5;66;03m# dtype, so we work around it, by recursing.\u001b[39;00m\n\u001b[1;32m    895\u001b[0m     \u001b[38;5;66;03m# TODO: deprecate this?\u001b[39;00m\n\u001b[1;32m    896\u001b[0m     \u001b[38;5;66;03m# Convert simple to Structured on initialization?\u001b[39;00m\n\u001b[1;32m    897\u001b[0m     result \u001b[38;5;241m=\u001b[39m np\u001b[38;5;241m.\u001b[39mempty_like(\u001b[38;5;28mself\u001b[39m\u001b[38;5;241m.\u001b[39mview(np\u001b[38;5;241m.\u001b[39mndarray))\n",
      "File \u001b[0;32m~/.virtualenvs/instructor-user-tools-workshop/lib/python3.11/site-packages/astropy/units/core.py:1195\u001b[0m, in \u001b[0;36mUnitBase.to\u001b[0;34m(self, other, value, equivalencies)\u001b[0m\n\u001b[1;32m   1193\u001b[0m     \u001b[38;5;28;01mreturn\u001b[39;00m UNITY\n\u001b[1;32m   1194\u001b[0m \u001b[38;5;28;01melse\u001b[39;00m:\n\u001b[0;32m-> 1195\u001b[0m     \u001b[38;5;28;01mreturn\u001b[39;00m \u001b[38;5;28;43mself\u001b[39;49m\u001b[38;5;241;43m.\u001b[39;49m\u001b[43m_get_converter\u001b[49m\u001b[43m(\u001b[49m\u001b[43mUnit\u001b[49m\u001b[43m(\u001b[49m\u001b[43mother\u001b[49m\u001b[43m)\u001b[49m\u001b[43m,\u001b[49m\u001b[43m \u001b[49m\u001b[43mequivalencies\u001b[49m\u001b[43m)\u001b[49m(value)\n",
      "File \u001b[0;32m~/.virtualenvs/instructor-user-tools-workshop/lib/python3.11/site-packages/astropy/units/core.py:1124\u001b[0m, in \u001b[0;36mUnitBase._get_converter\u001b[0;34m(self, other, equivalencies)\u001b[0m\n\u001b[1;32m   1121\u001b[0m             \u001b[38;5;28;01melse\u001b[39;00m:\n\u001b[1;32m   1122\u001b[0m                 \u001b[38;5;28;01mreturn\u001b[39;00m \u001b[38;5;28;01mlambda\u001b[39;00m v: b(converter(v))\n\u001b[0;32m-> 1124\u001b[0m \u001b[38;5;28;01mraise\u001b[39;00m exc\n",
      "File \u001b[0;32m~/.virtualenvs/instructor-user-tools-workshop/lib/python3.11/site-packages/astropy/units/core.py:1107\u001b[0m, in \u001b[0;36mUnitBase._get_converter\u001b[0;34m(self, other, equivalencies)\u001b[0m\n\u001b[1;32m   1105\u001b[0m \u001b[38;5;66;03m# if that doesn't work, maybe we can do it with equivalencies?\u001b[39;00m\n\u001b[1;32m   1106\u001b[0m \u001b[38;5;28;01mtry\u001b[39;00m:\n\u001b[0;32m-> 1107\u001b[0m     \u001b[38;5;28;01mreturn\u001b[39;00m \u001b[38;5;28;43mself\u001b[39;49m\u001b[38;5;241;43m.\u001b[39;49m\u001b[43m_apply_equivalencies\u001b[49m\u001b[43m(\u001b[49m\n\u001b[1;32m   1108\u001b[0m \u001b[43m        \u001b[49m\u001b[38;5;28;43mself\u001b[39;49m\u001b[43m,\u001b[49m\u001b[43m \u001b[49m\u001b[43mother\u001b[49m\u001b[43m,\u001b[49m\u001b[43m \u001b[49m\u001b[38;5;28;43mself\u001b[39;49m\u001b[38;5;241;43m.\u001b[39;49m\u001b[43m_normalize_equivalencies\u001b[49m\u001b[43m(\u001b[49m\u001b[43mequivalencies\u001b[49m\u001b[43m)\u001b[49m\n\u001b[1;32m   1109\u001b[0m \u001b[43m    \u001b[49m\u001b[43m)\u001b[49m\n\u001b[1;32m   1110\u001b[0m \u001b[38;5;28;01mexcept\u001b[39;00m UnitsError \u001b[38;5;28;01mas\u001b[39;00m exc:\n\u001b[1;32m   1111\u001b[0m     \u001b[38;5;66;03m# Last hope: maybe other knows how to do it?\u001b[39;00m\n\u001b[1;32m   1112\u001b[0m     \u001b[38;5;66;03m# We assume the equivalencies have the unit itself as first item.\u001b[39;00m\n\u001b[1;32m   1113\u001b[0m     \u001b[38;5;66;03m# TODO: maybe better for other to have a `_back_converter` method?\u001b[39;00m\n\u001b[1;32m   1114\u001b[0m     \u001b[38;5;28;01mif\u001b[39;00m \u001b[38;5;28mhasattr\u001b[39m(other, \u001b[38;5;124m\"\u001b[39m\u001b[38;5;124mequivalencies\u001b[39m\u001b[38;5;124m\"\u001b[39m):\n",
      "File \u001b[0;32m~/.virtualenvs/instructor-user-tools-workshop/lib/python3.11/site-packages/astropy/units/core.py:1085\u001b[0m, in \u001b[0;36mUnitBase._apply_equivalencies\u001b[0;34m(self, unit, other, equivalencies)\u001b[0m\n\u001b[1;32m   1082\u001b[0m unit_str \u001b[38;5;241m=\u001b[39m get_err_str(unit)\n\u001b[1;32m   1083\u001b[0m other_str \u001b[38;5;241m=\u001b[39m get_err_str(other)\n\u001b[0;32m-> 1085\u001b[0m \u001b[38;5;28;01mraise\u001b[39;00m UnitConversionError(\u001b[38;5;124mf\u001b[39m\u001b[38;5;124m\"\u001b[39m\u001b[38;5;132;01m{\u001b[39;00munit_str\u001b[38;5;132;01m}\u001b[39;00m\u001b[38;5;124m and \u001b[39m\u001b[38;5;132;01m{\u001b[39;00mother_str\u001b[38;5;132;01m}\u001b[39;00m\u001b[38;5;124m are not convertible\u001b[39m\u001b[38;5;124m\"\u001b[39m)\n",
      "\u001b[0;31mUnitConversionError\u001b[0m: 'nm' (length) and 'Hz' (frequency) are not convertible"
     ]
    }
   ],
   "source": [
    "(656.281 * u.nm).to(u.Hz)"
   ]
  },
  {
   "cell_type": "markdown",
   "id": "9ef4e343",
   "metadata": {},
   "source": [
    "However we can make use of a spectral *equivalency* to indicate the link between the units:"
   ]
  },
  {
   "cell_type": "code",
   "execution_count": 12,
   "id": "8c33ee30",
   "metadata": {},
   "outputs": [
    {
     "data": {
      "text/latex": [
       "$4.5680502 \\times 10^{14} \\; \\mathrm{Hz}$"
      ],
      "text/plain": [
       "<Quantity 4.56805024e+14 Hz>"
      ]
     },
     "execution_count": 12,
     "metadata": {},
     "output_type": "execute_result"
    }
   ],
   "source": [
    "(656.281 * u.nm).to(u.Hz, equivalencies=u.spectral())"
   ]
  },
  {
   "cell_type": "markdown",
   "id": "414096cc",
   "metadata": {},
   "source": [
    "### Constants\n",
    "\n",
    "The `astropy.constants` sub-package provides a set of physical constants which are compatible with the units/quantities framework:"
   ]
  },
  {
   "cell_type": "code",
   "execution_count": 13,
   "id": "90afc343",
   "metadata": {},
   "outputs": [],
   "source": [
    "from astropy.constants import M_sun, c"
   ]
  },
  {
   "cell_type": "code",
   "execution_count": 14,
   "id": "1c6b29a5",
   "metadata": {},
   "outputs": [
    {
     "data": {
      "text/latex": [
       "$1.7870937 \\times 10^{47} \\; \\mathrm{\\frac{m^{2}\\,kg}{s^{2}}}$"
      ],
      "text/plain": [
       "<Quantity 1.78709367e+47 m2 kg / s2>"
      ]
     },
     "execution_count": 14,
     "metadata": {},
     "output_type": "execute_result"
    }
   ],
   "source": [
    "E = M_sun * c ** 2\n",
    "E"
   ]
  },
  {
   "cell_type": "code",
   "execution_count": 15,
   "id": "64e5e607",
   "metadata": {},
   "outputs": [
    {
     "data": {
      "text/latex": [
       "$1.7870937 \\times 10^{47} \\; \\mathrm{J}$"
      ],
      "text/plain": [
       "<Quantity 1.78709367e+47 J>"
      ]
     },
     "execution_count": 15,
     "metadata": {},
     "output_type": "execute_result"
    }
   ],
   "source": [
    "E.to(u.J)"
   ]
  },
  {
   "cell_type": "code",
   "execution_count": 16,
   "id": "4be79b8c",
   "metadata": {},
   "outputs": [
    {
     "data": {
      "text/latex": [
       "$1.7870937 \\times 10^{47} \\; \\mathrm{\\frac{m^{2}\\,kg}{s^{2}}}$"
      ],
      "text/plain": [
       "<Quantity 1.78709367e+47 m2 kg / s2>"
      ]
     },
     "execution_count": 16,
     "metadata": {},
     "output_type": "execute_result"
    }
   ],
   "source": [
    "E.decompose()"
   ]
  },
  {
   "cell_type": "markdown",
   "id": "04ab93c9",
   "metadata": {},
   "source": [
    "## Coordinates\n",
    "\n",
    "The Astropy coordinates submodule {obj}`astropy.coordinates` provides classes to represent physical coordinates with all their associated metadata, and transform them between different coordinate systems.\n",
    "Currently, {obj}`astropy.coordinates` supports: \n",
    "\n",
    "* Spatial coordinates via {obj}`astropy.coordinates.SkyCoord`\n",
    "* Spectral coordinates via {obj}`astropy.coordinates.SpectralCoord`\n",
    "* Stokes profiles via {obj}`astropy.coordinates.StokesCoord` (coming soon)\n",
    "\n",
    "### Spatial Coordinates\n",
    "\n",
    "SunPy provides extensions to the Astropy coordinate system to represent common solar physics frames.\n",
    "So to use the sunpy coordinates we have to first import {obj}`sunpy.coordinates` which registers them with astropy."
   ]
  },
  {
   "cell_type": "code",
   "execution_count": 17,
   "id": "4a4d44ea",
   "metadata": {},
   "outputs": [],
   "source": [
    "import sunpy.coordinates\n",
    "from astropy.coordinates import SkyCoord"
   ]
  },
  {
   "cell_type": "markdown",
   "id": "e2fd4e83",
   "metadata": {},
   "source": [
    "We can now create a `SkyCoord` object representing a point on the Sun:"
   ]
  },
  {
   "cell_type": "code",
   "execution_count": 18,
   "id": "e9c45a4e",
   "metadata": {},
   "outputs": [
    {
     "data": {
      "text/plain": [
       "<SkyCoord (Helioprojective: obstime=None, rsun=695700.0 km, observer=None): (Tx, Ty) in arcsec\n",
       "    (10., 20.)>"
      ]
     },
     "execution_count": 18,
     "metadata": {},
     "output_type": "execute_result"
    }
   ],
   "source": [
    "SkyCoord(10*u.arcsec, 20*u.arcsec, frame=\"helioprojective\")"
   ]
  },
  {
   "cell_type": "code",
   "execution_count": 21,
   "id": "f37e4387",
   "metadata": {},
   "outputs": [
    {
     "data": {
      "text/plain": [
       "<SkyCoord (Heliocentric: obstime=None, observer=None): (x, y, z) in m\n",
       "    (10., 10., 10.)>"
      ]
     },
     "execution_count": 21,
     "metadata": {},
     "output_type": "execute_result"
    }
   ],
   "source": [
    "SkyCoord(10*u.m, 10*u.m, 10*u.m, frame=\"heliocentric\")"
   ]
  },
  {
   "cell_type": "markdown",
   "id": "ee0b999b",
   "metadata": {},
   "source": [
    "This is the most minimal version of this coordinate frame, however, it isn't very useful as we haven't provided enough information to be able to transform it to other frames.\n",
    "This is because helioprojective is an observer centred coordinate frame, so we need to know where in inertial space the observer is.\n",
    "One way of doing this is to say the observer is on Earth at a specific time:"
   ]
  },
  {
   "cell_type": "code",
   "execution_count": 24,
   "id": "1a246b77",
   "metadata": {},
   "outputs": [
    {
     "data": {
      "text/plain": [
       "<SkyCoord (Helioprojective: obstime=2023-05-21T04:00:00.000, rsun=695700.0 km, observer=<HeliographicStonyhurst Coordinate for 'earth'>): (Tx, Ty) in arcsec\n",
       "    (10., 20.)>"
      ]
     },
     "execution_count": 24,
     "metadata": {},
     "output_type": "execute_result"
    }
   ],
   "source": [
    "hpc1 = SkyCoord(10*u.arcsec, 20*u.arcsec, frame=\"helioprojective\", obstime=\"2023-05-21T04:00:00\", observer=\"earth\")\n",
    "hpc1"
   ]
  },
  {
   "cell_type": "markdown",
   "id": "fe456c88",
   "metadata": {},
   "source": [
    "This coordinate can now be converted to other frames, such as heliographic coordinates:"
   ]
  },
  {
   "cell_type": "code",
   "execution_count": 29,
   "id": "d6d7ac81",
   "metadata": {},
   "outputs": [
    {
     "data": {
      "text/plain": [
       "<SkyCoord (HeliographicStonyhurst: obstime=2023-05-21T04:00:00.000, rsun=695700.0 km): (lon, lat, radius) in (deg, deg, AU)\n",
       "    (0.60176385, -0.81326383, 0.00465047)>"
      ]
     },
     "execution_count": 29,
     "metadata": {},
     "output_type": "execute_result"
    }
   ],
   "source": [
    "hgs = hpc1.transform_to(\"heliographic_stonyhurst\")\n",
    "hgs"
   ]
  },
  {
   "cell_type": "code",
   "execution_count": 31,
   "id": "9df122b6",
   "metadata": {},
   "outputs": [
    {
     "data": {
      "text/latex": [
       "$0^\\circ36{}^\\prime06.34987508{}^{\\prime\\prime}$"
      ],
      "text/plain": [
       "<Longitude 0.60176385 deg>"
      ]
     },
     "execution_count": 31,
     "metadata": {},
     "output_type": "execute_result"
    }
   ],
   "source": [
    "hgs.lon"
   ]
  },
  {
   "cell_type": "code",
   "execution_count": 32,
   "id": "b2f4a6d4",
   "metadata": {},
   "outputs": [
    {
     "data": {
      "text/latex": [
       "$-0^\\circ48{}^\\prime47.74978489{}^{\\prime\\prime}$"
      ],
      "text/plain": [
       "<Latitude -0.81326383 deg>"
      ]
     },
     "execution_count": 32,
     "metadata": {},
     "output_type": "execute_result"
    }
   ],
   "source": [
    "hgs.lat"
   ]
  },
  {
   "cell_type": "code",
   "execution_count": 33,
   "id": "55c6cabc",
   "metadata": {},
   "outputs": [
    {
     "data": {
      "text/latex": [
       "$0.0046504673 \\; \\mathrm{AU}$"
      ],
      "text/plain": [
       "<Distance 0.00465047 AU>"
      ]
     },
     "execution_count": 33,
     "metadata": {},
     "output_type": "execute_result"
    }
   ],
   "source": [
    "hgs.radius"
   ]
  },
  {
   "cell_type": "code",
   "execution_count": 27,
   "id": "7df367ae",
   "metadata": {},
   "outputs": [
    {
     "data": {
      "text/latex": [
       "$10\\mathrm{{}^{\\prime\\prime}}$"
      ],
      "text/plain": [
       "<Longitude 10. arcsec>"
      ]
     },
     "execution_count": 27,
     "metadata": {},
     "output_type": "execute_result"
    }
   ],
   "source": [
    "hpc1.Tx"
   ]
  },
  {
   "cell_type": "code",
   "execution_count": 28,
   "id": "d4a34911",
   "metadata": {},
   "outputs": [
    {
     "data": {
      "text/latex": [
       "$20\\mathrm{{}^{\\prime\\prime}}$"
      ],
      "text/plain": [
       "<Latitude 20. arcsec>"
      ]
     },
     "execution_count": 28,
     "metadata": {},
     "output_type": "execute_result"
    }
   ],
   "source": [
    "hpc1.Ty"
   ]
  },
  {
   "cell_type": "markdown",
   "id": "0bcffaad",
   "metadata": {},
   "source": [
    "There are few things to notice about the difference between these two `SkyCoord` objects:\n",
    "\n",
    "1. The default representation of the latitude and longitude is now in degrees as is conventional.\n",
    "1. The heliographic frame is three dimensional (it has a radius), when the input frame was not. This is because the distance from the observer was calculated using the `rsun` attribute.\n",
    "1. The `obstime` and `rsun` attributes are still present, but the `observer` attribute isn't. This is because heliographic coordinates are not observer dependent.\n",
    "1. The `obstime` attribute is still important to transform to other frames, as the heliographic frame needs to know the location of Earth.\n",
    "\n",
    "### Spectral Coordinates\n",
    "\n",
    "{obj}`astropy.coordinates.SpectralCoord` is a `Quantity`-like object which also holds information about the observer and target coordinates and relative velocities.\n",
    "\n",
    "```{note}\n",
    "Use of `SpectralCoord` with solar data is still experimental so not all features may work, or be accurate.\n",
    "```"
   ]
  },
  {
   "cell_type": "code",
   "execution_count": 34,
   "id": "36d985ef",
   "metadata": {},
   "outputs": [],
   "source": [
    "from astropy.coordinates import SpectralCoord\n",
    "from sunpy.coordinates import get_earth"
   ]
  },
  {
   "cell_type": "markdown",
   "id": "c0bc7681",
   "metadata": {},
   "source": [
    "`SpectralCoord` does not automatically make the HPC coordinate 3D, but wants the distance, so we do it explicitally:"
   ]
  },
  {
   "cell_type": "code",
   "execution_count": 36,
   "id": "31c2b71e",
   "metadata": {},
   "outputs": [
    {
     "data": {
      "text/plain": [
       "<Helioprojective Coordinate (obstime=2023-05-21T04:00:00.000, rsun=695700.0 km, observer=<HeliographicStonyhurst Coordinate for 'earth'>): (Tx, Ty, distance) in (arcsec, arcsec, AU)\n",
       "    (10., 20., 1.00733392)>"
      ]
     },
     "execution_count": 36,
     "metadata": {},
     "output_type": "execute_result"
    }
   ],
   "source": [
    "hpc2 = hpc1.make_3d()\n",
    "hpc2"
   ]
  },
  {
   "cell_type": "markdown",
   "id": "348b6ce8",
   "metadata": {},
   "source": [
    "Now we can construct our spectral coordinate with both a target and an observer"
   ]
  },
  {
   "cell_type": "code",
   "execution_count": 37,
   "id": "9d75fb00",
   "metadata": {},
   "outputs": [
    {
     "name": "stderr",
     "output_type": "stream",
     "text": [
      "WARNING: NoVelocityWarning: No velocity defined on frame, assuming (0., 0., 0.) km / s. [astropy.coordinates.spectral_coordinate]\n"
     ]
    },
    {
     "data": {
      "text/latex": [
       "$586.3 \\; \\mathrm{nm}$"
      ],
      "text/plain": [
       "<SpectralCoord \n",
       "   (observer: <HeliographicStonyhurst Coordinate (obstime=2023-05-21T04:00:00.000, rsun=695700.0 km): (lon, lat, radius) in (deg, deg, AU)\n",
       "                  (0., -2.0168479, 1.0119831)\n",
       "               (d_lon, d_lat, d_radius) in (arcsec / s, arcsec / s, km / s)\n",
       "                  (0., 0., 0.)>\n",
       "    target: <Helioprojective Coordinate (obstime=2023-05-21T04:00:00.000, rsun=695700.0 km, observer=<HeliographicStonyhurst Coordinate for 'earth'>): (Tx, Ty, distance) in (arcsec, arcsec, AU)\n",
       "                (10., 20., 1.00733392)\n",
       "             (d_Tx, d_Ty, d_distance) in (arcsec / s, arcsec / s, km / s)\n",
       "                (0., 0., 0.)>\n",
       "    observer to target (computed from above):\n",
       "      radial_velocity=0.00898274411761113 km / s\n",
       "      redshift=2.996320969117505e-08)\n",
       "  586.3 nm>"
      ]
     },
     "execution_count": 37,
     "metadata": {},
     "output_type": "execute_result"
    }
   ],
   "source": [
    "spc = SpectralCoord(586.3 * u.nm, target=hpc2, observer=get_earth(time=hpc2.obstime))\n",
    "spc"
   ]
  },
  {
   "cell_type": "markdown",
   "id": "b8f21068",
   "metadata": {},
   "source": [
    "We can show the full details of the spectral coord (working around a [bug in astropy](https://github.com/astropy/astropy/issues/14758)):"
   ]
  },
  {
   "cell_type": "code",
   "execution_count": 38,
   "id": "f9cc649b",
   "metadata": {},
   "outputs": [
    {
     "data": {
      "text/latex": [
       "$5.1132945 \\times 10^{14} \\; \\mathrm{Hz}$"
      ],
      "text/plain": [
       "<SpectralCoord \n",
       "   (observer: <HeliographicStonyhurst Coordinate (obstime=2023-05-21T04:00:00.000, rsun=695700.0 km): (lon, lat, radius) in (deg, deg, AU)\n",
       "                  (0., -2.0168479, 1.0119831)\n",
       "               (d_lon, d_lat, d_radius) in (arcsec / s, arcsec / s, km / s)\n",
       "                  (0., 0., 0.)>\n",
       "    target: <Helioprojective Coordinate (obstime=2023-05-21T04:00:00.000, rsun=695700.0 km, observer=<HeliographicStonyhurst Coordinate for 'earth'>): (Tx, Ty, distance) in (arcsec, arcsec, AU)\n",
       "                (10., 20., 1.00733392)\n",
       "             (d_Tx, d_Ty, d_distance) in (arcsec / s, arcsec / s, km / s)\n",
       "                (0., 0., 0.)>\n",
       "    observer to target (computed from above):\n",
       "      radial_velocity=0.00898274411761113 km / s\n",
       "      redshift=2.996320969117505e-08)\n",
       "  5.11329452e+14 Hz>"
      ]
     },
     "execution_count": 38,
     "metadata": {},
     "output_type": "execute_result"
    }
   ],
   "source": [
    "spc.to(u.Hz)"
   ]
  },
  {
   "cell_type": "code",
   "execution_count": 39,
   "id": "57315e5d",
   "metadata": {},
   "outputs": [
    {
     "name": "stdout",
     "output_type": "stream",
     "text": [
      "<SpectralCoord \n",
      "   (observer: <HeliographicStonyhurst Coordinate (obstime=2023-05-21T04:00:00.000, rsun=695700.0 km): (lon, lat, radius) in (deg, deg, AU)\n",
      "                  (0., -2.0168479, 1.0119831)\n",
      "               (d_lon, d_lat, d_radius) in (arcsec / s, arcsec / s, km / s)\n",
      "                  (0., 0., 0.)>\n",
      "    target: <Helioprojective Coordinate (obstime=2023-05-21T04:00:00.000, rsun=695700.0 km, observer=<HeliographicStonyhurst Coordinate for 'earth'>): (Tx, Ty, distance) in (arcsec, arcsec, AU)\n",
      "                (10., 20., 1.00733392)\n",
      "             (d_Tx, d_Ty, d_distance) in (arcsec / s, arcsec / s, km / s)\n",
      "                (0., 0., 0.)>\n",
      "    observer to target (computed from above):\n",
      "      radial_velocity=0.00898274411761113 km / s\n",
      "      redshift=2.996320969117505e-08)\n",
      "  586.3 nm>\n"
     ]
    }
   ],
   "source": [
    "print(repr(spc))"
   ]
  },
  {
   "cell_type": "markdown",
   "id": "5d610951",
   "metadata": {},
   "source": [
    "## World Coordinate System\n",
    "\n",
    "One of the other core components of the ecosystem provided by Astropy is the {obj}`astropy.wcs` package which provides tools for mapping pixel to world coordinates and world to pixel.\n",
    "When loading a FITS file with complete (and standard-compliant) WCS metadata we can create an `astropy.wcs.WCS` object.\n",
    "For this example we will use a single VISP frame."
   ]
  },
  {
   "cell_type": "code",
   "execution_count": 40,
   "id": "9ea8213d",
   "metadata": {},
   "outputs": [],
   "source": [
    "import sunpy.coordinates"
   ]
  },
  {
   "cell_type": "markdown",
   "id": "2afe2353",
   "metadata": {},
   "source": [
    "To read this FITS file we will use {obj}`astropy.io.fits`."
   ]
  },
  {
   "cell_type": "code",
   "execution_count": 41,
   "id": "184b52d6",
   "metadata": {},
   "outputs": [],
   "source": [
    "from astropy.io import fits\n",
    "\n",
    "hdu_list = fits.open(\"./data/VISP_2022_10_24T19_47_33_218_00630205_I_BEOGN_L1.fits\")"
   ]
  },
  {
   "cell_type": "code",
   "execution_count": 42,
   "id": "b7bb148d",
   "metadata": {
    "scrolled": true
   },
   "outputs": [
    {
     "name": "stdout",
     "output_type": "stream",
     "text": [
      "Filename: ./data/VISP_2022_10_24T19_47_33_218_00630205_I_BEOGN_L1.fits\n",
      "No.    Name      Ver    Type      Cards   Dimensions   Format\n",
      "  0  PRIMARY       1 PrimaryHDU       6   ()      \n",
      "  1  observation    1 CompImageHDU    305   (2555, 976, 1)   float64   \n"
     ]
    }
   ],
   "source": [
    "hdu_list.info()"
   ]
  },
  {
   "cell_type": "markdown",
   "id": "8ee7a135",
   "metadata": {},
   "source": [
    "We can now access the header of the second HDU (the one containing the data):"
   ]
  },
  {
   "cell_type": "code",
   "execution_count": 43,
   "id": "a866170d",
   "metadata": {
    "tags": [
     "output_scroll"
    ]
   },
   "outputs": [
    {
     "data": {
      "text/plain": [
       "XTENSION= 'IMAGE   '                                                            \n",
       "BITPIX  =                  -64                                                  \n",
       "NAXIS   =                    3                                                  \n",
       "NAXIS1  =                 2555 / [pix]                                          \n",
       "NAXIS2  =                  976 / [pix]                                          \n",
       "NAXIS3  =                    1 / [pix]                                          \n",
       "PCOUNT  =                    0                                                  \n",
       "GCOUNT  =                    1                                                  \n",
       "BUNIT   = 'ct      '                                                            \n",
       "DATE    = '2023-04-21T20:11:35.439'                                             \n",
       "DATE-BEG= '2022-10-24T19:47:33.218'                                             \n",
       "DATE-END= '2022-10-24T19:47:33.484'                                             \n",
       "TELAPSE =   0.2660001162439585 / [s]                                            \n",
       "DATE-AVG= '2022-10-24T19:47:33.351000'                                          \n",
       "ORIGIN  = 'National Solar Observatory'                                          \n",
       "TELESCOP= 'Daniel K. Inouye Solar Telescope'                                    \n",
       "OBSRVTRY= 'Haleakala High Altitude Observatory Site'                            \n",
       "NETWORK = 'NSF-DKIST'                                                           \n",
       "INSTRUME= 'VISP    '                                                            \n",
       "OBJECT  = 'unknown '                                                            \n",
       "CHECKSUM= 'KorVNooUKooUKooU'   / HDU checksum updated 2023-04-21T20:11:36       \n",
       "DATASUM = '3404696219'         / data unit checksum updated 2023-04-21T20:11:36 \n",
       "                                                                                \n",
       "COMMENT ------------------------------ Telescope -------------------------------\n",
       "COMMENT  Keys describing the pointing and operation of the telescope. Including \n",
       "COMMENT     the FITS WCS keys describing the world coordinates of the array.    \n",
       "COMMENT ------------------------------------------------------------------------\n",
       "WCSAXES =                    3                                                  \n",
       "WCSAXESA=                    3                                                  \n",
       "WCSNAME = 'Helioprojective-cartesian'                                           \n",
       "WCSNAMEA= 'Equatorial equinox J2000'                                            \n",
       "CRPIX1  =    1177.642614956193 / [pix]                                          \n",
       "CRPIX2  =                -23.0 / [pix]                                          \n",
       "CRPIX3  =    538.5172545826539 / [pix]                                          \n",
       "CRPIX1A =    1177.644487725673 / [pix]                                          \n",
       "CRPIX2A =                -23.0 / [pix]                                          \n",
       "CRPIX3A =    538.5158798322228 / [pix]                                          \n",
       "CRVAL1  =    198.4197498042653                                                  \n",
       "CRVAL2  =             630.2051                                                  \n",
       "CRVAL3  =   -397.6359192006049                                                  \n",
       "CRVAL1A =   -11.84301419340401                                                  \n",
       "CRVAL2A =             630.2051                                                  \n",
       "CRVAL3A =    209.0605605703389                                                  \n",
       "CDELT1  =               0.0298                                                  \n",
       "CDELT2  =  0.00162511509639976                                                  \n",
       "CDELT3  =  0.05341403857708656                                                  \n",
       "CDELT1A = 8.27777777777777E-06                                                  \n",
       "CDELT2A =  0.00162511509639976                                                  \n",
       "CDELT3A = 1.48372329380796E-05                                                  \n",
       "CUNIT1  = 'arcsec  '                                                            \n",
       "CUNIT2  = 'nm      '                                                            \n",
       "CUNIT3  = 'arcsec  '                                                            \n",
       "CUNIT1A = 'deg     '                                                            \n",
       "CUNIT2A = 'nm      '                                                            \n",
       "CUNIT3A = 'deg     '                                                            \n",
       "CTYPE1  = 'HPLT-TAN'                                                            \n",
       "CTYPE2  = 'AWAV    '                                                            \n",
       "CTYPE3  = 'HPLN-TAN'                                                            \n",
       "CTYPE1A = 'DEC--TAN'                                                            \n",
       "CTYPE2A = 'AWAV    '                                                            \n",
       "CTYPE3A = 'RA---TAN'                                                            \n",
       "PC1_1   =   0.9896333838201206                                                  \n",
       "PC1_2   =                  0.0                                                  \n",
       "PC1_3   = 0.008168793880372888                                                  \n",
       "PC2_1   =                  0.0                                                  \n",
       "PC2_2   =                  1.0                                                  \n",
       "PC2_3   =                  0.0                                                  \n",
       "PC3_1   = -0.00247072062532277                                                  \n",
       "PC3_2   =                  0.0                                                  \n",
       "PC3_3   =   0.9898254254995873                                                  \n",
       "PC1_1A  =   0.8902837701898194                                                  \n",
       "PC1_2A  =                  0.0                                                  \n",
       "PC1_3A  =    0.771966600043408                                                  \n",
       "PC2_1A  =                  0.0                                                  \n",
       "PC2_2A  =                  1.0                                                  \n",
       "PC2_3A  =                  0.0                                                  \n",
       "PC3_1A  =   0.2400175993721449                                                  \n",
       "PC3_2A  =                  0.0                                                  \n",
       "PC3_3A  =  -0.8915165773587704                                                  \n",
       "LONPOLE =                180.0 / [deg]                                          \n",
       "LONPOLEA=                180.0 / [deg]                                          \n",
       "TAZIMUTH=    129.1323186299364 / [deg] RawTelescopeAzimuthAngle                 \n",
       "ELEV_ANG=    41.75380838305203 / [deg] RawTelescopeElevationAngle               \n",
       "TELTRACK= 'Standard Differential Rotation Tracking' / TelescopeTrackingMode     \n",
       "TTBLANGL=    251.3681154307162 / [deg] TelescopeCoudeTableAngle                 \n",
       "TTBLTRCK= 'Fixed coude table angle' / TelescopeCoudeTableTrackingMode           \n",
       "DATEREF = '2022-10-24T19:47:33.218'                                             \n",
       "OBSGEO-X=   -5466045.256954942 / [m]                                            \n",
       "OBSGEO-Y=   -2404388.737412784 / [m]                                            \n",
       "OBSGEO-Z=    2242133.887690042 / [m]                                            \n",
       "SPECSYS = 'TOPOCENT'                                                            \n",
       "VELOSYS =                  0.0                                                  \n",
       "OBS_VR  =   -717.4092171267498 / [m s-1]                                        \n",
       "WCSVALID=                    T / WCSValidityIndicator                           \n",
       "                                                                                \n",
       "COMMENT ------------------------------ Datacenter ------------------------------\n",
       "COMMENT      Keys generated by the DKIST data center to describe processing     \n",
       "COMMENT                 performed, archiving or extra metadata.                 \n",
       "COMMENT ------------------------------------------------------------------------\n",
       "DSETID  = 'BEOGN   '                                                            \n",
       "POINT_ID= 'BEOGN   '                                                            \n",
       "FRAMEVOL=    2.453740119934082 / [Mbyte]                                        \n",
       "PROCTYPE= 'L1      '                                                            \n",
       "RRUNID  =                  586                                                  \n",
       "RECIPEID=                    1                                                  \n",
       "RINSTID =                  358                                                  \n",
       "EXTNAME = 'observation'                                                         \n",
       "SOLARNET=                    1                                                  \n",
       "OBS_HDU =                    1                                                  \n",
       "FILENAME= 'VISP_2022_10_24T19_47_33_218_00630205_I_BEOGN_L1.fits'               \n",
       "CADENCE =   0.3114197419898392 / [s]                                            \n",
       "CADMIN  =  0.02399992942810059 / [s]                                            \n",
       "CADMAX  =    2.900000095367432 / [s]                                            \n",
       "CADVAR  =   0.7434006575873129 / [s]                                            \n",
       "LEVEL   =                    1                                                  \n",
       "HEADVERS= '3.5.0   '                                                            \n",
       "HEAD_URL= 'https://docs.dkist.nso.edu/projects/data-products/en/v3.5.0'         \n",
       "INFO_URL= 'https://docs.dkist.nso.edu'                                          \n",
       "CALVERS = '2.0.1   '                                                            \n",
       "CAL_URL = 'https://docs.dkist.nso.edu/projects/visp/en/v2.0.1/l0_to_l1_visp.ht&'\n",
       "CONTINUE  'ml'                                                                  \n",
       "IDSPARID=                  409                                                  \n",
       "IDSOBSID=                  455                                                  \n",
       "IDSCALID=                  454                                                  \n",
       "WKFLNAME= 'l0_to_l1_visp'                                                       \n",
       "WKFLVERS= '2.0.1   '                                                            \n",
       "NSPECLNS=                    1                                                  \n",
       "SPECLN01= 'Fe I (630.25 nm)'                                                    \n",
       "                                                                                \n",
       "COMMENT ------------------------------- Dataset --------------------------------\n",
       "COMMENT     Keys describing the dataset that this FITS file forms a part of.    \n",
       "COMMENT ------------------------------------------------------------------------\n",
       "DNAXIS  =                    4                                                  \n",
       "DNAXIS1 =                 2555 / [pix]                                          \n",
       "DNAXIS2 =                  976 / [pix]                                          \n",
       "DNAXIS3 =                 1000 / [pix]                                          \n",
       "DNAXIS4 =                    4 / [pix]                                          \n",
       "DTYPE1  = 'SPATIAL '                                                            \n",
       "DTYPE2  = 'SPECTRAL'                                                            \n",
       "DTYPE3  = 'SPATIAL '                                                            \n",
       "DTYPE4  = 'STOKES  '                                                            \n",
       "DPNAME1 = 'spatial along slit'                                                  \n",
       "DPNAME2 = 'dispersion axis'                                                     \n",
       "DPNAME3 = 'raster scan step number'                                             \n",
       "DPNAME4 = 'polarization state'                                                  \n",
       "DWNAME1 = 'helioprojective latitude'                                            \n",
       "DWNAME2 = 'wavelength'                                                          \n",
       "DWNAME3 = 'helioprojective longitude'                                           \n",
       "DWNAME4 = 'polarization state'                                                  \n",
       "DUNIT1  = 'arcsec  '                                                            \n",
       "DUNIT2  = 'nm      '                                                            \n",
       "DUNIT3  = 'arcsec  '                                                            \n",
       "DUNIT4  = ''                                                                    \n",
       "DAAXES  =                    2                                                  \n",
       "DEAXES  =                    2                                                  \n",
       "DINDEX3 =                    7 / [pix]                                          \n",
       "DINDEX4 =                    1 / [pix]                                          \n",
       "LINEWAV =             630.2051                                                  \n",
       "WAVEBAND= 'Fe I (630.25 nm)'                                                    \n",
       "WAVEUNIT=                   -9                                                  \n",
       "WAVEREF = 'Air     '                                                            \n",
       "WAVEMIN =    630.2424776472172 / [nm]                                           \n",
       "WAVEMAX =    631.8285899813034 / [nm]                                           \n",
       "                                                                                \n",
       "COMMENT ------------------------------ Statistics ------------------------------\n",
       "COMMENT   Statistical information about the data array contained in this FITS   \n",
       "COMMENT                                  file.                                  \n",
       "COMMENT ------------------------------------------------------------------------\n",
       "DATAMIN =  0.06234332864361979                                                  \n",
       "DATAMAX =    2.141122811184037                                                  \n",
       "DATAMEAN=    0.879896334360348                                                  \n",
       "DATAMEDN=   0.9025985225418953                                                  \n",
       "DATARMS =   0.8866318082806129                                                  \n",
       "DATAKURT=    10.75826323513693                                                  \n",
       "DATASKEW=   -3.036410436644611                                                  \n",
       "                                                                                \n",
       "COMMENT ------------------------------- DKIST ID -------------------------------\n",
       "COMMENT  Unique identifiers for this FITS file and the observation that created \n",
       "COMMENT                                the data.                                \n",
       "COMMENT ------------------------------------------------------------------------\n",
       "FILE_ID = '4f0b3c80e31e4d92a8fc0368d9fc5bf3' / FileID                           \n",
       "DKISTVER= 'Data Model (SPEC-0122) Revision E' / DKISTFITSHeaderVersion          \n",
       "OBSPR_ID= 'eid_1_123_opcDZ50l_R001.95962.19551829' / ObservingProgramExecutionID\n",
       "EXPER_ID= 'eid_1_123'          / ExperimentID                                   \n",
       "PROP_ID = 'pid_1_123'          / ProposalID                                     \n",
       "DSP_ID  = 'eid_1_123_opcDZ50l_R001_ipchQ3Q3_dspPpZ6oJ' / DataSetParametersID    \n",
       "IP_ID   = 'id.100944.7548'     / InstrumentProgramExecutionID                   \n",
       "HLSVERS = 'Alakai_8-0'         / DKISTSoftwareVersion                           \n",
       "NPROPOS =                    1                                                  \n",
       "PROPID01= 'pid_1_123'                                                           \n",
       "NEXPERS =                    1                                                  \n",
       "EXPRID01= 'eid_1_123'                                                           \n",
       "                                                                                \n",
       "COMMENT --------------------------- DKIST Operations ---------------------------\n",
       "COMMENT    Information about this configuration or operations of the facility   \n",
       "COMMENT                        when generating this data.                       \n",
       "COMMENT ------------------------------------------------------------------------\n",
       "OCS_CTRL= 'Auto    '           / OCSControl                                     \n",
       "FIDO_CFG= 'OUT_C-BS643_C-BS555_C-BS950_C-W1_C-W3' / FIDOConfiguration           \n",
       "DSHEALTH= 'GOOD    '           / DataSourceHealthStatus                         \n",
       "DSPSREPS=                    1 / DSPSNumberOfRepeats                            \n",
       "DSPSNUM =                    1 / DSPSRepeatNumber                               \n",
       "LIGHTLVL=     571.560821648471 / [adu] LightLevel                               \n",
       "                                                                                \n",
       "COMMENT -------------------------------- Camera --------------------------------\n",
       "COMMENT        Keys describing modes and operation of the camera(s) used.       \n",
       "COMMENT ------------------------------------------------------------------------\n",
       "CAM_ID  = '13:VSC-04531'       / CameraUniqueID                                 \n",
       "CAMERA  = 'AndorZyla.01'       / CameraName                                     \n",
       "BITDEPTH=                   16 / SensBitsPerPixel                               \n",
       "XPOSURE =    48.00811267605634 / [ms] FPAExposureTime                           \n",
       "TEXPOSUR=    4.000676056338028 / [ms] CamExposureTime                           \n",
       "CAM_FPS =    41.38879820920579 / [Hz] CamFrameRate                              \n",
       "CHIPDIM1=                 2560 / [pix] ChipDimensionX                           \n",
       "CHIPDIM2=                 2160 / [pix] ChipDimensionY                           \n",
       "HWBIN1  =                    1 / [pix] HardwareBinningX                         \n",
       "HWBIN2  =                    1 / [pix] HardwareBinningY                         \n",
       "SWBIN1  =                    1 / [pix] SoftwareBinningX                         \n",
       "SWBIN2  =                    1 / [pix] SoftwareBinningY                         \n",
       "NSUMEXP =                   12 / NumRawFramesinFPA                              \n",
       "SWNROI  =                    1 / NumOfSWROI                                     \n",
       "SWROI1OX=                    0 / [pix] SWROI1OriginX                            \n",
       "SWROI1OY=                    0 / [pix] SWROI1OriginY                            \n",
       "SWROI1SX=                 2560 / [pix] SWROI1SizeX                              \n",
       "SWROI1SY=                 2000 / [pix] SWROI1SizeY                              \n",
       "HWNROI  =                    2 / NumOfHWROI                                     \n",
       "HWROI1OX=                    0 / [pix] HWROI1OriginX                            \n",
       "HWROI1OY=                    0 / [pix] HWROI1OriginY                            \n",
       "HWROI1SX=                 2560 / [pix] HWROI1SizeX                              \n",
       "HWROI1SY=                 1000 / [pix] HWROI1SizeY                              \n",
       "HWROI2OX=                    0 / [pix] HWROI2OriginX                            \n",
       "HWROI2OY=                 1160 / [pix] HWROI2OriginY                            \n",
       "HWROI2SX=                 2560 / [pix] HWROI2SizeX                              \n",
       "HWROI2SY=                 1000 / [pix] HWROI2SizeY                              \n",
       "NBIN1   =                    1                                                  \n",
       "NBIN2   =                    1                                                  \n",
       "NBIN3   =                    1                                                  \n",
       "NBIN    =                    1                                                  \n",
       "FPABITPX=                   20 / FPABitsPerPixel                                \n",
       "                                                                                \n",
       "COMMENT ---------------- Polarization Analysis and Calibration -----------------\n",
       "COMMENT  Keys describing the configuration of the Gregorian Optical System (GOS)\n",
       "COMMENT                                                                         \n",
       "COMMENT ------------------------------------------------------------------------\n",
       "GOS_STAT= 'open    '           / Upper GOS shutter                              \n",
       "LVL3STAT= 'clear   '           / Level 3 (Lamp)                                 \n",
       "LAMPSTAT= 'none    '           / Lamp status                                    \n",
       "LVL2STAT= 'clear   '           / Level 2 (Polarizer)                            \n",
       "POLANGLE= 'none    '           / [deg] Polarizer Angle                          \n",
       "LVL1STAT= 'clear   '           / Level 1 (Retarder)                             \n",
       "RETANGLE= 'none    '           / [deg] Retarder angle                           \n",
       "LVL0STAT= 'FieldStop (2.8arcmin)' / Level 0 (Apeture)                           \n",
       "APERTURE= '2.8arcmin'          / [arcmin, arcsec, mm] Aperture Property         \n",
       "LGOSSTAT= 'open    '           / Lower GOS shutter                              \n",
       "GOS_TEMP=    18.16650390625001 / [C] Upper GOS optics temperature               \n",
       "                                                                                \n",
       "COMMENT --------------------------- Adaptive Optics ----------------------------\n",
       "COMMENT          Keys describing aspects of the adaptive optics system.         \n",
       "COMMENT ------------------------------------------------------------------------\n",
       "ATMOS_R0=   0.1031590362088231 / [m] HOAOFriedParameter                         \n",
       "AO_LOCK =                    T / HOAOLockStatus                                 \n",
       "AO_LOCKX=                  0.0 / [arcsec] HOAOLockOffPointingX                  \n",
       "AO_LOCKY=                  0.0 / [arcsec] HOAOLockOffPointingY                  \n",
       "WFSLOCKX=                  0.0 / [arcsec] LOWFSLockOffPointingX                 \n",
       "WFSLOCKY=                  0.0 / [arcsec] LOWFSLockOffPointingY                 \n",
       "LIMBRPOS=                  0.0 / [arcsec] LimbSensorRadialSetPos                \n",
       "LIMBRATE=               1000.0 / [Hz] LimbSensorRate                            \n",
       "                                                                                \n",
       "COMMENT --------------------------- Weather Station ----------------------------\n",
       "COMMENT    Keys describing information reported by the weather station at the   \n",
       "COMMENT                    facility during this observation.                    \n",
       "COMMENT ------------------------------------------------------------------------\n",
       "WSSOURCE= 'dkist   '           / WeathSource                                    \n",
       "WIND_SPD=    6.130340158156959 / [m s-1] WeathWindSpeed                         \n",
       "WIND_DIR=    110.3155489524189 / [deg] WeathWindDirection                       \n",
       "WS_TEMP =    12.35625908056412 / [C] WeathOutsideTemperature                    \n",
       "WS_HUMID=     9.62898175131005 / [10**-2] WeathRelativeHumidity                 \n",
       "WS_DEWPT=   -22.40561137818331 / [C] WeathDewPoint                              \n",
       "WS_PRESS=    710.5316909711762 / [hPa] WeathBarometricPressure                  \n",
       "SKYBRIGT=                 -1.0 / WeathSkyBrightness                             \n",
       "                                                                                \n",
       "COMMENT --------------------------- VISP Instrument ----------------------------\n",
       "COMMENT          Keys specific to the operation of the VISP instrument.         \n",
       "COMMENT ------------------------------------------------------------------------\n",
       "VSPARMID=                    1 / ArmID                                          \n",
       "VSPARMPS=                -3.32 / [deg] ArmPosition                              \n",
       "VSPARMFC=               29.528 / [mm] ArmFocus                                  \n",
       "VSPFILT = 'FF01-623_32-25'     / FilterID                                       \n",
       "VSPFWVLN=              621.548 / [nm] FilterWavelength                          \n",
       "VSPPOLMD= 'observe_polarimetric' / PolarimeterMode                              \n",
       "VSPMODID= '0004    '           / ModulatorID                                    \n",
       "VSPMOD  = 'continuous'         / ModulationType                                 \n",
       "VSPEXPRT=        41.3887982092 / [Hz] ExposureRate                              \n",
       "VSPGRTID= 'Newport_316.0_63.40__M20160612_SN3' / GratingID                      \n",
       "VSPGRTCN=                316.0 / [mm-1] GratingConstant                         \n",
       "VSPGRTBA=                 63.4 / [deg] GratingBlazeAngle                        \n",
       "VSPGRTAN=   -65.36539999999999 / [deg] GratingAngle                             \n",
       "VSPWID  =               0.0536 / [arcsec] SlitWidth                             \n",
       "VSPSLTSS=       0.033199955403 / [mm] SlitSteppingSize                          \n",
       "VSPNSTP =                 1000 / NumberofSpatialSteps                           \n",
       "VSPSTP  =                    6 / CurrentSpatialStep                             \n",
       "VSPTPOS =             34.04115 / [mm] SlitTranslationPosition                   \n",
       "VSPMIRPS=             14.90355 / [mm] FoldMirrorPosition                        \n",
       "VSPSPOS =                27.15 / [mm] SlitSelectorPosition                      \n",
       "VSPNMAPS=                    1 / TotalMapScans                                  \n",
       "VSPMAP  =                    1 / CurrentMapScan                                 "
      ]
     },
     "execution_count": 43,
     "metadata": {},
     "output_type": "execute_result"
    }
   ],
   "source": [
    "hdu_list[1].header"
   ]
  },
  {
   "cell_type": "code",
   "execution_count": 46,
   "id": "d9f3cf66",
   "metadata": {},
   "outputs": [
    {
     "data": {
      "text/latex": [
       "$\\mathrm{nm}$"
      ],
      "text/plain": [
       "Unit(\"nm\")"
      ]
     },
     "execution_count": 46,
     "metadata": {},
     "output_type": "execute_result"
    }
   ],
   "source": [
    "u.Unit(hdu_list[1].header[\"CUNIT2\"])"
   ]
  },
  {
   "cell_type": "markdown",
   "id": "d008ebcb",
   "metadata": {},
   "source": [
    "Using this header we can create a `astropy.wcs.WCS` object:"
   ]
  },
  {
   "cell_type": "code",
   "execution_count": 44,
   "id": "fd2b5bfa",
   "metadata": {},
   "outputs": [
    {
     "name": "stderr",
     "output_type": "stream",
     "text": [
      "WARNING: FITSFixedWarning: 'datfix' made the change 'Set MJDREF to 59876.824690 from DATEREF.\n",
      "Set MJD-BEG to 59876.824690 from DATE-BEG.\n",
      "Set MJD-AVG to 59876.824692 from DATE-AVG.\n",
      "Set MJD-END to 59876.824693 from DATE-END'. [astropy.wcs.wcs]\n",
      "WARNING: FITSFixedWarning: 'obsfix' made the change 'Set OBSGEO-L to  -156.256400 from OBSGEO-[XYZ].\n",
      "Set OBSGEO-B to    20.706700 from OBSGEO-[XYZ].\n",
      "Set OBSGEO-H to     3063.997 from OBSGEO-[XYZ]'. [astropy.wcs.wcs]\n"
     ]
    },
    {
     "data": {
      "text/plain": [
       "WCS Keywords\n",
       "\n",
       "Number of WCS axes: 3\n",
       "CTYPE : 'HPLT-TAN'  'AWAV'  'HPLN-TAN'  \n",
       "CRVAL : 0.05511659716785147  6.302051000000001e-07  -0.11045442200016803  \n",
       "CRPIX : 1177.642614956193  -23.0  538.5172545826539  \n",
       "PC1_1 PC1_2 PC1_3  : 0.9896333838201206  0.0  0.008168793880372888  \n",
       "PC2_1 PC2_2 PC2_3  : 0.0  1.0  0.0  \n",
       "PC3_1 PC3_2 PC3_3  : -0.00247072062532277  0.0  0.9898254254995873  \n",
       "CDELT : 8.277777777777778e-06  1.62511509639976e-12  1.48372329380796e-05  \n",
       "NAXIS : 2555  976  1"
      ]
     },
     "execution_count": 44,
     "metadata": {},
     "output_type": "execute_result"
    }
   ],
   "source": [
    "from astropy.wcs import WCS\n",
    "\n",
    "wcs = WCS(hdu_list[1].header)\n",
    "wcs"
   ]
  },
  {
   "cell_type": "markdown",
   "id": "85061e40",
   "metadata": {},
   "source": [
    "This WCS object allows us to convert between pixel and world coordinates, for example:"
   ]
  },
  {
   "cell_type": "code",
   "execution_count": 45,
   "id": "6fb417b6",
   "metadata": {},
   "outputs": [
    {
     "data": {
      "text/plain": [
       "[<SkyCoord (Helioprojective: obstime=2022-10-24T19:47:33.351, rsun=695700.0 km, observer=<HeliographicStonyhurst Coordinate (obstime=2022-10-24T19:47:33.351, rsun=695700.0 km): (lon, lat, radius) in (deg, deg, m)\n",
       "     (0.00173993, 5.09237547, 1.48791805e+11)>): (Tx, Ty) in arcsec\n",
       "     (-425.89949011, 163.58844533)>,\n",
       " <SpectralCoord \n",
       "    (observer: <ITRS Coordinate (obstime=59876.8246915625, location=(0., 0., 0.) km): (x, y, z) in m\n",
       "                   (-5466045.25695494, -2404388.73741278, 2242133.88769004)\n",
       "                (v_x, v_y, v_z) in km / s\n",
       "                   (0., 0., 0.)>\n",
       "     target: <Helioprojective Coordinate (obstime=2022-10-24T19:47:33.351, rsun=695700.0 km, observer=<HeliographicStonyhurst Coordinate (obstime=2022-10-24T19:47:33.351, rsun=695700.0 km): (lon, lat, radius) in (deg, deg, m)\n",
       "                 (0.00173993, 5.09237547, 1.48791805e+11)>): (Tx, Ty, distance) in (arcsec, arcsec, kpc)\n",
       "                 (-397.6359192, 198.4197498, 1000.)\n",
       "              (d_Tx, d_Ty, d_distance) in (arcsec / s, arcsec / s, km / s)\n",
       "                 (0., 0., 0.)>\n",
       "     observer to target (computed from above):\n",
       "       radial_velocity=427.9990491569042 km / s\n",
       "       redshift=0.0014286717061589016)\n",
       "   6.30244103e-07 m>]"
      ]
     },
     "execution_count": 45,
     "metadata": {},
     "output_type": "execute_result"
    }
   ],
   "source": [
    "wcs.pixel_to_world(0, 0, 0)"
   ]
  },
  {
   "cell_type": "markdown",
   "id": "1d2190c0",
   "metadata": {},
   "source": [
    "This call returns a {obj}`astropy.coordinates.SkyCoord` object (which needs sunpy to be imported), we will come onto this more later.\n",
    "\n",
    "We can also convert between pixel and plain numbers:"
   ]
  },
  {
   "cell_type": "code",
   "execution_count": 47,
   "id": "a5256b85",
   "metadata": {},
   "outputs": [
    {
     "data": {
      "text/plain": [
       "(array(0.04544123), array(6.30244103e-07), array(-0.11830541))"
      ]
     },
     "execution_count": 47,
     "metadata": {},
     "output_type": "execute_result"
    }
   ],
   "source": [
    "wcs.pixel_to_world_values(0, 0, 0)"
   ]
  },
  {
   "cell_type": "markdown",
   "id": "950344bb",
   "metadata": {},
   "source": [
    "The units for these values are given by:"
   ]
  },
  {
   "cell_type": "code",
   "execution_count": 49,
   "id": "f1f1962f",
   "metadata": {},
   "outputs": [
    {
     "data": {
      "text/plain": [
       "['deg', 'm', 'deg']"
      ]
     },
     "execution_count": 49,
     "metadata": {},
     "output_type": "execute_result"
    }
   ],
   "source": [
    "wcs.world_axis_units"
   ]
  },
  {
   "cell_type": "markdown",
   "id": "35b3607a",
   "metadata": {},
   "source": [
    "The WCS also has information about what the world axes represent:"
   ]
  },
  {
   "cell_type": "code",
   "execution_count": 50,
   "id": "bcb94ecc",
   "metadata": {},
   "outputs": [
    {
     "data": {
      "text/plain": [
       "['custom:pos.helioprojective.lat', 'em.wl', 'custom:pos.helioprojective.lon']"
      ]
     },
     "execution_count": 50,
     "metadata": {},
     "output_type": "execute_result"
    }
   ],
   "source": [
    "wcs.world_axis_physical_types"
   ]
  },
  {
   "cell_type": "markdown",
   "id": "67252013",
   "metadata": {},
   "source": [
    "We can also inspect the correlation between the world axes and pixel axes:"
   ]
  },
  {
   "cell_type": "code",
   "execution_count": 51,
   "id": "372df817",
   "metadata": {},
   "outputs": [
    {
     "data": {
      "text/plain": [
       "array([[ True, False,  True],\n",
       "       [False,  True, False],\n",
       "       [ True, False,  True]])"
      ]
     },
     "execution_count": 51,
     "metadata": {},
     "output_type": "execute_result"
    }
   ],
   "source": [
    "wcs.axis_correlation_matrix"
   ]
  },
  {
   "cell_type": "markdown",
   "id": "31ccda54",
   "metadata": {},
   "source": [
    "This correlation matrix has the world dimensions as rows, and the pixel dimensions as columns.\n",
    "Here we have a 2D image, with two pixel and two world axes where both are coupled together.\n",
    "This means that to calculate either latitude or longitude you need both pixel coordinates."
   ]
  }
 ],
 "metadata": {
  "kernelspec": {
   "display_name": "Python 3 (ipykernel)",
   "language": "python",
   "name": "python3"
  },
  "language_info": {
   "codemirror_mode": {
    "name": "ipython",
    "version": 3
   },
   "file_extension": ".py",
   "mimetype": "text/x-python",
   "name": "python",
   "nbconvert_exporter": "python",
   "pygments_lexer": "ipython3",
   "version": "3.11.3"
  }
 },
 "nbformat": 4,
 "nbformat_minor": 5
}
