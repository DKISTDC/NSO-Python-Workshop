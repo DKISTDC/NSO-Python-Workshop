{
 "cells": [
  {
   "cell_type": "markdown",
   "id": "b7498519",
   "metadata": {},
   "source": [
    "# Astropy and SunPy - A Quick Primer\n",
    "\n",
    "Before we progress to searching for DKIST data we need to cover some functionality of the [SunPy](https://sunpy.org) and [Astropy](https://astropy.org) packages.\n",
    "These two packages, amongst a few others, are the core components of the DKIST tools.\n",
    "In this session we shall only quickly cover the functionality of SunPy and Astropy we need for the rest of the workshop.\n",
    "There are many other parts of these packages which are useful when working with DKIST data, which you should explore.\n",
    "As we covered in the introduction, Python is a modular language; Astropy provides fundamental functionality for a lot of different types of astronomy.\n",
    "In this section we shall cover the following parts of Astropy:\n",
    "\n",
    "* Units\n",
    "* World Coordinate Systems\n",
    "* Coordinates\n",
    "\n",
    "## Units\n",
    "\n",
    "Astropy provides a subpackage {obj}`astropy.units` which provides tools for associating physical units with numbers and arrays.\n",
    "This lets you do mathematical operations on these arrays while propagating the units.\n",
    "\n",
    "To get started we import `astropy.units` because we are going to be using this a lot, we import it as `u`."
   ]
  },
  {
   "cell_type": "code",
   "execution_count": null,
   "id": "4c5a5353",
   "metadata": {},
   "outputs": [],
   "source": []
  },
  {
   "cell_type": "markdown",
   "id": "63209243",
   "metadata": {},
   "source": [
    "Now we can access various units as such:"
   ]
  },
  {
   "cell_type": "code",
   "execution_count": null,
   "id": "eee8fceb",
   "metadata": {},
   "outputs": [],
   "source": []
  },
  {
   "cell_type": "code",
   "execution_count": null,
   "id": "d0ea1a29",
   "metadata": {},
   "outputs": [],
   "source": []
  },
  {
   "cell_type": "markdown",
   "id": "c8ce342d",
   "metadata": {},
   "source": [
    "We can now attach a unit to a number:"
   ]
  },
  {
   "cell_type": "code",
   "execution_count": null,
   "id": "fade5e8c",
   "metadata": {},
   "outputs": [],
   "source": []
  },
  {
   "cell_type": "markdown",
   "id": "6a919fe2",
   "metadata": {},
   "source": [
    "We can also compose multiple quantities (a number with a unit):"
   ]
  },
  {
   "cell_type": "code",
   "execution_count": null,
   "id": "d848a31a",
   "metadata": {},
   "outputs": [],
   "source": []
  },
  {
   "cell_type": "markdown",
   "id": "01ce7fe2",
   "metadata": {},
   "source": [
    "Using the `.to()` method on a `u.Quantity` object lets you convert a quantity to a different unit."
   ]
  },
  {
   "cell_type": "code",
   "execution_count": null,
   "id": "5dd8742b",
   "metadata": {},
   "outputs": [],
   "source": []
  },
  {
   "cell_type": "markdown",
   "id": "c25b1356",
   "metadata": {},
   "source": [
    "### Equivalencies\n",
    "\n",
    "Some conversions are not done by a conversion factor as between miles and kilometers – for example converting between wavelength and frequency:"
   ]
  },
  {
   "cell_type": "code",
   "execution_count": null,
   "id": "6a626c1d",
   "metadata": {
    "tags": [
     "raises-exception"
    ]
   },
   "outputs": [],
   "source": []
  },
  {
   "cell_type": "markdown",
   "id": "7e95e88f",
   "metadata": {},
   "source": [
    "However we can make use of a spectral *equivalency* to indicate the link between the units:"
   ]
  },
  {
   "cell_type": "code",
   "execution_count": null,
   "id": "e3c196e7",
   "metadata": {},
   "outputs": [],
   "source": []
  },
  {
   "cell_type": "markdown",
   "id": "f4f8d934",
   "metadata": {},
   "source": [
    "### Constants\n",
    "\n",
    "The `astropy.constants` sub-package provides a set of physical constants which are compatible with the units/quantities framework:"
   ]
  },
  {
   "cell_type": "code",
   "execution_count": null,
   "id": "2589ce37",
   "metadata": {},
   "outputs": [],
   "source": []
  },
  {
   "cell_type": "code",
   "execution_count": null,
   "id": "5200b40a",
   "metadata": {},
   "outputs": [],
   "source": []
  },
  {
   "cell_type": "markdown",
   "id": "581d286f",
   "metadata": {},
   "source": [
    "## Coordinates\n",
    "\n",
    "The Astropy coordinates submodule {obj}`astropy.coordinates` provides classes to represent physical coordinates with all their associated metadata, and transform them between different coordinate systems.\n",
    "Currently, {obj}`astropy.coordinates` supports: \n",
    "\n",
    "* Spatial coordinates via {obj}`astropy.coordinates.SkyCoord`\n",
    "* Spectral coordinates via {obj}`astropy.coordinates.SpectralCoord`\n",
    "* Stokes profiles via {obj}`astropy.coordinates.StokesCoord` (coming soon)\n",
    "\n",
    "### Spatial Coordinates\n",
    "\n",
    "SunPy provides extensions to the Astropy coordinate system to represent common solar physics frames.\n",
    "So to use the sunpy coordinates we have to first import {obj}`sunpy.coordinates` which registers them with astropy."
   ]
  },
  {
   "cell_type": "code",
   "execution_count": null,
   "id": "35756cb3",
   "metadata": {},
   "outputs": [],
   "source": []
  },
  {
   "cell_type": "markdown",
   "id": "97bfbfac",
   "metadata": {},
   "source": [
    "We can now create a `SkyCoord` object representing a point on the Sun:"
   ]
  },
  {
   "cell_type": "code",
   "execution_count": null,
   "id": "33f67ac9",
   "metadata": {},
   "outputs": [],
   "source": []
  },
  {
   "cell_type": "markdown",
   "id": "b5c7b3f2",
   "metadata": {},
   "source": [
    "This is the most minimal version of this coordinate frame, however, it isn't very useful as we haven't provided enough information to be able to transform it to other frames.\n",
    "This is because helioprojective is an observer centred coordinate frame, so we need to know where in inertial space the observer is.\n",
    "One way of doing this is to say the observer is on Earth at a specific time:"
   ]
  },
  {
   "cell_type": "code",
   "execution_count": null,
   "id": "0f8854a8",
   "metadata": {},
   "outputs": [],
   "source": []
  },
  {
   "cell_type": "markdown",
   "id": "69f8b9ea",
   "metadata": {},
   "source": [
    "This coordinate can now be converted to other frames, such as heliographic coordinates:"
   ]
  },
  {
   "cell_type": "code",
   "execution_count": null,
   "id": "59235b60",
   "metadata": {},
   "outputs": [],
   "source": []
  },
  {
   "cell_type": "markdown",
   "id": "2c9f4ddf",
   "metadata": {},
   "source": [
    "There are few things to notice about the difference between these two `SkyCoord` objects:\n",
    "\n",
    "1. The default representation of the latitude and longitude is now in degrees as is conventional.\n",
    "1. The heliographic frame is three dimensional (it has a radius), when the input frame was not. This is because the distance from the observer was calculated using the `rsun` attribute.\n",
    "1. The `obstime` and `rsun` attributes are still present, but the `observer` attribute isn't. This is because heliographic coordinates are not observer dependent.\n",
    "1. The `obstime` attribute is still important to transform to other frames, as the heliographic frame needs to know the location of Earth.\n",
    "\n",
    "### Spectral Coordinates\n",
    "\n",
    "{obj}`astropy.coordinates.SpectralCoord` is a `Quantity` like object which also holds information about the observer and target coordinates and relative velocities.\n",
    "\n",
    "```{note}\n",
    "Use of `SpectralCoord` with solar data is still experimental so not all features may work, or be accurate.\n",
    "```"
   ]
  },
  {
   "cell_type": "code",
   "execution_count": null,
   "id": "d1b85f38",
   "metadata": {},
   "outputs": [],
   "source": []
  },
  {
   "cell_type": "markdown",
   "id": "b426cdc9",
   "metadata": {},
   "source": [
    "`SpectralCoord` does not automatically make the HPC coordinate 3D, but wants the distance, so we do it explicitally:"
   ]
  },
  {
   "cell_type": "code",
   "execution_count": null,
   "id": "731ed8df",
   "metadata": {},
   "outputs": [],
   "source": []
  },
  {
   "cell_type": "markdown",
   "id": "a2dac6c5",
   "metadata": {},
   "source": [
    "Now we can construct our spectral coordinate with both a target and an observer"
   ]
  },
  {
   "cell_type": "code",
   "execution_count": null,
   "id": "f631854b",
   "metadata": {},
   "outputs": [],
   "source": []
  },
  {
   "cell_type": "markdown",
   "id": "00d4d838",
   "metadata": {},
   "source": [
    "We can show the full details of the spectral coord (working around a bug in astropy):"
   ]
  },
  {
   "cell_type": "code",
   "execution_count": null,
   "id": "d98dfc49",
   "metadata": {},
   "outputs": [],
   "source": []
  },
  {
   "cell_type": "markdown",
   "id": "5f703449",
   "metadata": {},
   "source": [
    "## World Coordinate System\n",
    "\n",
    "One of the other core components of the ecosystem provided by Astropy is the {obj}`astropy.wcs` package which provides tools for mapping pixel to world coordinates and world to pixel.\n",
    "When loading a FITS file with complete (and standard compliant) WCS metadata we can create an `astropy.wcs.WCS` object.\n",
    "For the this example we will use some sunpy sample data from AIA."
   ]
  },
  {
   "cell_type": "code",
   "execution_count": null,
   "id": "9a09f2ec",
   "metadata": {},
   "outputs": [],
   "source": []
  },
  {
   "cell_type": "markdown",
   "id": "1398b707",
   "metadata": {},
   "source": [
    "To read this FITS file we will use {obj}`astropy.io.fits` (you can also use `sunpy` for this)."
   ]
  },
  {
   "cell_type": "code",
   "execution_count": null,
   "id": "649e051d",
   "metadata": {},
   "outputs": [],
   "source": []
  },
  {
   "cell_type": "markdown",
   "id": "edd1040d",
   "metadata": {},
   "source": [
    "We can now access the header of the second HDU:"
   ]
  },
  {
   "cell_type": "code",
   "execution_count": null,
   "id": "17f50273",
   "metadata": {},
   "outputs": [],
   "source": []
  },
  {
   "cell_type": "markdown",
   "id": "cf01875b",
   "metadata": {},
   "source": [
    "Using this header we can create a `astropy.wcs.WCS` object:"
   ]
  },
  {
   "cell_type": "code",
   "execution_count": null,
   "id": "f5beb9c6",
   "metadata": {},
   "outputs": [],
   "source": []
  },
  {
   "cell_type": "markdown",
   "id": "5c8c00a0",
   "metadata": {},
   "source": [
    "This WCS object allows us to convert between pixel and world coordinates, for example:"
   ]
  },
  {
   "cell_type": "code",
   "execution_count": null,
   "id": "c21fda70",
   "metadata": {},
   "outputs": [],
   "source": []
  },
  {
   "cell_type": "markdown",
   "id": "9f9af05b",
   "metadata": {},
   "source": [
    "This call returns a {obj}`astropy.coordinates.SkyCoord` object (which needs sunpy to be imported), we will come onto this more later.\n",
    "\n",
    "We can also convert between pixel and plain numbers:"
   ]
  },
  {
   "cell_type": "code",
   "execution_count": null,
   "id": "9a6144e9",
   "metadata": {},
   "outputs": [],
   "source": []
  },
  {
   "cell_type": "markdown",
   "id": "1b902248",
   "metadata": {},
   "source": [
    "The units for these values are given by:"
   ]
  },
  {
   "cell_type": "code",
   "execution_count": null,
   "id": "aa5f01dd",
   "metadata": {},
   "outputs": [],
   "source": []
  },
  {
   "cell_type": "markdown",
   "id": "ff7be67e",
   "metadata": {},
   "source": [
    "The WCS also has information about what the world axes represent:"
   ]
  },
  {
   "cell_type": "code",
   "execution_count": null,
   "id": "779ec379",
   "metadata": {},
   "outputs": [],
   "source": []
  },
  {
   "cell_type": "markdown",
   "id": "20f43bc2",
   "metadata": {},
   "source": [
    "We can also inspect the correlation between the world axes and pixel axes:"
   ]
  },
  {
   "cell_type": "code",
   "execution_count": null,
   "id": "aeb0d444",
   "metadata": {},
   "outputs": [],
   "source": []
  },
  {
   "cell_type": "markdown",
   "id": "3af9ad14",
   "metadata": {},
   "source": [
    "This correlation matrix has the world dimensions as rows, and the pixel dimensions as columns.\n",
    "As we have a 2D image here, with two pixel and two world axes where both are coupled together.\n",
    "This means that to calculate either latitude or longitude you need both pixel coordinates."
   ]
  }
 ],
 "metadata": {
  "kernelspec": {
   "display_name": "Python 3",
   "language": "python",
   "name": "python3"
  }
 },
 "nbformat": 4,
 "nbformat_minor": 5
}
