{
 "cells": [
  {
   "cell_type": "markdown",
   "id": "2b77b8c1",
   "metadata": {},
   "source": [
    "# Searching for DKIST Datasets\n",
    "\n",
    "In this session we will cover how to search for DKIST datasets available at the DKIST Data Center.\n",
    "In DKIST data parlance, a \"dataset\" is the smallest unit of data that is searchable from the data centre, and represents a single observation from a single instrument at a single pass band.\n",
    "\n",
    "Each dataset comprises a number of different files:\n",
    "  * An ASDF file containing all the metadata, and no data.\n",
    "  * A quality report PDF.\n",
    "  * An mp4 preview movie.\n",
    "  * A (large) number of FITS files, each containing a \"calibrated exposure\".\n",
    "\n",
    "All of these files apart from the FITS files containing the data can be downloaded irrespective of embargo status.\n",
    "\n",
    "For each of these \"datasets\" the DKIST Data Center keeps a \"dataset inventory record\" which is a limited set of metadata about the dataset on which you can search, either through the portal or the `dkist` Python package.\n",
    "The ASDF, quality report and preview movie can all be downloaded without authenticating, the FITS files require the use of Globus.\n",
    "\n",
    "\n",
    "## Using `Fido.search`\n",
    "\n",
    "The search interface we are going to use is {obj}`sunpy.net.Fido`.\n",
    "`Fido` supports many different sources of data, some built into `sunpy` like the VSO and some in plugins like `dkist` or `sunpy-soar`.\n",
    "With `Fido` you can search for DKIST datasets and download their corresponding ASDF files.\n",
    "To register the DKIST search with `Fido` we must also import `dkist.net`."
   ]
  },
  {
   "cell_type": "code",
   "execution_count": 1,
   "id": "2a1efd1b",
   "metadata": {},
   "outputs": [],
   "source": [
    "import astropy.units as u\n",
    "from sunpy.net import Fido, attrs as a\n",
    "import dkist.net"
   ]
  },
  {
   "cell_type": "markdown",
   "id": "9b023d49",
   "metadata": {},
   "source": [
    "`Fido` searches are built up from \"attrs\", which we imported above as `a`.\n",
    "These attrs are combined together with either logical AND or logical OR operations to make complex queries.\n",
    "Let's start simple and search for all the DKIST datasets which are not embargoed:"
   ]
  },
  {
   "cell_type": "code",
   "execution_count": 4,
   "id": "4e85fb3b",
   "metadata": {
    "tags": [
     "output_scroll"
    ]
   },
   "outputs": [
    {
     "data": {
      "text/html": [
       "Results from 1 Provider:</br></br>91 Results from the DKISTClient:</br><div><i>DKISTQueryResponseTable length=91</i>\n",
       "<table id=\"table140152265603280\" class=\"table-striped table-bordered table-condensed\">\n",
       "<thead><tr><th>Start Time</th><th>End Time</th><th>Instrument</th><th>Wavelength</th><th>Bounding Box</th><th>Dataset ID</th><th>Dataset Size</th><th>Exposure Time</th><th>Primary Experiment ID</th><th>Primary Proposal ID</th><th>Stokes Parameters</th><th>Target Types</th><th>Number of Frames</th><th>Average Fried Parameter</th><th>Embargoed</th><th>Downloadable</th><th>Has Spectral Axis</th><th>Has Temporal Axis</th><th>Average Spectral Sampling</th><th>Average Spatial Sampling</th><th>Average Temporal Sampling</th></tr></thead>\n",
       "<thead><tr><th></th><th></th><th></th><th>nm</th><th></th><th></th><th>Gibyte</th><th>s</th><th></th><th></th><th></th><th></th><th></th><th></th><th></th><th></th><th></th><th></th><th>nm</th><th>arcsec</th><th>s</th></tr></thead>\n",
       "<thead><tr><th>Time</th><th>Time</th><th>str4</th><th>float64[2]</th><th>str36</th><th>str5</th><th>float64</th><th>float64</th><th>str9</th><th>str9</th><th>str4</th><th>str7[1]</th><th>int64</th><th>float64</th><th>bool</th><th>bool</th><th>bool</th><th>bool</th><th>float64</th><th>float64</th><th>float64</th></tr></thead>\n",
       "<tr><td>2022-06-02T17:22:50.176</td><td>2022-06-02T17:47:30.856</td><td>VBI</td><td>486.0 .. 486.0</td><td>(-560.88,-346.83),(-677.78,-466.44)</td><td>BLKGA</td><td>2.0</td><td>5.009</td><td>eid_1_118</td><td>pid_1_118</td><td>I</td><td>unknown</td><td>171</td><td>0.08814365069897488</td><td>False</td><td>True</td><td>False</td><td>True</td><td>nan</td><td>0.01099999994039536</td><td>82.26000000000653</td></tr>\n",
       "<tr><td>2022-06-02T17:21:55.346</td><td>2022-06-02T17:47:58.286</td><td>VBI</td><td>393.0 .. 393.0</td><td>(-560.88,-346.83),(-677.79,-466.44)</td><td>BJLKB</td><td>2.0</td><td>25.007</td><td>eid_1_118</td><td>pid_1_118</td><td>I</td><td>unknown</td><td>180</td><td>0.09129593540153651</td><td>False</td><td>True</td><td>False</td><td>True</td><td>nan</td><td>0.01099999994039536</td><td>82.26000000000653</td></tr>\n",
       "<tr><td>2022-06-02T17:22:22.754</td><td>2022-06-02T17:48:25.694</td><td>VBI</td><td>430.0 .. 430.0</td><td>(-560.88,-346.83),(-677.78,-466.44)</td><td>BKJYA</td><td>2.0</td><td>1.005</td><td>eid_1_118</td><td>pid_1_118</td><td>I</td><td>unknown</td><td>180</td><td>0.09618521236484806</td><td>False</td><td>True</td><td>False</td><td>True</td><td>nan</td><td>0.01099999994039536</td><td>82.25999999999694</td></tr>\n",
       "<tr><td>...</td><td>...</td><td>...</td><td>...</td><td>...</td><td>...</td><td>...</td><td>...</td><td>...</td><td>...</td><td>...</td><td>...</td><td>...</td><td>...</td><td>...</td><td>...</td><td>...</td><td>...</td><td>...</td><td>...</td><td>...</td></tr>\n",
       "<tr><td>2022-06-03T17:38:57.655</td><td>2022-06-03T18:05:45.695</td><td>VISP</td><td>854.248985847081 .. 856.7855075464167</td><td>(-379.32,97931.48),(-435.8,1727.87)</td><td>AVORO</td><td>4.0</td><td>48.00811267605634</td><td>eid_1_118</td><td>pid_1_118</td><td>IQUV</td><td>unknown</td><td>1960</td><td>0.14324949289555358</td><td>False</td><td>True</td><td>True</td><td>True</td><td>0.000999811469978602</td><td>0.2134568481952311</td><td>804.0201897959191</td></tr>\n",
       "<tr><td>2022-06-02T18:50:16.655</td><td>2022-06-02T19:17:04.695</td><td>VISP</td><td>854.248985835402 .. 856.7855075347377</td><td>(-408.32,97828.51),(-462.36,1624.88)</td><td>ALGJX</td><td>4.0</td><td>48.00811267605634</td><td>eid_1_118</td><td>pid_1_118</td><td>IQUV</td><td>unknown</td><td>1960</td><td>0.08793694602367085</td><td>False</td><td>True</td><td>True</td><td>True</td><td>0.000999811469978602</td><td>0.2134568481952311</td><td>804.0203285714256</td></tr>\n",
       "<tr><td>2022-10-24T18:57:45.634</td><td>2022-10-24T19:33:26.865</td><td>VISP</td><td>630.2424776472172 .. 631.826964866207</td><td>(233.36,-368.87),(212.1,-503.97)</td><td>BKEWK</td><td>5.0</td><td>48.00811267605634</td><td>eid_1_123</td><td>pid_1_123</td><td>IQUV</td><td>unknown</td><td>2752</td><td>0.11445240041497136</td><td>False</td><td>True</td><td>True</td><td>True</td><td>0.00162511509639976</td><td>0.04160701928854328</td><td>1070.6156795058157</td></tr>\n",
       "</table></div></br>"
      ],
      "text/plain": [
       "<sunpy.net.fido_factory.UnifiedResponse object at 0x7f77be09ca50>\n",
       "Results from 1 Provider:\n",
       "\n",
       "91 Results from the DKISTClient:\n",
       "\n",
       "       Start Time               End Time        Instrument               Wavelength              ... Average Spectral Sampling Average Spatial Sampling Average Temporal Sampling\n",
       "                                                                             nm                  ...             nm                     arcsec                      s            \n",
       "----------------------- ----------------------- ---------- ------------------------------------- ... ------------------------- ------------------------ -------------------------\n",
       "2022-06-02T17:22:50.176 2022-06-02T17:47:30.856        VBI                        486.0 .. 486.0 ...                       nan      0.01099999994039536         82.26000000000653\n",
       "2022-06-02T17:21:55.346 2022-06-02T17:47:58.286        VBI                        393.0 .. 393.0 ...                       nan      0.01099999994039536         82.26000000000653\n",
       "2022-06-02T17:22:22.754 2022-06-02T17:48:25.694        VBI                        430.0 .. 430.0 ...                       nan      0.01099999994039536         82.25999999999694\n",
       "                    ...                     ...        ...                                   ... ...                       ...                      ...                       ...\n",
       "2022-06-03T19:05:12.653 2022-06-03T19:32:00.693       VISP 854.2489858489882 .. 856.785507548324 ...      0.000999811469978602       0.2134568481952311         804.0203408163262\n",
       "2022-06-03T17:38:57.655 2022-06-03T18:05:45.695       VISP 854.248985847081 .. 856.7855075464167 ...      0.000999811469978602       0.2134568481952311         804.0201897959191\n",
       "2022-06-02T18:50:16.655 2022-06-02T19:17:04.695       VISP 854.248985835402 .. 856.7855075347377 ...      0.000999811469978602       0.2134568481952311         804.0203285714256\n",
       "2022-10-24T18:57:45.634 2022-10-24T19:33:26.865       VISP 630.2424776472172 .. 631.826964866207 ...       0.00162511509639976      0.04160701928854328        1070.6156795058157\n",
       "Length = 91 rows\n"
      ]
     },
     "execution_count": 4,
     "metadata": {},
     "output_type": "execute_result"
    }
   ],
   "source": [
    "Fido.search(a.dkist.Embargoed(False))"
   ]
  },
  {
   "cell_type": "markdown",
   "id": "6ac42887",
   "metadata": {},
   "source": [
    "Because we only specified one attr, and it was unique to the dkist client (it started with `a.dkist`) only the DKIST client was used.\n",
    "\n",
    "If we only want VBI datasets, that are unembargoed, between a specific time range we can use multiple attrs:"
   ]
  },
  {
   "cell_type": "code",
   "execution_count": 13,
   "id": "fcea6747",
   "metadata": {
    "scrolled": true
   },
   "outputs": [
    {
     "data": {
      "text/html": [
       "Results from 1 Provider:</br></br>3 Results from the DKISTClient:</br><div><i>DKISTQueryResponseTable length=3</i>\n",
       "<table id=\"table140152242534352\" class=\"table-striped table-bordered table-condensed\">\n",
       "<thead><tr><th>Start Time</th><th>End Time</th><th>Instrument</th><th>Wavelength</th><th>Bounding Box</th><th>Dataset ID</th><th>Dataset Size</th><th>Exposure Time</th><th>Primary Experiment ID</th><th>Primary Proposal ID</th><th>Stokes Parameters</th><th>Target Types</th><th>Number of Frames</th><th>Average Fried Parameter</th><th>Embargoed</th><th>Downloadable</th><th>Has Spectral Axis</th><th>Has Temporal Axis</th><th>Average Spectral Sampling</th><th>Average Spatial Sampling</th><th>Average Temporal Sampling</th></tr></thead>\n",
       "<thead><tr><th></th><th></th><th></th><th>nm</th><th></th><th></th><th>Gibyte</th><th>s</th><th></th><th></th><th></th><th></th><th></th><th></th><th></th><th></th><th></th><th></th><th>nm</th><th>arcsec</th><th>s</th></tr></thead>\n",
       "<thead><tr><th>Time</th><th>Time</th><th>str3</th><th>float64[2]</th><th>str35</th><th>str5</th><th>float64</th><th>float64</th><th>str9</th><th>str9</th><th>str1</th><th>str7[1]</th><th>int64</th><th>float64</th><th>bool</th><th>bool</th><th>bool</th><th>bool</th><th>float64</th><th>float64</th><th>float64</th></tr></thead>\n",
       "<tr><td>2022-06-02T17:22:50.176</td><td>2022-06-02T17:47:30.856</td><td>VBI</td><td>486.0 .. 486.0</td><td>(-560.88,-346.83),(-677.78,-466.44)</td><td>BLKGA</td><td>2.0</td><td>5.009</td><td>eid_1_118</td><td>pid_1_118</td><td>I</td><td>unknown</td><td>171</td><td>0.08814365069897488</td><td>False</td><td>True</td><td>False</td><td>True</td><td>nan</td><td>0.01099999994039536</td><td>82.26000000000653</td></tr>\n",
       "<tr><td>2022-06-02T17:21:55.346</td><td>2022-06-02T17:47:58.286</td><td>VBI</td><td>393.0 .. 393.0</td><td>(-560.88,-346.83),(-677.79,-466.44)</td><td>BJLKB</td><td>2.0</td><td>25.007</td><td>eid_1_118</td><td>pid_1_118</td><td>I</td><td>unknown</td><td>180</td><td>0.09129593540153651</td><td>False</td><td>True</td><td>False</td><td>True</td><td>nan</td><td>0.01099999994039536</td><td>82.26000000000653</td></tr>\n",
       "<tr><td>2022-06-02T17:22:22.754</td><td>2022-06-02T17:48:25.694</td><td>VBI</td><td>430.0 .. 430.0</td><td>(-560.88,-346.83),(-677.78,-466.44)</td><td>BKJYA</td><td>2.0</td><td>1.005</td><td>eid_1_118</td><td>pid_1_118</td><td>I</td><td>unknown</td><td>180</td><td>0.09618521236484806</td><td>False</td><td>True</td><td>False</td><td>True</td><td>nan</td><td>0.01099999994039536</td><td>82.25999999999694</td></tr>\n",
       "</table></div></br>"
      ],
      "text/plain": [
       "<sunpy.net.fido_factory.UnifiedResponse object at 0x7f77bca0be10>\n",
       "Results from 1 Provider:\n",
       "\n",
       "3 Results from the DKISTClient:\n",
       "\n",
       "       Start Time               End Time        Instrument   Wavelength   ... Has Temporal Axis Average Spectral Sampling Average Spatial Sampling Average Temporal Sampling\n",
       "                                                                 nm       ...                               nm                     arcsec                      s            \n",
       "----------------------- ----------------------- ---------- -------------- ... ----------------- ------------------------- ------------------------ -------------------------\n",
       "2022-06-02T17:22:50.176 2022-06-02T17:47:30.856        VBI 486.0 .. 486.0 ...              True                       nan      0.01099999994039536         82.26000000000653\n",
       "2022-06-02T17:21:55.346 2022-06-02T17:47:58.286        VBI 393.0 .. 393.0 ...              True                       nan      0.01099999994039536         82.26000000000653\n",
       "2022-06-02T17:22:22.754 2022-06-02T17:48:25.694        VBI 430.0 .. 430.0 ...              True                       nan      0.01099999994039536         82.25999999999694\n"
      ]
     },
     "execution_count": 13,
     "metadata": {},
     "output_type": "execute_result"
    }
   ],
   "source": [
    "Fido.search(a.Time(\"2022-06-02 17:00:00\", \"2022-06-02 18:00:00\") & a.Instrument(\"VBI\") & a.dkist.Embargoed(False))"
   ]
  },
  {
   "cell_type": "markdown",
   "id": "ed417e86",
   "metadata": {},
   "source": [
    "Note how the `a.Time` and `a.Instrument` attrs are not prefixed with `dkist` - these are general attrs which can be used to search multiple sources of data.\n",
    "\n",
    "So far all returned results have had to match all the attrs provided, because we have used the `&` (logical AND) operator to join them.\n",
    "If we want results that match either one of multiple options we can use the `|` operator."
   ]
  },
  {
   "cell_type": "code",
   "execution_count": 16,
   "id": "1451c525",
   "metadata": {
    "tags": [
     "output_scroll"
    ]
   },
   "outputs": [
    {
     "data": {
      "text/html": [
       "Results from 2 Providers:</br></br>2 Results from the VSOClient:</br><div><i>VSOQueryResponseTable length=2</i>\n",
       "<table id=\"table140152244504912\" class=\"table-striped table-bordered table-condensed\">\n",
       "<thead><tr><th>Start Time</th><th>End Time</th><th>Source</th><th>Instrument</th><th>Wavelength</th><th>Provider</th><th>Physobs</th><th>Wavetype</th><th>Extent Width</th><th>Extent Length</th><th>Extent Type</th><th>Size</th></tr></thead>\n",
       "<thead><tr><th></th><th></th><th></th><th></th><th>Angstrom</th><th></th><th></th><th></th><th></th><th></th><th></th><th>Mibyte</th></tr></thead>\n",
       "<thead><tr><th>Time</th><th>Time</th><th>str3</th><th>str3</th><th>float64[2]</th><th>str4</th><th>str9</th><th>str6</th><th>str4</th><th>str4</th><th>str8</th><th>float64</th></tr></thead>\n",
       "<tr><td>2022-06-02 17:00:09.000</td><td>2022-06-02 17:00:10.000</td><td>SDO</td><td>AIA</td><td>171.0 .. 171.0</td><td>JSOC</td><td>intensity</td><td>NARROW</td><td>4096</td><td>4096</td><td>FULLDISK</td><td>64.64844</td></tr>\n",
       "<tr><td>2022-06-02 17:30:09.000</td><td>2022-06-02 17:30:10.000</td><td>SDO</td><td>AIA</td><td>171.0 .. 171.0</td><td>JSOC</td><td>intensity</td><td>NARROW</td><td>4096</td><td>4096</td><td>FULLDISK</td><td>64.64844</td></tr>\n",
       "</table></div></br>2 Results from the DKISTClient:</br><div><i>DKISTQueryResponseTable length=2</i>\n",
       "<table id=\"table140152233031120\" class=\"table-striped table-bordered table-condensed\">\n",
       "<thead><tr><th>Start Time</th><th>End Time</th><th>Instrument</th><th>Wavelength</th><th>Bounding Box</th><th>Dataset ID</th><th>Dataset Size</th><th>Exposure Time</th><th>Primary Experiment ID</th><th>Primary Proposal ID</th><th>Stokes Parameters</th><th>Target Types</th><th>Number of Frames</th><th>Average Fried Parameter</th><th>Embargoed</th><th>Downloadable</th><th>Has Spectral Axis</th><th>Has Temporal Axis</th><th>Average Spectral Sampling</th><th>Average Spatial Sampling</th><th>Average Temporal Sampling</th></tr></thead>\n",
       "<thead><tr><th></th><th></th><th></th><th>nm</th><th></th><th></th><th>Gibyte</th><th>s</th><th></th><th></th><th></th><th></th><th></th><th></th><th></th><th></th><th></th><th></th><th>nm</th><th>arcsec</th><th>s</th></tr></thead>\n",
       "<thead><tr><th>Time</th><th>Time</th><th>str4</th><th>float64[2]</th><th>str36</th><th>str5</th><th>float64</th><th>float64</th><th>str9</th><th>str9</th><th>str4</th><th>str7[1]</th><th>int64</th><th>float64</th><th>bool</th><th>bool</th><th>bool</th><th>bool</th><th>float64</th><th>float64</th><th>float64</th></tr></thead>\n",
       "<tr><td>2022-06-02T17:21:59.648</td><td>2022-06-02T17:48:47.688</td><td>VISP</td><td>630.2392098893586 .. 634.3897538455635</td><td>(-405.09,37.71),(-469.15,-93.61)</td><td>AYDEW</td><td>4.0</td><td>48.00811267605634</td><td>eid_1_118</td><td>pid_1_118</td><td>IQUV</td><td>unknown</td><td>1960</td><td>0.09165082528563988</td><td>False</td><td>True</td><td>True</td><td>True</td><td>0.00162511509639976</td><td>0.2134568481952311</td><td>804.0201081632624</td></tr>\n",
       "<tr><td>2022-06-02T17:21:59.648</td><td>2022-06-02T17:48:47.688</td><td>VISP</td><td>854.248985823001 .. 856.7855075223367</td><td>(-408.32,97719.51),(-462.37,1515.88)</td><td>AZWGJ</td><td>3.0</td><td>48.00811267605634</td><td>eid_1_118</td><td>pid_1_118</td><td>IQUV</td><td>unknown</td><td>1960</td><td>0.09165082528563988</td><td>False</td><td>True</td><td>True</td><td>True</td><td>0.000999811469978602</td><td>0.2134568481952311</td><td>804.0201081632624</td></tr>\n",
       "</table></div></br>"
      ],
      "text/plain": [
       "<sunpy.net.fido_factory.UnifiedResponse object at 0x7f77bca80750>\n",
       "Results from 2 Providers:\n",
       "\n",
       "2 Results from the VSOClient:\n",
       "Source: http://vso.stanford.edu/cgi-bin/search\n",
       "Total estimated size: 135.578 Mbyte\n",
       "\n",
       "       Start Time               End Time        Source Instrument   Wavelength   Provider  Physobs  Wavetype Extent Width Extent Length Extent Type   Size  \n",
       "                                                                     Angstrom                                                                        Mibyte \n",
       "----------------------- ----------------------- ------ ---------- -------------- -------- --------- -------- ------------ ------------- ----------- --------\n",
       "2022-06-02 17:00:09.000 2022-06-02 17:00:10.000    SDO        AIA 171.0 .. 171.0     JSOC intensity   NARROW         4096          4096    FULLDISK 64.64844\n",
       "2022-06-02 17:30:09.000 2022-06-02 17:30:10.000    SDO        AIA 171.0 .. 171.0     JSOC intensity   NARROW         4096          4096    FULLDISK 64.64844\n",
       "\n",
       "2 Results from the DKISTClient:\n",
       "\n",
       "       Start Time               End Time        Instrument               Wavelength               ... Average Spectral Sampling Average Spatial Sampling Average Temporal Sampling\n",
       "                                                                             nm                   ...             nm                     arcsec                      s            \n",
       "----------------------- ----------------------- ---------- -------------------------------------- ... ------------------------- ------------------------ -------------------------\n",
       "2022-06-02T17:21:59.648 2022-06-02T17:48:47.688       VISP 630.2392098893586 .. 634.3897538455635 ...       0.00162511509639976       0.2134568481952311         804.0201081632624\n",
       "2022-06-02T17:21:59.648 2022-06-02T17:48:47.688       VISP  854.248985823001 .. 856.7855075223367 ...      0.000999811469978602       0.2134568481952311         804.0201081632624\n"
      ]
     },
     "execution_count": 16,
     "metadata": {},
     "output_type": "execute_result"
    }
   ],
   "source": [
    "time = a.Time(\"2022-06-02 17:00\", \"2022-06-02 18:00\")\n",
    "visp = a.Instrument(\"VISP\") & a.dkist.Embargoed(False)\n",
    "aia = a.Instrument.aia & a.Wavelength(17.1 * u.nm) & a.Sample(30 * u.min)\n",
    "\n",
    "Fido.search(time, aia | visp)"
   ]
  },
  {
   "cell_type": "markdown",
   "id": "3c5507d8",
   "metadata": {},
   "source": [
    "As you can see this has returned two separate tables, one for VBI and one for VISP.\n",
    "\n",
    "Because `Fido` can search other clients as well as the DKIST you can make a more complex query which will search for VISP data and context images from AIA at the same time:"
   ]
  },
  {
   "cell_type": "code",
   "execution_count": null,
   "id": "c6984912",
   "metadata": {},
   "outputs": [],
   "source": []
  },
  {
   "cell_type": "markdown",
   "id": "a0888fc5",
   "metadata": {},
   "source": [
    "Here we have used a couple of different attrs.\n",
    "`a.Sample` limits the results to one per time window given, and `a.Wavelength` searches for specific wavelengths of data.\n",
    "Also, we passed our attrs as positional arguments to `Fido.search`.\n",
    "This is a little bit of sugar to prevent having to specify a lot of brackets; all arguments have the and (`&`) operator applied to them.\n",
    "\n",
    "## Working with Results Tables\n",
    "\n",
    "A Fido search returns a {obj}`sunpy.net.fido_factory.UnifiedResponse` object, which contains all the search results from all the different clients and requests made to the servers."
   ]
  },
  {
   "cell_type": "code",
   "execution_count": 18,
   "id": "17922352",
   "metadata": {
    "scrolled": true
   },
   "outputs": [
    {
     "data": {
      "text/html": [
       "Results from 2 Providers:</br></br>51 Results from the DKISTClient:</br><div><i>DKISTQueryResponseTable length=51</i>\n",
       "<table id=\"table140152233667472\" class=\"table-striped table-bordered table-condensed\">\n",
       "<thead><tr><th>Start Time</th><th>End Time</th><th>Instrument</th><th>Wavelength</th><th>Bounding Box</th><th>Dataset ID</th><th>Dataset Size</th><th>Exposure Time</th><th>Primary Experiment ID</th><th>Primary Proposal ID</th><th>Stokes Parameters</th><th>Target Types</th><th>Number of Frames</th><th>Average Fried Parameter</th><th>Embargoed</th><th>Downloadable</th><th>Has Spectral Axis</th><th>Has Temporal Axis</th><th>Average Spectral Sampling</th><th>Average Spatial Sampling</th><th>Average Temporal Sampling</th></tr></thead>\n",
       "<thead><tr><th></th><th></th><th></th><th>nm</th><th></th><th></th><th>Gibyte</th><th>s</th><th></th><th></th><th></th><th></th><th></th><th></th><th></th><th></th><th></th><th></th><th>nm</th><th>arcsec</th><th>s</th></tr></thead>\n",
       "<thead><tr><th>Time</th><th>Time</th><th>str3</th><th>float64[2]</th><th>str35</th><th>str5</th><th>float64</th><th>float64</th><th>str9</th><th>str9</th><th>str1</th><th>str7[1]</th><th>int64</th><th>float64</th><th>bool</th><th>bool</th><th>bool</th><th>bool</th><th>float64</th><th>float64</th><th>float64</th></tr></thead>\n",
       "<tr><td>2022-06-02T17:22:50.176</td><td>2022-06-02T17:47:30.856</td><td>VBI</td><td>486.0 .. 486.0</td><td>(-560.88,-346.83),(-677.78,-466.44)</td><td>BLKGA</td><td>2.0</td><td>5.009</td><td>eid_1_118</td><td>pid_1_118</td><td>I</td><td>unknown</td><td>171</td><td>0.08814365069897488</td><td>False</td><td>True</td><td>False</td><td>True</td><td>nan</td><td>0.01099999994039536</td><td>82.26000000000653</td></tr>\n",
       "<tr><td>2022-06-02T17:21:55.346</td><td>2022-06-02T17:47:58.286</td><td>VBI</td><td>393.0 .. 393.0</td><td>(-560.88,-346.83),(-677.79,-466.44)</td><td>BJLKB</td><td>2.0</td><td>25.007</td><td>eid_1_118</td><td>pid_1_118</td><td>I</td><td>unknown</td><td>180</td><td>0.09129593540153651</td><td>False</td><td>True</td><td>False</td><td>True</td><td>nan</td><td>0.01099999994039536</td><td>82.26000000000653</td></tr>\n",
       "<tr><td>2022-06-02T17:22:22.754</td><td>2022-06-02T17:48:25.694</td><td>VBI</td><td>430.0 .. 430.0</td><td>(-560.88,-346.83),(-677.78,-466.44)</td><td>BKJYA</td><td>2.0</td><td>1.005</td><td>eid_1_118</td><td>pid_1_118</td><td>I</td><td>unknown</td><td>180</td><td>0.09618521236484806</td><td>False</td><td>True</td><td>False</td><td>True</td><td>nan</td><td>0.01099999994039536</td><td>82.25999999999694</td></tr>\n",
       "<tr><td>...</td><td>...</td><td>...</td><td>...</td><td>...</td><td>...</td><td>...</td><td>...</td><td>...</td><td>...</td><td>...</td><td>...</td><td>...</td><td>...</td><td>...</td><td>...</td><td>...</td><td>...</td><td>...</td><td>...</td><td>...</td></tr>\n",
       "<tr><td>2022-06-03T17:09:55.346</td><td>2022-06-03T17:35:58.285</td><td>VBI</td><td>393.0 .. 393.0</td><td>(-351.85,-375.79),(-468.81,-495.48)</td><td>BDOVA</td><td>2.0</td><td>25.007</td><td>eid_1_118</td><td>pid_1_118</td><td>I</td><td>unknown</td><td>180</td><td>0.11833839105343869</td><td>False</td><td>True</td><td>False</td><td>True</td><td>nan</td><td>0.01099999994039536</td><td>82.25999899999685</td></tr>\n",
       "<tr><td>2022-06-03T17:10:22.753</td><td>2022-06-03T17:36:25.693</td><td>VBI</td><td>430.0 .. 430.0</td><td>(-351.85,-375.79),(-468.81,-495.48)</td><td>BEQYB</td><td>2.0</td><td>0.6970000000000001</td><td>eid_1_118</td><td>pid_1_118</td><td>I</td><td>unknown</td><td>180</td><td>0.12242215601100881</td><td>False</td><td>True</td><td>False</td><td>True</td><td>nan</td><td>0.01099999994039536</td><td>82.25999999999694</td></tr>\n",
       "<tr><td>2022-06-03T17:10:50.175</td><td>2022-06-03T17:35:30.855</td><td>VBI</td><td>486.0 .. 486.0</td><td>(-351.85,-375.79),(-468.82,-495.48)</td><td>AGXWB</td><td>2.0</td><td>3.997000000000001</td><td>eid_1_118</td><td>pid_1_118</td><td>I</td><td>unknown</td><td>171</td><td>0.12313722407803035</td><td>False</td><td>True</td><td>False</td><td>True</td><td>nan</td><td>0.01099999994039536</td><td>82.25999899998726</td></tr>\n",
       "</table></div></br>40 Results from the DKISTClient:</br><div><i>DKISTQueryResponseTable length=40</i>\n",
       "<table id=\"table140152244515856\" class=\"table-striped table-bordered table-condensed\">\n",
       "<thead><tr><th>Start Time</th><th>End Time</th><th>Instrument</th><th>Wavelength</th><th>Bounding Box</th><th>Dataset ID</th><th>Dataset Size</th><th>Exposure Time</th><th>Primary Experiment ID</th><th>Primary Proposal ID</th><th>Stokes Parameters</th><th>Target Types</th><th>Number of Frames</th><th>Average Fried Parameter</th><th>Embargoed</th><th>Downloadable</th><th>Has Spectral Axis</th><th>Has Temporal Axis</th><th>Average Spectral Sampling</th><th>Average Spatial Sampling</th><th>Average Temporal Sampling</th></tr></thead>\n",
       "<thead><tr><th></th><th></th><th></th><th>nm</th><th></th><th></th><th>Gibyte</th><th>s</th><th></th><th></th><th></th><th></th><th></th><th></th><th></th><th></th><th></th><th></th><th>nm</th><th>arcsec</th><th>s</th></tr></thead>\n",
       "<thead><tr><th>Time</th><th>Time</th><th>str4</th><th>float64[2]</th><th>str36</th><th>str5</th><th>float64</th><th>float64</th><th>str9</th><th>str9</th><th>str4</th><th>str7[1]</th><th>int64</th><th>float64</th><th>bool</th><th>bool</th><th>bool</th><th>bool</th><th>float64</th><th>float64</th><th>float64</th></tr></thead>\n",
       "<tr><td>2022-06-02T17:50:42.635</td><td>2022-06-02T18:17:30.676</td><td>VISP</td><td>630.239209907831 .. 634.3897538640359</td><td>(-405.09,6.36),(-469.14,-124.96)</td><td>BDWQK</td><td>4.0</td><td>48.00811267605634</td><td>eid_1_118</td><td>pid_1_118</td><td>IQUV</td><td>unknown</td><td>1960</td><td>0.09144699104186786</td><td>False</td><td>True</td><td>True</td><td>True</td><td>0.00162511509639976</td><td>0.2134568481952311</td><td>804.0204285714267</td></tr>\n",
       "<tr><td>2022-06-02T17:21:59.648</td><td>2022-06-02T17:48:47.688</td><td>VISP</td><td>630.2392098893586 .. 634.3897538455635</td><td>(-405.09,37.71),(-469.15,-93.61)</td><td>AYDEW</td><td>4.0</td><td>48.00811267605634</td><td>eid_1_118</td><td>pid_1_118</td><td>IQUV</td><td>unknown</td><td>1960</td><td>0.09165082528563988</td><td>False</td><td>True</td><td>True</td><td>True</td><td>0.00162511509639976</td><td>0.2134568481952311</td><td>804.0201081632624</td></tr>\n",
       "<tr><td>2022-06-03T19:05:12.653</td><td>2022-06-03T19:32:00.693</td><td>VISP</td><td>630.2392099315987 .. 634.3897538878036</td><td>(-434.09,4.01),(-496.89,-127.31)</td><td>BLGOX</td><td>4.0</td><td>48.00811267605634</td><td>eid_1_118</td><td>pid_1_118</td><td>IQUV</td><td>unknown</td><td>1960</td><td>0.11345711420611478</td><td>False</td><td>True</td><td>True</td><td>True</td><td>0.00162511509639976</td><td>0.2134568481952311</td><td>804.0203408163262</td></tr>\n",
       "<tr><td>...</td><td>...</td><td>...</td><td>...</td><td>...</td><td>...</td><td>...</td><td>...</td><td>...</td><td>...</td><td>...</td><td>...</td><td>...</td><td>...</td><td>...</td><td>...</td><td>...</td><td>...</td><td>...</td><td>...</td><td>...</td></tr>\n",
       "<tr><td>2022-06-03T17:38:57.655</td><td>2022-06-03T18:05:45.695</td><td>VISP</td><td>854.248985847081 .. 856.7855075464167</td><td>(-379.32,97931.48),(-435.8,1727.87)</td><td>AVORO</td><td>4.0</td><td>48.00811267605634</td><td>eid_1_118</td><td>pid_1_118</td><td>IQUV</td><td>unknown</td><td>1960</td><td>0.14324949289555358</td><td>False</td><td>True</td><td>True</td><td>True</td><td>0.000999811469978602</td><td>0.2134568481952311</td><td>804.0201897959191</td></tr>\n",
       "<tr><td>2022-06-02T18:50:16.655</td><td>2022-06-02T19:17:04.695</td><td>VISP</td><td>854.248985835402 .. 856.7855075347377</td><td>(-408.32,97828.51),(-462.36,1624.88)</td><td>ALGJX</td><td>4.0</td><td>48.00811267605634</td><td>eid_1_118</td><td>pid_1_118</td><td>IQUV</td><td>unknown</td><td>1960</td><td>0.08793694602367085</td><td>False</td><td>True</td><td>True</td><td>True</td><td>0.000999811469978602</td><td>0.2134568481952311</td><td>804.0203285714256</td></tr>\n",
       "<tr><td>2022-10-24T18:57:45.634</td><td>2022-10-24T19:33:26.865</td><td>VISP</td><td>630.2424776472172 .. 631.826964866207</td><td>(233.36,-368.87),(212.1,-503.97)</td><td>BKEWK</td><td>5.0</td><td>48.00811267605634</td><td>eid_1_123</td><td>pid_1_123</td><td>IQUV</td><td>unknown</td><td>2752</td><td>0.11445240041497136</td><td>False</td><td>True</td><td>True</td><td>True</td><td>0.00162511509639976</td><td>0.04160701928854328</td><td>1070.6156795058157</td></tr>\n",
       "</table></div></br>"
      ],
      "text/plain": [
       "<sunpy.net.fido_factory.UnifiedResponse object at 0x7f77bc112e10>\n",
       "Results from 2 Providers:\n",
       "\n",
       "51 Results from the DKISTClient:\n",
       "\n",
       "       Start Time               End Time        Instrument   Wavelength   ... Has Temporal Axis Average Spectral Sampling Average Spatial Sampling Average Temporal Sampling\n",
       "                                                                 nm       ...                               nm                     arcsec                      s            \n",
       "----------------------- ----------------------- ---------- -------------- ... ----------------- ------------------------- ------------------------ -------------------------\n",
       "2022-06-02T17:22:50.176 2022-06-02T17:47:30.856        VBI 486.0 .. 486.0 ...              True                       nan      0.01099999994039536         82.26000000000653\n",
       "2022-06-02T17:21:55.346 2022-06-02T17:47:58.286        VBI 393.0 .. 393.0 ...              True                       nan      0.01099999994039536         82.26000000000653\n",
       "2022-06-02T17:22:22.754 2022-06-02T17:48:25.694        VBI 430.0 .. 430.0 ...              True                       nan      0.01099999994039536         82.25999999999694\n",
       "                    ...                     ...        ...            ... ...               ...                       ...                      ...                       ...\n",
       "2022-06-03T17:38:57.346 2022-06-03T18:05:00.286        VBI 393.0 .. 393.0 ...              True                       nan      0.01099999994039536         82.26000000000653\n",
       "2022-06-03T17:09:55.346 2022-06-03T17:35:58.285        VBI 393.0 .. 393.0 ...              True                       nan      0.01099999994039536         82.25999899999685\n",
       "2022-06-03T17:10:22.753 2022-06-03T17:36:25.693        VBI 430.0 .. 430.0 ...              True                       nan      0.01099999994039536         82.25999999999694\n",
       "2022-06-03T17:10:50.175 2022-06-03T17:35:30.855        VBI 486.0 .. 486.0 ...              True                       nan      0.01099999994039536         82.25999899998726\n",
       "Length = 51 rows\n",
       "\n",
       "40 Results from the DKISTClient:\n",
       "\n",
       "       Start Time               End Time        Instrument               Wavelength               ... Average Spectral Sampling Average Spatial Sampling Average Temporal Sampling\n",
       "                                                                             nm                   ...             nm                     arcsec                      s            \n",
       "----------------------- ----------------------- ---------- -------------------------------------- ... ------------------------- ------------------------ -------------------------\n",
       "2022-06-02T17:50:42.635 2022-06-02T18:17:30.676       VISP  630.239209907831 .. 634.3897538640359 ...       0.00162511509639976       0.2134568481952311         804.0204285714267\n",
       "2022-06-02T17:21:59.648 2022-06-02T17:48:47.688       VISP 630.2392098893586 .. 634.3897538455635 ...       0.00162511509639976       0.2134568481952311         804.0201081632624\n",
       "2022-06-03T19:05:12.653 2022-06-03T19:32:00.693       VISP 630.2392099315987 .. 634.3897538878036 ...       0.00162511509639976       0.2134568481952311         804.0203408163262\n",
       "                    ...                     ...        ...                                    ... ...                       ...                      ...                       ...\n",
       "2022-06-03T19:05:12.653 2022-06-03T19:32:00.693       VISP  854.2489858489882 .. 856.785507548324 ...      0.000999811469978602       0.2134568481952311         804.0203408163262\n",
       "2022-06-03T17:38:57.655 2022-06-03T18:05:45.695       VISP  854.248985847081 .. 856.7855075464167 ...      0.000999811469978602       0.2134568481952311         804.0201897959191\n",
       "2022-06-02T18:50:16.655 2022-06-02T19:17:04.695       VISP  854.248985835402 .. 856.7855075347377 ...      0.000999811469978602       0.2134568481952311         804.0203285714256\n",
       "2022-10-24T18:57:45.634 2022-10-24T19:33:26.865       VISP  630.2424776472172 .. 631.826964866207 ...       0.00162511509639976      0.04160701928854328        1070.6156795058157\n",
       "Length = 40 rows\n"
      ]
     },
     "execution_count": 18,
     "metadata": {},
     "output_type": "execute_result"
    }
   ],
   "source": [
    "res = Fido.search((a.Instrument.vbi | a.Instrument.visp) & a.dkist.Embargoed(False))\n",
    "res"
   ]
  },
  {
   "cell_type": "markdown",
   "id": "b6010262",
   "metadata": {},
   "source": [
    "The `UnifiedResponse` object provides a couple of different ways to select the results you are interested in.\n",
    "It's possible to select just the results returned by a specific client by name, in this case all the results are from the DKIST client so this changes nothing."
   ]
  },
  {
   "cell_type": "code",
   "execution_count": 19,
   "id": "166f21bb",
   "metadata": {
    "scrolled": true,
    "tags": [
     "output_scroll"
    ]
   },
   "outputs": [
    {
     "data": {
      "text/html": [
       "Results from 2 Providers:</br></br>51 Results from the DKISTClient:</br><div><i>DKISTQueryResponseTable length=51</i>\n",
       "<table id=\"table140152233817808\" class=\"table-striped table-bordered table-condensed\">\n",
       "<thead><tr><th>Start Time</th><th>End Time</th><th>Instrument</th><th>Wavelength</th><th>Bounding Box</th><th>Dataset ID</th><th>Dataset Size</th><th>Exposure Time</th><th>Primary Experiment ID</th><th>Primary Proposal ID</th><th>Stokes Parameters</th><th>Target Types</th><th>Number of Frames</th><th>Average Fried Parameter</th><th>Embargoed</th><th>Downloadable</th><th>Has Spectral Axis</th><th>Has Temporal Axis</th><th>Average Spectral Sampling</th><th>Average Spatial Sampling</th><th>Average Temporal Sampling</th></tr></thead>\n",
       "<thead><tr><th></th><th></th><th></th><th>nm</th><th></th><th></th><th>Gibyte</th><th>s</th><th></th><th></th><th></th><th></th><th></th><th></th><th></th><th></th><th></th><th></th><th>nm</th><th>arcsec</th><th>s</th></tr></thead>\n",
       "<thead><tr><th>Time</th><th>Time</th><th>str3</th><th>float64[2]</th><th>str35</th><th>str5</th><th>float64</th><th>float64</th><th>str9</th><th>str9</th><th>str1</th><th>str7[1]</th><th>int64</th><th>float64</th><th>bool</th><th>bool</th><th>bool</th><th>bool</th><th>float64</th><th>float64</th><th>float64</th></tr></thead>\n",
       "<tr><td>2022-06-02T17:22:50.176</td><td>2022-06-02T17:47:30.856</td><td>VBI</td><td>486.0 .. 486.0</td><td>(-560.88,-346.83),(-677.78,-466.44)</td><td>BLKGA</td><td>2.0</td><td>5.009</td><td>eid_1_118</td><td>pid_1_118</td><td>I</td><td>unknown</td><td>171</td><td>0.08814365069897488</td><td>False</td><td>True</td><td>False</td><td>True</td><td>nan</td><td>0.01099999994039536</td><td>82.26000000000653</td></tr>\n",
       "<tr><td>2022-06-02T17:21:55.346</td><td>2022-06-02T17:47:58.286</td><td>VBI</td><td>393.0 .. 393.0</td><td>(-560.88,-346.83),(-677.79,-466.44)</td><td>BJLKB</td><td>2.0</td><td>25.007</td><td>eid_1_118</td><td>pid_1_118</td><td>I</td><td>unknown</td><td>180</td><td>0.09129593540153651</td><td>False</td><td>True</td><td>False</td><td>True</td><td>nan</td><td>0.01099999994039536</td><td>82.26000000000653</td></tr>\n",
       "<tr><td>2022-06-02T17:22:22.754</td><td>2022-06-02T17:48:25.694</td><td>VBI</td><td>430.0 .. 430.0</td><td>(-560.88,-346.83),(-677.78,-466.44)</td><td>BKJYA</td><td>2.0</td><td>1.005</td><td>eid_1_118</td><td>pid_1_118</td><td>I</td><td>unknown</td><td>180</td><td>0.09618521236484806</td><td>False</td><td>True</td><td>False</td><td>True</td><td>nan</td><td>0.01099999994039536</td><td>82.25999999999694</td></tr>\n",
       "<tr><td>...</td><td>...</td><td>...</td><td>...</td><td>...</td><td>...</td><td>...</td><td>...</td><td>...</td><td>...</td><td>...</td><td>...</td><td>...</td><td>...</td><td>...</td><td>...</td><td>...</td><td>...</td><td>...</td><td>...</td><td>...</td></tr>\n",
       "<tr><td>2022-06-03T17:09:55.346</td><td>2022-06-03T17:35:58.285</td><td>VBI</td><td>393.0 .. 393.0</td><td>(-351.85,-375.79),(-468.81,-495.48)</td><td>BDOVA</td><td>2.0</td><td>25.007</td><td>eid_1_118</td><td>pid_1_118</td><td>I</td><td>unknown</td><td>180</td><td>0.11833839105343869</td><td>False</td><td>True</td><td>False</td><td>True</td><td>nan</td><td>0.01099999994039536</td><td>82.25999899999685</td></tr>\n",
       "<tr><td>2022-06-03T17:10:22.753</td><td>2022-06-03T17:36:25.693</td><td>VBI</td><td>430.0 .. 430.0</td><td>(-351.85,-375.79),(-468.81,-495.48)</td><td>BEQYB</td><td>2.0</td><td>0.6970000000000001</td><td>eid_1_118</td><td>pid_1_118</td><td>I</td><td>unknown</td><td>180</td><td>0.12242215601100881</td><td>False</td><td>True</td><td>False</td><td>True</td><td>nan</td><td>0.01099999994039536</td><td>82.25999999999694</td></tr>\n",
       "<tr><td>2022-06-03T17:10:50.175</td><td>2022-06-03T17:35:30.855</td><td>VBI</td><td>486.0 .. 486.0</td><td>(-351.85,-375.79),(-468.82,-495.48)</td><td>AGXWB</td><td>2.0</td><td>3.997000000000001</td><td>eid_1_118</td><td>pid_1_118</td><td>I</td><td>unknown</td><td>171</td><td>0.12313722407803035</td><td>False</td><td>True</td><td>False</td><td>True</td><td>nan</td><td>0.01099999994039536</td><td>82.25999899998726</td></tr>\n",
       "</table></div></br>40 Results from the DKISTClient:</br><div><i>DKISTQueryResponseTable length=40</i>\n",
       "<table id=\"table140152233011536\" class=\"table-striped table-bordered table-condensed\">\n",
       "<thead><tr><th>Start Time</th><th>End Time</th><th>Instrument</th><th>Wavelength</th><th>Bounding Box</th><th>Dataset ID</th><th>Dataset Size</th><th>Exposure Time</th><th>Primary Experiment ID</th><th>Primary Proposal ID</th><th>Stokes Parameters</th><th>Target Types</th><th>Number of Frames</th><th>Average Fried Parameter</th><th>Embargoed</th><th>Downloadable</th><th>Has Spectral Axis</th><th>Has Temporal Axis</th><th>Average Spectral Sampling</th><th>Average Spatial Sampling</th><th>Average Temporal Sampling</th></tr></thead>\n",
       "<thead><tr><th></th><th></th><th></th><th>nm</th><th></th><th></th><th>Gibyte</th><th>s</th><th></th><th></th><th></th><th></th><th></th><th></th><th></th><th></th><th></th><th></th><th>nm</th><th>arcsec</th><th>s</th></tr></thead>\n",
       "<thead><tr><th>Time</th><th>Time</th><th>str4</th><th>float64[2]</th><th>str36</th><th>str5</th><th>float64</th><th>float64</th><th>str9</th><th>str9</th><th>str4</th><th>str7[1]</th><th>int64</th><th>float64</th><th>bool</th><th>bool</th><th>bool</th><th>bool</th><th>float64</th><th>float64</th><th>float64</th></tr></thead>\n",
       "<tr><td>2022-06-02T17:50:42.635</td><td>2022-06-02T18:17:30.676</td><td>VISP</td><td>630.239209907831 .. 634.3897538640359</td><td>(-405.09,6.36),(-469.14,-124.96)</td><td>BDWQK</td><td>4.0</td><td>48.00811267605634</td><td>eid_1_118</td><td>pid_1_118</td><td>IQUV</td><td>unknown</td><td>1960</td><td>0.09144699104186786</td><td>False</td><td>True</td><td>True</td><td>True</td><td>0.00162511509639976</td><td>0.2134568481952311</td><td>804.0204285714267</td></tr>\n",
       "<tr><td>2022-06-02T17:21:59.648</td><td>2022-06-02T17:48:47.688</td><td>VISP</td><td>630.2392098893586 .. 634.3897538455635</td><td>(-405.09,37.71),(-469.15,-93.61)</td><td>AYDEW</td><td>4.0</td><td>48.00811267605634</td><td>eid_1_118</td><td>pid_1_118</td><td>IQUV</td><td>unknown</td><td>1960</td><td>0.09165082528563988</td><td>False</td><td>True</td><td>True</td><td>True</td><td>0.00162511509639976</td><td>0.2134568481952311</td><td>804.0201081632624</td></tr>\n",
       "<tr><td>2022-06-03T19:05:12.653</td><td>2022-06-03T19:32:00.693</td><td>VISP</td><td>630.2392099315987 .. 634.3897538878036</td><td>(-434.09,4.01),(-496.89,-127.31)</td><td>BLGOX</td><td>4.0</td><td>48.00811267605634</td><td>eid_1_118</td><td>pid_1_118</td><td>IQUV</td><td>unknown</td><td>1960</td><td>0.11345711420611478</td><td>False</td><td>True</td><td>True</td><td>True</td><td>0.00162511509639976</td><td>0.2134568481952311</td><td>804.0203408163262</td></tr>\n",
       "<tr><td>...</td><td>...</td><td>...</td><td>...</td><td>...</td><td>...</td><td>...</td><td>...</td><td>...</td><td>...</td><td>...</td><td>...</td><td>...</td><td>...</td><td>...</td><td>...</td><td>...</td><td>...</td><td>...</td><td>...</td><td>...</td></tr>\n",
       "<tr><td>2022-06-03T17:38:57.655</td><td>2022-06-03T18:05:45.695</td><td>VISP</td><td>854.248985847081 .. 856.7855075464167</td><td>(-379.32,97931.48),(-435.8,1727.87)</td><td>AVORO</td><td>4.0</td><td>48.00811267605634</td><td>eid_1_118</td><td>pid_1_118</td><td>IQUV</td><td>unknown</td><td>1960</td><td>0.14324949289555358</td><td>False</td><td>True</td><td>True</td><td>True</td><td>0.000999811469978602</td><td>0.2134568481952311</td><td>804.0201897959191</td></tr>\n",
       "<tr><td>2022-06-02T18:50:16.655</td><td>2022-06-02T19:17:04.695</td><td>VISP</td><td>854.248985835402 .. 856.7855075347377</td><td>(-408.32,97828.51),(-462.36,1624.88)</td><td>ALGJX</td><td>4.0</td><td>48.00811267605634</td><td>eid_1_118</td><td>pid_1_118</td><td>IQUV</td><td>unknown</td><td>1960</td><td>0.08793694602367085</td><td>False</td><td>True</td><td>True</td><td>True</td><td>0.000999811469978602</td><td>0.2134568481952311</td><td>804.0203285714256</td></tr>\n",
       "<tr><td>2022-10-24T18:57:45.634</td><td>2022-10-24T19:33:26.865</td><td>VISP</td><td>630.2424776472172 .. 631.826964866207</td><td>(233.36,-368.87),(212.1,-503.97)</td><td>BKEWK</td><td>5.0</td><td>48.00811267605634</td><td>eid_1_123</td><td>pid_1_123</td><td>IQUV</td><td>unknown</td><td>2752</td><td>0.11445240041497136</td><td>False</td><td>True</td><td>True</td><td>True</td><td>0.00162511509639976</td><td>0.04160701928854328</td><td>1070.6156795058157</td></tr>\n",
       "</table></div></br>"
      ],
      "text/plain": [
       "<sunpy.net.fido_factory.UnifiedResponse object at 0x7f77bca4b6d0>\n",
       "Results from 2 Providers:\n",
       "\n",
       "51 Results from the DKISTClient:\n",
       "\n",
       "       Start Time               End Time        Instrument   Wavelength   ... Has Temporal Axis Average Spectral Sampling Average Spatial Sampling Average Temporal Sampling\n",
       "                                                                 nm       ...                               nm                     arcsec                      s            \n",
       "----------------------- ----------------------- ---------- -------------- ... ----------------- ------------------------- ------------------------ -------------------------\n",
       "2022-06-02T17:22:50.176 2022-06-02T17:47:30.856        VBI 486.0 .. 486.0 ...              True                       nan      0.01099999994039536         82.26000000000653\n",
       "2022-06-02T17:21:55.346 2022-06-02T17:47:58.286        VBI 393.0 .. 393.0 ...              True                       nan      0.01099999994039536         82.26000000000653\n",
       "2022-06-02T17:22:22.754 2022-06-02T17:48:25.694        VBI 430.0 .. 430.0 ...              True                       nan      0.01099999994039536         82.25999999999694\n",
       "                    ...                     ...        ...            ... ...               ...                       ...                      ...                       ...\n",
       "2022-06-03T17:38:57.346 2022-06-03T18:05:00.286        VBI 393.0 .. 393.0 ...              True                       nan      0.01099999994039536         82.26000000000653\n",
       "2022-06-03T17:09:55.346 2022-06-03T17:35:58.285        VBI 393.0 .. 393.0 ...              True                       nan      0.01099999994039536         82.25999899999685\n",
       "2022-06-03T17:10:22.753 2022-06-03T17:36:25.693        VBI 430.0 .. 430.0 ...              True                       nan      0.01099999994039536         82.25999999999694\n",
       "2022-06-03T17:10:50.175 2022-06-03T17:35:30.855        VBI 486.0 .. 486.0 ...              True                       nan      0.01099999994039536         82.25999899998726\n",
       "Length = 51 rows\n",
       "\n",
       "40 Results from the DKISTClient:\n",
       "\n",
       "       Start Time               End Time        Instrument               Wavelength               ... Average Spectral Sampling Average Spatial Sampling Average Temporal Sampling\n",
       "                                                                             nm                   ...             nm                     arcsec                      s            \n",
       "----------------------- ----------------------- ---------- -------------------------------------- ... ------------------------- ------------------------ -------------------------\n",
       "2022-06-02T17:50:42.635 2022-06-02T18:17:30.676       VISP  630.239209907831 .. 634.3897538640359 ...       0.00162511509639976       0.2134568481952311         804.0204285714267\n",
       "2022-06-02T17:21:59.648 2022-06-02T17:48:47.688       VISP 630.2392098893586 .. 634.3897538455635 ...       0.00162511509639976       0.2134568481952311         804.0201081632624\n",
       "2022-06-03T19:05:12.653 2022-06-03T19:32:00.693       VISP 630.2392099315987 .. 634.3897538878036 ...       0.00162511509639976       0.2134568481952311         804.0203408163262\n",
       "                    ...                     ...        ...                                    ... ...                       ...                      ...                       ...\n",
       "2022-06-03T19:05:12.653 2022-06-03T19:32:00.693       VISP  854.2489858489882 .. 856.785507548324 ...      0.000999811469978602       0.2134568481952311         804.0203408163262\n",
       "2022-06-03T17:38:57.655 2022-06-03T18:05:45.695       VISP  854.248985847081 .. 856.7855075464167 ...      0.000999811469978602       0.2134568481952311         804.0201897959191\n",
       "2022-06-02T18:50:16.655 2022-06-02T19:17:04.695       VISP  854.248985835402 .. 856.7855075347377 ...      0.000999811469978602       0.2134568481952311         804.0203285714256\n",
       "2022-10-24T18:57:45.634 2022-10-24T19:33:26.865       VISP  630.2424776472172 .. 631.826964866207 ...       0.00162511509639976      0.04160701928854328        1070.6156795058157\n",
       "Length = 40 rows\n"
      ]
     },
     "execution_count": 19,
     "metadata": {},
     "output_type": "execute_result"
    }
   ],
   "source": [
    "res[\"dkist\"]"
   ]
  },
  {
   "cell_type": "markdown",
   "id": "0b18ca7a",
   "metadata": {},
   "source": [
    "This object is similar to a list of tables, where each response can also be selected by the first index:"
   ]
  },
  {
   "cell_type": "code",
   "execution_count": 23,
   "id": "a9c4c9bb",
   "metadata": {
    "scrolled": true,
    "tags": [
     "output_scroll"
    ]
   },
   "outputs": [
    {
     "data": {
      "text/html": [
       "<div><i>DKISTQueryResponseTable length=51</i>\n",
       "<table id=\"table140152233909584\" class=\"table-striped table-bordered table-condensed\">\n",
       "<thead><tr><th>Start Time</th><th>End Time</th><th>Instrument</th><th>Wavelength</th><th>Bounding Box</th><th>Dataset ID</th><th>Dataset Size</th><th>Exposure Time</th><th>Primary Experiment ID</th><th>Primary Proposal ID</th><th>Stokes Parameters</th><th>Target Types</th><th>Number of Frames</th><th>Average Fried Parameter</th><th>Embargoed</th><th>Downloadable</th><th>Has Spectral Axis</th><th>Has Temporal Axis</th><th>Average Spectral Sampling</th><th>Average Spatial Sampling</th><th>Average Temporal Sampling</th></tr></thead>\n",
       "<thead><tr><th></th><th></th><th></th><th>nm</th><th></th><th></th><th>Gibyte</th><th>s</th><th></th><th></th><th></th><th></th><th></th><th></th><th></th><th></th><th></th><th></th><th>nm</th><th>arcsec</th><th>s</th></tr></thead>\n",
       "<thead><tr><th>Time</th><th>Time</th><th>str3</th><th>float64[2]</th><th>str35</th><th>str5</th><th>float64</th><th>float64</th><th>str9</th><th>str9</th><th>str1</th><th>str7[1]</th><th>int64</th><th>float64</th><th>bool</th><th>bool</th><th>bool</th><th>bool</th><th>float64</th><th>float64</th><th>float64</th></tr></thead>\n",
       "<tr><td>2022-06-02T17:22:50.176</td><td>2022-06-02T17:47:30.856</td><td>VBI</td><td>486.0 .. 486.0</td><td>(-560.88,-346.83),(-677.78,-466.44)</td><td>BLKGA</td><td>2.0</td><td>5.009</td><td>eid_1_118</td><td>pid_1_118</td><td>I</td><td>unknown</td><td>171</td><td>0.08814365069897488</td><td>False</td><td>True</td><td>False</td><td>True</td><td>nan</td><td>0.01099999994039536</td><td>82.26000000000653</td></tr>\n",
       "<tr><td>2022-06-02T17:21:55.346</td><td>2022-06-02T17:47:58.286</td><td>VBI</td><td>393.0 .. 393.0</td><td>(-560.88,-346.83),(-677.79,-466.44)</td><td>BJLKB</td><td>2.0</td><td>25.007</td><td>eid_1_118</td><td>pid_1_118</td><td>I</td><td>unknown</td><td>180</td><td>0.09129593540153651</td><td>False</td><td>True</td><td>False</td><td>True</td><td>nan</td><td>0.01099999994039536</td><td>82.26000000000653</td></tr>\n",
       "<tr><td>2022-06-02T17:22:22.754</td><td>2022-06-02T17:48:25.694</td><td>VBI</td><td>430.0 .. 430.0</td><td>(-560.88,-346.83),(-677.78,-466.44)</td><td>BKJYA</td><td>2.0</td><td>1.005</td><td>eid_1_118</td><td>pid_1_118</td><td>I</td><td>unknown</td><td>180</td><td>0.09618521236484806</td><td>False</td><td>True</td><td>False</td><td>True</td><td>nan</td><td>0.01099999994039536</td><td>82.25999999999694</td></tr>\n",
       "<tr><td>...</td><td>...</td><td>...</td><td>...</td><td>...</td><td>...</td><td>...</td><td>...</td><td>...</td><td>...</td><td>...</td><td>...</td><td>...</td><td>...</td><td>...</td><td>...</td><td>...</td><td>...</td><td>...</td><td>...</td><td>...</td></tr>\n",
       "<tr><td>2022-06-03T17:09:55.346</td><td>2022-06-03T17:35:58.285</td><td>VBI</td><td>393.0 .. 393.0</td><td>(-351.85,-375.79),(-468.81,-495.48)</td><td>BDOVA</td><td>2.0</td><td>25.007</td><td>eid_1_118</td><td>pid_1_118</td><td>I</td><td>unknown</td><td>180</td><td>0.11833839105343869</td><td>False</td><td>True</td><td>False</td><td>True</td><td>nan</td><td>0.01099999994039536</td><td>82.25999899999685</td></tr>\n",
       "<tr><td>2022-06-03T17:10:22.753</td><td>2022-06-03T17:36:25.693</td><td>VBI</td><td>430.0 .. 430.0</td><td>(-351.85,-375.79),(-468.81,-495.48)</td><td>BEQYB</td><td>2.0</td><td>0.6970000000000001</td><td>eid_1_118</td><td>pid_1_118</td><td>I</td><td>unknown</td><td>180</td><td>0.12242215601100881</td><td>False</td><td>True</td><td>False</td><td>True</td><td>nan</td><td>0.01099999994039536</td><td>82.25999999999694</td></tr>\n",
       "<tr><td>2022-06-03T17:10:50.175</td><td>2022-06-03T17:35:30.855</td><td>VBI</td><td>486.0 .. 486.0</td><td>(-351.85,-375.79),(-468.82,-495.48)</td><td>AGXWB</td><td>2.0</td><td>3.997000000000001</td><td>eid_1_118</td><td>pid_1_118</td><td>I</td><td>unknown</td><td>171</td><td>0.12313722407803035</td><td>False</td><td>True</td><td>False</td><td>True</td><td>nan</td><td>0.01099999994039536</td><td>82.25999899998726</td></tr>\n",
       "</table></div>"
      ],
      "text/plain": [
       "<dkist.net.client.DKISTQueryResponseTable object at 0x7f77bc103010>\n",
       "       Start Time               End Time        Instrument   Wavelength   ... Has Temporal Axis Average Spectral Sampling Average Spatial Sampling Average Temporal Sampling\n",
       "                                                                 nm       ...                               nm                     arcsec                      s            \n",
       "----------------------- ----------------------- ---------- -------------- ... ----------------- ------------------------- ------------------------ -------------------------\n",
       "2022-06-02T17:22:50.176 2022-06-02T17:47:30.856        VBI 486.0 .. 486.0 ...              True                       nan      0.01099999994039536         82.26000000000653\n",
       "2022-06-02T17:21:55.346 2022-06-02T17:47:58.286        VBI 393.0 .. 393.0 ...              True                       nan      0.01099999994039536         82.26000000000653\n",
       "2022-06-02T17:22:22.754 2022-06-02T17:48:25.694        VBI 430.0 .. 430.0 ...              True                       nan      0.01099999994039536         82.25999999999694\n",
       "                    ...                     ...        ...            ... ...               ...                       ...                      ...                       ...\n",
       "2022-06-03T17:38:57.346 2022-06-03T18:05:00.286        VBI 393.0 .. 393.0 ...              True                       nan      0.01099999994039536         82.26000000000653\n",
       "2022-06-03T17:09:55.346 2022-06-03T17:35:58.285        VBI 393.0 .. 393.0 ...              True                       nan      0.01099999994039536         82.25999899999685\n",
       "2022-06-03T17:10:22.753 2022-06-03T17:36:25.693        VBI 430.0 .. 430.0 ...              True                       nan      0.01099999994039536         82.25999999999694\n",
       "2022-06-03T17:10:50.175 2022-06-03T17:35:30.855        VBI 486.0 .. 486.0 ...              True                       nan      0.01099999994039536         82.25999899998726\n",
       "Length = 51 rows"
      ]
     },
     "execution_count": 23,
     "metadata": {},
     "output_type": "execute_result"
    }
   ],
   "source": [
    "vbi = res[0]\n",
    "vbi"
   ]
  },
  {
   "cell_type": "markdown",
   "id": "f7c62d4b",
   "metadata": {},
   "source": [
    "Now we have selected a single set of results from the `UnifiedResponse` object, we can see that we have a `DKISTQueryResponseTable` object:"
   ]
  },
  {
   "cell_type": "code",
   "execution_count": 24,
   "id": "82b94413",
   "metadata": {},
   "outputs": [
    {
     "data": {
      "text/plain": [
       "dkist.net.client.DKISTQueryResponseTable"
      ]
     },
     "execution_count": 24,
     "metadata": {},
     "output_type": "execute_result"
    }
   ],
   "source": [
    "type(vbi)"
   ]
  },
  {
   "cell_type": "markdown",
   "id": "d3a1453f",
   "metadata": {},
   "source": [
    "This is a subclass of {obj}`astropy.table.QTable`, which means we can do operations such as sorting and filtering with this table.\n",
    "\n",
    "We can display only some columns:"
   ]
  },
  {
   "cell_type": "code",
   "execution_count": 25,
   "id": "f683ad96",
   "metadata": {
    "tags": [
     "output_scroll"
    ]
   },
   "outputs": [
    {
     "data": {
      "text/html": [
       "<div><i>DKISTQueryResponseTable length=51</i>\n",
       "<table id=\"table140152246774096\" class=\"table-striped table-bordered table-condensed\">\n",
       "<thead><tr><th>Dataset ID</th><th>Start Time</th><th>Average Fried Parameter</th><th>Embargoed</th></tr></thead>\n",
       "<thead><tr><th>str5</th><th>Time</th><th>float64</th><th>bool</th></tr></thead>\n",
       "<tr><td>BLKGA</td><td>2022-06-02T17:22:50.176</td><td>0.08814365069897488</td><td>False</td></tr>\n",
       "<tr><td>BJLKB</td><td>2022-06-02T17:21:55.346</td><td>0.09129593540153651</td><td>False</td></tr>\n",
       "<tr><td>BKJYA</td><td>2022-06-02T17:22:22.754</td><td>0.09618521236484806</td><td>False</td></tr>\n",
       "<tr><td>...</td><td>...</td><td>...</td><td>...</td></tr>\n",
       "<tr><td>AXDJA</td><td>2022-06-03T17:38:57.346</td><td>0.13728811110119296</td><td>False</td></tr>\n",
       "<tr><td>BDOVA</td><td>2022-06-03T17:09:55.346</td><td>0.11833839105343869</td><td>False</td></tr>\n",
       "<tr><td>BEQYB</td><td>2022-06-03T17:10:22.753</td><td>0.12242215601100881</td><td>False</td></tr>\n",
       "<tr><td>AGXWB</td><td>2022-06-03T17:10:50.175</td><td>0.12313722407803035</td><td>False</td></tr>\n",
       "</table></div>"
      ],
      "text/plain": [
       "<dkist.net.client.DKISTQueryResponseTable object at 0x7f77bc1ce890>\n",
       "Dataset ID        Start Time       Average Fried Parameter Embargoed\n",
       "---------- ----------------------- ----------------------- ---------\n",
       "     BLKGA 2022-06-02T17:22:50.176     0.08814365069897488     False\n",
       "     BJLKB 2022-06-02T17:21:55.346     0.09129593540153651     False\n",
       "     BKJYA 2022-06-02T17:22:22.754     0.09618521236484806     False\n",
       "     BMLYA 2022-06-02T17:50:42.346      0.0908683562202799     False\n",
       "       ...                     ...                     ...       ...\n",
       "     AXDJA 2022-06-03T17:38:57.346     0.13728811110119296     False\n",
       "     BDOVA 2022-06-03T17:09:55.346     0.11833839105343869     False\n",
       "     BEQYB 2022-06-03T17:10:22.753     0.12242215601100881     False\n",
       "     AGXWB 2022-06-03T17:10:50.175     0.12313722407803035     False\n",
       "Length = 51 rows"
      ]
     },
     "execution_count": 25,
     "metadata": {},
     "output_type": "execute_result"
    }
   ],
   "source": [
    "vbi[\"Dataset ID\", \"Start Time\", \"Average Fried Parameter\", \"Embargoed\"]"
   ]
  },
  {
   "cell_type": "markdown",
   "id": "366d065c",
   "metadata": {},
   "source": [
    "or sort based on a column, and pick the top 5 rows:"
   ]
  },
  {
   "cell_type": "code",
   "execution_count": 30,
   "id": "2205822f",
   "metadata": {
    "scrolled": true
   },
   "outputs": [
    {
     "data": {
      "text/html": [
       "\n",
       "<p>\n",
       "Showing 5 of 51 available results.\n",
       "Use <code>a.dkist.Page(2)</code> to show the second page of results.\n",
       "\n",
       "</p>\n",
       "<div><i>DKISTQueryResponseTable length=5</i>\n",
       "<table id=\"table140152248826832\" class=\"table-striped table-bordered table-condensed\">\n",
       "<thead><tr><th>Dataset ID</th><th>Average Fried Parameter</th></tr></thead>\n",
       "<thead><tr><th>str5</th><th>float64</th></tr></thead>\n",
       "<tr><td>BXZJB</td><td>2.2476176938783308</td></tr>\n",
       "<tr><td>BWZMA</td><td>2.099377954250577</td></tr>\n",
       "<tr><td>AKGYA</td><td>1.7037129381032616</td></tr>\n",
       "<tr><td>AMKYA</td><td>1.6382080477720182</td></tr>\n",
       "<tr><td>BYEPB</td><td>1.4084623247425094</td></tr>\n",
       "</table></div>"
      ],
      "text/plain": [
       "<dkist.net.client.DKISTQueryResponseTable object at 0x7f77bccc7a90>\n",
       "\n",
       "Showing 5 of 51 available results.\n",
       "Use a.dkist.Page(2) to show the second page of results.\n",
       "\n",
       "Dataset ID Average Fried Parameter\n",
       "---------- -----------------------\n",
       "     BXZJB      2.2476176938783308\n",
       "     BWZMA       2.099377954250577\n",
       "     AKGYA      1.7037129381032616\n",
       "     AMKYA      1.6382080477720182\n",
       "     BYEPB      1.4084623247425094"
      ]
     },
     "execution_count": 30,
     "metadata": {},
     "output_type": "execute_result"
    }
   ],
   "source": [
    "vbi.sort(\"Average Fried Parameter\", reverse=True)\n",
    "vbi[:5][\"Dataset ID\", \"Average Fried Parameter\"]"
   ]
  },
  {
   "cell_type": "markdown",
   "id": "ae80fa9c",
   "metadata": {},
   "source": [
    "Once we have selected the rows we are interested in we can move onto downloading the ASDF files.\n",
    "\n",
    "## Downloading Files with `Fido.fetch`\n",
    "\n",
    "```{note}\n",
    "Only the ASDF files, and not the FITS files containing the data can be downloaded with `Fido`.\n",
    "```\n",
    "\n",
    "To download files with `Fido` we pass the search results to `Fido.fetch`.\n",
    "\n",
    "If we want to download the first VBI file we searched for earlier we can do so like this:"
   ]
  },
  {
   "cell_type": "code",
   "execution_count": 37,
   "id": "1c29f54f",
   "metadata": {},
   "outputs": [
    {
     "data": {
      "application/vnd.jupyter.widget-view+json": {
       "model_id": "7986b851f479474fae55ccd74bd1f529",
       "version_major": 2,
       "version_minor": 0
      },
      "text/plain": [
       "Files Downloaded:   0%|          | 0/5 [00:00<?, ?file/s]"
      ]
     },
     "metadata": {},
     "output_type": "display_data"
    },
    {
     "data": {
      "application/vnd.jupyter.widget-view+json": {
       "model_id": "",
       "version_major": 2,
       "version_minor": 0
      },
      "text/plain": [
       "VBI_L1_20220602T201849_AMKYA.asdf:   0%|          | 0.00/1.68M [00:00<?, ?B/s]"
      ]
     },
     "metadata": {},
     "output_type": "display_data"
    },
    {
     "data": {
      "application/vnd.jupyter.widget-view+json": {
       "model_id": "",
       "version_major": 2,
       "version_minor": 0
      },
      "text/plain": [
       "VBI_L1_20220602T201754_AKGYA.asdf:   0%|          | 0.00/1.73M [00:00<?, ?B/s]"
      ]
     },
     "metadata": {},
     "output_type": "display_data"
    },
    {
     "data": {
      "application/vnd.jupyter.widget-view+json": {
       "model_id": "",
       "version_major": 2,
       "version_minor": 0
      },
      "text/plain": [
       "VBI_L1_20220603T203203_BWZMA.asdf:   0%|          | 0.00/1.76M [00:00<?, ?B/s]"
      ]
     },
     "metadata": {},
     "output_type": "display_data"
    },
    {
     "data": {
      "application/vnd.jupyter.widget-view+json": {
       "model_id": "",
       "version_major": 2,
       "version_minor": 0
      },
      "text/plain": [
       "VBI_L1_20220603T203258_BYEPB.asdf:   0%|          | 0.00/1.70M [00:00<?, ?B/s]"
      ]
     },
     "metadata": {},
     "output_type": "display_data"
    },
    {
     "data": {
      "text/plain": [
       "<parfive.results.Results object at 0x7f77bd151b90>\n",
       "['/home/stuart/sunpy/data/VBI_L1_20220603T203230_BXZJB.asdf', '/home/stuart/sunpy/data/VBI_L1_20220603T203203_BWZMA.asdf', '/home/stuart/sunpy/data/VBI_L1_20220602T201754_AKGYA.asdf', '/home/stuart/sunpy/data/VBI_L1_20220602T201849_AMKYA.asdf', '/home/stuart/sunpy/data/VBI_L1_20220603T203258_BYEPB.asdf']"
      ]
     },
     "execution_count": 37,
     "metadata": {},
     "output_type": "execute_result"
    }
   ],
   "source": [
    "Fido.fetch(vbi[:5])"
   ]
  },
  {
   "cell_type": "markdown",
   "id": "f6a2b0a6",
   "metadata": {},
   "source": [
    "This will download the ASDF file to the sunpy default data directory `~/sunpy/data`, we can customise this with the `path=` keyword argument.\n",
    "\n",
    "A simple example of specifying the path is:"
   ]
  },
  {
   "cell_type": "code",
   "execution_count": 39,
   "id": "69643b52",
   "metadata": {
    "tags": [
     "skip-execution"
    ]
   },
   "outputs": [
    {
     "data": {
      "application/vnd.jupyter.widget-view+json": {
       "model_id": "d7bfae5efd4e455d863bdb8ede241519",
       "version_major": 2,
       "version_minor": 0
      },
      "text/plain": [
       "Files Downloaded:   0%|          | 0/1 [00:00<?, ?file/s]"
      ]
     },
     "metadata": {},
     "output_type": "display_data"
    },
    {
     "data": {
      "application/vnd.jupyter.widget-view+json": {
       "model_id": "",
       "version_major": 2,
       "version_minor": 0
      },
      "text/plain": [
       "VBI_L1_20220603T203230_BXZJB.asdf:   0%|          | 0.00/1.76M [00:00<?, ?B/s]"
      ]
     },
     "metadata": {},
     "output_type": "display_data"
    },
    {
     "data": {
      "text/plain": [
       "<parfive.results.Results object at 0x7f77bdc81290>\n",
       "['VBI_L1_20220603T203230_BXZJB.asdf']"
      ]
     },
     "execution_count": 39,
     "metadata": {},
     "output_type": "execute_result"
    }
   ],
   "source": [
    "Fido.fetch(vbi[0], path=\".\")"
   ]
  },
  {
   "cell_type": "markdown",
   "id": "d8d554a5",
   "metadata": {},
   "source": [
    "This will download the ASDF file as `/data/mypath/filename.asdf`.\n",
    "\n",
    "With the nature of DKIST data being a large number of files - FITS + ASDF for a whole dataset - we probably want to keep each dataset in it's own folder.\n",
    "`Fido` makes this easy by allowing you to provide a path template rather than a specific path.\n",
    "To see the list of parameters we can use in these path templates we can run:"
   ]
  },
  {
   "cell_type": "code",
   "execution_count": 40,
   "id": "c8487b7a",
   "metadata": {
    "scrolled": true
   },
   "outputs": [
    {
     "data": {
      "text/plain": [
       "{'asdf_filename',\n",
       " 'average_fried_parameter',\n",
       " 'average_spatial_sampling',\n",
       " 'average_spectral_sampling',\n",
       " 'average_temporal_sampling',\n",
       " 'bounding_box',\n",
       " 'calibration_documentation_url',\n",
       " 'calibration_workflow_name',\n",
       " 'calibration_workflow_version',\n",
       " 'creation_date',\n",
       " 'dataset_id',\n",
       " 'dataset_size',\n",
       " 'downloadable',\n",
       " 'embargoed',\n",
       " 'end_time',\n",
       " 'experiment_description',\n",
       " 'experiment_ids',\n",
       " 'exposure_time',\n",
       " 'full_stokes',\n",
       " 'has_spectral_axis',\n",
       " 'has_temporal_axis',\n",
       " 'hdu_creation_date',\n",
       " 'header_documentation_url',\n",
       " 'header_specification_version',\n",
       " 'info_url',\n",
       " 'input_dataset_observe_frames_part_id',\n",
       " 'input_dataset_parameters_part_id',\n",
       " 'instrument',\n",
       " 'instrument_program_execution_id',\n",
       " 'last_updated',\n",
       " 'level_0_frame_count',\n",
       " 'movie_filename',\n",
       " 'number_of_frames',\n",
       " 'observing_program_execution_id',\n",
       " 'preview_url',\n",
       " 'primary_experiment_id',\n",
       " 'primary_proposal_id',\n",
       " 'proposal_ids',\n",
       " 'quality_report_filename',\n",
       " 'recipe_id',\n",
       " 'recipe_instance_id',\n",
       " 'recipe_run_id',\n",
       " 'start_time',\n",
       " 'stokes_parameters',\n",
       " 'storage_bucket',\n",
       " 'summit_software_version',\n",
       " 'target_types',\n",
       " 'wavelength'}"
      ]
     },
     "execution_count": 40,
     "metadata": {},
     "output_type": "execute_result"
    }
   ],
   "source": [
    "vbi.path_format_keys()"
   ]
  },
  {
   "cell_type": "markdown",
   "id": "93a2d407",
   "metadata": {},
   "source": [
    "So if we want to put each of our ASDF files in a directory named with the Dataset ID and Instrument we can do:"
   ]
  },
  {
   "cell_type": "code",
   "execution_count": 46,
   "id": "b3c265f0",
   "metadata": {},
   "outputs": [
    {
     "data": {
      "application/vnd.jupyter.widget-view+json": {
       "model_id": "ed09671034eb47b28eaae813515c6b8f",
       "version_major": 2,
       "version_minor": 0
      },
      "text/plain": [
       "Files Downloaded:   0%|          | 0/5 [00:00<?, ?file/s]"
      ]
     },
     "metadata": {},
     "output_type": "display_data"
    },
    {
     "data": {
      "application/vnd.jupyter.widget-view+json": {
       "model_id": "",
       "version_major": 2,
       "version_minor": 0
      },
      "text/plain": [
       "VBI_L1_20220602T201754_AKGYA.asdf:   0%|          | 0.00/1.73M [00:00<?, ?B/s]"
      ]
     },
     "metadata": {},
     "output_type": "display_data"
    },
    {
     "data": {
      "application/vnd.jupyter.widget-view+json": {
       "model_id": "",
       "version_major": 2,
       "version_minor": 0
      },
      "text/plain": [
       "VBI_L1_20220602T201849_AMKYA.asdf:   0%|          | 0.00/1.68M [00:00<?, ?B/s]"
      ]
     },
     "metadata": {},
     "output_type": "display_data"
    },
    {
     "data": {
      "application/vnd.jupyter.widget-view+json": {
       "model_id": "",
       "version_major": 2,
       "version_minor": 0
      },
      "text/plain": [
       "VBI_L1_20220603T203203_BWZMA.asdf:   0%|          | 0.00/1.76M [00:00<?, ?B/s]"
      ]
     },
     "metadata": {},
     "output_type": "display_data"
    },
    {
     "data": {
      "application/vnd.jupyter.widget-view+json": {
       "model_id": "",
       "version_major": 2,
       "version_minor": 0
      },
      "text/plain": [
       "VBI_L1_20220603T203230_BXZJB.asdf:   0%|          | 0.00/1.76M [00:00<?, ?B/s]"
      ]
     },
     "metadata": {},
     "output_type": "display_data"
    },
    {
     "data": {
      "application/vnd.jupyter.widget-view+json": {
       "model_id": "",
       "version_major": 2,
       "version_minor": 0
      },
      "text/plain": [
       "VBI_L1_20220603T203258_BYEPB.asdf:   0%|          | 0.00/1.70M [00:00<?, ?B/s]"
      ]
     },
     "metadata": {},
     "output_type": "display_data"
    },
    {
     "data": {
      "text/plain": [
       "<parfive.results.Results object at 0x7f77b44b7e10>\n",
       "['/home/stuart/sunpy/data/VBI/BXZJB/VBI_L1_20220603T203230_BXZJB.asdf', '/home/stuart/sunpy/data/VBI/BWZMA/VBI_L1_20220603T203203_BWZMA.asdf', '/home/stuart/sunpy/data/VBI/AKGYA/VBI_L1_20220602T201754_AKGYA.asdf', '/home/stuart/sunpy/data/VBI/AMKYA/VBI_L1_20220602T201849_AMKYA.asdf', '/home/stuart/sunpy/data/VBI/BYEPB/VBI_L1_20220603T203258_BYEPB.asdf']"
      ]
     },
     "execution_count": 46,
     "metadata": {},
     "output_type": "execute_result"
    }
   ],
   "source": [
    "Fido.fetch(vbi[:5], path=\"~/sunpy/data/{instrument}/{dataset_id}\", overwrite=True)"
   ]
  },
  {
   "cell_type": "code",
   "execution_count": 50,
   "id": "bebf24a5",
   "metadata": {},
   "outputs": [
    {
     "data": {
      "text/plain": [
       "['Start Time',\n",
       " 'End Time',\n",
       " 'Instrument',\n",
       " 'Wavelength',\n",
       " 'Bounding Box',\n",
       " 'Movie Filename',\n",
       " 'Storage Bucket',\n",
       " 'Dataset ID',\n",
       " 'Dataset Size',\n",
       " 'Experiment IDs',\n",
       " 'Exposure Time',\n",
       " 'Level 0 Frame count',\n",
       " 'Primary Experiment ID',\n",
       " 'Primary Proposal ID',\n",
       " 'Proposal IDs',\n",
       " 'Recipe Instance ID',\n",
       " 'Recipe Run ID',\n",
       " 'Recipe ID',\n",
       " 'Full Stokes',\n",
       " 'Stokes Parameters',\n",
       " 'Target Types',\n",
       " 'Creation Date',\n",
       " 'Number of Frames',\n",
       " 'Average Fried Parameter',\n",
       " 'asdf Filename',\n",
       " 'Experiment Description',\n",
       " 'Embargoed',\n",
       " 'Last Updated',\n",
       " 'Preview URL',\n",
       " 'Downloadable',\n",
       " 'Has Spectral Axis',\n",
       " 'Has Temporal Axis',\n",
       " 'Average Spectral Sampling',\n",
       " 'Average Spatial Sampling',\n",
       " 'Average Temporal Sampling',\n",
       " 'Quality Report Filename',\n",
       " 'Input Dataset Parameters Part ID',\n",
       " 'Input Dataset Observe Frames Part ID',\n",
       " 'Summit Software Version',\n",
       " 'Calibration Workflow Name',\n",
       " 'Calibration Workflow Version',\n",
       " 'HDU Creation Date',\n",
       " 'Observing Program Execution ID',\n",
       " 'Instrument Program Execution ID',\n",
       " 'Header Specification Version',\n",
       " 'Header Documentation URL',\n",
       " 'Info URL',\n",
       " 'Calibration Documentation URL']"
      ]
     },
     "execution_count": 50,
     "metadata": {},
     "output_type": "execute_result"
    }
   ],
   "source": [
    "vbi.colnames"
   ]
  },
  {
   "cell_type": "code",
   "execution_count": 51,
   "id": "b9bd6249",
   "metadata": {},
   "outputs": [
    {
     "data": {
      "text/html": [
       "&lt;QueryResponseColumn name=&apos;Input Dataset Observe Frames Part ID&apos; dtype=&apos;int64&apos; length=51&gt;\n",
       "<table>\n",
       "<tr><td>252</td></tr>\n",
       "<tr><td>251</td></tr>\n",
       "<tr><td>242</td></tr>\n",
       "<tr><td>244</td></tr>\n",
       "<tr><td>253</td></tr>\n",
       "<tr><td>246</td></tr>\n",
       "<tr><td>...</td></tr>\n",
       "<tr><td>231</td></tr>\n",
       "<tr><td>232</td></tr>\n",
       "<tr><td>250</td></tr>\n",
       "<tr><td>249</td></tr>\n",
       "<tr><td>248</td></tr>\n",
       "</table>"
      ],
      "text/plain": [
       "<QueryResponseColumn name='Input Dataset Observe Frames Part ID' dtype='int64' length=51>\n",
       "252\n",
       "251\n",
       "242\n",
       "244\n",
       "253\n",
       "246\n",
       "...\n",
       "231\n",
       "232\n",
       "250\n",
       "249\n",
       "248"
      ]
     },
     "execution_count": 51,
     "metadata": {},
     "output_type": "execute_result"
    }
   ],
   "source": [
    "vbi['Input Dataset Observe Frames Part ID']"
   ]
  },
  {
   "cell_type": "code",
   "execution_count": null,
   "id": "e0885367",
   "metadata": {},
   "outputs": [],
   "source": []
  },
  {
   "cell_type": "code",
   "execution_count": null,
   "id": "64b2f80a",
   "metadata": {},
   "outputs": [],
   "source": []
  },
  {
   "cell_type": "code",
   "execution_count": null,
   "id": "c3c3d6db",
   "metadata": {},
   "outputs": [],
   "source": []
  }
 ],
 "metadata": {
  "kernelspec": {
   "display_name": "Python 3 (ipykernel)",
   "language": "python",
   "name": "python3"
  },
  "language_info": {
   "codemirror_mode": {
    "name": "ipython",
    "version": 3
   },
   "file_extension": ".py",
   "mimetype": "text/x-python",
   "name": "python",
   "nbconvert_exporter": "python",
   "pygments_lexer": "ipython3",
   "version": "3.11.3"
  }
 },
 "nbformat": 4,
 "nbformat_minor": 5
}
