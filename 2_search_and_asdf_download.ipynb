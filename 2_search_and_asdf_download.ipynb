{
 "cells": [
  {
   "cell_type": "markdown",
   "id": "56ffda9a",
   "metadata": {},
   "source": [
    "# Searching for DKIST Datasets\n",
    "\n",
    "In this session we will cover how to search for DKIST datasets available at the DKIST Data Center.\n",
    "In DKIST data parlance, a \"dataset\" is the smallest unit of data that is searchable from the data centre, and represents a single observation from a single instrument at a single pass band.\n",
    "\n",
    "Each dataset comprises a number of different files:\n",
    "  * An ASDF file containing all the metadata, and no data.\n",
    "  * A quality report PDF.\n",
    "  * An mp4 preview movie.\n",
    "  * A (large) number of FITS files, each containing a \"calibrated exposure\".\n",
    "\n",
    "All of these files apart from the FITS files containing the data can be downloaded irrespective of embargo status.\n",
    "\n",
    "For each of these \"datasets\" the DKIST Data Center keeps a \"dataset inventory record\" which is a limited set of metadata about the dataset on which you can search, either through the portal or the `dkist` Python package.\n",
    "The ASDF, quality report and preview movie can all be downloaded without authenticating, the FITS files require the use of Globus.\n",
    "\n",
    "\n",
    "## Using `Fido.search`\n",
    "\n",
    "The search interface we are going to use is {obj}`sunpy.net.Fido`.\n",
    "`Fido` supports many different sources of data, some built into `sunpy` like the VSO and some in plugins like `dkist` or `sunpy-soar`.\n",
    "With `Fido` you can search for DKIST datasets and download their corresponding ASDF files.\n",
    "To register the DKIST search with `Fido` we must also import `dkist.net`."
   ]
  },
  {
   "cell_type": "code",
   "execution_count": null,
   "id": "f697e78a",
   "metadata": {},
   "outputs": [],
   "source": []
  },
  {
   "cell_type": "markdown",
   "id": "10e0ec38",
   "metadata": {},
   "source": [
    "`Fido` searches are built up from \"attrs\", which we imported above as `a`.\n",
    "These attrs are combined together with either logical AND or logical OR operations to make complex queries.\n",
    "Let's start simple and search for all the DKIST datasets which are not embargoed:"
   ]
  },
  {
   "cell_type": "code",
   "execution_count": null,
   "id": "62f57263",
   "metadata": {
    "tags": [
     "output_scroll"
    ]
   },
   "outputs": [],
   "source": []
  },
  {
   "cell_type": "markdown",
   "id": "7043c0ea",
   "metadata": {},
   "source": [
    "Because we only specified one attr, and it was unique to the dkist client (it started with `a.dkist`) only the DKIST client was used.\n",
    "\n",
    "If we only want VBI datasets, that are unembargoed, between a specific time range we can use multiple attrs:"
   ]
  },
  {
   "cell_type": "code",
   "execution_count": null,
   "id": "ba98e7c4",
   "metadata": {},
   "outputs": [],
   "source": []
  },
  {
   "cell_type": "markdown",
   "id": "d53865c2",
   "metadata": {},
   "source": [
    "Note how the `a.Time` and `a.Instrument` attrs are not prefixed with `dkist` - these are general attrs which can be used to search multiple sources of data.\n",
    "\n",
    "So far all returned results have had to match all the attrs provided, because we have used the `&` (logical AND) operator to join them.\n",
    "If we want results that match either one of multiple options we can use the `|` operator."
   ]
  },
  {
   "cell_type": "code",
   "execution_count": null,
   "id": "4ada3cff",
   "metadata": {
    "tags": [
     "output_scroll"
    ]
   },
   "outputs": [],
   "source": []
  },
  {
   "cell_type": "markdown",
   "id": "f0af4404",
   "metadata": {},
   "source": [
    "As you can see this has returned two separate tables, one for VBI and one for VISP.\n",
    "\n",
    "Because `Fido` can search other clients as well as the DKIST you can make a more complex query which will search for VISP data and context images from AIA at the same time:"
   ]
  },
  {
   "cell_type": "code",
   "execution_count": null,
   "id": "91d8e604",
   "metadata": {},
   "outputs": [],
   "source": []
  },
  {
   "cell_type": "markdown",
   "id": "ca8a2a6f",
   "metadata": {},
   "source": [
    "Here we have used a couple of different attrs.\n",
    "`a.Sample` limits the results to one per time window given, and `a.Wavelength` searches for specific wavelengths of data.\n",
    "Also, we passed our attrs as positional arguments to `Fido.search`.\n",
    "This is a little bit of sugar to prevent having to specify a lot of brackets; all arguments have the and (`&`) operator applied to them.\n",
    "\n",
    "## Working with Results Tables\n",
    "\n",
    "A Fido search returns a {obj}`sunpy.net.fido_factory.UnifiedResponse` object, which contains all the search results from all the different clients and requests made to the servers."
   ]
  },
  {
   "cell_type": "code",
   "execution_count": null,
   "id": "f13af986",
   "metadata": {},
   "outputs": [],
   "source": []
  },
  {
   "cell_type": "markdown",
   "id": "8b9eb2d8",
   "metadata": {},
   "source": [
    "The `UnifiedResponse` object provides a couple of different ways to select the results you are interested in.\n",
    "It's possible to select just the results returned by a specific client by name, in this case all the results are from the DKIST client so this changes nothing."
   ]
  },
  {
   "cell_type": "code",
   "execution_count": null,
   "id": "a955a99e",
   "metadata": {
    "tags": [
     "output_scroll"
    ]
   },
   "outputs": [],
   "source": []
  },
  {
   "cell_type": "markdown",
   "id": "99afcb78",
   "metadata": {},
   "source": [
    "This object is similar to a list of tables, where each response can also be selected by the first index:"
   ]
  },
  {
   "cell_type": "code",
   "execution_count": null,
   "id": "997e8b87",
   "metadata": {
    "tags": [
     "output_scroll"
    ]
   },
   "outputs": [],
   "source": []
  },
  {
   "cell_type": "markdown",
   "id": "b5262bea",
   "metadata": {},
   "source": [
    "Now we have selected a single set of results from the `UnifiedResponse` object, we can see that we have a `DKISTQueryResponseTable` object:"
   ]
  },
  {
   "cell_type": "code",
   "execution_count": null,
   "id": "fe4c3a98",
   "metadata": {},
   "outputs": [],
   "source": []
  },
  {
   "cell_type": "markdown",
   "id": "529cc712",
   "metadata": {},
   "source": [
    "This is a subclass of {obj}`astropy.table.QTable`, which means we can do operations such as sorting and filtering with this table.\n",
    "\n",
    "We can display only some columns:"
   ]
  },
  {
   "cell_type": "code",
   "execution_count": null,
   "id": "89404c76",
   "metadata": {
    "tags": [
     "output_scroll"
    ]
   },
   "outputs": [],
   "source": []
  },
  {
   "cell_type": "markdown",
   "id": "4abe3939",
   "metadata": {},
   "source": [
    "or sort based on a column, and pick the top 5 rows:"
   ]
  },
  {
   "cell_type": "code",
   "execution_count": null,
   "id": "794c70ef",
   "metadata": {},
   "outputs": [],
   "source": []
  },
  {
   "cell_type": "markdown",
   "id": "b5c0dd9f",
   "metadata": {},
   "source": [
    "Once we have selected the rows we are interested in we can move onto downloading the ASDF files.\n",
    "\n",
    "## Downloading Files with `Fido.fetch`\n",
    "\n",
    "```{note}\n",
    "Only the ASDF files, and not the FITS files containing the data can be downloaded with `Fido`.\n",
    "```\n",
    "\n",
    "To download files with `Fido` we pass the search results to `Fido.fetch`.\n",
    "\n",
    "If we want to download the first VBI file we searched for earlier we can do so like this:"
   ]
  },
  {
   "cell_type": "code",
   "execution_count": null,
   "id": "da0e18dd",
   "metadata": {},
   "outputs": [],
   "source": []
  },
  {
   "cell_type": "markdown",
   "id": "d2bd8473",
   "metadata": {},
   "source": [
    "This will download the ASDF file to the sunpy default data directory `~/sunpy/data`, we can customise this with the `path=` keyword argument.\n",
    "\n",
    "A simple example of specifying the path is:"
   ]
  },
  {
   "cell_type": "code",
   "execution_count": null,
   "id": "9fdb66c3",
   "metadata": {
    "tags": [
     "skip-execution"
    ]
   },
   "outputs": [],
   "source": []
  },
  {
   "cell_type": "markdown",
   "id": "b6436f31",
   "metadata": {},
   "source": [
    "This will download the ASDF file as `/data/mypath/filename.asdf`.\n",
    "\n",
    "With the nature of DKIST data being a large number of files - FITS + ASDF for a whole dataset - we probably want to keep each dataset in it's own folder.\n",
    "`Fido` makes this easy by allowing you to provide a path template rather than a specific path.\n",
    "To see the list of parameters we can use in these path templates we can run:"
   ]
  },
  {
   "cell_type": "code",
   "execution_count": null,
   "id": "14ae6efd",
   "metadata": {},
   "outputs": [],
   "source": []
  },
  {
   "cell_type": "markdown",
   "id": "44400802",
   "metadata": {},
   "source": [
    "So if we want to put each of our ASDF files in a directory named with the Dataset ID and Instrument we can do:"
   ]
  },
  {
   "cell_type": "code",
   "execution_count": null,
   "id": "2c661abd",
   "metadata": {},
   "outputs": [],
   "source": []
  }
 ],
 "metadata": {
  "kernelspec": {
   "display_name": "Python 3",
   "language": "python",
   "name": "python3"
  }
 },
 "nbformat": 4,
 "nbformat_minor": 5
}
