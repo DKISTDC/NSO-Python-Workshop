{
 "cells": [
  {
   "cell_type": "markdown",
   "id": "a5c5a845",
   "metadata": {},
   "source": [
    "# Visualizing DKIST Data\n",
    "\n",
    "<!--\n",
    "- put data in the plot\n",
    "- animations\n",
    "- single image w/ coord overlay\n",
    "- line plots\n",
    "- plotting (ndcube)\n",
    "-->"
   ]
  }
 ],
 "metadata": {
  "kernelspec": {
   "display_name": "Python 3",
   "language": "python",
   "name": "python3"
  }
 },
 "nbformat": 4,
 "nbformat_minor": 5
}
