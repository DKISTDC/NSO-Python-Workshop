{
 "cells": [
  {
   "cell_type": "markdown",
   "id": "f76b53c9",
   "metadata": {},
   "source": [
    "# Visualizing DKIST Data"
   ]
  }
 ],
 "metadata": {
  "kernelspec": {
   "display_name": "Python 3",
   "language": "python",
   "name": "python3"
  }
 },
 "nbformat": 4,
 "nbformat_minor": 5
}
