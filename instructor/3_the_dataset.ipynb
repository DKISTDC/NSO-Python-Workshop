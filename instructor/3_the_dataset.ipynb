{
 "cells": [
  {
   "cell_type": "markdown",
   "id": "7c2500dc",
   "metadata": {},
   "source": [
    "# The `dkist.Dataset`\n",
    "\n",
    "In DKIST data parlance, a \"dataset\" is the smallest unit of data that is searchable from the data centre, and represents a single self-contained observation [check with Stu for a better short definition here].\n",
    "The user tools represent this unit of data with the `Dataset` class.\n",
    "Within this class the data are stored as many FITS files, each containing a single frame of the observation, and an ASDF file describing how the frames relate to each other.\n",
    "For VTF data, for example, one FITS file would contain a single narrowband image in one Stokes profile at a single time.\n",
    "Since there will be very many of these files, each with their own FITS header, manually tracking and inspecting them would be unmanageable.\n",
    "The `Dataset` class combines these many files into one object, allowing you to inspect the properties and combined headers of the whole dataset.\n",
    "\n",
    "There are a few ways to construct a `Dataset` object.\n",
    "For the first we will need the ASDF file for the dataset, which we can get using `Fido` as we saw yesterday."
   ]
  },
  {
   "cell_type": "code",
   "execution_count": null,
   "id": "8215d09d",
   "metadata": {},
   "outputs": [],
   "source": [
    "# Imports\n",
    "import dkist\n",
    "import dkist.net\n",
    "from sunpy.net import Fido, attrs as a"
   ]
  },
  {
   "cell_type": "code",
   "execution_count": null,
   "id": "97d9c7be",
   "metadata": {},
   "outputs": [],
   "source": [
    "# Create DKIST Fido client instance\n",
    "res = Fido.search(a.dkist.Dataset('BEOGN'))\n",
    "\n",
    "res"
   ]
  },
  {
   "cell_type": "code",
   "execution_count": null,
   "id": "efe5edd4",
   "metadata": {},
   "outputs": [],
   "source": [
    "files = Fido.fetch(res)\n",
    "files"
   ]
  },
  {
   "cell_type": "markdown",
   "id": "0f08a900",
   "metadata": {},
   "source": [
    "Notice that the file we have downloaded is a single ASDF file, **not** the whole dataset.\n",
    "We can use this file to construct the `Dataset`:"
   ]
  },
  {
   "cell_type": "code",
   "execution_count": null,
   "id": "09227119",
   "metadata": {},
   "outputs": [],
   "source": [
    "ds = dkist.Dataset.from_asdf(files[0])"
   ]
  },
  {
   "cell_type": "markdown",
   "id": "76ce0451",
   "metadata": {},
   "source": [
    "Now we have a `Dataset` object which describes the shape, size and physical dimensions of the array, but doesn't yet contain any of the actual data.\n",
    "This may sound unhelpful but we'll see how it can be very powerful.\n",
    "\n",
    "First let's have a look at the basic representation of the `Dataset`."
   ]
  },
  {
   "cell_type": "code",
   "execution_count": null,
   "id": "2e42d114",
   "metadata": {},
   "outputs": [],
   "source": [
    "ds"
   ]
  },
  {
   "cell_type": "markdown",
   "id": "61bc1ff1",
   "metadata": {},
   "source": [
    "This tells us that we have a 4-dimensional data cube and what values the axes correspond to.\n",
    "Importantly, it not only gives us information about the *pixel* axes (the actual dimensions of the array itself), but also the *world* axes (the physical quantities related to the observation).\n",
    "It also gives us a correlation matrix showing how the pixel axes relate to the world axes.\n",
    "\n",
    "## NDCube and array vs pixel vs world\n",
    "\n",
    "**Pixel is fortran order, array is C order. So pixel_to_world takes coordinates in fortran order but array_to_world doesn't.**\n",
    "\n",
    "An important and useful aspect of the `Dataset` is that it is coordinate aware.\n",
    "That is, it is able to map between array indices and physical dimensions.\n",
    "This means that you can easily convert from a position in the array to a location defined by physical coordinates.\n",
    "\n",
    "For this mapping we have three related concepts: _array_ axes, _pixel_ axes and _world_ axes.\n",
    "Array axes are simply the indices of the array.\n",
    "Pixel axes are the same but in Fortran order, as this is how axes are specified in FITS headers.\n",
    "World axes are the physical dimensions of the data.\n",
    "\n",
    "To track these axes and convert between them, the `Dataset` has a `wcs` attribute (World Coordinate System)."
   ]
  },
  {
   "cell_type": "code",
   "execution_count": null,
   "id": "d3c2b7f8",
   "metadata": {},
   "outputs": [],
   "source": [
    "# Convert array indices to world (physical) coordinates\n",
    "ds.wcs.array_index_to_world(0, 10, 20, 30)"
   ]
  },
  {
   "cell_type": "code",
   "execution_count": null,
   "id": "a7e23c8c",
   "metadata": {},
   "outputs": [],
   "source": [
    "# Convert pixel coords to world coords\n",
    "# Notice reversed order compared to array indices\n",
    "ds.wcs.pixel_to_world(30, 20, 10, 0)"
   ]
  },
  {
   "cell_type": "markdown",
   "id": "5511ba10",
   "metadata": {},
   "source": [
    "***Put an example or more detail here***\n",
    "\n",
    "\n",
    "\n",
    "### Something?\n",
    "\n",
    "Finally the correlation matrix tells us which pixel axes correspond to which world axes.\n",
    "In this case the first three pixel axes align exactly with three of the world axes.\n",
    "However, the slit axis maps to both longitude *and* latitude, since the slit is unlikely to be aligned to either one."
   ]
  }
 ],
 "metadata": {
  "kernelspec": {
   "display_name": "Python 3",
   "language": "python",
   "name": "python3"
  }
 },
 "nbformat": 4,
 "nbformat_minor": 5
}
