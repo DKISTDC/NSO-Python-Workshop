{
 "cells": [
  {
   "cell_type": "markdown",
   "id": "30ddac29",
   "metadata": {},
   "source": [
    "# The `Dataset` Class\n",
    "\n",
    "As previously discussed we know that a \"DKIST dataset\" is comprised of many files, including an ASDF and many FITS files.\n",
    "The user tools represent all these files with the {obj}`dkist.Dataset` class.\n",
    "\n",
    "A `Dataset` class is constructed from the ASDF file for that dataset.\n",
    "This ASDF file contains the following information:\n",
    "* A table containing all the headers from all FITS files that comprise the dataset.\n",
    "* A copy of the Data Center's inventory record for the dataset.\n",
    "* A `gwcs` object which provides coordinate information for the whole dataset.\n",
    "* A list of all the component FITS files and the required order to combine them into a single array.\n",
    "\n",
    "If a `Dataset` object is created from just the ASDF file, without access to the arrays in the FITS files then all the data will be missing, but everything else will function the same.\n",
    "\n",
    "## Constructing `Dataset` Objects\n",
    "\n",
    "There are a two ways to construct a `Dataset`: by providing a path to an ASDF file or by providing a directory containing an ASDF file.\n",
    "Here we shall first fetch an ASDF file with Fido and then pass it to `Dataset.from_asdf`:"
   ]
  },
  {
   "cell_type": "code",
   "execution_count": null,
   "id": "bdedd49d",
   "metadata": {
    "tags": [
     "keep-inputs"
    ]
   },
   "outputs": [],
   "source": [
    "from astropy.time import Time\n",
    "\n",
    "import dkist\n",
    "import dkist.net\n",
    "from sunpy.net import Fido, attrs as a"
   ]
  },
  {
   "cell_type": "code",
   "execution_count": null,
   "id": "b4eea12c",
   "metadata": {},
   "outputs": [],
   "source": [
    "# Create DKIST Fido client instance\n",
    "res = Fido.search(a.dkist.Dataset('AYDEW'))\n",
    "\n",
    "res"
   ]
  },
  {
   "cell_type": "code",
   "execution_count": null,
   "id": "d9d23356",
   "metadata": {},
   "outputs": [],
   "source": [
    "files = Fido.fetch(res, path=\"~/sunpy/data/{instrument}/{dataset_id}\")\n",
    "files"
   ]
  },
  {
   "cell_type": "markdown",
   "id": "09f59375",
   "metadata": {},
   "source": [
    "Remember, that the file we have downloaded is a single ASDF file, **not** the whole dataset.\n",
    "We can use this file to construct the `Dataset`:"
   ]
  },
  {
   "cell_type": "code",
   "execution_count": null,
   "id": "e013b406",
   "metadata": {},
   "outputs": [],
   "source": [
    "ds = dkist.Dataset.from_asdf(files[0])"
   ]
  },
  {
   "cell_type": "markdown",
   "id": "cbc38d05",
   "metadata": {},
   "source": [
    "Now we have a `Dataset` object which describes the shape, size and physical dimensions of the array, but doesn't yet contain any of the actual data.\n",
    "This may sound unhelpful but we'll see how it can be very powerful.\n",
    "\n",
    "First let's have a look at the basic representation of the `Dataset`."
   ]
  },
  {
   "cell_type": "code",
   "execution_count": null,
   "id": "2009a37b",
   "metadata": {},
   "outputs": [],
   "source": [
    "ds"
   ]
  },
  {
   "cell_type": "markdown",
   "id": "d5d5564d",
   "metadata": {},
   "source": [
    "This tells us that we have a 4-dimensional data cube and what values the axes correspond to.\n",
    "Importantly, it not only gives us information about the *pixel* axes (the actual dimensions of the array itself), but also the *world* axes (the physical quantities related to the observation).\n",
    "It also gives us a correlation matrix showing how the pixel axes relate to the world axes.\n",
    "\n",
    "## `Dataset` and `NDCube`: Coordinate aware arrays\n",
    "\n",
    "The `Dataset` class is an extension to [SunPy's `NDCube` class](https://docs.sunpy.org/projects/ndcube/), in this section we shall demonstrate some of the key functionality of `NDCube` with DKIST data.\n",
    "\n",
    "### Pixel, Array and World Ordering\n",
    "\n",
    "Before we jump into using the `Dataset` class we need to clarify some definitions:\n",
    "\n",
    "* **Pixel** ordering is defined as \"Cartesian\" ordering, or the same as Fortran ordering or column major. This is the ordering used by FITS files and WCS objects in Python.\n",
    "* **Array** ordering is defined as C or row-major ordering. This is used by Python's numpy arrays, as Python is implemented in C.\n",
    "* **World** coordinates are the physical coordinates that correspond to pixel coordinates. These are not always in either pixel or array order, but tend to be close to pixel order.\n",
    "\n",
    "\n",
    "### Coordinates, Arrays, Pixels, oh my!\n",
    "\n",
    "An key aspect of the `Dataset` is that it is coordinate aware.\n",
    "That is, it is able to map between array indices and physical dimensions.\n",
    "This means that you can easily convert from a position in the array to a location defined by physical coordinates.\n",
    "\n",
    "The first thing we can inspect about our dataset is the dimensionality of the underlying array."
   ]
  },
  {
   "cell_type": "code",
   "execution_count": null,
   "id": "7eeb3552",
   "metadata": {},
   "outputs": [],
   "source": [
    "ds.dimensions"
   ]
  },
  {
   "cell_type": "markdown",
   "id": "abd733d1",
   "metadata": {},
   "source": [
    "These are the **array** dimensions.\n",
    "We can get the corresponding **pixel** axis names with:"
   ]
  },
  {
   "cell_type": "code",
   "execution_count": null,
   "id": "f0f8215a",
   "metadata": {},
   "outputs": [],
   "source": [
    "ds.wcs.pixel_axis_names"
   ]
  },
  {
   "cell_type": "markdown",
   "id": "641c22e0",
   "metadata": {},
   "source": [
    "note how these are reversed from one another, we can print them together with:"
   ]
  },
  {
   "cell_type": "code",
   "execution_count": null,
   "id": "86b0f7ac",
   "metadata": {},
   "outputs": [],
   "source": [
    "for name, length in zip(ds.wcs.pixel_axis_names[::-1], ds.dimensions):\n",
    "    print(f\"{name}: {length}\")"
   ]
  },
  {
   "cell_type": "markdown",
   "id": "95b373fe",
   "metadata": {},
   "source": [
    "These axes map onto world axes via the axis correlation matrix we saw in the first session:"
   ]
  },
  {
   "cell_type": "code",
   "execution_count": null,
   "id": "cea1ef4a",
   "metadata": {},
   "outputs": [],
   "source": [
    "ds.wcs.axis_correlation_matrix"
   ]
  },
  {
   "cell_type": "markdown",
   "id": "4d7ab00f",
   "metadata": {},
   "source": [
    "We can get a list of the world axes which correspond to each array axis with:"
   ]
  },
  {
   "cell_type": "code",
   "execution_count": null,
   "id": "9e98fbf0",
   "metadata": {},
   "outputs": [],
   "source": [
    "ds.array_axis_physical_types"
   ]
  },
  {
   "cell_type": "markdown",
   "id": "5f5b7c5c",
   "metadata": {},
   "source": [
    "Finally, as we saw in the first session, we can convert between pixel or array coordinates and world coordinates:"
   ]
  },
  {
   "cell_type": "code",
   "execution_count": null,
   "id": "563ac822",
   "metadata": {},
   "outputs": [],
   "source": [
    "# Convert array indices to world (physical) coordinates\n",
    "ds.wcs.array_index_to_world(0, 10, 20, 30)"
   ]
  },
  {
   "cell_type": "code",
   "execution_count": null,
   "id": "be478c14",
   "metadata": {},
   "outputs": [],
   "source": [
    "# Convert pixel coords to world coords\n",
    "world = ds.wcs.pixel_to_world(30, 20, 10, 0)\n",
    "world"
   ]
  },
  {
   "cell_type": "markdown",
   "id": "f2a7569f",
   "metadata": {},
   "source": [
    "and we can also do the reverse:"
   ]
  },
  {
   "cell_type": "code",
   "execution_count": null,
   "id": "117ed531",
   "metadata": {},
   "outputs": [],
   "source": [
    "ds.wcs.world_to_pixel(*world)"
   ]
  },
  {
   "cell_type": "code",
   "execution_count": null,
   "id": "fed48a43",
   "metadata": {},
   "outputs": [],
   "source": [
    "ds.wcs.world_to_array_index(*world)"
   ]
  },
  {
   "cell_type": "markdown",
   "id": "ee0336dd",
   "metadata": {},
   "source": [
    "Finally, it's possible to get all the axis coordinates along one or more axes:\n",
    "\n",
    "```{warning}\n",
    "This might eat all your <del>cat</del> RAM.\n",
    "\n",
    "The algorithm used to calculate these coordinates in ndcube isn't as memory efficient as it could be, and when working with the large multi-dimensional DKIST data you can really notice it!\n",
    "```"
   ]
  },
  {
   "cell_type": "code",
   "execution_count": null,
   "id": "18035d39",
   "metadata": {
    "tags": [
     "output_scroll"
    ]
   },
   "outputs": [],
   "source": [
    "ds.axis_world_coords()"
   ]
  },
  {
   "cell_type": "code",
   "execution_count": null,
   "id": "b9130106",
   "metadata": {
    "tags": [
     "output_scroll"
    ]
   },
   "outputs": [],
   "source": [
    "ds.axis_world_coords('time')"
   ]
  },
  {
   "cell_type": "markdown",
   "id": "fde49dad",
   "metadata": {},
   "source": [
    "### Slicing Datasets\n",
    "\n",
    "Another useful feature of the `Dataset` class, which it inherits from `NDCube` is the ability to \"slice\" the dataset and get a smaller dataset, with the array and coordinate information in tact.\n",
    "\n",
    "For example, to extract the Stokes I component of the dataset we would do:"
   ]
  },
  {
   "cell_type": "code",
   "execution_count": null,
   "id": "a756664b",
   "metadata": {},
   "outputs": [],
   "source": [
    "ds[0]"
   ]
  },
  {
   "cell_type": "markdown",
   "id": "f8a13822",
   "metadata": {},
   "source": [
    "This is because the Stokes axis is the first array axis, and the \"I\" profile is the first one (0-indexing).\n",
    "\n",
    "Note how we have dropped a world coordinate; this information is preserved in the `.global_coords` attribute, which contains the coordinate information which applies to the whole dataset:"
   ]
  },
  {
   "cell_type": "code",
   "execution_count": null,
   "id": "c23304e2",
   "metadata": {},
   "outputs": [],
   "source": [
    "ds[0].global_coords"
   ]
  },
  {
   "cell_type": "markdown",
   "id": "4820f44f",
   "metadata": {},
   "source": [
    "We can also slice out a section of an axis of the dataset:"
   ]
  },
  {
   "cell_type": "code",
   "execution_count": null,
   "id": "baf7f7e5",
   "metadata": {},
   "outputs": [],
   "source": [
    "ds[:, 100:200, :, :]"
   ]
  },
  {
   "cell_type": "markdown",
   "id": "dcdf48ce",
   "metadata": {},
   "source": [
    "This selects only 100 of the raster step points.\n",
    "\n",
    "\n",
    "## TiledDataset\n",
    "\n",
    "So far we have been working with VISP data, which is continuous in a sense, in that there are no gaps or overlaps in the coordinates axes.\n",
    "However, instruments like VBI take multiple images at different locations with the intention of tiling them together to form a larger image.\n",
    "In this case, those images do not share a common pixel grid and therefore cannot be simply stacked together.\n",
    "It is possible to use `reproject` to regrid the images into a larger array, but since this would interpolate the data, it is not done by default.\n",
    "We will cover an example of how to do this later in the workshop.\n",
    "\n",
    "This kind of tiled data cannot be stored in a single `Dataset` object.\n",
    "There is therefore a wrapper object called `TiledDataset`, which is essentially an array of `Dataset` objects.\n",
    "Let's demonstrate this with a VBI dataset."
   ]
  },
  {
   "cell_type": "code",
   "execution_count": null,
   "id": "a852396b",
   "metadata": {},
   "outputs": [],
   "source": [
    "res = Fido.search(a.dkist.Dataset('BLKGA'))\n",
    "files = Fido.fetch(res, path=\"~/sunpy/data/{instrument}/{dataset_id}\")\n",
    "tds = dkist.Dataset.from_asdf(files[0])\n",
    "tds"
   ]
  },
  {
   "cell_type": "markdown",
   "id": "1fd0f24a",
   "metadata": {},
   "source": [
    "To access the individual tiles, we can then index this normally to get back the `Dataset` objects."
   ]
  },
  {
   "cell_type": "code",
   "execution_count": null,
   "id": "379433da",
   "metadata": {},
   "outputs": [],
   "source": [
    "ds = tds[0, 0]\n",
    "ds"
   ]
  },
  {
   "cell_type": "markdown",
   "id": "1f72866c",
   "metadata": {},
   "source": [
    "```{error}\n",
    "Due to a known issue with the VBI level 1 FITS headers, the ordering of these tiles in the array is likley incorrect.\n",
    "```\n",
    "\n",
    "The `TiledDataset` stores the FITS headers for all the files of the individual `Dataset`s in the `combined_headers` attribute.\n",
    "This means that the metadata can still be inspected in many of the ways we will see in later sessions.\n",
    "Later releases of the user tools will also include helper functions for regridding a `TiledDataset` into a single `Dataset` object."
   ]
  }
 ],
 "metadata": {
  "kernelspec": {
   "display_name": "Python 3",
   "language": "python",
   "name": "python3"
  }
 },
 "nbformat": 4,
 "nbformat_minor": 5
}
