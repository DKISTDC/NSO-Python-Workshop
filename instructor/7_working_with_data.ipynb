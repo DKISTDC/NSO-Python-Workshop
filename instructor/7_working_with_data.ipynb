{
 "cells": [
  {
   "cell_type": "markdown",
   "id": "6f66a4e0",
   "metadata": {},
   "source": [
    "# Working with Data"
   ]
  }
 ],
 "metadata": {
  "kernelspec": {
   "display_name": "Python 3",
   "language": "python",
   "name": "python3"
  }
 },
 "nbformat": 4,
 "nbformat_minor": 5
}
