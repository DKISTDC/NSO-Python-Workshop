{
 "cells": [
  {
   "cell_type": "markdown",
   "id": "9e43bdea",
   "metadata": {},
   "source": [
    "# Working with Data"
   ]
  }
 ],
 "metadata": {
  "kernelspec": {
   "display_name": "Python 3",
   "language": "python",
   "name": "python3"
  }
 },
 "nbformat": 4,
 "nbformat_minor": 5
}
