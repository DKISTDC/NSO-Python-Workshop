{
 "cells": [
  {
   "cell_type": "markdown",
   "id": "a883f888",
   "metadata": {},
   "source": [
    "# Working with Data"
   ]
  }
 ],
 "metadata": {
  "kernelspec": {
   "display_name": "Python 3",
   "language": "python",
   "name": "python3"
  }
 },
 "nbformat": 4,
 "nbformat_minor": 5
}
