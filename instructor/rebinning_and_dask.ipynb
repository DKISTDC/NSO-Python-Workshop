{
 "cells": [
  {
   "cell_type": "markdown",
   "id": "a4f76c8c",
   "metadata": {},
   "source": [
    "# Rebinning and How to Use Dask\n",
    "\n",
    "In this session we are going to use the example of rebinning VISP data to discuss how the Dask array backing the `Dataset` object works.\n",
    "Dask is a Python package for out-of-memory and parallel computation in Python, it provides an array-like object where data is only loaded and processed on demand.\n",
    "\n",
    "## Rebinning with `NDCube`"
   ]
  }
 ],
 "metadata": {
  "kernelspec": {
   "display_name": "Python 3",
   "language": "python",
   "name": "python3"
  }
 },
 "nbformat": 4,
 "nbformat_minor": 5
}
