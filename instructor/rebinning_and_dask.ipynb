{
 "cells": [
  {
   "cell_type": "markdown",
   "id": "56bc5a3d",
   "metadata": {},
   "source": [
    "# Rebinning and How to Use Dask\n",
    "\n",
    "## Fundamentals of Dask\n",
    "\n",
    "In this session we are going to use the example of rebinning VISP data to discuss how the Dask array backing the `Dataset` object works.\n",
    "Dask is a Python package for out-of-memory and parallel computation in Python, it provides an array-like object where data is only loaded and processed on demand.\n",
    "`Dataset` uses Dask to track the data arrays, which it stores in the `Dataset.data` attribute.\n",
    "\n",
    "To demonstrate this let's load our VISP dataset from yesterday, and slice it to a more manageable size again."
   ]
  },
  {
   "cell_type": "code",
   "execution_count": null,
   "id": "bdcce1a2",
   "metadata": {},
   "outputs": [],
   "source": [
    "import dkist\n",
    "import dkist.net\n",
    "import matplotlib.pyplot as plt\n",
    "\n",
    "ds = dkist.Dataset.from_directory('~/sunpy/data/VISP/AGLKO/')\n",
    "ds = ds[0, 520:720, :, 1000:1500]"
   ]
  },
  {
   "cell_type": "markdown",
   "id": "e2a7464e",
   "metadata": {},
   "source": [
    "This Dask object behaves in many ways just like a numpy array.\n",
    "For instance, it can indexed and sliced in the same way."
   ]
  },
  {
   "cell_type": "code",
   "execution_count": null,
   "id": "d14d34a1",
   "metadata": {},
   "outputs": [],
   "source": [
    "ds.data[:, :, :200]"
   ]
  },
  {
   "cell_type": "markdown",
   "id": "8427801c",
   "metadata": {},
   "source": [
    "And it has many of the same methods for calculating useful properties of the data, such as `min()`, `max()`, `sum()`, etc.\n",
    "These are in fact just wrappers around the numpy functions themselves, so they behave in the same way.\n",
    "For example, to find the sum over the spatial dimensions of our cropped data to make a spectrum, we could do:"
   ]
  },
  {
   "cell_type": "code",
   "execution_count": null,
   "id": "4a995912",
   "metadata": {},
   "outputs": [],
   "source": [
    "ds.data.sum(axis=(0,2))"
   ]
  },
  {
   "cell_type": "markdown",
   "id": "7313b0cb",
   "metadata": {},
   "source": [
    "What you will notice when you call these functions that they don't return a number as you would expect.\n",
    "Instead they give us a Dask array which represents the result of that calculation.\n",
    "This is because Dask delays the actual calculation of the value until you explicitly tell it to do it using the `compute()` method."
   ]
  },
  {
   "cell_type": "code",
   "execution_count": null,
   "id": "fba2d87d",
   "metadata": {},
   "outputs": [],
   "source": [
    "spectrum = ds.data.sum(axis=(0,2)).compute()\n",
    "plt.plot(spectrum)"
   ]
  },
  {
   "cell_type": "markdown",
   "id": "d3a638f7",
   "metadata": {},
   "source": [
    "A benefit of this is that since the operations returns us another Dask array, we can do more calculations with that, and those are also delayed.\n",
    "This means that you can string together any number of calculations and only perform the costly step of getting the actual answer once.\n",
    "So if we want to find the location of the lowest value in this spectrum, we can do"
   ]
  },
  {
   "cell_type": "code",
   "execution_count": null,
   "id": "66359f4d",
   "metadata": {},
   "outputs": [],
   "source": [
    "spectrum = ds.data.sum(axis=(0, 2))\n",
    "wl_idx = spectrum.argmin()\n",
    "wl_idx = wl_idx.compute()\n",
    "wl = ds.wcs.pixel_to_world(0, wl_idx, 0)[1]\n",
    "wl"
   ]
  },
  {
   "cell_type": "markdown",
   "id": "cc6798f2",
   "metadata": {},
   "source": [
    "When performing these operations, Dask breaks up the array into chunks, and operations will generally be faster and use less memory when they require fewer chunks. \n",
    "In the case of a `Dataset`, these chunks are aligned with the files, so each chunk essentially consists of the array stored in one FITS file.\n",
    "In the future we may break down a FITS file into more chunks, so the whole array does not always have to be read.\n",
    "\n",
    "## Rebinning with `NDCube`"
   ]
  },
  {
   "cell_type": "code",
   "execution_count": null,
   "id": "d84686a5",
   "metadata": {
    "tags": [
     "keep-inputs"
    ]
   },
   "outputs": [],
   "source": [
    "import dkist\n",
    "import matplotlib.pyplot as plt\n",
    "\n",
    "ds = dkist.Dataset.from_directory(\"~/sunpy/data/VISP/AGLKO\")\n",
    "ds"
   ]
  },
  {
   "cell_type": "markdown",
   "id": "174b6bd4",
   "metadata": {},
   "source": [
    "We are going to use the {obj}`ndcube.NDCube.rebin` method:"
   ]
  },
  {
   "cell_type": "code",
   "execution_count": null,
   "id": "7f8d556a",
   "metadata": {
    "tags": [
     "output_scroll"
    ]
   },
   "outputs": [],
   "source": [
    "help(ds.rebin)"
   ]
  },
  {
   "cell_type": "markdown",
   "id": "46ecb791",
   "metadata": {},
   "source": [
    "This rebin method, can reduce the resolution of a dataset, *by integer numbers of pixels*.\n",
    "\n",
    "So if we wanted to combine 7 pixels along the slit dimension together we can do this:"
   ]
  },
  {
   "cell_type": "code",
   "execution_count": null,
   "id": "38bbe9e8",
   "metadata": {},
   "outputs": [],
   "source": [
    "ds.rebin((1, 1, 1, 7))"
   ]
  },
  {
   "cell_type": "markdown",
   "id": "3b7fd4cc",
   "metadata": {},
   "source": [
    "```{note}\n",
    "Because we are using Dask, this hasn't actually done any computation yet, but is has reduced the size of the dask array.\n",
    "```\n",
    "\n",
    "Let's compare two spectra, one from the rebinned dataset and one from the original:"
   ]
  },
  {
   "cell_type": "code",
   "execution_count": null,
   "id": "13a7d191",
   "metadata": {},
   "outputs": [],
   "source": [
    "ds_I = ds[0]\n",
    "ds_I_rebinned = ds[0].rebin((1, 1, 7))"
   ]
  },
  {
   "cell_type": "code",
   "execution_count": null,
   "id": "f422752d",
   "metadata": {},
   "outputs": [],
   "source": [
    "plt.figure()\n",
    "ax = ds_I[500, :, 1000].plot()\n",
    "ds_I_rebinned[500, :, int(1000/7)].plot(axes=ax, linestyle=\"--\")"
   ]
  },
  {
   "cell_type": "markdown",
   "id": "3aa8fd7e",
   "metadata": {},
   "source": [
    "As one final example of rebin, let's rebin in both the rastering dimension and the slit.\n",
    "Let's rebin to bins of 10x10 pixels, to do this we will need to make the slit axis divisible by 10, so we crop it down by 5 pixels."
   ]
  },
  {
   "cell_type": "code",
   "execution_count": null,
   "id": "7ca912a8",
   "metadata": {},
   "outputs": [],
   "source": [
    "ds_r10 = ds[0, ..., :-5].rebin((10, 1, 10))"
   ]
  },
  {
   "cell_type": "code",
   "execution_count": null,
   "id": "81593cf2",
   "metadata": {},
   "outputs": [],
   "source": [
    "plt.figure()\n",
    "ax = ds_I[500, :, 1000].plot()\n",
    "ds_I_rebinned[500, :, int(1000/7)].plot(axes=ax, linestyle=\"--\")\n",
    "ds_r10[50, :, 100].plot(axes=ax, linestyle=\"..\")"
   ]
  },
  {
   "cell_type": "markdown",
   "id": "4f6408bd",
   "metadata": {},
   "source": [
    "## Rebinning in Parallel\n",
    "\n",
    "By default dask will parallelise operations as much as is possible, over the available cores in your machine.\n",
    "The Dask project also supports paralleising over the distributed compute such as HPC or cloud computing.\n",
    "For this next section we are going to use this `distributed` package as a way of visualising the paralleisation.\n",
    "\n",
    "If you want to follow along with this bit you will need to install these packages, if you want to just watch that's also fine."
   ]
  },
  {
   "cell_type": "code",
   "execution_count": null,
   "id": "eb0547a8",
   "metadata": {
    "tags": [
     "skip-execution"
    ]
   },
   "outputs": [],
   "source": [
    "conda install distributed bokeh"
   ]
  },
  {
   "cell_type": "code",
   "execution_count": null,
   "id": "9e51b711",
   "metadata": {},
   "outputs": [],
   "source": [
    "from dask.distributed import Client\n",
    "client = Client()\n",
    "client"
   ]
  },
  {
   "cell_type": "code",
   "execution_count": null,
   "id": "7b390f0f",
   "metadata": {},
   "outputs": [],
   "source": [
    "rebinned_ds = ds[0, ..., :-5].rebin((10, 1, 10))"
   ]
  },
  {
   "cell_type": "code",
   "execution_count": null,
   "id": "72fb511b",
   "metadata": {
    "tags": [
     "skip-execution"
    ]
   },
   "outputs": [],
   "source": [
    "computed_data = rebinned_ds.data.compute()"
   ]
  },
  {
   "cell_type": "code",
   "execution_count": null,
   "id": "e25d25a3",
   "metadata": {
    "tags": [
     "skip-execution"
    ]
   },
   "outputs": [],
   "source": [
    "rebinned_ds._data = computed_data  # This is naughty"
   ]
  },
  {
   "cell_type": "code",
   "execution_count": null,
   "id": "a0bbfadd",
   "metadata": {
    "tags": [
     "skip-execution"
    ]
   },
   "outputs": [],
   "source": [
    "rebinned_ds.plot()"
   ]
  }
 ],
 "metadata": {
  "kernelspec": {
   "display_name": "Python 3",
   "language": "python",
   "name": "python3"
  }
 },
 "nbformat": 4,
 "nbformat_minor": 5
}
