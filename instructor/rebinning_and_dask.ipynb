{
 "cells": [
  {
   "cell_type": "markdown",
   "id": "e989a71e",
   "metadata": {},
   "source": [
    "# Rebinning and How to Use Dask\n",
    "\n",
    "## Fundamentals of Dask\n",
    "\n",
    "In this session we are going to use the example of rebinning VISP data to discuss how the Dask array backing the `Dataset` object works.\n",
    "Dask is a Python package for out-of-memory and parallel computation in Python, it provides an array-like object where data is only loaded and processed on demand.\n",
    "`Dataset` uses Dask to track the data arrays, which it stores in the `Dataset.data` attribute.\n",
    "\n",
    "To demonstrate this let's load our VISP dataset from yesterday, and slice it to a more manageable size again."
   ]
  },
  {
   "cell_type": "code",
   "execution_count": null,
   "id": "be003cef",
   "metadata": {},
   "outputs": [],
   "source": [
    "import dkist\n",
    "import dkist.net\n",
    "import matplotlib.pyplot as plt\n",
    "\n",
    "ds = dkist.Dataset.from_directory('/home/drew/sunpy/data/VISP/AGLKO/')\n",
    "ds = ds[0, 520:720, :, 1000:1500]"
   ]
  },
  {
   "cell_type": "markdown",
   "id": "5684d8d1",
   "metadata": {},
   "source": [
    "This Dask object behaves in many ways just like a numpy array.\n",
    "For instance, it can indexed and sliced in the same way."
   ]
  },
  {
   "cell_type": "code",
   "execution_count": null,
   "id": "25172681",
   "metadata": {},
   "outputs": [],
   "source": [
    "ds.data[:, :, :200]"
   ]
  },
  {
   "cell_type": "markdown",
   "id": "0f6bdd1e",
   "metadata": {},
   "source": [
    "And it has many of the same methods for calculating useful properties of the data, such as `min()`, `max()`, `sum()`, etc.\n",
    "These are in fact just wrappers around the numpy functions themselves, so they behave in the same way.\n",
    "For example, to find the sum over the spatial dimensions of our cropped data to make a spectrum, we could do:"
   ]
  },
  {
   "cell_type": "code",
   "execution_count": null,
   "id": "e8657c0c",
   "metadata": {},
   "outputs": [],
   "source": [
    "ds.data.sum(axis=(0,2))"
   ]
  },
  {
   "cell_type": "markdown",
   "id": "c49a3305",
   "metadata": {},
   "source": [
    "What you will notice when you call these functions that they don't return a number as you would expect.\n",
    "Instead they give us a Dask array which represents the result of that calculation.\n",
    "This is because Dask delays the actual calculation of the value until you explicitly tell it to do it using the `compute()` method."
   ]
  },
  {
   "cell_type": "code",
   "execution_count": null,
   "id": "63e0942a",
   "metadata": {},
   "outputs": [],
   "source": [
    "spectrum = ds.data.sum(axis=(0,2)).compute()\n",
    "plt.plot(spectrum)"
   ]
  },
  {
   "cell_type": "markdown",
   "id": "3c1bd3c5",
   "metadata": {},
   "source": [
    "A benefit of this is that since the operations returns us another Dask array, we can do more calculations with that, and those are also delayed.\n",
    "This means that you can string together any number of calculations and only perform the costly step of getting the actual answer once.\n",
    "So if we want to find the location of the lowest value in this spectrum, we can do"
   ]
  },
  {
   "cell_type": "code",
   "execution_count": null,
   "id": "aa1578f1",
   "metadata": {},
   "outputs": [],
   "source": [
    "spectrum = ds.data.sum(axis=(0, 2))\n",
    "wl_idx = spectrum.argmin()\n",
    "wl_idx = wl_idx.compute()\n",
    "wl = ds.wcs.pixel_to_world(0, wl_idx, 0)[1]\n",
    "wl"
   ]
  },
  {
   "cell_type": "markdown",
   "id": "85067d6e",
   "metadata": {},
   "source": [
    "When performing these operations, Dask breaks up the array into chunks, and operations will generally be faster and use less memory when they require fewer chunks. \n",
    "In the case of a `Dataset`, these chunks are aligned with the files, so each chunk essentially consists of the array stored in one FITS file.\n",
    "In the future we may break down a FITS file into more chunks, so the whole array does not always have to be read.\n",
    "\n",
    "## Rebinning with `NDCube`"
   ]
  }
 ],
 "metadata": {
  "kernelspec": {
   "display_name": "Python 3",
   "language": "python",
   "name": "python3"
  }
 },
 "nbformat": 4,
 "nbformat_minor": 5
}
