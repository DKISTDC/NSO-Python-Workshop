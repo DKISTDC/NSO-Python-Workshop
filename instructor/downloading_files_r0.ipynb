{
 "cells": [
  {
   "cell_type": "markdown",
   "id": "f803f644",
   "metadata": {},
   "source": [
    "# Downloading Data Based on Seeing"
   ]
  },
  {
   "cell_type": "code",
   "execution_count": null,
   "id": "4183e045",
   "metadata": {},
   "outputs": [],
   "source": [
    "import matplotlib.pyplot as plt\n",
    "from sunpy.net import Fido, attrs as a\n",
    "\n",
    "import dkist"
   ]
  },
  {
   "cell_type": "markdown",
   "id": "e723351b",
   "metadata": {},
   "source": [
    "Let's find a dataset with the highest average value of r0 (this is bad?).\n",
    "First we'll search for all unembargoed VISP data, as embargoed data is no use to us for this excercise."
   ]
  },
  {
   "cell_type": "code",
   "execution_count": null,
   "id": "550d862e",
   "metadata": {},
   "outputs": [],
   "source": [
    "res = Fido.search(a.Instrument(\"VISP\"), a.dkist.Embargoed(False))"
   ]
  },
  {
   "cell_type": "markdown",
   "id": "c45d5888",
   "metadata": {},
   "source": [
    "Next, since we want to use the highest average $r_0$, we can have Fido sort the results and output just the useful columns."
   ]
  },
  {
   "cell_type": "code",
   "execution_count": null,
   "id": "ddd515b2",
   "metadata": {},
   "outputs": [],
   "source": [
    "res['dkist'].sort(\"Average Fried Parameter\", reverse=True)\n",
    "res['dkist'].show(\"Dataset ID\", \"Start Time\", \"Average Fried Parameter\", \"Primary Proposal ID\")"
   ]
  },
  {
   "cell_type": "markdown",
   "id": "49cad5ea",
   "metadata": {},
   "source": [
    "This gives us the dataset `BEOGN`, which happens to be the same one we have been using already.\n",
    "(So you should already have the ASDF file available on your machine but we'll go through the motions anyway for completeness.\n",
    "Fido won't re-download an existing file anyway unless told to.)\n",
    "We can download the dataset ASDF with Fido to inspect it in more detail.\n",
    "Remember that this only downloads a single ASDF file with some more metadata about the dataset, not the actual science data."
   ]
  },
  {
   "cell_type": "code",
   "execution_count": null,
   "id": "04eeab57",
   "metadata": {
    "tags": [
     "remove-stderr"
    ]
   },
   "outputs": [],
   "source": [
    "asdf_files = Fido.fetch(res['dkist'][0], path=\"~/sunpy/data/{dataset_id}/\")\n",
    "ds = dkist.Dataset.from_asdf(asdf_files[0])"
   ]
  },
  {
   "cell_type": "markdown",
   "id": "339695d7",
   "metadata": {},
   "source": [
    "Now that we have access to the FITS headers we can inspect the $r_0$ more closely, just as we did in the previous session.\n",
    "Remember that `DINDEX4` is the Stokes index, so we can plot the $r_0$ for just Stokes I like so:"
   ]
  },
  {
   "cell_type": "code",
   "execution_count": null,
   "id": "3f0de780",
   "metadata": {},
   "outputs": [],
   "source": [
    "plt.plot(ds.headers[ds.headers[\"DINDEX4\"] == 1][\"ATMOS_R0\"])"
   ]
  },
  {
   "cell_type": "markdown",
   "id": "a0e34f4c",
   "metadata": {},
   "source": [
    "Now let's slice down our dataset based on the first frame where $r_0$ is high:"
   ]
  },
  {
   "cell_type": "code",
   "execution_count": null,
   "id": "318ccf71",
   "metadata": {},
   "outputs": [],
   "source": [
    "# Select headers for only frames with bad r0\n",
    "bad_headers = ds.headers[ds.headers[\"ATMOS_R0\"] > 1]\n",
    "\n",
    "# Make sure headers are sorted by date\n",
    "bad_headers.sort(\"DATE-AVG\")\n",
    "\n",
    "# Slice up to the index of the first bad frame\n",
    "sds = ds[0, :bad_headers[0][\"DINDEX3\"]-1, :, :]"
   ]
  },
  {
   "cell_type": "markdown",
   "id": "c335c80c",
   "metadata": {},
   "source": [
    "We can now download only these files, remember you need globus-connect-personal running for this."
   ]
  },
  {
   "cell_type": "code",
   "execution_count": null,
   "id": "681941f8",
   "metadata": {
    "tags": [
     "skip-execution"
    ]
   },
   "outputs": [],
   "source": [
    "sds.files.download(path=\"~/sunpy/data/{dataset_id}/\")"
   ]
  },
  {
   "cell_type": "markdown",
   "id": "12f8f5d3",
   "metadata": {},
   "source": [
    "Now let's plot the Stokes I data at some wavelength:"
   ]
  },
  {
   "cell_type": "code",
   "execution_count": null,
   "id": "0502dd87",
   "metadata": {
    "tags": [
     "skip-execution"
    ]
   },
   "outputs": [],
   "source": [
    "ds[0, :, 466, :].plot(plot_axes=['x', 'y'], aspect=\"auto\")"
   ]
  },
  {
   "cell_type": "markdown",
   "id": "81e6380b",
   "metadata": {},
   "source": [
    "You will notice that a lot of it is missing.\n",
    "This is because we have deliberately only downloaded those frames with an acceptably low $r_0$.\n",
    "You may also notice though, that the `Dataset` object continues to function normally without the rest of the data.\n",
    "When we try to access the data, if the file is missing then `Dataset` fills in the corresponding portions of the array with NaNs.\n",
    "\n",
    "Since the seeing is bad for a significant contiguous portion of the data, we may simply want to discount that part and look only at the useful data.\n",
    "In this case we can use the sub-dataset we made earlier:"
   ]
  },
  {
   "cell_type": "code",
   "execution_count": null,
   "id": "049803b5",
   "metadata": {
    "tags": [
     "skip-execution"
    ]
   },
   "outputs": [],
   "source": [
    "sds[:, 466, :].plot(plot_axes=['x', 'y'], aspect=\"auto\")"
   ]
  },
  {
   "cell_type": "markdown",
   "id": "e99deca9",
   "metadata": {},
   "source": [
    "Or of course we can make any arbitrary slice to look at whatever subset of the data we prefer."
   ]
  }
 ],
 "metadata": {
  "kernelspec": {
   "display_name": "Python 3",
   "language": "python",
   "name": "python3"
  }
 },
 "nbformat": 4,
 "nbformat_minor": 5
}
