{
 "cells": [
  {
   "cell_type": "markdown",
   "id": "67d29581",
   "metadata": {},
   "source": [
    "# Stitching a VBI Moasic with `reproject`\n",
    "\n",
    "The [reproject](https://reproject.readthedocs.io/) package is an Astropy-affiliated package for regridding data.\n",
    "A number of different algorithms are implemented in the package, with different trade-offs for speed and accuracy.\n",
    "Reprojecting a single spatial image such as an AIA image is well supported and demonstrated in the [sunpy gallery](https://docs.sunpy.org/en/latest/generated/gallery/index.html#combining-co-aligning-and-reprojecting-images).\n",
    "When working with DKIST data, there are normally many spatial frames inside a dataset, and reprojecting them all can be very computationally expensive.\n",
    "\n",
    "We are going to use the example of using reproject's {obj}`reproject.mosaicking.reproject_and_coadd` function to stitch a mosaic of VBI frames, in a way which could be extended to be flux conserving.\n",
    "\n",
    "\n",
    "## Obtaining some data"
   ]
  },
  {
   "cell_type": "code",
   "execution_count": null,
   "id": "57c94196",
   "metadata": {},
   "outputs": [],
   "source": [
    "import numpy as np\n",
    "import matplotlib.pyplot as plt\n",
    "import astropy.units as u\n",
    "\n",
    "from sunpy.net import Fido, attrs as a\n",
    "\n",
    "import dkist\n",
    "import dkist.net"
   ]
  },
  {
   "cell_type": "code",
   "execution_count": null,
   "id": "738e2d87",
   "metadata": {},
   "outputs": [],
   "source": [
    "res = Fido.search(a.dkist.Dataset(\"BLKGA\"), )\n",
    "res"
   ]
  },
  {
   "cell_type": "markdown",
   "id": "4d38abb8",
   "metadata": {},
   "source": [
    "Let's download a VBI dataset, which has good seeing:"
   ]
  },
  {
   "cell_type": "code",
   "execution_count": null,
   "id": "3269e117",
   "metadata": {},
   "outputs": [],
   "source": [
    "asdf_file = Fido.fetch(res)\n",
    "asdf_file"
   ]
  },
  {
   "cell_type": "markdown",
   "id": "6794ea33",
   "metadata": {},
   "source": [
    "This gives us a `TiledDataset` object, which as we have already seen is like an array of `Dataset` objects."
   ]
  },
  {
   "cell_type": "code",
   "execution_count": null,
   "id": "807db617",
   "metadata": {},
   "outputs": [],
   "source": [
    "ds = dkist.Dataset.from_asdf(asdf_file[0])\n",
    "ds"
   ]
  },
  {
   "cell_type": "markdown",
   "id": "432b46fe",
   "metadata": {},
   "source": [
    "This mosaic is 3 x 3:"
   ]
  },
  {
   "cell_type": "code",
   "execution_count": null,
   "id": "0f62f8f8",
   "metadata": {},
   "outputs": [],
   "source": [
    "ds.shape"
   ]
  },
  {
   "cell_type": "markdown",
   "id": "8f57bfea",
   "metadata": {},
   "source": [
    "To start off, let's just download the first frame of each tile."
   ]
  },
  {
   "cell_type": "code",
   "execution_count": null,
   "id": "0682a6f0",
   "metadata": {},
   "outputs": [],
   "source": [
    "first_tiles = [tile[0] for tile in ds.flat]"
   ]
  },
  {
   "cell_type": "code",
   "execution_count": null,
   "id": "29bfe528",
   "metadata": {
    "tags": [
     "skip-execution"
    ]
   },
   "outputs": [],
   "source": [
    "for i, tile in enumerate(first_tiles):\n",
    "    tile.files.download(wait=i == len(first_tiles) - 1)"
   ]
  },
  {
   "cell_type": "markdown",
   "id": "85199505",
   "metadata": {},
   "source": [
    "We can now make a composite plot of all the tiles."
   ]
  },
  {
   "cell_type": "code",
   "execution_count": null,
   "id": "6bfe4563",
   "metadata": {},
   "outputs": [],
   "source": [
    "fig = plt.figure(figsize=(12, 12))\n",
    "\n",
    "for i, tile in enumerate(first_tiles):\n",
    "    ax = fig.add_subplot(ds.shape[0], ds.shape[1], i+1, projection=tile.wcs)\n",
    "    ax.set_title(f\"MINDEX1={tile.headers[0]['MINDEX1']}, MINDEX2={tile.headers[0]['MINDEX2']}\")\n",
    "    ax.imshow(tile.data)\n",
    "    \n",
    "fig.tight_layout()"
   ]
  },
  {
   "cell_type": "markdown",
   "id": "02a0116e",
   "metadata": {},
   "source": [
    "## Regridding with Reproject\n",
    "\n",
    "First, we need the most recent version of reproject (released on Friday) for this to work, so let's check:"
   ]
  },
  {
   "cell_type": "code",
   "execution_count": null,
   "id": "ceade055",
   "metadata": {
    "tags": [
     "keep-inputs"
    ]
   },
   "outputs": [],
   "source": [
    "import reproject\n",
    "\n",
    "assert int(reproject.__version__.split(\".\")[1]) >= 11, \"You need to update reproject\""
   ]
  },
  {
   "cell_type": "markdown",
   "id": "70713249",
   "metadata": {},
   "source": [
    "Now import everything we need for it to run"
   ]
  },
  {
   "cell_type": "code",
   "execution_count": null,
   "id": "86ad88fd",
   "metadata": {},
   "outputs": [],
   "source": [
    "from reproject.mosaicking import find_optimal_celestial_wcs, reproject_and_coadd\n",
    "from reproject import reproject_interp\n",
    "\n",
    "from ndcube import NDCube"
   ]
  },
  {
   "cell_type": "markdown",
   "id": "bce8ce5d",
   "metadata": {},
   "source": [
    "First, let us crop off the edges of all our tiles to remove some artifacts."
   ]
  },
  {
   "cell_type": "code",
   "execution_count": null,
   "id": "811292ab",
   "metadata": {},
   "outputs": [],
   "source": [
    "first_tiles = [d[0, 100:-100, 100:-100] for d in ds.flat]"
   ]
  },
  {
   "cell_type": "markdown",
   "id": "f9bfe490",
   "metadata": {},
   "source": [
    "Next we need to calculate the optimal WCS for the output:"
   ]
  },
  {
   "cell_type": "code",
   "execution_count": null,
   "id": "e85e341f",
   "metadata": {},
   "outputs": [],
   "source": [
    "reference_wcs, shape_out = find_optimal_celestial_wcs(\n",
    "    [f.wcs for f in first_tiles],\n",
    "    auto_rotate=True,\n",
    ")"
   ]
  },
  {
   "cell_type": "markdown",
   "id": "c856205e",
   "metadata": {},
   "source": [
    "Now we can do the actual reprojection"
   ]
  },
  {
   "cell_type": "code",
   "execution_count": null,
   "id": "f43785ec",
   "metadata": {
    "tags": [
     "skip-execution"
    ]
   },
   "outputs": [],
   "source": [
    "arr, footprint = reproject_and_coadd(\n",
    "    first_tiles,\n",
    "    reference_wcs,\n",
    "    reproject_function=reproject_interp,\n",
    "    shape_out=shape_out,\n",
    "    roundtrip_coords=False,\n",
    ")"
   ]
  },
  {
   "cell_type": "markdown",
   "id": "ce1a897d",
   "metadata": {},
   "source": [
    "Make a new `NDCube` object and plot it."
   ]
  },
  {
   "cell_type": "code",
   "execution_count": null,
   "id": "e3855fa2",
   "metadata": {
    "tags": [
     "skip-execution"
    ]
   },
   "outputs": [],
   "source": [
    "plt.figure(figsize=(10,10))\n",
    "stitched = NDCube(arr, reference_wcs)\n",
    "stitched.plot()"
   ]
  },
  {
   "cell_type": "markdown",
   "id": "f9327fc7",
   "metadata": {},
   "source": [
    "We can see some small artifacting which can be hidden by using the `match_background=True` keyword argument to `reproject_and_coadd`."
   ]
  }
 ],
 "metadata": {
  "kernelspec": {
   "display_name": "Python 3",
   "language": "python",
   "name": "python3"
  }
 },
 "nbformat": 4,
 "nbformat_minor": 5
}
