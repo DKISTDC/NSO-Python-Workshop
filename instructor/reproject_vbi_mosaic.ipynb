{
 "cells": [
  {
   "cell_type": "markdown",
   "id": "515b3b5a",
   "metadata": {},
   "source": [
    "# Stitching a VBI Moasic with `reproject`\n",
    "\n",
    "The [reproject](https://reproject.readthedocs.io/) package is an Astropy-affiliated package for regridding data.\n",
    "A number of different algorithms are implemented in the package, with different trade-offs for speed and accuracy.\n",
    "Reprojecting a single spatial image such as an AIA image is well supported and demonstrated in the [sunpy gallery](https://docs.sunpy.org/en/latest/generated/gallery/index.html#combining-co-aligning-and-reprojecting-images).\n",
    "When working with DKIST data, there are normally many spatial frames inside a dataset, and reprojecting them all can be very computationally expensive.\n",
    "\n",
    "We are going to use the example of using reproject's {obj}`reproject.mosaicking.reproject_and_coadd` function to stitch a mosaic of VBI frames, in a way which could be extended to be flux conserving.\n",
    "\n",
    "\n",
    "## Obtaining some data"
   ]
  },
  {
   "cell_type": "code",
   "execution_count": null,
   "id": "6d2e1f21",
   "metadata": {},
   "outputs": [],
   "source": [
    "import numpy as np\n",
    "import matplotlib.pyplot as plt\n",
    "import astropy.units as u\n",
    "\n",
    "from sunpy.net import Fido, attrs as a\n",
    "\n",
    "import dkist\n",
    "import dkist.net"
   ]
  },
  {
   "cell_type": "code",
   "execution_count": null,
   "id": "7efc358d",
   "metadata": {},
   "outputs": [],
   "source": [
    "res = Fido.search(a.dkist.Dataset(\"BLKGA\"), )\n",
    "res"
   ]
  },
  {
   "cell_type": "markdown",
   "id": "0adfe8cf",
   "metadata": {},
   "source": [
    "Let's download a VBI dataset, which has good seeing:"
   ]
  },
  {
   "cell_type": "code",
   "execution_count": null,
   "id": "98c8ad70",
   "metadata": {},
   "outputs": [],
   "source": [
    "asdf_file = Fido.fetch(res)\n",
    "asdf_file"
   ]
  },
  {
   "cell_type": "markdown",
   "id": "9c57fbf7",
   "metadata": {},
   "source": [
    "This gives us a `TiledDataset` object, which as we have already seen is like an array of `Dataset` objects."
   ]
  },
  {
   "cell_type": "code",
   "execution_count": null,
   "id": "68df1768",
   "metadata": {},
   "outputs": [],
   "source": [
    "ds = dkist.Dataset.from_asdf(asdf_file[0])\n",
    "ds"
   ]
  },
  {
   "cell_type": "markdown",
   "id": "4fed3ad4",
   "metadata": {},
   "source": [
    "This mosaic is 3 x 3:"
   ]
  },
  {
   "cell_type": "code",
   "execution_count": null,
   "id": "50b52d45",
   "metadata": {},
   "outputs": [],
   "source": [
    "ds.shape"
   ]
  },
  {
   "cell_type": "markdown",
   "id": "b6bfca58",
   "metadata": {},
   "source": [
    "To start off, let's just download the first frame of each tile."
   ]
  },
  {
   "cell_type": "code",
   "execution_count": null,
   "id": "1bcb26f1",
   "metadata": {},
   "outputs": [],
   "source": [
    "first_tiles = [tile[0] for tile in ds.flat]"
   ]
  },
  {
   "cell_type": "code",
   "execution_count": null,
   "id": "954573fb",
   "metadata": {
    "tags": [
     "skip-execution"
    ]
   },
   "outputs": [],
   "source": [
    "for i, tile in enumerate(first_tiles):\n",
    "    tile.files.download(wait=i == len(first_tiles) - 1)"
   ]
  },
  {
   "cell_type": "markdown",
   "id": "8e14fa09",
   "metadata": {},
   "source": [
    "We can now make a composite plot of all the tiles."
   ]
  },
  {
   "cell_type": "code",
   "execution_count": null,
   "id": "ac17d4d3",
   "metadata": {},
   "outputs": [],
   "source": [
    "fig = plt.figure(figsize=(12, 12))\n",
    "\n",
    "for i, tile in enumerate(first_tiles):\n",
    "    ax = fig.add_subplot(ds.shape[0], ds.shape[1], i+1, projection=tile.wcs)\n",
    "    ax.set_title(f\"MINDEX1={tile.headers[0]['MINDEX1']}, MINDEX2={tile.headers[0]['MINDEX2']}\")\n",
    "    ax.imshow(tile.data)\n",
    "    \n",
    "fig.tight_layout()"
   ]
  },
  {
   "cell_type": "markdown",
   "id": "fd1f0928",
   "metadata": {},
   "source": [
    "## Regridding with Reproject\n",
    "\n",
    "First, we need the most recent version of reproject (released on Friday) for this to work, so let's check:"
   ]
  },
  {
   "cell_type": "code",
   "execution_count": null,
   "id": "bd38a0c9",
   "metadata": {
    "tags": [
     "keep-inputs"
    ]
   },
   "outputs": [],
   "source": [
    "import reproject\n",
    "\n",
    "assert int(reproject.__version__.split(\".\")[1]) >= 11, \"You need to update reproject\""
   ]
  },
  {
   "cell_type": "markdown",
   "id": "577d2758",
   "metadata": {},
   "source": [
    "Now import everything we need for it to run"
   ]
  },
  {
   "cell_type": "code",
   "execution_count": null,
   "id": "e6d4d68e",
   "metadata": {},
   "outputs": [],
   "source": [
    "from reproject.mosaicking import find_optimal_celestial_wcs, reproject_and_coadd\n",
    "from reproject import reproject_interp\n",
    "\n",
    "from ndcube import NDCube"
   ]
  },
  {
   "cell_type": "markdown",
   "id": "41b80b3f",
   "metadata": {},
   "source": [
    "First, let us crop off the edges of all our tiles to remove some artifacts."
   ]
  },
  {
   "cell_type": "code",
   "execution_count": null,
   "id": "500ac3ad",
   "metadata": {},
   "outputs": [],
   "source": [
    "first_tiles = [d[0, 100:-100, 100:-100] for d in ds.flat]"
   ]
  },
  {
   "cell_type": "markdown",
   "id": "93bc9c53",
   "metadata": {},
   "source": [
    "Next we need to calculate the optimal WCS for the output:"
   ]
  },
  {
   "cell_type": "code",
   "execution_count": null,
   "id": "66b0f60c",
   "metadata": {},
   "outputs": [],
   "source": [
    "reference_wcs, shape_out = find_optimal_celestial_wcs(\n",
    "    [f.wcs for f in first_tiles],\n",
    "    auto_rotate=True,\n",
    ")"
   ]
  },
  {
   "cell_type": "markdown",
   "id": "13d5522c",
   "metadata": {},
   "source": [
    "Now we can do the actual reprojection"
   ]
  },
  {
   "cell_type": "code",
   "execution_count": null,
   "id": "610acfe8",
   "metadata": {
    "tags": [
     "skip-execution"
    ]
   },
   "outputs": [],
   "source": [
    "arr, footprint = reproject_and_coadd(\n",
    "    first_tiles,\n",
    "    reference_wcs,\n",
    "    reproject_function=reproject_interp,\n",
    "    shape_out=shape_out,\n",
    "    roundtrip_coords=False,\n",
    ")"
   ]
  },
  {
   "cell_type": "markdown",
   "id": "397d0899",
   "metadata": {},
   "source": [
    "Make a new `NDCube` object and plot it."
   ]
  },
  {
   "cell_type": "code",
   "execution_count": null,
   "id": "cd4da66f",
   "metadata": {
    "tags": [
     "skip-execution"
    ]
   },
   "outputs": [],
   "source": [
    "plt.figure(figsize=(10,10))\n",
    "stitched = NDCube(arr, reference_wcs)\n",
    "stitched.plot()"
   ]
  },
  {
   "cell_type": "markdown",
   "id": "9ffbeecf",
   "metadata": {},
   "source": [
    "We can see some small artifacting which can be hidden by using the `match_background=True` keyword argument to `reproject_and_coadd`."
   ]
  }
 ],
 "metadata": {
  "kernelspec": {
   "display_name": "Python 3",
   "language": "python",
   "name": "python3"
  }
 },
 "nbformat": 4,
 "nbformat_minor": 5
}
