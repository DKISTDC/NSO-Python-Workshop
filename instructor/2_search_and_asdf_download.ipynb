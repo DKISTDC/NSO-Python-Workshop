{
 "cells": [
  {
   "cell_type": "markdown",
   "id": "cadeedcf",
   "metadata": {},
   "source": [
    "# Searching for DKIST Datasets\n",
    "\n",
    "In this session we will cover how to search for DKIST datasets available at the DKIST Data Center.\n",
    "In DKIST data parlance, a \"dataset\" is the smallest unit of data that is searchable from the data centre, and represents a single observation from a single instrument at a single pass band.\n",
    "\n",
    "Each dataset comprises a number of different files:\n",
    "  * An ASDF file containing all the metadata, and no data.\n",
    "  * A quality report PDF.\n",
    "  * An mp4 preview movie.\n",
    "  * A (large) number of FITS files, each containing a \"calibrated exposure\".\n",
    "\n",
    "All of these files apart from the FITS files containing the data can be downloaded irrespective of embargo status.\n",
    "\n",
    "For each of these \"datasets\" the DKIST Data Center keeps a \"dataset inventory record\" which is a limited set of metadata about the dataset on which you can search, either through the portal or the `dkist` Python package.\n",
    "The ASDF, quality report and preview movie can all be downloaded without authenticating, the FITS files require the use of Globus.\n",
    "\n",
    "\n",
    "## Using `Fido.search`\n",
    "\n",
    "The search interface used for searching the dataset holding at the DKIST data center is {obj}`sunpy.net.Fido`.\n",
    "With `Fido` you can search for datasets and download their corresponding ASDF files.\n",
    "To register the DKIST search with `Fido` we must also import `dkist.net`."
   ]
  },
  {
   "cell_type": "code",
   "execution_count": null,
   "id": "94525e74",
   "metadata": {},
   "outputs": [],
   "source": [
    "import dkist.net\n",
    "import astropy.units as u\n",
    "from sunpy.net import Fido, attrs as a"
   ]
  },
  {
   "cell_type": "markdown",
   "id": "029d2276",
   "metadata": {},
   "source": [
    "`Fido` searches are built up from \"attrs\", which we imported above as `a`.\n",
    "These attrs are combined together with either logical and or logical or operations to make complex queries.\n",
    "Let's start simple and search for all the DKIST datasets which are not embargoed:"
   ]
  },
  {
   "cell_type": "code",
   "execution_count": null,
   "id": "80180bf7",
   "metadata": {},
   "outputs": [],
   "source": [
    "Fido.search(a.dkist.Embargoed(False))"
   ]
  },
  {
   "cell_type": "markdown",
   "id": "ee4e0da7",
   "metadata": {},
   "source": [
    "Because we only specified one attr, and it was unique to the dkist client (it started with `a.dkist`) only the DKIST client was used.\n",
    "\n",
    "If we only want VBI datasets, that are unembargoed, between a specific time range we can use multiple attrs:"
   ]
  },
  {
   "cell_type": "code",
   "execution_count": null,
   "id": "287c9de1",
   "metadata": {},
   "outputs": [],
   "source": [
    "Fido.search(a.Time(\"2022-06-02 17:00:00\", \"2022-06-02 18:00:00\") & a.Instrument.vbi & a.dkist.Embargoed(False))"
   ]
  },
  {
   "cell_type": "markdown",
   "id": "4e070a57",
   "metadata": {},
   "source": [
    "Note how the `a.Time` and `a.Instrument` attrs are not prefixed with `dkist`, these are general attrs which can be used to search multiple clients.\n",
    "\n",
    "So far all any results have had to match all the attrs provided, because we have used the `&` (logical and) operator to join them.\n",
    "If we want results that match either one of multiple options we can use the `|` operator."
   ]
  },
  {
   "cell_type": "code",
   "execution_count": null,
   "id": "9c06c6ba",
   "metadata": {},
   "outputs": [],
   "source": [
    "Fido.search((a.Instrument.vbi | a.Instrument.visp) & a.dkist.Embargoed(False))"
   ]
  },
  {
   "cell_type": "markdown",
   "id": "93135c64",
   "metadata": {},
   "source": [
    "As you can see this has returned two separate tables, one for VBI and one for VISP.\n",
    "\n",
    "Because `Fido` can search other clients as well as the DKIST you can make a more complex query which will search for VISP data and context images from AIA at the same time:"
   ]
  },
  {
   "cell_type": "code",
   "execution_count": null,
   "id": "60839886",
   "metadata": {},
   "outputs": [],
   "source": [
    "time = a.Time(\"2022-06-02 17:00:00\", \"2022-06-02 18:00:00\")\n",
    "aia = a.Instrument.aia & a.Wavelength(17.1 * u.nm) & a.Sample(30 * u.min)\n",
    "visp = a.Instrument.visp & a.dkist.Embargoed(False)\n",
    "\n",
    "Fido.search(time, aia | visp)"
   ]
  },
  {
   "cell_type": "markdown",
   "id": "50ec3bce",
   "metadata": {},
   "source": [
    "Here we have used a couple of different attrs `a.Sample` limits the results to one per time window given, and `a.Wavelength` searches for specific wavelengths of data.\n",
    "Also, we passed our attrs as positional arguments to `Fido.search` this is a little bit of sugar to prevent having to specify a lot of brackets, all arguments have the and (`&`) operator applied to them.\n",
    "\n",
    "## Working with Results Tables\n",
    "\n",
    "A Fido search returns a {obj}`sunpy.net.fido_factory.UnifiedResponse` object, which contains all the search results from all the different clients and requests made to the servers."
   ]
  },
  {
   "cell_type": "code",
   "execution_count": null,
   "id": "6a7330a1",
   "metadata": {},
   "outputs": [],
   "source": [
    "res = Fido.search((a.Instrument.vbi | a.Instrument.visp) & a.dkist.Embargoed(False))\n",
    "type(res)"
   ]
  },
  {
   "cell_type": "markdown",
   "id": "795a9fde",
   "metadata": {},
   "source": [
    "The `UnifiedResponse` object provides a couple of different ways to select the results you are interested in.\n",
    "It's possible to select just the results returned by a specific client by name, in this case all the results are from the DKIST client so this changes nothing."
   ]
  },
  {
   "cell_type": "code",
   "execution_count": null,
   "id": "255f82b0",
   "metadata": {},
   "outputs": [],
   "source": [
    "res[\"dkist\"]"
   ]
  },
  {
   "cell_type": "markdown",
   "id": "6128f89d",
   "metadata": {},
   "source": [
    "This object is similar to a list of tables, where each response can also be selected by the first index:"
   ]
  },
  {
   "cell_type": "code",
   "execution_count": null,
   "id": "078427ca",
   "metadata": {},
   "outputs": [],
   "source": [
    "vbi = res[0]\n",
    "vbi"
   ]
  },
  {
   "cell_type": "markdown",
   "id": "36ad8584",
   "metadata": {},
   "source": [
    "Now we have selected a single set of results from the `UnifiedResponse` object, we can see that we have a `DKISTQueryResponseTable` object:"
   ]
  },
  {
   "cell_type": "code",
   "execution_count": null,
   "id": "ff34364c",
   "metadata": {},
   "outputs": [],
   "source": [
    "type(vbi)"
   ]
  },
  {
   "cell_type": "markdown",
   "id": "0f7fe9e9",
   "metadata": {},
   "source": [
    "This is a subclass of `astropy.table.QTable`, which means we can do operations such as sorting and filtering with this table.\n",
    "\n",
    "We can display only some columns:"
   ]
  },
  {
   "cell_type": "code",
   "execution_count": null,
   "id": "00bc84fd",
   "metadata": {},
   "outputs": [],
   "source": [
    "vbi[\"Dataset ID\", \"Start Time\", \"Average Fried Parameter\", \"Embargoed\"]"
   ]
  },
  {
   "cell_type": "markdown",
   "id": "fc332e64",
   "metadata": {},
   "source": [
    "or sort based on a column, and pick the top 5 rows:"
   ]
  },
  {
   "cell_type": "code",
   "execution_count": null,
   "id": "a7a61213",
   "metadata": {},
   "outputs": [],
   "source": [
    "vbi.sort(\"Average Fried Parameter\")\n",
    "vbi[:5]"
   ]
  },
  {
   "cell_type": "markdown",
   "id": "c143625c",
   "metadata": {},
   "source": [
    "Once we have selected the rows we are interested in we can move onto downloading the ASDF files.\n",
    "\n",
    "## Downloading Files with `Fido.fetch`\n",
    "\n",
    "```{note}\n",
    "Only the ASDF files, and not the FITS files containing the data can be downloaded with `Fido`.\n",
    "```\n",
    "\n",
    "To download files with `Fido` we pass the search results to `Fido.fetch`.\n",
    "\n",
    "If we want to download the first VBI file we searched for earlier we can do so like this:"
   ]
  },
  {
   "cell_type": "code",
   "execution_count": null,
   "id": "c65d5682",
   "metadata": {},
   "outputs": [],
   "source": [
    "Fido.fetch(vbi[0])"
   ]
  },
  {
   "cell_type": "markdown",
   "id": "bcf17456",
   "metadata": {},
   "source": [
    "This will download the ASDF file to the sunpy default data directory `~/sunpy/data`, we can customise this with the `path=` keyword argument.\n",
    "\n",
    "A simple example of specifying the path is:"
   ]
  },
  {
   "cell_type": "code",
   "execution_count": null,
   "id": "374bd7a4",
   "metadata": {
    "tags": [
     "skip-execution"
    ]
   },
   "outputs": [],
   "source": [
    "Fido.fetch(vbi[0], path=\"/data/mypath/\")"
   ]
  },
  {
   "cell_type": "markdown",
   "id": "3e25af0c",
   "metadata": {},
   "source": [
    "This will download the ASDF file as `/data/mypath/filename.asdf`.\n",
    "\n",
    "With the nature of DKIST data being a large number of files, FITS + ASDF for a whole dataset, we probably want to keep each dataset in it's own folder.\n",
    "`Fido` makes this easy by allowing you to provide a path template rather than a specific path.\n",
    "To see the list of parameters we can use in these path templates we can run:"
   ]
  },
  {
   "cell_type": "code",
   "execution_count": null,
   "id": "276c72c8",
   "metadata": {},
   "outputs": [],
   "source": [
    "vbi.path_format_keys()"
   ]
  },
  {
   "cell_type": "markdown",
   "id": "034d99e0",
   "metadata": {},
   "source": [
    "So if we want to put each of our ASDF files in a directory named with the Dataset ID and Instrument we can do:"
   ]
  },
  {
   "cell_type": "code",
   "execution_count": null,
   "id": "22b68a9b",
   "metadata": {},
   "outputs": [],
   "source": [
    "Fido.fetch(vbi[:5], path=\"~/sunpy/data/{instrument}/{dataset_id}/\")"
   ]
  }
 ],
 "metadata": {
  "kernelspec": {
   "display_name": "Python 3",
   "language": "python",
   "name": "python3"
  }
 },
 "nbformat": 4,
 "nbformat_minor": 5
}
