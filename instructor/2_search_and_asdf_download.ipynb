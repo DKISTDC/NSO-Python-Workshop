{
 "cells": [
  {
   "cell_type": "markdown",
   "id": "09f4d1ca",
   "metadata": {},
   "source": [
    "# Searching for DKIST Datasets\n",
    "\n",
    "In this session we will cover how to search for DKIST datasets available at the DKIST Data Center.\n",
    "In DKIST data parlance, a \"dataset\" is the smallest unit of data that is searchable from the data centre, and represents a single observation from a single instrument at a single pass band.\n",
    "\n",
    "Each dataset comprises a number of different files:\n",
    "  * An ASDF file containing all the metadata, and no data.\n",
    "  * A quality report PDF.\n",
    "  * An mp4 preview movie.\n",
    "  * A (large) number of FITS files, each containing a \"calibrated exposure\".\n",
    "\n",
    "All of these files apart from the FITS files containing the data can be downloaded irrespective of embargo status.\n",
    "\n",
    "For each of these \"datasets\" the DKIST Data Center keeps a \"dataset inventory record\" which is a limited set of metadata about the dataset on which you can search, either through the portal or the `dkist` Python package.\n",
    "The ASDF, quality report and preview movie can all be downloaded without authenticating, the FITS files require the use of Globus.\n",
    "\n",
    "\n",
    "## Using `Fido.search`\n",
    "\n",
    "The search interface we are going to use is {obj}`sunpy.net.Fido`.\n",
    "`Fido` supports many different sources of data, some built into `sunpy` like the VSO and some in plugins like `dkist` or `sunpy-soar`.\n",
    "With `Fido` you can search for DKIST datasets and download their corresponding ASDF files.\n",
    "To register the DKIST search with `Fido` we must also import `dkist.net`."
   ]
  },
  {
   "cell_type": "code",
   "execution_count": null,
   "id": "238a7c0c",
   "metadata": {},
   "outputs": [],
   "source": [
    "import astropy.units as u\n",
    "from sunpy.net import Fido, attrs as a\n",
    "import dkist.net"
   ]
  },
  {
   "cell_type": "markdown",
   "id": "28ab844f",
   "metadata": {},
   "source": [
    "`Fido` searches are built up from \"attrs\", which we imported above as `a`.\n",
    "These attrs are combined together with either logical AND or logical OR operations to make complex queries.\n",
    "Let's start simple and search for all the DKIST datasets which are not embargoed:"
   ]
  },
  {
   "cell_type": "code",
   "execution_count": null,
   "id": "37dab96e",
   "metadata": {
    "tags": [
     "output_scroll"
    ]
   },
   "outputs": [],
   "source": [
    "Fido.search(a.dkist.Embargoed(False))"
   ]
  },
  {
   "cell_type": "markdown",
   "id": "081be87b",
   "metadata": {},
   "source": [
    "Because we only specified one attr, and it was unique to the dkist client (it started with `a.dkist`) only the DKIST client was used.\n",
    "\n",
    "If we only want VBI datasets, that are unembargoed, between a specific time range we can use multiple attrs:"
   ]
  },
  {
   "cell_type": "code",
   "execution_count": null,
   "id": "640e16f4",
   "metadata": {},
   "outputs": [],
   "source": [
    "Fido.search(a.Time(\"2022-06-02 17:00:00\", \"2022-06-02 18:00:00\") & a.Instrument.vbi & a.dkist.Embargoed(False))"
   ]
  },
  {
   "cell_type": "markdown",
   "id": "d0aa03f9",
   "metadata": {},
   "source": [
    "Note how the `a.Time` and `a.Instrument` attrs are not prefixed with `dkist` - these are general attrs which can be used to search multiple sources of data.\n",
    "\n",
    "So far all returned results have had to match all the attrs provided, because we have used the `&` (logical AND) operator to join them.\n",
    "If we want results that match either one of multiple options we can use the `|` operator."
   ]
  },
  {
   "cell_type": "code",
   "execution_count": null,
   "id": "2dad5aed",
   "metadata": {
    "tags": [
     "output_scroll"
    ]
   },
   "outputs": [],
   "source": [
    "Fido.search((a.Instrument.vbi | a.Instrument.visp) & a.dkist.Embargoed(False))"
   ]
  },
  {
   "cell_type": "markdown",
   "id": "4570fdb0",
   "metadata": {},
   "source": [
    "As you can see this has returned two separate tables, one for VBI and one for VISP.\n",
    "\n",
    "Because `Fido` can search other clients as well as the DKIST you can make a more complex query which will search for VISP data and context images from AIA at the same time:"
   ]
  },
  {
   "cell_type": "code",
   "execution_count": null,
   "id": "39e45580",
   "metadata": {},
   "outputs": [],
   "source": [
    "time = a.Time(\"2022-06-02 17:00:00\", \"2022-06-02 18:00:00\")\n",
    "aia = a.Instrument.aia & a.Wavelength(17.1 * u.nm) & a.Sample(30 * u.min)\n",
    "visp = a.Instrument.visp & a.dkist.Embargoed(False)\n",
    "\n",
    "Fido.search(time, aia | visp)"
   ]
  },
  {
   "cell_type": "markdown",
   "id": "ceaa0b39",
   "metadata": {},
   "source": [
    "Here we have used a couple of different attrs.\n",
    "`a.Sample` limits the results to one per time window given, and `a.Wavelength` searches for specific wavelengths of data.\n",
    "Also, we passed our attrs as positional arguments to `Fido.search`.\n",
    "This is a little bit of sugar to prevent having to specify a lot of brackets; all arguments have the and (`&`) operator applied to them.\n",
    "\n",
    "## Working with Results Tables\n",
    "\n",
    "A Fido search returns a {obj}`sunpy.net.fido_factory.UnifiedResponse` object, which contains all the search results from all the different clients and requests made to the servers."
   ]
  },
  {
   "cell_type": "code",
   "execution_count": null,
   "id": "e0622751",
   "metadata": {},
   "outputs": [],
   "source": [
    "res = Fido.search((a.Instrument.vbi | a.Instrument.visp) & a.dkist.Embargoed(False))\n",
    "type(res)"
   ]
  },
  {
   "cell_type": "markdown",
   "id": "77d70579",
   "metadata": {},
   "source": [
    "The `UnifiedResponse` object provides a couple of different ways to select the results you are interested in.\n",
    "It's possible to select just the results returned by a specific client by name, in this case all the results are from the DKIST client so this changes nothing."
   ]
  },
  {
   "cell_type": "code",
   "execution_count": null,
   "id": "6bae0d5b",
   "metadata": {
    "tags": [
     "output_scroll"
    ]
   },
   "outputs": [],
   "source": [
    "res[\"dkist\"]"
   ]
  },
  {
   "cell_type": "markdown",
   "id": "519b66fa",
   "metadata": {},
   "source": [
    "This object is similar to a list of tables, where each response can also be selected by the first index:"
   ]
  },
  {
   "cell_type": "code",
   "execution_count": null,
   "id": "b0df0ac4",
   "metadata": {
    "tags": [
     "output_scroll"
    ]
   },
   "outputs": [],
   "source": [
    "vbi = res[0]\n",
    "vbi"
   ]
  },
  {
   "cell_type": "markdown",
   "id": "d1667647",
   "metadata": {},
   "source": [
    "Now we have selected a single set of results from the `UnifiedResponse` object, we can see that we have a `DKISTQueryResponseTable` object:"
   ]
  },
  {
   "cell_type": "code",
   "execution_count": null,
   "id": "af8c405b",
   "metadata": {},
   "outputs": [],
   "source": [
    "type(vbi)"
   ]
  },
  {
   "cell_type": "markdown",
   "id": "2f11b69f",
   "metadata": {},
   "source": [
    "This is a subclass of {obj}`astropy.table.QTable`, which means we can do operations such as sorting and filtering with this table.\n",
    "\n",
    "We can display only some columns:"
   ]
  },
  {
   "cell_type": "code",
   "execution_count": null,
   "id": "5e8f9664",
   "metadata": {
    "tags": [
     "output_scroll"
    ]
   },
   "outputs": [],
   "source": [
    "vbi[\"Dataset ID\", \"Start Time\", \"Average Fried Parameter\", \"Embargoed\"]"
   ]
  },
  {
   "cell_type": "markdown",
   "id": "68d65981",
   "metadata": {},
   "source": [
    "or sort based on a column, and pick the top 5 rows:"
   ]
  },
  {
   "cell_type": "code",
   "execution_count": null,
   "id": "26465595",
   "metadata": {},
   "outputs": [],
   "source": [
    "vbi.sort(\"Average Fried Parameter\")\n",
    "vbi[:5]"
   ]
  },
  {
   "cell_type": "markdown",
   "id": "4aa8a204",
   "metadata": {},
   "source": [
    "Once we have selected the rows we are interested in we can move onto downloading the ASDF files.\n",
    "\n",
    "## Downloading Files with `Fido.fetch`\n",
    "\n",
    "```{note}\n",
    "Only the ASDF files, and not the FITS files containing the data can be downloaded with `Fido`.\n",
    "```\n",
    "\n",
    "To download files with `Fido` we pass the search results to `Fido.fetch`.\n",
    "\n",
    "If we want to download the first VBI file we searched for earlier we can do so like this:"
   ]
  },
  {
   "cell_type": "code",
   "execution_count": null,
   "id": "f00157d9",
   "metadata": {},
   "outputs": [],
   "source": [
    "Fido.fetch(vbi[0])"
   ]
  },
  {
   "cell_type": "markdown",
   "id": "50ecc4b3",
   "metadata": {},
   "source": [
    "This will download the ASDF file to the sunpy default data directory `~/sunpy/data`, we can customise this with the `path=` keyword argument.\n",
    "\n",
    "A simple example of specifying the path is:"
   ]
  },
  {
   "cell_type": "code",
   "execution_count": null,
   "id": "371480a0",
   "metadata": {
    "tags": [
     "skip-execution"
    ]
   },
   "outputs": [],
   "source": [
    "Fido.fetch(vbi[0], path=\"/data/mypath/\")"
   ]
  },
  {
   "cell_type": "markdown",
   "id": "9da1e4e0",
   "metadata": {},
   "source": [
    "This will download the ASDF file as `/data/mypath/filename.asdf`.\n",
    "\n",
    "With the nature of DKIST data being a large number of files - FITS + ASDF for a whole dataset - we probably want to keep each dataset in it's own folder.\n",
    "`Fido` makes this easy by allowing you to provide a path template rather than a specific path.\n",
    "To see the list of parameters we can use in these path templates we can run:"
   ]
  },
  {
   "cell_type": "code",
   "execution_count": null,
   "id": "ee6ca8ef",
   "metadata": {},
   "outputs": [],
   "source": [
    "vbi.path_format_keys()"
   ]
  },
  {
   "cell_type": "markdown",
   "id": "e6ab3a19",
   "metadata": {},
   "source": [
    "So if we want to put each of our ASDF files in a directory named with the Dataset ID and Instrument we can do:"
   ]
  },
  {
   "cell_type": "code",
   "execution_count": null,
   "id": "0c92f873",
   "metadata": {},
   "outputs": [],
   "source": [
    "Fido.fetch(vbi[:5], path=\"~/sunpy/data/{instrument}/{dataset_id}/\")"
   ]
  }
 ],
 "metadata": {
  "kernelspec": {
   "display_name": "Python 3",
   "language": "python",
   "name": "python3"
  }
 },
 "nbformat": 4,
 "nbformat_minor": 5
}
