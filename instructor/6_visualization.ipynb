{
 "cells": [
  {
   "cell_type": "markdown",
   "id": "b02d1d60",
   "metadata": {},
   "source": [
    "# Visualizing DKIST Data\n",
    "\n",
    "In this session we will look at how to take a better look at the actual data once we've downloaded it.\n",
    "As usual, first we'll need a dataset.\n",
    "We'll use the VISP data we downloaded at the end of the last notebook."
   ]
  },
  {
   "cell_type": "code",
   "execution_count": null,
   "id": "9e8d7f1c",
   "metadata": {
    "tags": [
     "skip-execution"
    ]
   },
   "outputs": [],
   "source": [
    "%matplotlib tk"
   ]
  },
  {
   "cell_type": "code",
   "execution_count": null,
   "id": "1c4cb73a",
   "metadata": {},
   "outputs": [],
   "source": [
    "import dkist\n",
    "import matplotlib.pyplot as plt\n",
    "\n",
    "ds = dkist.Dataset.from_directory('~/sunpy/data/VISP/AGLKO')\n",
    "ds"
   ]
  },
  {
   "cell_type": "markdown",
   "id": "aa2e2a1f",
   "metadata": {},
   "source": [
    "## Plotting our data\n",
    "\n",
    "Getting started with plotting a dataset is straightforward.\n",
    "`Dataset` provides a `plot()` method which makes a decent default plot of the data."
   ]
  },
  {
   "cell_type": "code",
   "execution_count": null,
   "id": "decf5d69",
   "metadata": {},
   "outputs": [],
   "source": [
    "ds.plot()\n",
    "plt.show()"
   ]
  },
  {
   "cell_type": "markdown",
   "id": "9fc0a014",
   "metadata": {},
   "source": [
    "Since our dataset is 4D and most users will only have access to a 2D screen, a slice has to be taken through the data.\n",
    "That slice is defined by how the data are ordered and stored in the FITS files.\n",
    "In this case, since the FITS files are arrays of the spatial axis vs wavelength, this is the slice that has been plotted for a single polarisation state and scan step.\n",
    "\n",
    "This is where the sliders at the bottom of the plot come in.\n",
    "These correspond to the axes of the data that aren't shown, and allow you to step through those axes.\n",
    "This allows you to set the polarisation state and scan step for which the slice is taken, and show the data slice at those coordinates.\n",
    "Alternatively, you can click the play button at the side of each slider to animate the plot and loop through all those values.\n",
    "\n",
    "Of course, you will probably find you don't always want to slice through the data in the default way.\n",
    "In this case, you can use the `plot_axes` argument to `plot()`.\n",
    "This takes a list which defines which axes to plot as the slice and which to use as the sliders.\n",
    "The list should contain `\"x\"` and `\"y\"` in the locations corresponding to the axes we want to plot, and `None` elsewhere.\n",
    "The ordering for this is the same as for the pixel dimensions as shown in the `Dataset` summary."
   ]
  },
  {
   "cell_type": "code",
   "execution_count": null,
   "id": "a97a3c05",
   "metadata": {},
   "outputs": [],
   "source": [
    "ds"
   ]
  },
  {
   "cell_type": "markdown",
   "id": "fba8cf8c",
   "metadata": {},
   "source": [
    "So the list needed to specify the default ordering would be `[None, None, 'y', 'x']`.\n",
    "\n",
    "For this next example we are going to crop down the data to a particular region of interest."
   ]
  },
  {
   "cell_type": "code",
   "execution_count": null,
   "id": "602b6aa4",
   "metadata": {},
   "outputs": [],
   "source": [
    "small_ds = ds[0, 520:720, :, 1000:1500]\n",
    "small_ds"
   ]
  },
  {
   "cell_type": "markdown",
   "id": "217ee139",
   "metadata": {},
   "source": [
    "If instead we want to plot the image formed by the raster scan at a particular wavelength and Stokes value, we can change which axes we specify as the x and y axes of the plot.\n",
    "Remember that since we've sliced the data down to remove the first axis, the `plot_axes` argument is now only three items long."
   ]
  },
  {
   "cell_type": "code",
   "execution_count": null,
   "id": "08c29cf1",
   "metadata": {},
   "outputs": [],
   "source": [
    "small_ds.plot(plot_axes=['y', None, 'x'])\n",
    "plt.show()"
   ]
  },
  {
   "cell_type": "markdown",
   "id": "4d00acb5",
   "metadata": {},
   "source": [
    "You may have noticed this plot took somewhat longer to draw than the previous one.\n",
    "This is for the same reason as we discussed when talking about reducing the size of dataset downloads: when you slice across the array in a different direction to how it's stored in the files, you have to reference multiple files to create the slice.\n",
    "So while the first plot only had to load values from one file at a time, the one above needs to get one line of the array from each of 1000 files in order to draw the slice.\n",
    "If you try to animate it, it then needs to do this again at every step.\n",
    "\n",
    "```{warning}\n",
    "For the above example we have very deliberately sliced the data to a size that is manageably small.\n",
    "Due to some known issues in the plotting code, plotting slices across the data in this way is extremely slow and is not really viable for a full-size dataset.\n",
    "```\n",
    "\n",
    "You can also use `plot_axes` to create a line plot, by specifying only one axis of the data.\n",
    "So to plot a spectrum at a fixed Stokes, time and raster location we can tell plot to use the dispersion axis as the x axis."
   ]
  },
  {
   "cell_type": "code",
   "execution_count": null,
   "id": "891d2aa6",
   "metadata": {},
   "outputs": [],
   "source": [
    "ds.plot(plot_axes=[None, None, 'x', None])\n",
    "plt.show()"
   ]
  },
  {
   "cell_type": "markdown",
   "id": "a61db6ef",
   "metadata": {},
   "source": [
    "It is also possible to slice the data manually and just plot the result.\n",
    "This of course creates a new dataset so it will only plot the axes that remain, without sliders or the ability to step through the values of the other axes."
   ]
  },
  {
   "cell_type": "code",
   "execution_count": null,
   "id": "4c957e61",
   "metadata": {},
   "outputs": [],
   "source": [
    "ds[0, 0, :, 200].plot()\n",
    "plt.show()"
   ]
  },
  {
   "cell_type": "markdown",
   "id": "d0a3a83d",
   "metadata": {},
   "source": [
    "## Plotting VBI Data\n",
    "\n",
    "For the next few examples we'll go back to using some VBI data.\n",
    "Let's use 'BLKGA', which we used in a previous session.\n",
    "We haven't actually downloaded the full data for this dataset yet, but the plotting will all still work anyway, and you can download the data later on or in the background if you would like to see the full plots."
   ]
  },
  {
   "cell_type": "code",
   "execution_count": null,
   "id": "adbd045a",
   "metadata": {},
   "outputs": [],
   "source": [
    "tds = dkist.Dataset.from_directory('~/sunpy/data/VBI/BLKGA/')\n",
    "ds = tds[0, 0]"
   ]
  },
  {
   "cell_type": "markdown",
   "id": "e251f87a",
   "metadata": {},
   "source": [
    "Now let's take a slice of the data and plot it.\n",
    "This returns an axes object which we haven't needed before, but this time we'll assign it to a variable so that we can manipulate the plot.\n",
    "This allows us to do a number of things with it, such as show the grid of the plot."
   ]
  },
  {
   "cell_type": "code",
   "execution_count": null,
   "id": "34e3d9de",
   "metadata": {},
   "outputs": [],
   "source": [
    "ax = ds[0].plot()\n",
    "ax.grid(True)\n",
    "plt.show()"
   ]
  },
  {
   "cell_type": "markdown",
   "id": "ad3f62fe",
   "metadata": {},
   "source": [
    "What you will probably notice here is that the grid is not aligned with the pixel grid of the image.\n",
    "This is because the plot returns a `WCSAxesSubplot`, which is coordinate-aware and automatically uses the world coordinate system for the grid.\n",
    "It also supports all the usual ways of manipulating subplots.\n",
    "\n",
    "Since the `WCSAxesSubplot` is coordinate-aware, we can also use it for plotting coordinates directly, without having to do any manual conversions.\n",
    "To do this, we can use the `.plot_coord()` method."
   ]
  },
  {
   "cell_type": "code",
   "execution_count": null,
   "id": "0fbf40b7",
   "metadata": {},
   "outputs": [],
   "source": [
    "import astropy.units as u\n",
    "from astropy.coordinates import SkyCoord\n",
    "\n",
    "ax = ds[0].plot()\n",
    "ax.grid(True)\n",
    "\n",
    "coord = SkyCoord(-620*u.arcsec, -405*u.arcsec, frame='helioprojective', observer='earth', obstime=ds.headers[0][\"DATE-AVG\"])\n",
    "# Plot the coordinate as a white circle\n",
    "ax.plot_coord(coord, 'wo')\n",
    "plt.show()"
   ]
  },
  {
   "cell_type": "markdown",
   "id": "85752d2c",
   "metadata": {},
   "source": [
    "### Using AIA as a Context Image\n",
    "\n",
    "#### Fetching an AIA Image\n",
    "Next we are going to use the coordinate information in the VBI dataset to plot VBI's field of view over an AIA image.\n",
    "To do this we are going to use {obj}`sunpy.map`."
   ]
  },
  {
   "cell_type": "code",
   "execution_count": null,
   "id": "2c61d617",
   "metadata": {},
   "outputs": [],
   "source": [
    "import sunpy.map\n",
    "from sunpy.net import Fido, attrs as a"
   ]
  },
  {
   "cell_type": "markdown",
   "id": "9f84e470",
   "metadata": {},
   "source": [
    "First we shall search for an AIA image closest to the start time of the VBI dataset."
   ]
  },
  {
   "cell_type": "code",
   "execution_count": null,
   "id": "44488b20",
   "metadata": {},
   "outputs": [],
   "source": [
    "start_time = tds.inventory[\"startTime\"]\n",
    "end_time = tds.inventory[\"endTime\"]"
   ]
  },
  {
   "cell_type": "code",
   "execution_count": null,
   "id": "12ea9c10",
   "metadata": {},
   "outputs": [],
   "source": [
    "res = Fido.search(a.Time(start_time, end_time, start_time), a.Instrument.aia, a.Wavelength(19.4 * u.nm))\n",
    "res"
   ]
  },
  {
   "cell_type": "code",
   "execution_count": null,
   "id": "5017a825",
   "metadata": {},
   "outputs": [],
   "source": [
    "aia_files = Fido.fetch(res)\n",
    "aia_files"
   ]
  },
  {
   "cell_type": "markdown",
   "id": "a036e95d",
   "metadata": {},
   "source": [
    "Now we have an AIA image, let's read it with `sunpy`."
   ]
  },
  {
   "cell_type": "code",
   "execution_count": null,
   "id": "40968f13",
   "metadata": {},
   "outputs": [],
   "source": [
    "import sunpy.map"
   ]
  },
  {
   "cell_type": "code",
   "execution_count": null,
   "id": "2ea48bbe",
   "metadata": {},
   "outputs": [],
   "source": [
    "aia = sunpy.map.Map(aia_files)\n",
    "aia"
   ]
  },
  {
   "cell_type": "markdown",
   "id": "50a4e854",
   "metadata": {},
   "source": [
    "Now let's make a simple plot of the AIA map.\n",
    "The sunpy map object has a `.plot()` method which sets up a lot of stuff for us, but we will manually make the figure and axes."
   ]
  },
  {
   "cell_type": "code",
   "execution_count": null,
   "id": "aff09bc4",
   "metadata": {},
   "outputs": [],
   "source": [
    "fig = plt.figure()\n",
    "ax = plt.subplot(projection=aia)\n",
    "aia.plot(axes=ax)"
   ]
  },
  {
   "cell_type": "markdown",
   "id": "b2a56f3a",
   "metadata": {},
   "source": [
    "To overplot the field of view of the VBI data we will use the `draw_quadrangle` method:"
   ]
  },
  {
   "cell_type": "code",
   "execution_count": null,
   "id": "cc5d2607",
   "metadata": {},
   "outputs": [],
   "source": [
    "help(aia.draw_quadrangle)"
   ]
  },
  {
   "cell_type": "markdown",
   "id": "cfab5aae",
   "metadata": {},
   "source": [
    "#### Computing the VBI field of View\n",
    "\n",
    "As we can see from the docstring of `aia.draw_quadrangle` we can specify a bottom left and a top right coordinate.\n",
    "We can calculate the bottom left coordinate of a VBI tile like this:"
   ]
  },
  {
   "cell_type": "code",
   "execution_count": null,
   "id": "2637ecc5",
   "metadata": {},
   "outputs": [],
   "source": [
    "ds[0].wcs.array_index_to_world(0, 0)"
   ]
  },
  {
   "cell_type": "markdown",
   "id": "fd547bb0",
   "metadata": {},
   "source": [
    "Note in the docstring it says:\n",
    "\n",
    "> The bottom-left coordinate of the rectangle. If a `SkyCoord` it can have shape `(2,)` and simultaneously define `top_right`.\n",
    "\n",
    "This is because, as we briefly saw yesterday, a `SkyCoord` object can be an array.\n",
    "If we pass `array_index_to_world` an array-like input it will give us an array-like output:"
   ]
  },
  {
   "cell_type": "code",
   "execution_count": null,
   "id": "fae6c92a",
   "metadata": {},
   "outputs": [],
   "source": [
    "corners = ds[0].wcs.array_index_to_world([0, ds[0].data.shape[0]],\n",
    "                                         [0, ds[0].data.shape[1]])\n",
    "corners"
   ]
  },
  {
   "cell_type": "markdown",
   "id": "66c4c97e",
   "metadata": {},
   "source": [
    "So here for the first array index dimension we are giving it the bottom left row index and the top right row index and for the second array index dimension we are giving it the bottom left column index and the top right column index.\n",
    "\n",
    "This gives us back a `SkyCoord` with two elements in both `Tx` and `Ty`:"
   ]
  },
  {
   "cell_type": "code",
   "execution_count": null,
   "id": "b940ed6e",
   "metadata": {},
   "outputs": [],
   "source": [
    "corners.Tx"
   ]
  },
  {
   "cell_type": "markdown",
   "id": "15dad9cc",
   "metadata": {},
   "source": [
    "#### Plotting VBI Field of View on AIA Images\n",
    "\n",
    "Now we can use this to overplot the field of view of this single VBI tile:"
   ]
  },
  {
   "cell_type": "code",
   "execution_count": null,
   "id": "ce739f75",
   "metadata": {},
   "outputs": [],
   "source": [
    "fig = plt.figure()\n",
    "ax = plt.subplot(projection=aia)\n",
    "aia.plot(axes=ax)\n",
    "aia.draw_quadrangle(corners)"
   ]
  },
  {
   "cell_type": "markdown",
   "id": "23742092",
   "metadata": {},
   "source": [
    "With a couple of loops we can do the same thing for all the VBI tiles in the `TiledDataset` object.\n",
    "First, let us calculate the corners of all the tiles:"
   ]
  },
  {
   "cell_type": "code",
   "execution_count": null,
   "id": "6b978dff",
   "metadata": {},
   "outputs": [],
   "source": [
    "bounding_boxes = []\n",
    "for tile in tds.flat:\n",
    "    tile = tile[0]  # Use the first frame\n",
    "    corners = tile.wcs.array_index_to_world([0, tile.data.shape[0]], [0, tile.data.shape[1]])\n",
    "    bounding_boxes.append(corners)"
   ]
  },
  {
   "cell_type": "markdown",
   "id": "2882f5c2",
   "metadata": {},
   "source": [
    "Now with another loop we can plot all of these tiles on the AIA image:"
   ]
  },
  {
   "cell_type": "code",
   "execution_count": null,
   "id": "c126334d",
   "metadata": {},
   "outputs": [],
   "source": [
    "fig = plt.figure()\n",
    "ax = plt.subplot(projection=aia)\n",
    "aia.plot(axes=ax)\n",
    "for i, tile_bb in enumerate(bounding_boxes):\n",
    "    aia.draw_quadrangle(tile_bb, edgecolor=f\"C{i}\")"
   ]
  },
  {
   "cell_type": "markdown",
   "id": "f0c28530",
   "metadata": {},
   "source": [
    "Finally, we can zoom in a little.\n",
    "If you are doing this interactively you can zoom in with the UI, here I shall do it by specifying pixel coordinates:"
   ]
  },
  {
   "cell_type": "code",
   "execution_count": null,
   "id": "c3adfc07",
   "metadata": {},
   "outputs": [],
   "source": [
    "_ = ax.axis((750, 1400, 1000, 1650))\n",
    "fig"
   ]
  }
 ],
 "metadata": {
  "kernelspec": {
   "display_name": "Python 3",
   "language": "python",
   "name": "python3"
  }
 },
 "nbformat": 4,
 "nbformat_minor": 5
}
