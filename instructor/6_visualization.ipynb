{
 "cells": [
  {
   "cell_type": "markdown",
   "id": "b4c42259",
   "metadata": {},
   "source": [
    "# Visualizing DKIST Data"
   ]
  }
 ],
 "metadata": {
  "kernelspec": {
   "display_name": "Python 3",
   "language": "python",
   "name": "python3"
  }
 },
 "nbformat": 4,
 "nbformat_minor": 5
}
