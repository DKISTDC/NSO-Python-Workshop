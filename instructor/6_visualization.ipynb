{
 "cells": [
  {
   "cell_type": "markdown",
   "id": "9cf9d57a",
   "metadata": {},
   "source": [
    "# Visualizing DKIST Data\n",
    "\n",
    "In this session we will look at how to take a better look at the actual data once we've downloaded it.\n",
    "As usual, first we'll need a dataset.\n",
    "We'll use the VISP data we downloaded at the end of the last notebook."
   ]
  },
  {
   "cell_type": "code",
   "execution_count": null,
   "id": "042e42f3",
   "metadata": {},
   "outputs": [],
   "source": [
    "import dkist\n",
    "import matplotlib.pyplot as plt\n",
    "\n",
    "ds = dkist.Dataset.from_directory('/home/drew/sunpy/data/pid_1_118/AYDEW//')\n",
    "ds"
   ]
  },
  {
   "cell_type": "markdown",
   "id": "d445504e",
   "metadata": {},
   "source": [
    "## Plotting our data\n",
    "\n",
    "Getting started with plotting a dataset is straightforward.\n",
    "`Dataset` provides a `plot()` method which makes a decent default plot of the data."
   ]
  },
  {
   "cell_type": "code",
   "execution_count": null,
   "id": "0780492f",
   "metadata": {},
   "outputs": [],
   "source": [
    "ds.plot()\n",
    "plt.show()"
   ]
  },
  {
   "cell_type": "markdown",
   "id": "01f2f712",
   "metadata": {},
   "source": [
    "Since our dataset is 4D and most users will only have access to a 2D screen, a slice has to be taken through the data.\n",
    "That slice is defined by how the data are ordered and stored in the FITS files.\n",
    "In this case, since the FITS files are arrays of the spatial axis vs wavelength, this is the slice that has been plotted for a single polarisation state and scan step.\n",
    "\n",
    "This is where the sliders at the bottom of the plot come in.\n",
    "These correspond to the axes of the data that aren't shown, and allow you to step through those axes.\n",
    "This allows you to set the polarisation state and scan step for which the slice is taken, and show the data slice at those coordinates.\n",
    "Alternatively, you can click the play button at the side of each slider to animate the plot and loop through all those values.\n",
    "\n",
    "Of course, you will probably find you don't always want to slice through the data in the default way.\n",
    "In this case, you can use the `plot_axes` argument to `plot()`.\n",
    "This takes a list which defines which axes to plot as the slice and which to use as the sliders.\n",
    "The list should contain `\"x\"` and `\"y\"` in the locations corresponding to the axes we want to plot, and `None` elsewhere.\n",
    "The ordering for this is the same as for the pixel dimensions as shown in the `Dataset` summary."
   ]
  },
  {
   "cell_type": "code",
   "execution_count": null,
   "id": "676f3cba",
   "metadata": {},
   "outputs": [],
   "source": [
    "ds"
   ]
  },
  {
   "cell_type": "markdown",
   "id": "91c865da",
   "metadata": {},
   "source": [
    "So the list needed to specify the default ordering would be `[None, None, 'y', 'x']`.\n",
    "If instead we want to plot the image formed by the raster scan at a particular wavelength and Stokes value, we would do this:"
   ]
  },
  {
   "cell_type": "code",
   "execution_count": null,
   "id": "23015cde",
   "metadata": {},
   "outputs": [],
   "source": [
    "ds.plot(plot_axes=[None, 'y', 'x', None])\n",
    "plt.show()"
   ]
  },
  {
   "cell_type": "markdown",
   "id": "0daccbc2",
   "metadata": {},
   "source": [
    "You can also use this argument to create a line plot, by specifying only one axis of the data.\n",
    "So to plot a spectrum at a fixed Stokes, time and raster location we can tell plot to use the dispersion axis as the x axis."
   ]
  },
  {
   "cell_type": "code",
   "execution_count": null,
   "id": "c0554966",
   "metadata": {},
   "outputs": [],
   "source": [
    "ds.plot(plot_axes=[None, None, None, 'x'])\n",
    "plt.show()"
   ]
  },
  {
   "cell_type": "markdown",
   "id": "e055c0cc",
   "metadata": {},
   "source": [
    "## Coordinate overlays\n",
    "\n",
    "\n",
    "## Plotting (ndcube)"
   ]
  }
 ],
 "metadata": {
  "kernelspec": {
   "display_name": "Python 3",
   "language": "python",
   "name": "python3"
  }
 },
 "nbformat": 4,
 "nbformat_minor": 5
}
