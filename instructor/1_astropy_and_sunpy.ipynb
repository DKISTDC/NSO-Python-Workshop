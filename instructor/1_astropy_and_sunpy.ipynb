{
 "cells": [
  {
   "cell_type": "markdown",
   "id": "bb10c68c",
   "metadata": {},
   "source": [
    "# Astropy and SunPy - A Quick Primer\n",
    "\n",
    "Before we progress to searching for DKIST data we need to cover some functionality of the [SunPy](https://sunpy.org) and [Astropy](https://astropy.org) packages.\n",
    "These two packages, amongst a few others, are the core components of the DKIST tools.\n",
    "In this session we shall only quickly cover the functionality of SunPy and Astropy we need for the rest of the workshop.\n",
    "There are many other parts of these packages which are useful when working with DKIST data, which you should explore.\n",
    "As we covered in the introduction, Python is a modular language; Astropy provides fundamental functionality for a lot of different types of astronomy.\n",
    "In this section we shall cover the following parts of Astropy:\n",
    "\n",
    "* Units\n",
    "* World Coordinate Systems\n",
    "* Coordinates\n",
    "\n",
    "## Units\n",
    "\n",
    "Astropy provides a subpackage {obj}`astropy.units` which provides tools for associating physical units with numbers and arrays.\n",
    "This lets you do mathematical operations on these arrays while propagating the units.\n",
    "\n",
    "To get started we import `astropy.units` because we are going to be using this a lot, we import it as `u`."
   ]
  },
  {
   "cell_type": "code",
   "execution_count": null,
   "id": "686a9070",
   "metadata": {},
   "outputs": [],
   "source": [
    "import astropy.units as u"
   ]
  },
  {
   "cell_type": "markdown",
   "id": "5ddafaf8",
   "metadata": {},
   "source": [
    "Now we can access various units as such:"
   ]
  },
  {
   "cell_type": "code",
   "execution_count": null,
   "id": "d32f15ba",
   "metadata": {},
   "outputs": [],
   "source": [
    "u.m"
   ]
  },
  {
   "cell_type": "code",
   "execution_count": null,
   "id": "d5003804",
   "metadata": {},
   "outputs": [],
   "source": [
    "u.kg"
   ]
  },
  {
   "cell_type": "markdown",
   "id": "7dd981e2",
   "metadata": {},
   "source": [
    "We can now attach a unit to a number:"
   ]
  },
  {
   "cell_type": "code",
   "execution_count": null,
   "id": "17cc7a6a",
   "metadata": {},
   "outputs": [],
   "source": [
    "length = 10 * u.m\n",
    "length"
   ]
  },
  {
   "cell_type": "markdown",
   "id": "68c57452",
   "metadata": {},
   "source": [
    "We can also compose multiple quantities (a number with a unit):"
   ]
  },
  {
   "cell_type": "code",
   "execution_count": null,
   "id": "94fa606a",
   "metadata": {},
   "outputs": [],
   "source": [
    "speed = length / (30 * u.min)\n",
    "speed"
   ]
  },
  {
   "cell_type": "markdown",
   "id": "4ad8065c",
   "metadata": {},
   "source": [
    "Using the `.to()` method on a `u.Quantity` object lets you convert a quantity to a different unit."
   ]
  },
  {
   "cell_type": "code",
   "execution_count": null,
   "id": "7193698a",
   "metadata": {},
   "outputs": [],
   "source": [
    "speed.to(u.km/u.h)"
   ]
  },
  {
   "cell_type": "markdown",
   "id": "ddd4c5e5",
   "metadata": {},
   "source": [
    "### Equivalencies\n",
    "\n",
    "Some conversions are not done by a conversion factor as between miles and kilometers – for example converting between wavelength and frequency:"
   ]
  },
  {
   "cell_type": "code",
   "execution_count": null,
   "id": "bff2a937",
   "metadata": {
    "tags": [
     "raises-exception"
    ]
   },
   "outputs": [],
   "source": [
    "(656.281 * u.nm).to(u.Hz)  # Fails because they are not compatible"
   ]
  },
  {
   "cell_type": "markdown",
   "id": "b0aad171",
   "metadata": {},
   "source": [
    "However we can make use of a spectral *equivalency* to indicate the link between the units:"
   ]
  },
  {
   "cell_type": "code",
   "execution_count": null,
   "id": "dc95c849",
   "metadata": {},
   "outputs": [],
   "source": [
    "(656.281 * u.nm).to(u.Hz, equivalencies=u.spectral())"
   ]
  },
  {
   "cell_type": "markdown",
   "id": "a6b3da78",
   "metadata": {},
   "source": [
    "### Constants\n",
    "\n",
    "The `astropy.constants` sub-package provides a set of physical constants which are compatible with the units/quantities framework:"
   ]
  },
  {
   "cell_type": "code",
   "execution_count": null,
   "id": "8a96d425",
   "metadata": {},
   "outputs": [],
   "source": [
    "from astropy.constants import M_sun, c"
   ]
  },
  {
   "cell_type": "code",
   "execution_count": null,
   "id": "5f389415",
   "metadata": {},
   "outputs": [],
   "source": [
    "E = 3 * M_sun * c ** 2\n",
    "E.to(u.J)"
   ]
  },
  {
   "cell_type": "markdown",
   "id": "bab82900",
   "metadata": {},
   "source": [
    "## Coordinates\n",
    "\n",
    "The Astropy coordinates submodule {obj}`astropy.coordinates` provides classes to represent physical coordinates with all their associated metadata, and transform them between different coordinate systems.\n",
    "Currently, {obj}`astropy.coordinates` supports: \n",
    "\n",
    "* Spatial coordinates via {obj}`astropy.coordinates.SkyCoord`\n",
    "* Spectral coordinates via {obj}`astropy.coordinates.SpectralCoord`\n",
    "* Stokes profiles via {obj}`astropy.coordinates.StokesCoord` (coming soon)\n",
    "\n",
    "### Spatial Coordinates\n",
    "\n",
    "SunPy provides extensions to the Astropy coordinate system to represent common solar physics frames.\n",
    "So to use the sunpy coordinates we have to first import {obj}`sunpy.coordinates` which registers them with astropy."
   ]
  },
  {
   "cell_type": "code",
   "execution_count": null,
   "id": "21df7b2c",
   "metadata": {},
   "outputs": [],
   "source": [
    "import sunpy.coordinates\n",
    "from astropy.coordinates import SkyCoord"
   ]
  },
  {
   "cell_type": "markdown",
   "id": "cecb68a0",
   "metadata": {},
   "source": [
    "We can now create a `SkyCoord` object representing a point on the Sun:"
   ]
  },
  {
   "cell_type": "code",
   "execution_count": null,
   "id": "3867d8ab",
   "metadata": {},
   "outputs": [],
   "source": [
    "SkyCoord(10*u.arcsec, 20*u.arcsec, frame=\"helioprojective\")"
   ]
  },
  {
   "cell_type": "markdown",
   "id": "32ce0aff",
   "metadata": {},
   "source": [
    "This is the most minimal version of this coordinate frame, however, it isn't very useful as we haven't provided enough information to be able to transform it to other frames.\n",
    "This is because helioprojective is an observer centred coordinate frame, so we need to know where in inertial space the observer is.\n",
    "One way of doing this is to say the observer is on Earth at a specific time:"
   ]
  },
  {
   "cell_type": "code",
   "execution_count": null,
   "id": "1be3b5f2",
   "metadata": {},
   "outputs": [],
   "source": [
    "hpc1 = SkyCoord(10*u.arcsec, 20*u.arcsec, frame=\"helioprojective\",\n",
    "                obstime=\"2023-05-21T04:00:00\", observer=\"earth\")\n",
    "hpc1"
   ]
  },
  {
   "cell_type": "markdown",
   "id": "fc1e76f0",
   "metadata": {},
   "source": [
    "This coordinate can now be converted to other frames, such as heliographic coordinates:"
   ]
  },
  {
   "cell_type": "code",
   "execution_count": null,
   "id": "49aba377",
   "metadata": {},
   "outputs": [],
   "source": [
    "hpc1.transform_to(\"heliographic_stonyhurst\")"
   ]
  },
  {
   "cell_type": "markdown",
   "id": "3fffbf20",
   "metadata": {},
   "source": [
    "There are few things to notice about the difference between these two `SkyCoord` objects:\n",
    "\n",
    "1. The default representation of the latitude and longitude is now in degrees as is conventional.\n",
    "1. The heliographic frame is three dimensional (it has a radius), when the input frame was not. This is because the distance from the observer was calculated using the `rsun` attribute.\n",
    "1. The `obstime` and `rsun` attributes are still present, but the `observer` attribute isn't. This is because heliographic coordinates are not observer dependent.\n",
    "1. The `obstime` attribute is still important to transform to other frames, as the heliographic frame needs to know the location of Earth.\n",
    "\n",
    "### Spectral Coordinates\n",
    "\n",
    "{obj}`astropy.coordinates.SpectralCoord` is a `Quantity` like object which also holds information about the observer and target coordinates and relative velocities.\n",
    "\n",
    "```{note}\n",
    "Use of `SpectralCoord` with solar data is still experimental so not all features may work, or be accurate.\n",
    "```"
   ]
  },
  {
   "cell_type": "code",
   "execution_count": null,
   "id": "6a0ebbc2",
   "metadata": {},
   "outputs": [],
   "source": [
    "from astropy.coordinates import SpectralCoord\n",
    "from sunpy.coordinates import get_earth"
   ]
  },
  {
   "cell_type": "markdown",
   "id": "a53f647a",
   "metadata": {},
   "source": [
    "`SpectralCoord` does not automatically make the HPC coordinate 3D, but wants the distance, so we do it explicitally:"
   ]
  },
  {
   "cell_type": "code",
   "execution_count": null,
   "id": "9d7be872",
   "metadata": {},
   "outputs": [],
   "source": [
    "hpc2 = hpc1.make_3d()"
   ]
  },
  {
   "cell_type": "markdown",
   "id": "1bb4e06c",
   "metadata": {},
   "source": [
    "Now we can construct our spectral coordinate with both a target and an observer"
   ]
  },
  {
   "cell_type": "code",
   "execution_count": null,
   "id": "979e50bb",
   "metadata": {},
   "outputs": [],
   "source": [
    "spc = SpectralCoord(586.3 * u.nm, target=hpc2, observer=get_earth(time=hpc2.obstime))\n",
    "spc"
   ]
  },
  {
   "cell_type": "markdown",
   "id": "e38a7da9",
   "metadata": {},
   "source": [
    "We can show the full details of the spectral coord (working around a bug in astropy):"
   ]
  },
  {
   "cell_type": "code",
   "execution_count": null,
   "id": "865db9de",
   "metadata": {},
   "outputs": [],
   "source": [
    "print(repr(spc))"
   ]
  },
  {
   "cell_type": "markdown",
   "id": "2080762f",
   "metadata": {},
   "source": [
    "## World Coordinate System\n",
    "\n",
    "One of the other core components of the ecosystem provided by Astropy is the {obj}`astropy.wcs` package which provides tools for mapping pixel to world coordinates and world to pixel.\n",
    "When loading a FITS file with complete (and standard compliant) WCS metadata we can create an `astropy.wcs.WCS` object.\n",
    "For the this example we will use some sunpy sample data from AIA."
   ]
  },
  {
   "cell_type": "code",
   "execution_count": null,
   "id": "d80a83d3",
   "metadata": {},
   "outputs": [],
   "source": [
    "import sunpy.coordinates"
   ]
  },
  {
   "cell_type": "markdown",
   "id": "31186e02",
   "metadata": {},
   "source": [
    "To read this FITS file we will use {obj}`astropy.io.fits` (you can also use `sunpy` for this)."
   ]
  },
  {
   "cell_type": "code",
   "execution_count": null,
   "id": "56155a33",
   "metadata": {},
   "outputs": [],
   "source": [
    "from astropy.io import fits\n",
    "\n",
    "hdu_list = fits.open(\"../data/VISP_2022_10_24T19_47_33_218_00630205_I_BEOGN_L1.fits\")"
   ]
  },
  {
   "cell_type": "markdown",
   "id": "81037588",
   "metadata": {},
   "source": [
    "We can now access the header of the second HDU:"
   ]
  },
  {
   "cell_type": "code",
   "execution_count": null,
   "id": "6b8389cf",
   "metadata": {},
   "outputs": [],
   "source": [
    "hdu_list[1].header"
   ]
  },
  {
   "cell_type": "markdown",
   "id": "3cdd1f69",
   "metadata": {},
   "source": [
    "Using this header we can create a `astropy.wcs.WCS` object:"
   ]
  },
  {
   "cell_type": "code",
   "execution_count": null,
   "id": "559f8f76",
   "metadata": {},
   "outputs": [],
   "source": [
    "from astropy.wcs import WCS\n",
    "\n",
    "wcs = WCS(hdu_list[1].header)\n",
    "wcs"
   ]
  },
  {
   "cell_type": "markdown",
   "id": "24d86541",
   "metadata": {},
   "source": [
    "This WCS object allows us to convert between pixel and world coordinates, for example:"
   ]
  },
  {
   "cell_type": "code",
   "execution_count": null,
   "id": "8eea0f93",
   "metadata": {},
   "outputs": [],
   "source": [
    "wcs.pixel_to_world(1024, 400, 1)"
   ]
  },
  {
   "cell_type": "markdown",
   "id": "494bd503",
   "metadata": {},
   "source": [
    "This call returns a {obj}`astropy.coordinates.SkyCoord` object (which needs sunpy to be imported), we will come onto this more later.\n",
    "\n",
    "We can also convert between pixel and plain numbers:"
   ]
  },
  {
   "cell_type": "code",
   "execution_count": null,
   "id": "a5296976",
   "metadata": {},
   "outputs": [],
   "source": [
    "wcs.pixel_to_world_values(1024, 400, 1)"
   ]
  },
  {
   "cell_type": "markdown",
   "id": "689c5bd5",
   "metadata": {},
   "source": [
    "The units for these values are given by:"
   ]
  },
  {
   "cell_type": "code",
   "execution_count": null,
   "id": "67b5f95c",
   "metadata": {},
   "outputs": [],
   "source": [
    "wcs.world_axis_units"
   ]
  },
  {
   "cell_type": "markdown",
   "id": "9eb61c45",
   "metadata": {},
   "source": [
    "The WCS also has information about what the world axes represent:"
   ]
  },
  {
   "cell_type": "code",
   "execution_count": null,
   "id": "178b7b68",
   "metadata": {},
   "outputs": [],
   "source": [
    "wcs.world_axis_physical_types"
   ]
  },
  {
   "cell_type": "markdown",
   "id": "1efdb184",
   "metadata": {},
   "source": [
    "We can also inspect the correlation between the world axes and pixel axes:"
   ]
  },
  {
   "cell_type": "code",
   "execution_count": null,
   "id": "5044bff4",
   "metadata": {},
   "outputs": [],
   "source": [
    "wcs.axis_correlation_matrix"
   ]
  },
  {
   "cell_type": "markdown",
   "id": "a360efb3",
   "metadata": {},
   "source": [
    "This correlation matrix has the world dimensions as rows, and the pixel dimensions as columns.\n",
    "As we have a 2D image here, with two pixel and two world axes where both are coupled together.\n",
    "This means that to calculate either latitude or longitude you need both pixel coordinates."
   ]
  }
 ],
 "metadata": {
  "kernelspec": {
   "display_name": "Python 3",
   "language": "python",
   "name": "python3"
  }
 },
 "nbformat": 4,
 "nbformat_minor": 5
}
