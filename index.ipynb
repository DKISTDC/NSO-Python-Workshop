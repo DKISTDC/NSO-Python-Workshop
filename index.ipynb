{
 "cells": [
  {
   "cell_type": "markdown",
   "id": "5eabe35e",
   "metadata": {},
   "source": [
    "# DKIST Python Tools Workshop\n",
    "## NSO - 24-26th May 2023"
   ]
  },
  {
   "cell_type": "markdown",
   "id": "12e4dcf5",
   "metadata": {},
   "source": [
    "## Online Documentation\n",
    "\n",
    "To see the material in your web browser and for setup instructions see: https://docs.dkist.nso.edu/projects/nso-workshop/en/latest/intro.html"
   ]
  },
  {
   "cell_type": "markdown",
   "id": "29a33f8a",
   "metadata": {},
   "source": [
    "## Sessions\n",
    "\n",
    "The workshop is broken up into the following sessions. The instructor notebooks contain example code, we encourage you to follow along as we write it in real time!"
   ]
  },
  {
   "cell_type": "markdown",
   "id": "b05d3504",
   "metadata": {
    "tags": [
     "toc"
    ]
   },
   "source": [
    "1. [Astropy and SunPy - A Quick Primer](1_astropy_and_sunpy.ipynb) - [Instructor](instructor/1_astropy_and_sunpy.ipynb)\n",
    "1. [Searching for DKIST Datasets](2_search_and_asdf_download.ipynb) - [Instructor](instructor/2_search_and_asdf_download.ipynb)\n",
    "1. [The `Dataset` Class](3_the_dataset.ipynb) - [Instructor](instructor/3_the_dataset.ipynb)\n",
    "1. [More `Dataset`](4_more_dataset.ipynb) - [Instructor](instructor/4_more_dataset.ipynb)\n",
    "1. [Downloading Data](5_downloading_data.ipynb) - [Instructor](instructor/5_downloading_data.ipynb)\n",
    "1. [Visualizing DKIST Data](6_visualization.ipynb) - [Instructor](instructor/6_visualization.ipynb)\n",
    "1. [Downloading Data Based on Seeing](downloading_files_r0.ipynb) - [Instructor](instructor/downloading_files_r0.ipynb)\n",
    "1. [Rebinning and How to Use Dask](rebinning_and_dask.ipynb) - [Instructor](instructor/rebinning_and_dask.ipynb)\n",
    "1. [Stitching a VBI Moasic with `reproject`](reproject_vbi_mosaic.ipynb) - [Instructor](instructor/reproject_vbi_mosaic.ipynb)"
   ]
  }
 ],
 "metadata": {
  "celltoolbar": "Edit Metadata",
  "kernelspec": {
   "display_name": "Python 3 (ipykernel)",
   "language": "python",
   "name": "python3"
  },
  "language_info": {
   "codemirror_mode": {
    "name": "ipython",
    "version": 3
   },
   "file_extension": ".py",
   "mimetype": "text/x-python",
   "name": "python",
   "nbconvert_exporter": "python",
   "pygments_lexer": "ipython3",
   "version": "3.11.3"
  }
 },
 "nbformat": 4,
 "nbformat_minor": 5
}
