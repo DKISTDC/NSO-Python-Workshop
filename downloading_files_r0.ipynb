{
 "cells": [
  {
   "cell_type": "markdown",
   "id": "3bd12925",
   "metadata": {},
   "source": [
    "# Downloading Data Based on Seeing"
   ]
  },
  {
   "cell_type": "code",
   "execution_count": null,
   "id": "a93bd50c",
   "metadata": {},
   "outputs": [],
   "source": []
  },
  {
   "cell_type": "markdown",
   "id": "9134003d",
   "metadata": {},
   "source": [
    "Let's find a dataset with the highest average value of r0 (this is bad?).\n",
    "First we'll search for all unembargoed VISP data, as embargoed data is no use to us for this excercise."
   ]
  },
  {
   "cell_type": "code",
   "execution_count": null,
   "id": "2bf161fa",
   "metadata": {},
   "outputs": [],
   "source": []
  },
  {
   "cell_type": "markdown",
   "id": "46f624c6",
   "metadata": {},
   "source": [
    "Next, since we want to use the highest average $r_0$, we can have Fido sort the results and output just the useful columns."
   ]
  },
  {
   "cell_type": "code",
   "execution_count": null,
   "id": "8a8fc8da",
   "metadata": {},
   "outputs": [],
   "source": []
  },
  {
   "cell_type": "markdown",
   "id": "83acd34c",
   "metadata": {},
   "source": [
    "This gives us the dataset `BEOGN`.\n",
    "We can download the dataset ASDF with Fido to inspect it in more detail.\n",
    "Remember that this only downloads a single ASDF file with some more metadata about the dataset, not the actual science data."
   ]
  },
  {
   "cell_type": "code",
   "execution_count": null,
   "id": "35ed9b60",
   "metadata": {
    "tags": [
     "remove-stderr"
    ]
   },
   "outputs": [],
   "source": []
  },
  {
   "cell_type": "markdown",
   "id": "7c22e500",
   "metadata": {},
   "source": [
    "Now that we have access to the FITS headers we can inspect the $r_0$ more closely, just as we did in the previous session.\n",
    "Remember that `DINDEX4` is the Stokes index, so we can plot the $r_0$ for just Stokes I like so:"
   ]
  },
  {
   "cell_type": "code",
   "execution_count": null,
   "id": "34f3a47e",
   "metadata": {},
   "outputs": [],
   "source": []
  },
  {
   "cell_type": "markdown",
   "id": "cb09e9e2",
   "metadata": {},
   "source": [
    "Now let's slice down our dataset based on the first frame where $r_0$ is high:"
   ]
  },
  {
   "cell_type": "code",
   "execution_count": null,
   "id": "c78b0a1b",
   "metadata": {},
   "outputs": [],
   "source": []
  },
  {
   "cell_type": "markdown",
   "id": "85c7b880",
   "metadata": {},
   "source": [
    "We can now download only these files, remember you need globus-connect-personal running for this."
   ]
  },
  {
   "cell_type": "code",
   "execution_count": null,
   "id": "35bfaa8f",
   "metadata": {
    "tags": [
     "skip-execution"
    ]
   },
   "outputs": [],
   "source": []
  },
  {
   "cell_type": "markdown",
   "id": "a46b10eb",
   "metadata": {},
   "source": [
    "Now let's plot the Stokes I data at some wavelength:"
   ]
  },
  {
   "cell_type": "code",
   "execution_count": null,
   "id": "562561f6",
   "metadata": {
    "tags": [
     "skip-execution"
    ]
   },
   "outputs": [],
   "source": []
  },
  {
   "cell_type": "markdown",
   "id": "ea5eef9b",
   "metadata": {},
   "source": [
    "You will notice that a lot of it is missing.\n",
    "This is because we have deliberately only downloaded those frames with an acceptably low $r_0$.\n",
    "You may also notice though, that the `Dataset` object continues to function normally without the rest of the data.\n",
    "When we try to access the data, if the file is missing then `Dataset` fills in the corresponding portions of the array with NaNs.\n",
    "\n",
    "Since the seeing is bad for a significant contiguous portion of the data, we may simply want to discount that part and look only at the useful data.\n",
    "In this case we can use the sub-dataset we made earlier:"
   ]
  },
  {
   "cell_type": "code",
   "execution_count": null,
   "id": "ee7fdcf5",
   "metadata": {
    "tags": [
     "skip-execution"
    ]
   },
   "outputs": [],
   "source": []
  },
  {
   "cell_type": "markdown",
   "id": "63dbc550",
   "metadata": {},
   "source": [
    "Or of course we can make any arbitrary slice to look at whatever subset of the data we prefer."
   ]
  }
 ],
 "metadata": {
  "kernelspec": {
   "display_name": "Python 3",
   "language": "python",
   "name": "python3"
  }
 },
 "nbformat": 4,
 "nbformat_minor": 5
}
