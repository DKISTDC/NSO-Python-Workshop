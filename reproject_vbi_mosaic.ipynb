{
 "cells": [
  {
   "cell_type": "markdown",
   "id": "4c4fd118",
   "metadata": {},
   "source": [
    "# Stitching a VBI Moasic with `reproject`\n",
    "\n",
    "The [reproject](https://reproject.readthedocs.io/) package is an Astropy-affiliated package for regridding data.\n",
    "A number of different algorithms are implemented in the package, with different trade-offs for speed and accuracy.\n",
    "Reprojecting a single spatial image such as an AIA image is well supported and demonstrated in the [sunpy gallery](https://docs.sunpy.org/en/latest/generated/gallery/index.html#combining-co-aligning-and-reprojecting-images).\n",
    "When working with DKIST data, there are normally many spatial frames inside a dataset, and reprojecting them all can be very computationally expensive.\n",
    "\n",
    "We are going to use the example of using reproject's {obj}`reproject.mosaicking.reproject_and_coadd` function to stitch a mosaic of VBI frames, in a way which could be extended to be flux conserving.\n",
    "\n",
    "\n",
    "## Obtaining some data"
   ]
  },
  {
   "cell_type": "code",
   "execution_count": null,
   "id": "46212570",
   "metadata": {},
   "outputs": [],
   "source": []
  },
  {
   "cell_type": "code",
   "execution_count": null,
   "id": "e80e81a0",
   "metadata": {},
   "outputs": [],
   "source": []
  },
  {
   "cell_type": "markdown",
   "id": "172f3ab3",
   "metadata": {},
   "source": [
    "Let's download a VBI dataset, which has good seeing:"
   ]
  },
  {
   "cell_type": "code",
   "execution_count": null,
   "id": "e75bc244",
   "metadata": {},
   "outputs": [],
   "source": []
  },
  {
   "cell_type": "markdown",
   "id": "80ef7b67",
   "metadata": {},
   "source": [
    "This gives us a `TiledDataset` object, which as we have already seen is like an array of `Dataset` objects."
   ]
  },
  {
   "cell_type": "code",
   "execution_count": null,
   "id": "62ba8e83",
   "metadata": {},
   "outputs": [],
   "source": []
  },
  {
   "cell_type": "markdown",
   "id": "227b38e3",
   "metadata": {},
   "source": [
    "This mosaic is 3 x 3:"
   ]
  },
  {
   "cell_type": "code",
   "execution_count": null,
   "id": "819f74d0",
   "metadata": {},
   "outputs": [],
   "source": []
  },
  {
   "cell_type": "markdown",
   "id": "1ec655bf",
   "metadata": {},
   "source": [
    "To start off, let's just download the first frame of each tile."
   ]
  },
  {
   "cell_type": "code",
   "execution_count": null,
   "id": "2d0b07dc",
   "metadata": {},
   "outputs": [],
   "source": []
  },
  {
   "cell_type": "code",
   "execution_count": null,
   "id": "7cfdbb4a",
   "metadata": {
    "tags": [
     "skip-execution"
    ]
   },
   "outputs": [],
   "source": []
  },
  {
   "cell_type": "markdown",
   "id": "2f52ca9d",
   "metadata": {},
   "source": [
    "We can now make a composite plot of all the tiles."
   ]
  },
  {
   "cell_type": "code",
   "execution_count": null,
   "id": "7ecd5865",
   "metadata": {},
   "outputs": [],
   "source": []
  },
  {
   "cell_type": "markdown",
   "id": "64faf2c9",
   "metadata": {},
   "source": [
    "## Regridding with Reproject\n",
    "\n",
    "First, we need the most recent version of reproject (released on Friday) for this to work, so let's check:"
   ]
  },
  {
   "cell_type": "code",
   "execution_count": null,
   "id": "36152016",
   "metadata": {
    "tags": [
     "keep-inputs"
    ]
   },
   "outputs": [],
   "source": []
  },
  {
   "cell_type": "markdown",
   "id": "af154407",
   "metadata": {},
   "source": [
    "Now import everything we need for it to run"
   ]
  },
  {
   "cell_type": "code",
   "execution_count": null,
   "id": "9c28b3b3",
   "metadata": {},
   "outputs": [],
   "source": []
  },
  {
   "cell_type": "markdown",
   "id": "3ab6f82e",
   "metadata": {},
   "source": [
    "First, let us crop off the edges of all our tiles to remove some artifacts."
   ]
  },
  {
   "cell_type": "code",
   "execution_count": null,
   "id": "9a51fb63",
   "metadata": {},
   "outputs": [],
   "source": []
  },
  {
   "cell_type": "markdown",
   "id": "9d7e921d",
   "metadata": {},
   "source": [
    "Next we need to calculate the optimal WCS for the output:"
   ]
  },
  {
   "cell_type": "code",
   "execution_count": null,
   "id": "7dc6b455",
   "metadata": {},
   "outputs": [],
   "source": []
  },
  {
   "cell_type": "markdown",
   "id": "039d981f",
   "metadata": {},
   "source": [
    "Now we can do the actual reprojection"
   ]
  },
  {
   "cell_type": "code",
   "execution_count": null,
   "id": "a919e592",
   "metadata": {
    "tags": [
     "skip-execution"
    ]
   },
   "outputs": [],
   "source": []
  },
  {
   "cell_type": "markdown",
   "id": "379dc348",
   "metadata": {},
   "source": [
    "Make a new `NDCube` object and plot it."
   ]
  },
  {
   "cell_type": "code",
   "execution_count": null,
   "id": "484198f4",
   "metadata": {
    "tags": [
     "skip-execution"
    ]
   },
   "outputs": [],
   "source": []
  },
  {
   "cell_type": "markdown",
   "id": "b2a6a482",
   "metadata": {},
   "source": [
    "We can see some small artifacting which can be hidden by using the `match_background=True` keyword argument to `reproject_and_coadd`."
   ]
  }
 ],
 "metadata": {
  "kernelspec": {
   "display_name": "Python 3",
   "language": "python",
   "name": "python3"
  }
 },
 "nbformat": 4,
 "nbformat_minor": 5
}
