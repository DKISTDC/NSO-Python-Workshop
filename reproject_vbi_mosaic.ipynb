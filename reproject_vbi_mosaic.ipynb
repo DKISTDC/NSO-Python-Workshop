{
 "cells": [
  {
   "cell_type": "markdown",
   "id": "4771c456",
   "metadata": {},
   "source": [
    "# Stitching a VBI Moasic with `reproject`\n",
    "\n",
    "The [reproject](https://reproject.readthedocs.io/) package is an Astropy-affiliated package for regridding data.\n",
    "A number of different algorithms are implemented in the package, with different trade-offs for speed and accuracy.\n",
    "Reprojecting a single spatial image such as an AIA image is well supported and demonstrated in the [sunpy gallery](https://docs.sunpy.org/en/latest/generated/gallery/index.html#combining-co-aligning-and-reprojecting-images).\n",
    "When working with DKIST data, there are normally many spatial frames inside a dataset, and reprojecting them all can be very computationally expensive.\n",
    "\n",
    "We are going to use the example of using reproject's {obj}`reproject.mosaicking.reproject_and_coadd` function to stitch a mosaic of VBI frames, in a way which could be extended to be flux conserving.\n",
    "\n",
    "\n",
    "## Obtaining some data"
   ]
  },
  {
   "cell_type": "code",
   "execution_count": null,
   "id": "c46f2dee",
   "metadata": {},
   "outputs": [],
   "source": []
  },
  {
   "cell_type": "code",
   "execution_count": null,
   "id": "73f8d609",
   "metadata": {},
   "outputs": [],
   "source": []
  },
  {
   "cell_type": "markdown",
   "id": "6cda2f8d",
   "metadata": {},
   "source": [
    "Let's download a VBI dataset, which has good seeing:"
   ]
  },
  {
   "cell_type": "code",
   "execution_count": null,
   "id": "348e8845",
   "metadata": {},
   "outputs": [],
   "source": []
  },
  {
   "cell_type": "markdown",
   "id": "966c7ccd",
   "metadata": {},
   "source": [
    "This gives us a `TiledDataset` object, which as we have already seen is like an array of `Dataset` objects."
   ]
  },
  {
   "cell_type": "code",
   "execution_count": null,
   "id": "547586a6",
   "metadata": {},
   "outputs": [],
   "source": []
  },
  {
   "cell_type": "markdown",
   "id": "8dad46f3",
   "metadata": {},
   "source": [
    "This mosaic is 3 x 3:"
   ]
  },
  {
   "cell_type": "code",
   "execution_count": null,
   "id": "a27f4edf",
   "metadata": {},
   "outputs": [],
   "source": []
  },
  {
   "cell_type": "markdown",
   "id": "f279e0fe",
   "metadata": {},
   "source": [
    "To start off, let's just download the first frame of each tile."
   ]
  },
  {
   "cell_type": "code",
   "execution_count": null,
   "id": "dcd3556f",
   "metadata": {},
   "outputs": [],
   "source": []
  },
  {
   "cell_type": "code",
   "execution_count": null,
   "id": "0d6fe19d",
   "metadata": {
    "tags": [
     "skip-execution"
    ]
   },
   "outputs": [],
   "source": []
  },
  {
   "cell_type": "markdown",
   "id": "40831729",
   "metadata": {},
   "source": [
    "We can now make a composite plot of all the tiles."
   ]
  },
  {
   "cell_type": "code",
   "execution_count": null,
   "id": "9f9d192a",
   "metadata": {},
   "outputs": [],
   "source": []
  },
  {
   "cell_type": "markdown",
   "id": "991d8dda",
   "metadata": {},
   "source": [
    "## Regridding with Reproject\n",
    "\n",
    "First, we need the most recent version of reproject (released on Friday) for this to work, so let's check:"
   ]
  },
  {
   "cell_type": "code",
   "execution_count": null,
   "id": "c9b927e1",
   "metadata": {
    "tags": [
     "keep-inputs"
    ]
   },
   "outputs": [],
   "source": []
  },
  {
   "cell_type": "markdown",
   "id": "5fe8d5a4",
   "metadata": {},
   "source": [
    "Now import everything we need for it to run"
   ]
  },
  {
   "cell_type": "code",
   "execution_count": null,
   "id": "f3f93875",
   "metadata": {},
   "outputs": [],
   "source": []
  },
  {
   "cell_type": "markdown",
   "id": "8fbdc2ca",
   "metadata": {},
   "source": [
    "First, let us crop off the edges of all our tiles to remove some artifacts."
   ]
  },
  {
   "cell_type": "code",
   "execution_count": null,
   "id": "bb9714e9",
   "metadata": {},
   "outputs": [],
   "source": []
  },
  {
   "cell_type": "markdown",
   "id": "c709dbe6",
   "metadata": {},
   "source": [
    "Next we need to calculate the optimal WCS for the output:"
   ]
  },
  {
   "cell_type": "code",
   "execution_count": null,
   "id": "7e42f59e",
   "metadata": {},
   "outputs": [],
   "source": []
  },
  {
   "cell_type": "markdown",
   "id": "51d53543",
   "metadata": {},
   "source": [
    "Now we can do the actual reprojection"
   ]
  },
  {
   "cell_type": "code",
   "execution_count": null,
   "id": "afaba18c",
   "metadata": {},
   "outputs": [],
   "source": []
  },
  {
   "cell_type": "markdown",
   "id": "dfc1749c",
   "metadata": {},
   "source": [
    "Make a new `NDCube` object and plot it."
   ]
  },
  {
   "cell_type": "code",
   "execution_count": null,
   "id": "4296beac",
   "metadata": {},
   "outputs": [],
   "source": []
  },
  {
   "cell_type": "markdown",
   "id": "f3957379",
   "metadata": {},
   "source": [
    "We can see some small artifacting which can be hidden by using the `match_background=True` keyword argument to `reproject_and_coadd`."
   ]
  }
 ],
 "metadata": {
  "kernelspec": {
   "display_name": "Python 3",
   "language": "python",
   "name": "python3"
  }
 },
 "nbformat": 4,
 "nbformat_minor": 5
}
