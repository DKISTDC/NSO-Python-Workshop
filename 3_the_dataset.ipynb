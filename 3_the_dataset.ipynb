{
 "cells": [
  {
   "cell_type": "markdown",
   "id": "bf7b3656",
   "metadata": {},
   "source": [
    "# The `Dataset` Class\n",
    "\n",
    "As previously discussed we know that a \"DKIST dataset\" is comprised of many files, including an ASDF and many FITS files.\n",
    "The user tools represent all these files with the {obj}`dkist.Dataset` class.\n",
    "\n",
    "A `Dataset` class is constructed from the ASDF file for that dataset, this ASDF file contains the following information:\n",
    "* A table containing all the headers from all FITS files that comprise the dataset.\n",
    "* A copy of the Data Center's inventory record for the dataset.\n",
    "* A `gwcs` object which provides coordinate information for the whole dataset.\n",
    "* A list of all the component FITS files and the required order to combine them into a single array.\n",
    "\n",
    "If a `Dataset` object is created from just the ASDF file, without access to the arrays in the FITS files then all the data will be missing, but everything else will function the same.\n",
    "\n",
    "## Constructing `Dataset` Objects\n",
    "\n",
    "There are a two ways to construct a `Dataset`, by providing a path to an ASDF file or by providing a directory containing an ASDF file.\n",
    "Here we shall first fetch an ASDF file with Fido and then pass it to `Dataset.from_asdf`:"
   ]
  },
  {
   "cell_type": "code",
   "execution_count": null,
   "id": "b3630c51",
   "metadata": {
    "tags": [
     "keep-inputs"
    ]
   },
   "outputs": [],
   "source": []
  },
  {
   "cell_type": "code",
   "execution_count": null,
   "id": "29652f9d",
   "metadata": {},
   "outputs": [],
   "source": []
  },
  {
   "cell_type": "code",
   "execution_count": null,
   "id": "ba21b5cf",
   "metadata": {},
   "outputs": [],
   "source": []
  },
  {
   "cell_type": "markdown",
   "id": "74762ff0",
   "metadata": {},
   "source": [
    "Remember, that the file we have downloaded is a single ASDF file, **not** the whole dataset.\n",
    "We can use this file to construct the `Dataset`:"
   ]
  },
  {
   "cell_type": "code",
   "execution_count": null,
   "id": "38a81eac",
   "metadata": {},
   "outputs": [],
   "source": []
  },
  {
   "cell_type": "markdown",
   "id": "65e652f6",
   "metadata": {},
   "source": [
    "Now we have a `Dataset` object which describes the shape, size and physical dimensions of the array, but doesn't yet contain any of the actual data.\n",
    "This may sound unhelpful but we'll see how it can be very powerful.\n",
    "\n",
    "First let's have a look at the basic representation of the `Dataset`."
   ]
  },
  {
   "cell_type": "code",
   "execution_count": null,
   "id": "7cbaf6f0",
   "metadata": {},
   "outputs": [],
   "source": []
  },
  {
   "cell_type": "markdown",
   "id": "a59a4f12",
   "metadata": {},
   "source": [
    "This tells us that we have a 4-dimensional data cube and what values the axes correspond to.\n",
    "Importantly, it not only gives us information about the *pixel* axes (the actual dimensions of the array itself), but also the *world* axes (the physical quantities related to the observation).\n",
    "It also gives us a correlation matrix showing how the pixel axes relate to the world axes.\n",
    "\n",
    "## `Dataset` and `NDCube`: Coordinate aware arrays\n",
    "\n",
    "The `Dataset` class is an extension to [SunPy's `NDCube` class](https://docs.sunpy.org/projects/ndcube/), in this section we shall demonstrate some of the key functionality of `NDCube` with DKIST data.\n",
    "\n",
    "### Pixel, Array and World Ordering\n",
    "\n",
    "Before we jump into using the `Dataset` class we need to clarify some definitions:\n",
    "\n",
    "* **Pixel** ordering is defined as \"Cartesian\" ordering, or the same as Fortran ordering or column major. This is the ordering used by FITS files and WCS objects in Python.\n",
    "* **Array** ordering is defined a C or row-major ordering. This is use by Python's numpy arrays, as Python is implemented in C.\n",
    "* **World** coordinates are the physical coordinates that correspond to pixel coordinates. These are not always in either pixel or array order, but tend to be close to pixel order.\n",
    "\n",
    "\n",
    "### Coordinates, Arrays, Pixels, oh my!\n",
    "\n",
    "An key aspect of the `Dataset` is that it is coordinate aware.\n",
    "That is, it is able to map between array indices and physical dimensions.\n",
    "This means that you can easily convert from a position in the array to a location defined by physical coordinates.\n",
    "\n",
    "The first thing we can inspect about our dataset is the dimensionality of the underlying array."
   ]
  },
  {
   "cell_type": "code",
   "execution_count": null,
   "id": "882a1528",
   "metadata": {},
   "outputs": [],
   "source": []
  },
  {
   "cell_type": "markdown",
   "id": "ad52446c",
   "metadata": {},
   "source": [
    "This is the **array** dimensions, we can get the corresponding **pixel** axis names with:"
   ]
  },
  {
   "cell_type": "code",
   "execution_count": null,
   "id": "e894f156",
   "metadata": {},
   "outputs": [],
   "source": []
  },
  {
   "cell_type": "markdown",
   "id": "332e92e6",
   "metadata": {},
   "source": [
    "note how these are reversed from one another, we can print them together with:"
   ]
  },
  {
   "cell_type": "code",
   "execution_count": null,
   "id": "ab46cc2a",
   "metadata": {},
   "outputs": [],
   "source": []
  },
  {
   "cell_type": "markdown",
   "id": "aa06e4b5",
   "metadata": {},
   "source": [
    "These axes map onto world axes via the axis correlation matrix we saw in the first session:"
   ]
  },
  {
   "cell_type": "code",
   "execution_count": null,
   "id": "7af55181",
   "metadata": {},
   "outputs": [],
   "source": []
  },
  {
   "cell_type": "markdown",
   "id": "0b41ee94",
   "metadata": {},
   "source": [
    "We can get a list of the world axes which correspond to each array axis with:"
   ]
  },
  {
   "cell_type": "code",
   "execution_count": null,
   "id": "25bb7be6",
   "metadata": {},
   "outputs": [],
   "source": []
  },
  {
   "cell_type": "markdown",
   "id": "6910ffb5",
   "metadata": {},
   "source": [
    "Finally, as we saw in the first session, we can convert between pixel or array coordinates and world coordinates:"
   ]
  },
  {
   "cell_type": "code",
   "execution_count": null,
   "id": "b72fdf6d",
   "metadata": {},
   "outputs": [],
   "source": []
  },
  {
   "cell_type": "code",
   "execution_count": null,
   "id": "38411a39",
   "metadata": {},
   "outputs": [],
   "source": []
  },
  {
   "cell_type": "markdown",
   "id": "9ecb8160",
   "metadata": {},
   "source": [
    "and we can also do the reverse:"
   ]
  },
  {
   "cell_type": "code",
   "execution_count": null,
   "id": "8ae32a4d",
   "metadata": {},
   "outputs": [],
   "source": []
  },
  {
   "cell_type": "code",
   "execution_count": null,
   "id": "5fe294c0",
   "metadata": {},
   "outputs": [],
   "source": []
  },
  {
   "cell_type": "markdown",
   "id": "060f964d",
   "metadata": {},
   "source": [
    "Finally, it's possible to get all the axis coordinates along one or more axes\n",
    "\n",
    "```{warning}\n",
    "This might eat all your <del>cat</del> RAM.\n",
    "\n",
    "The algorithm used to calculate these coordinates in ndcube isn't as memory efficient as it could be, and when working with the large multi-dimensional DKIST data you can really notice it!\n",
    "```"
   ]
  },
  {
   "cell_type": "code",
   "execution_count": null,
   "id": "81df4a83",
   "metadata": {
    "tags": [
     "output_scroll"
    ]
   },
   "outputs": [],
   "source": []
  },
  {
   "cell_type": "code",
   "execution_count": null,
   "id": "ee74e8e5",
   "metadata": {
    "tags": [
     "output_scroll"
    ]
   },
   "outputs": [],
   "source": []
  },
  {
   "cell_type": "markdown",
   "id": "33e6dbd0",
   "metadata": {},
   "source": [
    "### Slicing Datasets\n",
    "\n",
    "Another useful feature of the `Dataset` class, which it inherits from `NDCube` is the ability to \"slice\" the dataset and get a smaller dataset, with the array and coordinate information in tact.\n",
    "\n",
    "For example, to extract the Stokes I component of the dataset we would do:"
   ]
  },
  {
   "cell_type": "code",
   "execution_count": null,
   "id": "d0ed28b9",
   "metadata": {},
   "outputs": [],
   "source": []
  },
  {
   "cell_type": "markdown",
   "id": "ca9a9fff",
   "metadata": {},
   "source": [
    "this is because the stokes axis is the first array axis, and the \"I\" profile is the first one (0 indexing).\n",
    "\n",
    "Note how we have dropped a world coordinate, this information is preserved in the `.global_coords` attribute, which contains the coordinate information which applies to the whole dataset:"
   ]
  },
  {
   "cell_type": "code",
   "execution_count": null,
   "id": "a6b88b90",
   "metadata": {},
   "outputs": [],
   "source": []
  },
  {
   "cell_type": "markdown",
   "id": "873f6d6a",
   "metadata": {},
   "source": [
    "We can also slice out a section of an axis of the dataset:"
   ]
  },
  {
   "cell_type": "code",
   "execution_count": null,
   "id": "6475b3e5",
   "metadata": {},
   "outputs": [],
   "source": []
  },
  {
   "cell_type": "markdown",
   "id": "41b71925",
   "metadata": {},
   "source": [
    "This selects only 100 of the raster step points.\n",
    "\n",
    "\n",
    "## TiledDataset\n",
    "\n",
    "So far we have been working with VISP data, which is continuous in a sense, in that there are no gaps or overlaps in the coordinates axes.\n",
    "However, instruments like VBI take multiple images at different locations with the intention of tiling them together to form a larger image.\n",
    "In this case, those images do not share a common pixel grid and therefore cannot be simply stacked together.\n",
    "It is possible to use `reproject` to regrid the images into a larger array, but since this would interpolate the data, it is not done by default.\n",
    "\n",
    "This kind of tiled data cannot be stored in a single `Dataset` object.\n",
    "There is therefore a wrapper object called `TiledDataset`, which is essentially an array of `Dataset` objects.\n",
    "Let's demonstrate this with a VBI dataset."
   ]
  },
  {
   "cell_type": "code",
   "execution_count": null,
   "id": "27c965d0",
   "metadata": {},
   "outputs": [],
   "source": []
  },
  {
   "cell_type": "markdown",
   "id": "d8e4454f",
   "metadata": {},
   "source": [
    "To access the individual tiles, we can then index this normally to get back the `Dataset` objects."
   ]
  },
  {
   "cell_type": "code",
   "execution_count": null,
   "id": "9c6e6648",
   "metadata": {},
   "outputs": [],
   "source": []
  },
  {
   "cell_type": "markdown",
   "id": "95f72308",
   "metadata": {},
   "source": [
    "```{error}\n",
    "Due to a known issue with the VBI level 1 FITS headers, the ordering of these tiles in the array are likley incorrect.\n",
    "```\n",
    "\n",
    "The `TiledDataset` stores the FITS headers for all the files of the individual `Dataset`s in the `combined_headers` attribute.\n",
    "This means that the metadata can still be inspected in many of the ways we will see in later sessions.\n",
    "Later releases of the user tools will also include helper functions for regridding a `TiledDataset` into a single `Dataset` object."
   ]
  }
 ],
 "metadata": {
  "kernelspec": {
   "display_name": "Python 3",
   "language": "python",
   "name": "python3"
  }
 },
 "nbformat": 4,
 "nbformat_minor": 5
}
