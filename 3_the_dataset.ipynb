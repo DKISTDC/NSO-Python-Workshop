{
 "cells": [
  {
   "cell_type": "markdown",
   "id": "78cc3e8c",
   "metadata": {},
   "source": [
    "# The `dkist.Dataset`\n",
    "\n",
    "In DKIST data parlance, a \"dataset\" is the smallest unit of data that is searchable from the data centre, and represents a single self-contained observation [check with Stu for a better short definition here].\n",
    "The user tools represent this unit of data with the `Dataset` class.\n",
    "Within this class the data are stored as many FITS files, each containing a single frame of the observation, and an ASDF file describing how the frames relate to each other.\n",
    "For VTF data, for example, one FITS file would contain a single narrowband image in one Stokes profile at a single time.\n",
    "Since there will be very many of these files, each with their own FITS header, manually tracking and inspecting them would be unmanageable.\n",
    "The `Dataset` class combines these many files into one object, allowing you to inspect the properties and combined headers of the whole dataset.\n",
    "\n",
    "There are a few ways to construct a `Dataset` object.\n",
    "For the first we will need the ASDF file for the dataset, which we can get using `Fido` as we saw yesterday."
   ]
  },
  {
   "cell_type": "code",
   "execution_count": null,
   "id": "ff7d46b3",
   "metadata": {},
   "outputs": [],
   "source": []
  },
  {
   "cell_type": "code",
   "execution_count": null,
   "id": "89295f92",
   "metadata": {},
   "outputs": [],
   "source": []
  },
  {
   "cell_type": "code",
   "execution_count": null,
   "id": "0195311c",
   "metadata": {},
   "outputs": [],
   "source": []
  },
  {
   "cell_type": "markdown",
   "id": "371ca048",
   "metadata": {},
   "source": [
    "Notice that the file we have downloaded is a single ASDF file, **not** the whole dataset.\n",
    "We can use this file to construct the `Dataset`:"
   ]
  },
  {
   "cell_type": "code",
   "execution_count": null,
   "id": "2a8e91ec",
   "metadata": {},
   "outputs": [],
   "source": []
  },
  {
   "cell_type": "markdown",
   "id": "25f37de6",
   "metadata": {},
   "source": [
    "Now we have a `Dataset` object which describes the shape, size and physical dimensions of the array, but doesn't yet contain any of the actual data.\n",
    "This may sound unhelpful but we'll see how it can be very powerful.\n",
    "\n",
    "First let's have a look at the basic representation of the `Dataset`."
   ]
  },
  {
   "cell_type": "code",
   "execution_count": null,
   "id": "bae0b2a8",
   "metadata": {},
   "outputs": [],
   "source": []
  },
  {
   "cell_type": "markdown",
   "id": "e841ab19",
   "metadata": {},
   "source": [
    "This tells us that we have a 4-dimensional data cube and what values the axes correspond to.\n",
    "Importantly, it not only gives us information about the *pixel* axes (the actual dimensions of the array itself), but also the *world* axes (the physical quantities related to the observation).\n",
    "It also gives us a correlation matrix showing how the pixel axes relate to the world axes.\n",
    "\n",
    "## NDCube and array vs pixel vs world\n",
    "\n",
    "**Pixel is fortran order, array is C order. So pixel_to_world takes coordinates in fortran order but array_to_world doesn't.**\n",
    "\n",
    "An important and useful aspect of the `Dataset` is that it is coordinate aware.\n",
    "That is, it is able to map between array indices and physical dimensions.\n",
    "This means that you can easily convert from a position in the array to a location defined by physical coordinates.\n",
    "\n",
    "For this mapping we have three related concepts: _array_ axes, _pixel_ axes and _world_ axes.\n",
    "Array axes are simply the indices of the array.\n",
    "Pixel axes are the same but in Fortran order, as this is how axes are specified in FITS headers.\n",
    "World axes are the physical dimensions of the data.\n",
    "\n",
    "To track these axes and convert between them, the `Dataset` has a `wcs` attribute (World Coordinate System)."
   ]
  },
  {
   "cell_type": "code",
   "execution_count": null,
   "id": "c597b1fe",
   "metadata": {},
   "outputs": [],
   "source": []
  },
  {
   "cell_type": "code",
   "execution_count": null,
   "id": "01662467",
   "metadata": {},
   "outputs": [],
   "source": []
  },
  {
   "cell_type": "markdown",
   "id": "9fc9cd3b",
   "metadata": {},
   "source": [
    "***Put an example or more detail here***\n",
    "\n",
    "\n",
    "\n",
    "### Something?\n",
    "\n",
    "Finally the correlation matrix tells us which pixel axes correspond to which world axes.\n",
    "In this case the first three pixel axes align exactly with three of the world axes.\n",
    "However, the slit axis maps to both longitude *and* latitude, since the slit is unlikely to be aligned to either one.\n",
    "\n",
    "\n",
    "\n",
    "### TiledDataset\n",
    "\n",
    "So far we have been working with VISP data, which is continuous in a sense, in that there are no gaps or overlaps in the coordinates axes.\n",
    "However, instruments like VBI take multiple images at different locations with the intention of tiling them together to form a larger image.\n",
    "In this case, those images do not share a common pixel grid and therefore cannot be simply stacked together.\n",
    "It is possible to use `reproject` to regrid the images into a larger array, but since this would interpolate the data, it is not done by default.\n",
    "\n",
    "This kind of tiled data cannot be stored in a single `Dataset` object.\n",
    "There is therefore a wrapper object called `TiledDataset`, which is essentially an array of `Dataset` objects.\n",
    "Let's demonstrate this with a VBI dataset."
   ]
  },
  {
   "cell_type": "code",
   "execution_count": null,
   "id": "50d66e9c",
   "metadata": {},
   "outputs": [],
   "source": []
  },
  {
   "cell_type": "markdown",
   "id": "89309173",
   "metadata": {},
   "source": [
    "To acces the individual tiles, we can then index this normally to get back the `Dataset` objects."
   ]
  },
  {
   "cell_type": "code",
   "execution_count": null,
   "id": "f3197dc6",
   "metadata": {},
   "outputs": [],
   "source": []
  },
  {
   "cell_type": "markdown",
   "id": "d63b9f49",
   "metadata": {},
   "source": [
    "The `TiledDataset` stores the FITS headers for all the files of the individual `Dataset`s in the `combined_headers` attribute.\n",
    "This means that the metadata can still be inspected in many of the ways we will see in later sessions.\n",
    "Later releases of the user tools will also include helper functions for regridding a `TiledDataset` into a single `Dataset` object."
   ]
  }
 ],
 "metadata": {
  "kernelspec": {
   "display_name": "Python 3",
   "language": "python",
   "name": "python3"
  }
 },
 "nbformat": 4,
 "nbformat_minor": 5
}
