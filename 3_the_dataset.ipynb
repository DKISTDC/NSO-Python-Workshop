{
 "cells": [
  {
   "cell_type": "markdown",
   "id": "649ec286",
   "metadata": {},
   "source": [
    "# The `Dataset` Class\n",
    "\n",
    "As previously discussed we know that a \"DKIST dataset\" is comprised of many files, including an ASDF and many FITS files.\n",
    "The user tools represent all these files with the {obj}`dkist.Dataset` class.\n",
    "\n",
    "A `Dataset` class is constructed from the ASDF file for that dataset.\n",
    "This ASDF file contains the following information:\n",
    "* A table containing all the headers from all FITS files that comprise the dataset.\n",
    "* A copy of the Data Center's inventory record for the dataset.\n",
    "* A `gwcs` object which provides coordinate information for the whole dataset.\n",
    "* A list of all the component FITS files and the required order to combine them into a single array.\n",
    "\n",
    "If a `Dataset` object is created from just the ASDF file, without access to the arrays in the FITS files then all the data will be missing, but everything else will function the same.\n",
    "\n",
    "## Constructing `Dataset` Objects\n",
    "\n",
    "There are a two ways to construct a `Dataset`: by providing a path to an ASDF file or by providing a directory containing an ASDF file.\n",
    "Here we shall first fetch an ASDF file with Fido and then pass it to `Dataset.from_asdf`:"
   ]
  },
  {
   "cell_type": "code",
   "execution_count": 2,
   "id": "a1519e47",
   "metadata": {
    "tags": [
     "keep-inputs"
    ]
   },
   "outputs": [],
   "source": [
    "from astropy.time import Time\n",
    "\n",
    "import dkist\n",
    "import dkist.net\n",
    "from sunpy.net import Fido, attrs as a"
   ]
  },
  {
   "cell_type": "code",
   "execution_count": 3,
   "id": "5e877442",
   "metadata": {},
   "outputs": [
    {
     "data": {
      "text/html": [
       "Results from 1 Provider:</br></br>1 Results from the DKISTClient:</br><div><i>DKISTQueryResponseTable length=1</i>\n",
       "<table id=\"table140241181477904\" class=\"table-striped table-bordered table-condensed\">\n",
       "<thead><tr><th>Start Time</th><th>End Time</th><th>Instrument</th><th>Wavelength</th><th>Bounding Box</th><th>Dataset ID</th><th>Dataset Size</th><th>Exposure Time</th><th>Primary Experiment ID</th><th>Primary Proposal ID</th><th>Stokes Parameters</th><th>Target Types</th><th>Number of Frames</th><th>Average Fried Parameter</th><th>Embargoed</th><th>Downloadable</th><th>Has Spectral Axis</th><th>Has Temporal Axis</th><th>Average Spectral Sampling</th><th>Average Spatial Sampling</th><th>Average Temporal Sampling</th></tr></thead>\n",
       "<thead><tr><th></th><th></th><th></th><th>nm</th><th></th><th></th><th>Gibyte</th><th>s</th><th></th><th></th><th></th><th></th><th></th><th></th><th></th><th></th><th></th><th></th><th>nm</th><th>arcsec</th><th>s</th></tr></thead>\n",
       "<thead><tr><th>Time</th><th>Time</th><th>str4</th><th>float64[2]</th><th>str32</th><th>str5</th><th>float64</th><th>float64</th><th>str9</th><th>str9</th><th>str4</th><th>str7[1]</th><th>int64</th><th>float64</th><th>bool</th><th>bool</th><th>bool</th><th>bool</th><th>float64</th><th>float64</th><th>float64</th></tr></thead>\n",
       "<tr><td>2022-06-02T17:21:59.648</td><td>2022-06-02T17:48:47.688</td><td>VISP</td><td>630.2392098893586 .. 634.3897538455635</td><td>(-405.09,37.71),(-469.15,-93.61)</td><td>AYDEW</td><td>4.0</td><td>48.00811267605634</td><td>eid_1_118</td><td>pid_1_118</td><td>IQUV</td><td>unknown</td><td>1960</td><td>0.09165082528563988</td><td>False</td><td>True</td><td>True</td><td>True</td><td>0.00162511509639976</td><td>0.2134568481952311</td><td>804.0201081632624</td></tr>\n",
       "</table></div></br>"
      ],
      "text/plain": [
       "<sunpy.net.fido_factory.UnifiedResponse object at 0x7f8c72bb6f10>\n",
       "Results from 1 Provider:\n",
       "\n",
       "1 Results from the DKISTClient:\n",
       "\n",
       "       Start Time               End Time        Instrument               Wavelength               ... Average Spectral Sampling Average Spatial Sampling Average Temporal Sampling\n",
       "                                                                             nm                   ...             nm                     arcsec                      s            \n",
       "----------------------- ----------------------- ---------- -------------------------------------- ... ------------------------- ------------------------ -------------------------\n",
       "2022-06-02T17:21:59.648 2022-06-02T17:48:47.688       VISP 630.2392098893586 .. 634.3897538455635 ...       0.00162511509639976       0.2134568481952311         804.0201081632624\n"
      ]
     },
     "execution_count": 3,
     "metadata": {},
     "output_type": "execute_result"
    }
   ],
   "source": [
    "res = Fido.search(a.dkist.Dataset(\"AYDEW\"))\n",
    "res"
   ]
  },
  {
   "cell_type": "code",
   "execution_count": 4,
   "id": "1966a978",
   "metadata": {},
   "outputs": [
    {
     "data": {
      "application/vnd.jupyter.widget-view+json": {
       "model_id": "c4c01c86a7f64572aeae2ac5c6f40c3f",
       "version_major": 2,
       "version_minor": 0
      },
      "text/plain": [
       "Files Downloaded:   0%|          | 0/1 [00:00<?, ?file/s]"
      ]
     },
     "metadata": {},
     "output_type": "display_data"
    },
    {
     "data": {
      "text/plain": [
       "<parfive.results.Results object at 0x7f8c71cbbc10>\n",
       "['/home/stuart/sunpy/data/VISP/AYDEW/VISP_L1_20220602T172159_AYDEW.asdf']"
      ]
     },
     "execution_count": 4,
     "metadata": {},
     "output_type": "execute_result"
    }
   ],
   "source": [
    "files = Fido.fetch(res, path=\"~/sunpy/data/{instrument}/{dataset_id}\")\n",
    "files"
   ]
  },
  {
   "cell_type": "markdown",
   "id": "f0a51ed8",
   "metadata": {},
   "source": [
    "Remember, that the file we have downloaded is a single ASDF file, **not** the whole dataset.\n",
    "We can use this file to construct the `Dataset`:"
   ]
  },
  {
   "cell_type": "code",
   "execution_count": 5,
   "id": "352ff3b9",
   "metadata": {},
   "outputs": [],
   "source": [
    "ds = dkist.Dataset.from_asdf(files[0])"
   ]
  },
  {
   "cell_type": "code",
   "execution_count": 8,
   "id": "91a06f1e",
   "metadata": {},
   "outputs": [
    {
     "name": "stdout",
     "output_type": "stream",
     "text": [
      "Help on method from_directory in module dkist.dataset.dataset:\n",
      "\n",
      "from_directory(directory) method of abc.ABCMeta instance\n",
      "    Construct a `~dkist.dataset.Dataset` from a directory containing one\n",
      "    asdf file and a collection of FITS files.\n",
      "\n"
     ]
    }
   ],
   "source": [
    "help(dkist.Dataset.from_directory)"
   ]
  },
  {
   "cell_type": "markdown",
   "id": "43c7963d",
   "metadata": {},
   "source": [
    "Now we have a `Dataset` object which describes the shape, size and physical dimensions of the array, but doesn't yet contain any of the actual data.\n",
    "This may sound unhelpful but we'll see how it can be very powerful.\n",
    "\n",
    "First let's have a look at the basic representation of the `Dataset`."
   ]
  },
  {
   "cell_type": "code",
   "execution_count": 6,
   "id": "9fa9d03e",
   "metadata": {},
   "outputs": [
    {
     "data": {
      "text/plain": [
       "<dkist.dataset.dataset.Dataset object at 0x7f8c605e69d0>\n",
       "This Dataset has 4 pixel and 5 world dimensions\n",
       "\n",
       "dask.array<reshape, shape=(4, 490, 976, 2555), dtype=float64, chunksize=(1, 1, 976, 2555), chunktype=numpy.ndarray>\n",
       "\n",
       "Pixel Dim  Axis Name                Data size  Bounds\n",
       "        0  polarization state               4  None\n",
       "        1  raster scan step number        490  None\n",
       "        2  spatial along slit             976  None\n",
       "        3  dispersion axis               2555  None\n",
       "\n",
       "World Dim  Axis Name                  Physical Type                   Units\n",
       "        0  stokes                     phys.polarization.stokes        unknown\n",
       "        1  time                       time                            s\n",
       "        2  helioprojective longitude  custom:pos.helioprojective.lon  arcsec\n",
       "        3  helioprojective latitude   custom:pos.helioprojective.lat  arcsec\n",
       "        4  wavelength                 em.wl                           nm\n",
       "\n",
       "Correlation between pixel and world axes:\n",
       "\n",
       "               Pixel Dim\n",
       "World Dim    0    1    2    3\n",
       "        0  yes   no   no   no\n",
       "        1   no  yes   no   no\n",
       "        2   no  yes  yes   no\n",
       "        3   no  yes  yes   no\n",
       "        4   no   no   no  yes"
      ]
     },
     "execution_count": 6,
     "metadata": {},
     "output_type": "execute_result"
    }
   ],
   "source": [
    "ds"
   ]
  },
  {
   "cell_type": "code",
   "execution_count": 9,
   "id": "94d7088b",
   "metadata": {},
   "outputs": [
    {
     "data": {
      "text/latex": [
       "$[4,~490,~976,~2555] \\; \\mathrm{pix}$"
      ],
      "text/plain": [
       "<Quantity [   4.,  490.,  976., 2555.] pix>"
      ]
     },
     "execution_count": 9,
     "metadata": {},
     "output_type": "execute_result"
    }
   ],
   "source": [
    "ds.dimensions"
   ]
  },
  {
   "cell_type": "code",
   "execution_count": 10,
   "id": "3e8265f4",
   "metadata": {},
   "outputs": [
    {
     "data": {
      "text/plain": [
       "(4, 490, 976, 2555)"
      ]
     },
     "execution_count": 10,
     "metadata": {},
     "output_type": "execute_result"
    }
   ],
   "source": [
    "ds.data.shape"
   ]
  },
  {
   "cell_type": "markdown",
   "id": "eb935d7c",
   "metadata": {},
   "source": [
    "These are the **array** dimensions.\n",
    "We can get the corresponding **pixel** axis names with:"
   ]
  },
  {
   "cell_type": "code",
   "execution_count": 11,
   "id": "ece89e95",
   "metadata": {},
   "outputs": [
    {
     "data": {
      "text/plain": [
       "('dispersion axis',\n",
       " 'spatial along slit',\n",
       " 'raster scan step number',\n",
       " 'polarization state')"
      ]
     },
     "execution_count": 11,
     "metadata": {},
     "output_type": "execute_result"
    }
   ],
   "source": [
    "ds.wcs.pixel_axis_names"
   ]
  },
  {
   "cell_type": "markdown",
   "id": "5510f29f",
   "metadata": {},
   "source": [
    "note how these are reversed from one another, we can print them together with:"
   ]
  },
  {
   "cell_type": "code",
   "execution_count": 21,
   "id": "2cad4574",
   "metadata": {},
   "outputs": [
    {
     "name": "stdout",
     "output_type": "stream",
     "text": [
      "polarization state: 4.0 pix\n",
      "raster scan step number: 490.0 pix\n",
      "spatial along slit: 976.0 pix\n",
      "dispersion axis: 2555.0 pix\n"
     ]
    }
   ],
   "source": [
    "for name, length in zip(ds.wcs.pixel_axis_names[::-1], ds.dimensions):\n",
    "    print(f\"{name}: {length}\")"
   ]
  },
  {
   "cell_type": "markdown",
   "id": "e59918b1",
   "metadata": {},
   "source": [
    "These axes map onto world axes via the axis correlation matrix we saw in the first session:"
   ]
  },
  {
   "cell_type": "code",
   "execution_count": 24,
   "id": "3dadd6f3",
   "metadata": {},
   "outputs": [
    {
     "data": {
      "text/plain": [
       "array([[ True, False, False, False],\n",
       "       [False,  True,  True, False],\n",
       "       [False,  True,  True, False],\n",
       "       [False, False,  True, False],\n",
       "       [False, False, False,  True]])"
      ]
     },
     "execution_count": 24,
     "metadata": {},
     "output_type": "execute_result"
    }
   ],
   "source": [
    "ds.wcs.axis_correlation_matrix"
   ]
  },
  {
   "cell_type": "markdown",
   "id": "b4fb135b",
   "metadata": {},
   "source": [
    "We can get a list of the world axes which correspond to each array axis with:"
   ]
  },
  {
   "cell_type": "code",
   "execution_count": 27,
   "id": "b65b54cf",
   "metadata": {},
   "outputs": [],
   "source": [
    "from dkist.dataset.utils import pp_matrix"
   ]
  },
  {
   "cell_type": "code",
   "execution_count": 29,
   "id": "780556d4",
   "metadata": {},
   "outputs": [
    {
     "name": "stdout",
     "output_type": "stream",
     "text": [
      "[['                         ' 'dispersion axis' 'spatial along slit' 'raster scan step number' 'polarization state']\n",
      " ['               wavelength' '           True' '             False' '                  False' '             False']\n",
      " [' helioprojective latitude' '          False' '              True' '                   True' '             False']\n",
      " ['helioprojective longitude' '          False' '              True' '                   True' '             False']\n",
      " ['                     time' '          False' '             False' '                   True' '             False']\n",
      " ['                   stokes' '          False' '             False' '                  False' '              True']]\n"
     ]
    }
   ],
   "source": [
    "pp_matrix(ds.wcs)"
   ]
  },
  {
   "cell_type": "code",
   "execution_count": 26,
   "id": "b6f69d24",
   "metadata": {},
   "outputs": [
    {
     "data": {
      "text/latex": [
       "$[4,~490,~976,~2555] \\; \\mathrm{pix}$"
      ],
      "text/plain": [
       "<Quantity [   4.,  490.,  976., 2555.] pix>"
      ]
     },
     "execution_count": 26,
     "metadata": {},
     "output_type": "execute_result"
    }
   ],
   "source": [
    "ds.dimensions"
   ]
  },
  {
   "cell_type": "code",
   "execution_count": 25,
   "id": "458bff0b",
   "metadata": {},
   "outputs": [
    {
     "data": {
      "text/plain": [
       "[('phys.polarization.stokes',),\n",
       " ('custom:pos.helioprojective.lat', 'custom:pos.helioprojective.lon', 'time'),\n",
       " ('custom:pos.helioprojective.lat', 'custom:pos.helioprojective.lon'),\n",
       " ('em.wl',)]"
      ]
     },
     "execution_count": 25,
     "metadata": {},
     "output_type": "execute_result"
    }
   ],
   "source": [
    "ds.array_axis_physical_types"
   ]
  },
  {
   "cell_type": "markdown",
   "id": "b08251f2",
   "metadata": {},
   "source": [
    "Finally, as we saw in the first session, we can convert between pixel or array coordinates and world coordinates:"
   ]
  },
  {
   "cell_type": "code",
   "execution_count": 30,
   "id": "1b853af1",
   "metadata": {},
   "outputs": [
    {
     "data": {
      "text/plain": [
       "[<SpectralCoord 630.28796334 nm>,\n",
       " <SkyCoord (Helioprojective: obstime=2022-06-02T17:35:22.024, rsun=695700.0 km, observer=<HeliographicStonyhurst Coordinate (obstime=2022-06-02T17:35:22.024, rsun=695700.0 km): (lon, lat, radius) in (deg, deg, m)\n",
       "     (0.00194034, -0.48783239, 1.51723472e+11)>): (Tx, Ty) in arcsec\n",
       "     (-60241.01861878, -390.04462929)>,\n",
       " <Time object: scale='utc' format='isot' value=2022-06-02T17:22:32.532>,\n",
       " 'I']"
      ]
     },
     "execution_count": 30,
     "metadata": {},
     "output_type": "execute_result"
    }
   ],
   "source": [
    "ds.wcs.pixel_to_world(30, 20, 10, 0)"
   ]
  },
  {
   "cell_type": "code",
   "execution_count": 33,
   "id": "6094f799",
   "metadata": {},
   "outputs": [
    {
     "data": {
      "text/plain": [
       "[<SpectralCoord 630.28796334 nm>,\n",
       " <SkyCoord (Helioprojective: obstime=2022-06-02T17:35:22.024, rsun=695700.0 km, observer=<HeliographicStonyhurst Coordinate (obstime=2022-06-02T17:35:22.024, rsun=695700.0 km): (lon, lat, radius) in (deg, deg, m)\n",
       "     (0.00194034, -0.48783239, 1.51723472e+11)>): (Tx, Ty) in arcsec\n",
       "     (-60241.01861878, -390.04462929)>,\n",
       " <Time object: scale='utc' format='isot' value=2022-06-02T17:22:32.532>,\n",
       " 'I']"
      ]
     },
     "execution_count": 33,
     "metadata": {},
     "output_type": "execute_result"
    }
   ],
   "source": [
    "world = ds.wcs.array_index_to_world(0, 10, 20, 30)\n",
    "world"
   ]
  },
  {
   "cell_type": "markdown",
   "id": "8a9bf6c1",
   "metadata": {},
   "source": [
    "and we can also do the reverse:"
   ]
  },
  {
   "cell_type": "code",
   "execution_count": 36,
   "id": "27b45d52",
   "metadata": {},
   "outputs": [
    {
     "data": {
      "text/plain": [
       "[30.000000000058208, 19.99999999967399, 10.0, 0.0]"
      ]
     },
     "execution_count": 36,
     "metadata": {},
     "output_type": "execute_result"
    }
   ],
   "source": [
    "ds.wcs.world_to_pixel(world[0], world[1], world[2], world[3])"
   ]
  },
  {
   "cell_type": "code",
   "execution_count": 35,
   "id": "fd05fcf3",
   "metadata": {},
   "outputs": [
    {
     "data": {
      "text/plain": [
       "(array(0), array(10), array(20), array(30))"
      ]
     },
     "execution_count": 35,
     "metadata": {},
     "output_type": "execute_result"
    }
   ],
   "source": [
    "ds.wcs.world_to_array_index(*world)"
   ]
  },
  {
   "cell_type": "markdown",
   "id": "7b5c9d3f",
   "metadata": {},
   "source": [
    "Finally, it's possible to get all the axis coordinates along one or more axes:\n",
    "\n",
    "```{warning}\n",
    "This might eat all your <del>cat</del> RAM.\n",
    "\n",
    "The algorithm used to calculate these coordinates in ndcube isn't as memory efficient as it could be, and when working with the large multi-dimensional DKIST data you can really notice it!\n",
    "```"
   ]
  },
  {
   "cell_type": "code",
   "execution_count": 40,
   "id": "92dec567",
   "metadata": {
    "scrolled": false,
    "tags": [
     "output_scroll"
    ]
   },
   "outputs": [
    {
     "data": {
      "text/plain": [
       "(<SpectralCoord [630.23920989, 630.240835  , 630.24246012, ..., 634.38650362,\n",
       "    634.38812873, 634.38975385] nm>,\n",
       " <SkyCoord (Helioprojective: obstime=2022-06-02T17:35:22.024, rsun=695700.0 km, observer=<HeliographicStonyhurst Coordinate (obstime=2022-06-02T17:35:22.024, rsun=695700.0 km): (lon, lat, radius) in (deg, deg, m)\n",
       "     (0.00194034, -0.48783239, 1.51723472e+11)>): (Tx, Ty) in arcsec\n",
       "     [[(-61445.67185749, -389.93244527), (-61445.67184108, -389.90382666),\n",
       "       (-61445.67182467, -389.87520805), ...,\n",
       "       (-61445.65588814, -362.08653746), (-61445.65587173, -362.05791885),\n",
       "       (-61445.65585532, -362.02930024)],\n",
       "      [(-61325.39684985, -390.00144497), (-61325.39683347, -389.97282131),\n",
       "       (-61325.39681709, -389.94419765), ...,\n",
       "       (-61325.38090835, -362.15062342), (-61325.38089196, -362.12199976),\n",
       "       (-61325.38087558, -362.0933761 )],\n",
       "      [(-61205.08124703, -390.0705606 ), (-61205.08123067, -390.0419319 ),\n",
       "       (-61205.08121431, -390.0133032 ), ...,\n",
       "       (-61205.06533339, -362.21483307), (-61205.06531703, -362.18620437),\n",
       "       (-61205.06530068, -362.15757566)],\n",
       "      ...,\n",
       "      [(   694.4617713 , -407.51742316), (   694.46177093, -407.48751888),\n",
       "       (   694.46177055, -407.4576146 ), ...,\n",
       "       (   694.4614057 , -378.42055859), (   694.46140532, -378.39065431),\n",
       "       (   694.46140495, -378.36075003)],\n",
       "      [(   825.81279917, -407.51473483), (   825.81279876, -407.48483068),\n",
       "       (   825.81279834, -407.45492654), ...,\n",
       "       (   825.81239701, -378.41800073), (   825.8123966 , -378.38809658),\n",
       "       (   825.81239618, -378.35819244)],\n",
       "      [(   957.15480238, -407.51283072), (   957.15480193, -407.48292672),\n",
       "       (   957.15480148, -407.45302272), ...,\n",
       "       (   957.15436367, -378.41623902), (   957.15436322, -378.38633502),\n",
       "       (   957.15436277, -378.35643102)]]>,\n",
       " <Time object: scale='utc' format='isot' value=['2022-06-02T17:21:59.648' '2022-06-02T17:22:02.937'\n",
       "  '2022-06-02T17:22:06.225' '2022-06-02T17:22:09.513'\n",
       "  '2022-06-02T17:22:12.802' '2022-06-02T17:22:16.090'\n",
       "  '2022-06-02T17:22:19.379' '2022-06-02T17:22:22.667'\n",
       "  '2022-06-02T17:22:25.956' '2022-06-02T17:22:29.244'\n",
       "  '2022-06-02T17:22:32.532' '2022-06-02T17:22:35.821'\n",
       "  '2022-06-02T17:22:39.109' '2022-06-02T17:22:42.398'\n",
       "  '2022-06-02T17:22:45.686' '2022-06-02T17:22:48.975'\n",
       "  '2022-06-02T17:22:52.263' '2022-06-02T17:22:55.551'\n",
       "  '2022-06-02T17:22:58.840' '2022-06-02T17:23:02.128'\n",
       "  '2022-06-02T17:23:05.417' '2022-06-02T17:23:08.705'\n",
       "  '2022-06-02T17:23:11.994' '2022-06-02T17:23:15.282'\n",
       "  '2022-06-02T17:23:18.570' '2022-06-02T17:23:21.859'\n",
       "  '2022-06-02T17:23:25.147' '2022-06-02T17:23:28.436'\n",
       "  '2022-06-02T17:23:31.724' '2022-06-02T17:23:35.013'\n",
       "  '2022-06-02T17:23:38.301' '2022-06-02T17:23:41.589'\n",
       "  '2022-06-02T17:23:44.878' '2022-06-02T17:23:48.166'\n",
       "  '2022-06-02T17:23:51.455' '2022-06-02T17:23:54.743'\n",
       "  '2022-06-02T17:23:58.032' '2022-06-02T17:24:01.320'\n",
       "  '2022-06-02T17:24:04.608' '2022-06-02T17:24:07.897'\n",
       "  '2022-06-02T17:24:11.185' '2022-06-02T17:24:14.473'\n",
       "  '2022-06-02T17:24:17.762' '2022-06-02T17:24:21.051'\n",
       "  '2022-06-02T17:24:24.339' '2022-06-02T17:24:27.627'\n",
       "  '2022-06-02T17:24:30.916' '2022-06-02T17:24:34.204'\n",
       "  '2022-06-02T17:24:37.493' '2022-06-02T17:24:40.781'\n",
       "  '2022-06-02T17:24:44.069' '2022-06-02T17:24:47.358'\n",
       "  '2022-06-02T17:24:50.646' '2022-06-02T17:24:53.935'\n",
       "  '2022-06-02T17:24:57.223' '2022-06-02T17:25:00.512'\n",
       "  '2022-06-02T17:25:03.800' '2022-06-02T17:25:07.088'\n",
       "  '2022-06-02T17:25:10.377' '2022-06-02T17:25:13.665'\n",
       "  '2022-06-02T17:25:16.954' '2022-06-02T17:25:20.242'\n",
       "  '2022-06-02T17:25:23.531' '2022-06-02T17:25:26.819'\n",
       "  '2022-06-02T17:25:30.107' '2022-06-02T17:25:33.396'\n",
       "  '2022-06-02T17:25:36.684' '2022-06-02T17:25:39.973'\n",
       "  '2022-06-02T17:25:43.261' '2022-06-02T17:25:46.550'\n",
       "  '2022-06-02T17:25:49.838' '2022-06-02T17:25:53.126'\n",
       "  '2022-06-02T17:25:56.415' '2022-06-02T17:25:59.703'\n",
       "  '2022-06-02T17:26:02.992' '2022-06-02T17:26:06.280'\n",
       "  '2022-06-02T17:26:09.569' '2022-06-02T17:26:12.857'\n",
       "  '2022-06-02T17:26:16.145' '2022-06-02T17:26:19.434'\n",
       "  '2022-06-02T17:26:22.722' '2022-06-02T17:26:26.011'\n",
       "  '2022-06-02T17:26:29.299' '2022-06-02T17:26:32.588'\n",
       "  '2022-06-02T17:26:35.876' '2022-06-02T17:26:39.164'\n",
       "  '2022-06-02T17:26:42.453' '2022-06-02T17:26:45.741'\n",
       "  '2022-06-02T17:26:49.030' '2022-06-02T17:26:52.318'\n",
       "  '2022-06-02T17:26:55.606' '2022-06-02T17:26:58.895'\n",
       "  '2022-06-02T17:27:02.183' '2022-06-02T17:27:05.472'\n",
       "  '2022-06-02T17:27:08.760' '2022-06-02T17:27:12.049'\n",
       "  '2022-06-02T17:27:15.337' '2022-06-02T17:27:18.626'\n",
       "  '2022-06-02T17:27:21.914' '2022-06-02T17:27:25.202'\n",
       "  '2022-06-02T17:27:28.491' '2022-06-02T17:27:31.779'\n",
       "  '2022-06-02T17:27:35.068' '2022-06-02T17:27:38.356'\n",
       "  '2022-06-02T17:27:41.645' '2022-06-02T17:27:44.933'\n",
       "  '2022-06-02T17:27:48.221' '2022-06-02T17:27:51.510'\n",
       "  '2022-06-02T17:27:54.798' '2022-06-02T17:27:58.087'\n",
       "  '2022-06-02T17:28:01.375' '2022-06-02T17:28:04.663'\n",
       "  '2022-06-02T17:28:07.952' '2022-06-02T17:28:11.240'\n",
       "  '2022-06-02T17:28:14.529' '2022-06-02T17:28:17.817'\n",
       "  '2022-06-02T17:28:21.106' '2022-06-02T17:28:24.394'\n",
       "  '2022-06-02T17:28:27.682' '2022-06-02T17:28:30.971'\n",
       "  '2022-06-02T17:28:34.259' '2022-06-02T17:28:37.548'\n",
       "  '2022-06-02T17:28:40.836' '2022-06-02T17:28:44.125'\n",
       "  '2022-06-02T17:28:47.413' '2022-06-02T17:28:50.701'\n",
       "  '2022-06-02T17:28:53.990' '2022-06-02T17:28:57.278'\n",
       "  '2022-06-02T17:29:00.567' '2022-06-02T17:29:03.855'\n",
       "  '2022-06-02T17:29:07.144' '2022-06-02T17:29:10.432'\n",
       "  '2022-06-02T17:29:13.720' '2022-06-02T17:29:17.009'\n",
       "  '2022-06-02T17:29:20.297' '2022-06-02T17:29:23.586'\n",
       "  '2022-06-02T17:29:26.874' '2022-06-02T17:29:30.163'\n",
       "  '2022-06-02T17:29:33.451' '2022-06-02T17:29:36.739'\n",
       "  '2022-06-02T17:29:40.028' '2022-06-02T17:29:43.316'\n",
       "  '2022-06-02T17:29:46.605' '2022-06-02T17:29:49.893'\n",
       "  '2022-06-02T17:29:53.182' '2022-06-02T17:29:56.470'\n",
       "  '2022-06-02T17:29:59.758' '2022-06-02T17:30:03.047'\n",
       "  '2022-06-02T17:30:06.335' '2022-06-02T17:30:09.624'\n",
       "  '2022-06-02T17:30:12.912' '2022-06-02T17:30:16.201'\n",
       "  '2022-06-02T17:30:19.489' '2022-06-02T17:30:22.777'\n",
       "  '2022-06-02T17:30:26.066' '2022-06-02T17:30:29.354'\n",
       "  '2022-06-02T17:30:32.643' '2022-06-02T17:30:35.931'\n",
       "  '2022-06-02T17:30:39.220' '2022-06-02T17:30:42.508'\n",
       "  '2022-06-02T17:30:45.796' '2022-06-02T17:30:49.085'\n",
       "  '2022-06-02T17:30:52.373' '2022-06-02T17:30:55.662'\n",
       "  '2022-06-02T17:30:58.950' '2022-06-02T17:31:02.239'\n",
       "  '2022-06-02T17:31:05.527' '2022-06-02T17:31:08.815'\n",
       "  '2022-06-02T17:31:12.104' '2022-06-02T17:31:15.392'\n",
       "  '2022-06-02T17:31:18.681' '2022-06-02T17:31:21.969'\n",
       "  '2022-06-02T17:31:25.258' '2022-06-02T17:31:28.546'\n",
       "  '2022-06-02T17:31:31.834' '2022-06-02T17:31:35.123'\n",
       "  '2022-06-02T17:31:38.411' '2022-06-02T17:31:41.700'\n",
       "  '2022-06-02T17:31:44.988' '2022-06-02T17:31:48.276'\n",
       "  '2022-06-02T17:31:51.565' '2022-06-02T17:31:54.853'\n",
       "  '2022-06-02T17:31:58.142' '2022-06-02T17:32:01.430'\n",
       "  '2022-06-02T17:32:04.719' '2022-06-02T17:32:08.007'\n",
       "  '2022-06-02T17:32:11.295' '2022-06-02T17:32:14.584'\n",
       "  '2022-06-02T17:32:17.872' '2022-06-02T17:32:21.161'\n",
       "  '2022-06-02T17:32:24.449' '2022-06-02T17:32:27.738'\n",
       "  '2022-06-02T17:32:31.026' '2022-06-02T17:32:34.314'\n",
       "  '2022-06-02T17:32:37.603' '2022-06-02T17:32:40.891'\n",
       "  '2022-06-02T17:32:44.180' '2022-06-02T17:32:47.468'\n",
       "  '2022-06-02T17:32:50.757' '2022-06-02T17:32:54.045'\n",
       "  '2022-06-02T17:32:57.333' '2022-06-02T17:33:00.622'\n",
       "  '2022-06-02T17:33:03.910' '2022-06-02T17:33:07.199'\n",
       "  '2022-06-02T17:33:10.487' '2022-06-02T17:33:13.776'\n",
       "  '2022-06-02T17:33:17.064' '2022-06-02T17:33:20.352'\n",
       "  '2022-06-02T17:33:23.641' '2022-06-02T17:33:26.929'\n",
       "  '2022-06-02T17:33:30.218' '2022-06-02T17:33:33.506'\n",
       "  '2022-06-02T17:33:36.795' '2022-06-02T17:33:40.083'\n",
       "  '2022-06-02T17:33:43.371' '2022-06-02T17:33:46.660'\n",
       "  '2022-06-02T17:33:49.948' '2022-06-02T17:33:53.237'\n",
       "  '2022-06-02T17:33:56.525' '2022-06-02T17:33:59.814'\n",
       "  '2022-06-02T17:34:03.102' '2022-06-02T17:34:06.390'\n",
       "  '2022-06-02T17:34:09.679' '2022-06-02T17:34:12.967'\n",
       "  '2022-06-02T17:34:16.256' '2022-06-02T17:34:19.544'\n",
       "  '2022-06-02T17:34:22.833' '2022-06-02T17:34:26.121'\n",
       "  '2022-06-02T17:34:29.409' '2022-06-02T17:34:32.698'\n",
       "  '2022-06-02T17:34:35.986' '2022-06-02T17:34:39.275'\n",
       "  '2022-06-02T17:34:42.563' '2022-06-02T17:34:45.852'\n",
       "  '2022-06-02T17:34:49.140' '2022-06-02T17:34:52.428'\n",
       "  '2022-06-02T17:34:55.717' '2022-06-02T17:34:59.005'\n",
       "  '2022-06-02T17:35:02.294' '2022-06-02T17:35:05.582'\n",
       "  '2022-06-02T17:35:08.870' '2022-06-02T17:35:12.159'\n",
       "  '2022-06-02T17:35:15.447' '2022-06-02T17:35:18.736'\n",
       "  '2022-06-02T17:35:22.024' '2022-06-02T17:35:25.313'\n",
       "  '2022-06-02T17:35:28.601' '2022-06-02T17:35:31.889'\n",
       "  '2022-06-02T17:35:35.178' '2022-06-02T17:35:38.466'\n",
       "  '2022-06-02T17:35:41.755' '2022-06-02T17:35:45.043'\n",
       "  '2022-06-02T17:35:48.332' '2022-06-02T17:35:51.620'\n",
       "  '2022-06-02T17:35:54.908' '2022-06-02T17:35:58.197'\n",
       "  '2022-06-02T17:36:01.485' '2022-06-02T17:36:04.774'\n",
       "  '2022-06-02T17:36:08.062' '2022-06-02T17:36:11.351'\n",
       "  '2022-06-02T17:36:14.639' '2022-06-02T17:36:17.927'\n",
       "  '2022-06-02T17:36:21.216' '2022-06-02T17:36:24.504'\n",
       "  '2022-06-02T17:36:27.793' '2022-06-02T17:36:31.081'\n",
       "  '2022-06-02T17:36:34.370' '2022-06-02T17:36:37.658'\n",
       "  '2022-06-02T17:36:40.946' '2022-06-02T17:36:44.235'\n",
       "  '2022-06-02T17:36:47.523' '2022-06-02T17:36:50.812'\n",
       "  '2022-06-02T17:36:54.100' '2022-06-02T17:36:57.389'\n",
       "  '2022-06-02T17:37:00.677' '2022-06-02T17:37:03.965'\n",
       "  '2022-06-02T17:37:07.254' '2022-06-02T17:37:10.542'\n",
       "  '2022-06-02T17:37:13.831' '2022-06-02T17:37:17.119'\n",
       "  '2022-06-02T17:37:20.408' '2022-06-02T17:37:23.696'\n",
       "  '2022-06-02T17:37:26.984' '2022-06-02T17:37:30.273'\n",
       "  '2022-06-02T17:37:33.561' '2022-06-02T17:37:36.850'\n",
       "  '2022-06-02T17:37:40.138' '2022-06-02T17:37:43.427'\n",
       "  '2022-06-02T17:37:46.715' '2022-06-02T17:37:50.003'\n",
       "  '2022-06-02T17:37:53.292' '2022-06-02T17:37:56.580'\n",
       "  '2022-06-02T17:37:59.869' '2022-06-02T17:38:03.157'\n",
       "  '2022-06-02T17:38:06.446' '2022-06-02T17:38:09.734'\n",
       "  '2022-06-02T17:38:13.022' '2022-06-02T17:38:16.311'\n",
       "  '2022-06-02T17:38:19.599' '2022-06-02T17:38:22.888'\n",
       "  '2022-06-02T17:38:26.176' '2022-06-02T17:38:29.465'\n",
       "  '2022-06-02T17:38:32.753' '2022-06-02T17:38:36.041'\n",
       "  '2022-06-02T17:38:39.330' '2022-06-02T17:38:42.618'\n",
       "  '2022-06-02T17:38:45.907' '2022-06-02T17:38:49.195'\n",
       "  '2022-06-02T17:38:52.483' '2022-06-02T17:38:55.772'\n",
       "  '2022-06-02T17:38:59.060' '2022-06-02T17:39:02.349'\n",
       "  '2022-06-02T17:39:05.637' '2022-06-02T17:39:08.926'\n",
       "  '2022-06-02T17:39:12.214' '2022-06-02T17:39:15.502'\n",
       "  '2022-06-02T17:39:18.791' '2022-06-02T17:39:22.079'\n",
       "  '2022-06-02T17:39:25.368' '2022-06-02T17:39:28.656'\n",
       "  '2022-06-02T17:39:31.945' '2022-06-02T17:39:35.233'\n",
       "  '2022-06-02T17:39:38.521' '2022-06-02T17:39:41.810'\n",
       "  '2022-06-02T17:39:45.098' '2022-06-02T17:39:48.387'\n",
       "  '2022-06-02T17:39:51.675' '2022-06-02T17:39:54.964'\n",
       "  '2022-06-02T17:39:58.252' '2022-06-02T17:40:01.540'\n",
       "  '2022-06-02T17:40:04.829' '2022-06-02T17:40:08.117'\n",
       "  '2022-06-02T17:40:11.406' '2022-06-02T17:40:14.694'\n",
       "  '2022-06-02T17:40:17.983' '2022-06-02T17:40:21.271'\n",
       "  '2022-06-02T17:40:24.559' '2022-06-02T17:40:27.848'\n",
       "  '2022-06-02T17:40:31.136' '2022-06-02T17:40:34.425'\n",
       "  '2022-06-02T17:40:37.713' '2022-06-02T17:40:41.002'\n",
       "  '2022-06-02T17:40:44.290' '2022-06-02T17:40:47.578'\n",
       "  '2022-06-02T17:40:50.867' '2022-06-02T17:40:54.155'\n",
       "  '2022-06-02T17:40:57.444' '2022-06-02T17:41:00.732'\n",
       "  '2022-06-02T17:41:04.021' '2022-06-02T17:41:07.309'\n",
       "  '2022-06-02T17:41:10.597' '2022-06-02T17:41:13.886'\n",
       "  '2022-06-02T17:41:17.174' '2022-06-02T17:41:20.463'\n",
       "  '2022-06-02T17:41:23.751' '2022-06-02T17:41:27.040'\n",
       "  '2022-06-02T17:41:30.328' '2022-06-02T17:41:33.616'\n",
       "  '2022-06-02T17:41:36.905' '2022-06-02T17:41:40.193'\n",
       "  '2022-06-02T17:41:43.482' '2022-06-02T17:41:46.770'\n",
       "  '2022-06-02T17:41:50.059' '2022-06-02T17:41:53.347'\n",
       "  '2022-06-02T17:41:56.635' '2022-06-02T17:41:59.924'\n",
       "  '2022-06-02T17:42:03.212' '2022-06-02T17:42:06.501'\n",
       "  '2022-06-02T17:42:09.789' '2022-06-02T17:42:13.077'\n",
       "  '2022-06-02T17:42:16.366' '2022-06-02T17:42:19.654'\n",
       "  '2022-06-02T17:42:22.943' '2022-06-02T17:42:26.231'\n",
       "  '2022-06-02T17:42:29.520' '2022-06-02T17:42:32.808'\n",
       "  '2022-06-02T17:42:36.096' '2022-06-02T17:42:39.385'\n",
       "  '2022-06-02T17:42:42.673' '2022-06-02T17:42:45.962'\n",
       "  '2022-06-02T17:42:49.250' '2022-06-02T17:42:52.539'\n",
       "  '2022-06-02T17:42:55.827' '2022-06-02T17:42:59.115'\n",
       "  '2022-06-02T17:43:02.404' '2022-06-02T17:43:05.692'\n",
       "  '2022-06-02T17:43:08.981' '2022-06-02T17:43:12.269'\n",
       "  '2022-06-02T17:43:15.558' '2022-06-02T17:43:18.846'\n",
       "  '2022-06-02T17:43:22.134' '2022-06-02T17:43:25.423'\n",
       "  '2022-06-02T17:43:28.711' '2022-06-02T17:43:32.000'\n",
       "  '2022-06-02T17:43:35.288' '2022-06-02T17:43:38.577'\n",
       "  '2022-06-02T17:43:41.865' '2022-06-02T17:43:45.153'\n",
       "  '2022-06-02T17:43:48.442' '2022-06-02T17:43:51.730'\n",
       "  '2022-06-02T17:43:55.019' '2022-06-02T17:43:58.307'\n",
       "  '2022-06-02T17:44:01.596' '2022-06-02T17:44:04.884'\n",
       "  '2022-06-02T17:44:08.172' '2022-06-02T17:44:11.461'\n",
       "  '2022-06-02T17:44:14.749' '2022-06-02T17:44:18.038'\n",
       "  '2022-06-02T17:44:21.326' '2022-06-02T17:44:24.615'\n",
       "  '2022-06-02T17:44:27.903' '2022-06-02T17:44:31.191'\n",
       "  '2022-06-02T17:44:34.480' '2022-06-02T17:44:37.768'\n",
       "  '2022-06-02T17:44:41.057' '2022-06-02T17:44:44.345'\n",
       "  '2022-06-02T17:44:47.634' '2022-06-02T17:44:50.922'\n",
       "  '2022-06-02T17:44:54.210' '2022-06-02T17:44:57.499'\n",
       "  '2022-06-02T17:45:00.787' '2022-06-02T17:45:04.076'\n",
       "  '2022-06-02T17:45:07.364' '2022-06-02T17:45:10.653'\n",
       "  '2022-06-02T17:45:13.941' '2022-06-02T17:45:17.229'\n",
       "  '2022-06-02T17:45:20.518' '2022-06-02T17:45:23.806'\n",
       "  '2022-06-02T17:45:27.095' '2022-06-02T17:45:30.383'\n",
       "  '2022-06-02T17:45:33.672' '2022-06-02T17:45:36.960'\n",
       "  '2022-06-02T17:45:40.248' '2022-06-02T17:45:43.537'\n",
       "  '2022-06-02T17:45:46.825' '2022-06-02T17:45:50.114'\n",
       "  '2022-06-02T17:45:53.402' '2022-06-02T17:45:56.690'\n",
       "  '2022-06-02T17:45:59.979' '2022-06-02T17:46:03.267'\n",
       "  '2022-06-02T17:46:06.556' '2022-06-02T17:46:09.844'\n",
       "  '2022-06-02T17:46:13.133' '2022-06-02T17:46:16.421'\n",
       "  '2022-06-02T17:46:19.709' '2022-06-02T17:46:22.998'\n",
       "  '2022-06-02T17:46:26.286' '2022-06-02T17:46:29.575'\n",
       "  '2022-06-02T17:46:32.863' '2022-06-02T17:46:36.152'\n",
       "  '2022-06-02T17:46:39.440' '2022-06-02T17:46:42.728'\n",
       "  '2022-06-02T17:46:46.017' '2022-06-02T17:46:49.305'\n",
       "  '2022-06-02T17:46:52.594' '2022-06-02T17:46:55.882'\n",
       "  '2022-06-02T17:46:59.171' '2022-06-02T17:47:02.459'\n",
       "  '2022-06-02T17:47:05.747' '2022-06-02T17:47:09.036'\n",
       "  '2022-06-02T17:47:12.324' '2022-06-02T17:47:15.613'\n",
       "  '2022-06-02T17:47:18.901' '2022-06-02T17:47:22.190'\n",
       "  '2022-06-02T17:47:25.478' '2022-06-02T17:47:28.766'\n",
       "  '2022-06-02T17:47:32.055' '2022-06-02T17:47:35.343'\n",
       "  '2022-06-02T17:47:38.632' '2022-06-02T17:47:41.920'\n",
       "  '2022-06-02T17:47:45.209' '2022-06-02T17:47:48.497'\n",
       "  '2022-06-02T17:47:51.785' '2022-06-02T17:47:55.074'\n",
       "  '2022-06-02T17:47:58.362' '2022-06-02T17:48:01.651'\n",
       "  '2022-06-02T17:48:04.939' '2022-06-02T17:48:08.228'\n",
       "  '2022-06-02T17:48:11.516' '2022-06-02T17:48:14.804'\n",
       "  '2022-06-02T17:48:18.093' '2022-06-02T17:48:21.381'\n",
       "  '2022-06-02T17:48:24.670' '2022-06-02T17:48:27.958'\n",
       "  '2022-06-02T17:48:31.247' '2022-06-02T17:48:34.535'\n",
       "  '2022-06-02T17:48:37.823' '2022-06-02T17:48:41.112'\n",
       "  '2022-06-02T17:48:44.400' '2022-06-02T17:48:47.689']>,\n",
       " array(['I', 'Q', 'U', 'V'], dtype=object))"
      ]
     },
     "execution_count": 40,
     "metadata": {},
     "output_type": "execute_result"
    }
   ],
   "source": [
    "ds.axis_world_coords()"
   ]
  },
  {
   "cell_type": "code",
   "execution_count": 41,
   "id": "dd74be52",
   "metadata": {
    "tags": [
     "output_scroll"
    ]
   },
   "outputs": [
    {
     "data": {
      "text/plain": [
       "(<Time object: scale='utc' format='isot' value=['2022-06-02T17:21:59.648' '2022-06-02T17:22:02.937'\n",
       "  '2022-06-02T17:22:06.225' '2022-06-02T17:22:09.513'\n",
       "  '2022-06-02T17:22:12.802' '2022-06-02T17:22:16.090'\n",
       "  '2022-06-02T17:22:19.379' '2022-06-02T17:22:22.667'\n",
       "  '2022-06-02T17:22:25.956' '2022-06-02T17:22:29.244'\n",
       "  '2022-06-02T17:22:32.532' '2022-06-02T17:22:35.821'\n",
       "  '2022-06-02T17:22:39.109' '2022-06-02T17:22:42.398'\n",
       "  '2022-06-02T17:22:45.686' '2022-06-02T17:22:48.975'\n",
       "  '2022-06-02T17:22:52.263' '2022-06-02T17:22:55.551'\n",
       "  '2022-06-02T17:22:58.840' '2022-06-02T17:23:02.128'\n",
       "  '2022-06-02T17:23:05.417' '2022-06-02T17:23:08.705'\n",
       "  '2022-06-02T17:23:11.994' '2022-06-02T17:23:15.282'\n",
       "  '2022-06-02T17:23:18.570' '2022-06-02T17:23:21.859'\n",
       "  '2022-06-02T17:23:25.147' '2022-06-02T17:23:28.436'\n",
       "  '2022-06-02T17:23:31.724' '2022-06-02T17:23:35.013'\n",
       "  '2022-06-02T17:23:38.301' '2022-06-02T17:23:41.589'\n",
       "  '2022-06-02T17:23:44.878' '2022-06-02T17:23:48.166'\n",
       "  '2022-06-02T17:23:51.455' '2022-06-02T17:23:54.743'\n",
       "  '2022-06-02T17:23:58.032' '2022-06-02T17:24:01.320'\n",
       "  '2022-06-02T17:24:04.608' '2022-06-02T17:24:07.897'\n",
       "  '2022-06-02T17:24:11.185' '2022-06-02T17:24:14.473'\n",
       "  '2022-06-02T17:24:17.762' '2022-06-02T17:24:21.051'\n",
       "  '2022-06-02T17:24:24.339' '2022-06-02T17:24:27.627'\n",
       "  '2022-06-02T17:24:30.916' '2022-06-02T17:24:34.204'\n",
       "  '2022-06-02T17:24:37.493' '2022-06-02T17:24:40.781'\n",
       "  '2022-06-02T17:24:44.069' '2022-06-02T17:24:47.358'\n",
       "  '2022-06-02T17:24:50.646' '2022-06-02T17:24:53.935'\n",
       "  '2022-06-02T17:24:57.223' '2022-06-02T17:25:00.512'\n",
       "  '2022-06-02T17:25:03.800' '2022-06-02T17:25:07.088'\n",
       "  '2022-06-02T17:25:10.377' '2022-06-02T17:25:13.665'\n",
       "  '2022-06-02T17:25:16.954' '2022-06-02T17:25:20.242'\n",
       "  '2022-06-02T17:25:23.531' '2022-06-02T17:25:26.819'\n",
       "  '2022-06-02T17:25:30.107' '2022-06-02T17:25:33.396'\n",
       "  '2022-06-02T17:25:36.684' '2022-06-02T17:25:39.973'\n",
       "  '2022-06-02T17:25:43.261' '2022-06-02T17:25:46.550'\n",
       "  '2022-06-02T17:25:49.838' '2022-06-02T17:25:53.126'\n",
       "  '2022-06-02T17:25:56.415' '2022-06-02T17:25:59.703'\n",
       "  '2022-06-02T17:26:02.992' '2022-06-02T17:26:06.280'\n",
       "  '2022-06-02T17:26:09.569' '2022-06-02T17:26:12.857'\n",
       "  '2022-06-02T17:26:16.145' '2022-06-02T17:26:19.434'\n",
       "  '2022-06-02T17:26:22.722' '2022-06-02T17:26:26.011'\n",
       "  '2022-06-02T17:26:29.299' '2022-06-02T17:26:32.588'\n",
       "  '2022-06-02T17:26:35.876' '2022-06-02T17:26:39.164'\n",
       "  '2022-06-02T17:26:42.453' '2022-06-02T17:26:45.741'\n",
       "  '2022-06-02T17:26:49.030' '2022-06-02T17:26:52.318'\n",
       "  '2022-06-02T17:26:55.606' '2022-06-02T17:26:58.895'\n",
       "  '2022-06-02T17:27:02.183' '2022-06-02T17:27:05.472'\n",
       "  '2022-06-02T17:27:08.760' '2022-06-02T17:27:12.049'\n",
       "  '2022-06-02T17:27:15.337' '2022-06-02T17:27:18.626'\n",
       "  '2022-06-02T17:27:21.914' '2022-06-02T17:27:25.202'\n",
       "  '2022-06-02T17:27:28.491' '2022-06-02T17:27:31.779'\n",
       "  '2022-06-02T17:27:35.068' '2022-06-02T17:27:38.356'\n",
       "  '2022-06-02T17:27:41.645' '2022-06-02T17:27:44.933'\n",
       "  '2022-06-02T17:27:48.221' '2022-06-02T17:27:51.510'\n",
       "  '2022-06-02T17:27:54.798' '2022-06-02T17:27:58.087'\n",
       "  '2022-06-02T17:28:01.375' '2022-06-02T17:28:04.663'\n",
       "  '2022-06-02T17:28:07.952' '2022-06-02T17:28:11.240'\n",
       "  '2022-06-02T17:28:14.529' '2022-06-02T17:28:17.817'\n",
       "  '2022-06-02T17:28:21.106' '2022-06-02T17:28:24.394'\n",
       "  '2022-06-02T17:28:27.682' '2022-06-02T17:28:30.971'\n",
       "  '2022-06-02T17:28:34.259' '2022-06-02T17:28:37.548'\n",
       "  '2022-06-02T17:28:40.836' '2022-06-02T17:28:44.125'\n",
       "  '2022-06-02T17:28:47.413' '2022-06-02T17:28:50.701'\n",
       "  '2022-06-02T17:28:53.990' '2022-06-02T17:28:57.278'\n",
       "  '2022-06-02T17:29:00.567' '2022-06-02T17:29:03.855'\n",
       "  '2022-06-02T17:29:07.144' '2022-06-02T17:29:10.432'\n",
       "  '2022-06-02T17:29:13.720' '2022-06-02T17:29:17.009'\n",
       "  '2022-06-02T17:29:20.297' '2022-06-02T17:29:23.586'\n",
       "  '2022-06-02T17:29:26.874' '2022-06-02T17:29:30.163'\n",
       "  '2022-06-02T17:29:33.451' '2022-06-02T17:29:36.739'\n",
       "  '2022-06-02T17:29:40.028' '2022-06-02T17:29:43.316'\n",
       "  '2022-06-02T17:29:46.605' '2022-06-02T17:29:49.893'\n",
       "  '2022-06-02T17:29:53.182' '2022-06-02T17:29:56.470'\n",
       "  '2022-06-02T17:29:59.758' '2022-06-02T17:30:03.047'\n",
       "  '2022-06-02T17:30:06.335' '2022-06-02T17:30:09.624'\n",
       "  '2022-06-02T17:30:12.912' '2022-06-02T17:30:16.201'\n",
       "  '2022-06-02T17:30:19.489' '2022-06-02T17:30:22.777'\n",
       "  '2022-06-02T17:30:26.066' '2022-06-02T17:30:29.354'\n",
       "  '2022-06-02T17:30:32.643' '2022-06-02T17:30:35.931'\n",
       "  '2022-06-02T17:30:39.220' '2022-06-02T17:30:42.508'\n",
       "  '2022-06-02T17:30:45.796' '2022-06-02T17:30:49.085'\n",
       "  '2022-06-02T17:30:52.373' '2022-06-02T17:30:55.662'\n",
       "  '2022-06-02T17:30:58.950' '2022-06-02T17:31:02.239'\n",
       "  '2022-06-02T17:31:05.527' '2022-06-02T17:31:08.815'\n",
       "  '2022-06-02T17:31:12.104' '2022-06-02T17:31:15.392'\n",
       "  '2022-06-02T17:31:18.681' '2022-06-02T17:31:21.969'\n",
       "  '2022-06-02T17:31:25.258' '2022-06-02T17:31:28.546'\n",
       "  '2022-06-02T17:31:31.834' '2022-06-02T17:31:35.123'\n",
       "  '2022-06-02T17:31:38.411' '2022-06-02T17:31:41.700'\n",
       "  '2022-06-02T17:31:44.988' '2022-06-02T17:31:48.276'\n",
       "  '2022-06-02T17:31:51.565' '2022-06-02T17:31:54.853'\n",
       "  '2022-06-02T17:31:58.142' '2022-06-02T17:32:01.430'\n",
       "  '2022-06-02T17:32:04.719' '2022-06-02T17:32:08.007'\n",
       "  '2022-06-02T17:32:11.295' '2022-06-02T17:32:14.584'\n",
       "  '2022-06-02T17:32:17.872' '2022-06-02T17:32:21.161'\n",
       "  '2022-06-02T17:32:24.449' '2022-06-02T17:32:27.738'\n",
       "  '2022-06-02T17:32:31.026' '2022-06-02T17:32:34.314'\n",
       "  '2022-06-02T17:32:37.603' '2022-06-02T17:32:40.891'\n",
       "  '2022-06-02T17:32:44.180' '2022-06-02T17:32:47.468'\n",
       "  '2022-06-02T17:32:50.757' '2022-06-02T17:32:54.045'\n",
       "  '2022-06-02T17:32:57.333' '2022-06-02T17:33:00.622'\n",
       "  '2022-06-02T17:33:03.910' '2022-06-02T17:33:07.199'\n",
       "  '2022-06-02T17:33:10.487' '2022-06-02T17:33:13.776'\n",
       "  '2022-06-02T17:33:17.064' '2022-06-02T17:33:20.352'\n",
       "  '2022-06-02T17:33:23.641' '2022-06-02T17:33:26.929'\n",
       "  '2022-06-02T17:33:30.218' '2022-06-02T17:33:33.506'\n",
       "  '2022-06-02T17:33:36.795' '2022-06-02T17:33:40.083'\n",
       "  '2022-06-02T17:33:43.371' '2022-06-02T17:33:46.660'\n",
       "  '2022-06-02T17:33:49.948' '2022-06-02T17:33:53.237'\n",
       "  '2022-06-02T17:33:56.525' '2022-06-02T17:33:59.814'\n",
       "  '2022-06-02T17:34:03.102' '2022-06-02T17:34:06.390'\n",
       "  '2022-06-02T17:34:09.679' '2022-06-02T17:34:12.967'\n",
       "  '2022-06-02T17:34:16.256' '2022-06-02T17:34:19.544'\n",
       "  '2022-06-02T17:34:22.833' '2022-06-02T17:34:26.121'\n",
       "  '2022-06-02T17:34:29.409' '2022-06-02T17:34:32.698'\n",
       "  '2022-06-02T17:34:35.986' '2022-06-02T17:34:39.275'\n",
       "  '2022-06-02T17:34:42.563' '2022-06-02T17:34:45.852'\n",
       "  '2022-06-02T17:34:49.140' '2022-06-02T17:34:52.428'\n",
       "  '2022-06-02T17:34:55.717' '2022-06-02T17:34:59.005'\n",
       "  '2022-06-02T17:35:02.294' '2022-06-02T17:35:05.582'\n",
       "  '2022-06-02T17:35:08.870' '2022-06-02T17:35:12.159'\n",
       "  '2022-06-02T17:35:15.447' '2022-06-02T17:35:18.736'\n",
       "  '2022-06-02T17:35:22.024' '2022-06-02T17:35:25.313'\n",
       "  '2022-06-02T17:35:28.601' '2022-06-02T17:35:31.889'\n",
       "  '2022-06-02T17:35:35.178' '2022-06-02T17:35:38.466'\n",
       "  '2022-06-02T17:35:41.755' '2022-06-02T17:35:45.043'\n",
       "  '2022-06-02T17:35:48.332' '2022-06-02T17:35:51.620'\n",
       "  '2022-06-02T17:35:54.908' '2022-06-02T17:35:58.197'\n",
       "  '2022-06-02T17:36:01.485' '2022-06-02T17:36:04.774'\n",
       "  '2022-06-02T17:36:08.062' '2022-06-02T17:36:11.351'\n",
       "  '2022-06-02T17:36:14.639' '2022-06-02T17:36:17.927'\n",
       "  '2022-06-02T17:36:21.216' '2022-06-02T17:36:24.504'\n",
       "  '2022-06-02T17:36:27.793' '2022-06-02T17:36:31.081'\n",
       "  '2022-06-02T17:36:34.370' '2022-06-02T17:36:37.658'\n",
       "  '2022-06-02T17:36:40.946' '2022-06-02T17:36:44.235'\n",
       "  '2022-06-02T17:36:47.523' '2022-06-02T17:36:50.812'\n",
       "  '2022-06-02T17:36:54.100' '2022-06-02T17:36:57.389'\n",
       "  '2022-06-02T17:37:00.677' '2022-06-02T17:37:03.965'\n",
       "  '2022-06-02T17:37:07.254' '2022-06-02T17:37:10.542'\n",
       "  '2022-06-02T17:37:13.831' '2022-06-02T17:37:17.119'\n",
       "  '2022-06-02T17:37:20.408' '2022-06-02T17:37:23.696'\n",
       "  '2022-06-02T17:37:26.984' '2022-06-02T17:37:30.273'\n",
       "  '2022-06-02T17:37:33.561' '2022-06-02T17:37:36.850'\n",
       "  '2022-06-02T17:37:40.138' '2022-06-02T17:37:43.427'\n",
       "  '2022-06-02T17:37:46.715' '2022-06-02T17:37:50.003'\n",
       "  '2022-06-02T17:37:53.292' '2022-06-02T17:37:56.580'\n",
       "  '2022-06-02T17:37:59.869' '2022-06-02T17:38:03.157'\n",
       "  '2022-06-02T17:38:06.446' '2022-06-02T17:38:09.734'\n",
       "  '2022-06-02T17:38:13.022' '2022-06-02T17:38:16.311'\n",
       "  '2022-06-02T17:38:19.599' '2022-06-02T17:38:22.888'\n",
       "  '2022-06-02T17:38:26.176' '2022-06-02T17:38:29.465'\n",
       "  '2022-06-02T17:38:32.753' '2022-06-02T17:38:36.041'\n",
       "  '2022-06-02T17:38:39.330' '2022-06-02T17:38:42.618'\n",
       "  '2022-06-02T17:38:45.907' '2022-06-02T17:38:49.195'\n",
       "  '2022-06-02T17:38:52.483' '2022-06-02T17:38:55.772'\n",
       "  '2022-06-02T17:38:59.060' '2022-06-02T17:39:02.349'\n",
       "  '2022-06-02T17:39:05.637' '2022-06-02T17:39:08.926'\n",
       "  '2022-06-02T17:39:12.214' '2022-06-02T17:39:15.502'\n",
       "  '2022-06-02T17:39:18.791' '2022-06-02T17:39:22.079'\n",
       "  '2022-06-02T17:39:25.368' '2022-06-02T17:39:28.656'\n",
       "  '2022-06-02T17:39:31.945' '2022-06-02T17:39:35.233'\n",
       "  '2022-06-02T17:39:38.521' '2022-06-02T17:39:41.810'\n",
       "  '2022-06-02T17:39:45.098' '2022-06-02T17:39:48.387'\n",
       "  '2022-06-02T17:39:51.675' '2022-06-02T17:39:54.964'\n",
       "  '2022-06-02T17:39:58.252' '2022-06-02T17:40:01.540'\n",
       "  '2022-06-02T17:40:04.829' '2022-06-02T17:40:08.117'\n",
       "  '2022-06-02T17:40:11.406' '2022-06-02T17:40:14.694'\n",
       "  '2022-06-02T17:40:17.983' '2022-06-02T17:40:21.271'\n",
       "  '2022-06-02T17:40:24.559' '2022-06-02T17:40:27.848'\n",
       "  '2022-06-02T17:40:31.136' '2022-06-02T17:40:34.425'\n",
       "  '2022-06-02T17:40:37.713' '2022-06-02T17:40:41.002'\n",
       "  '2022-06-02T17:40:44.290' '2022-06-02T17:40:47.578'\n",
       "  '2022-06-02T17:40:50.867' '2022-06-02T17:40:54.155'\n",
       "  '2022-06-02T17:40:57.444' '2022-06-02T17:41:00.732'\n",
       "  '2022-06-02T17:41:04.021' '2022-06-02T17:41:07.309'\n",
       "  '2022-06-02T17:41:10.597' '2022-06-02T17:41:13.886'\n",
       "  '2022-06-02T17:41:17.174' '2022-06-02T17:41:20.463'\n",
       "  '2022-06-02T17:41:23.751' '2022-06-02T17:41:27.040'\n",
       "  '2022-06-02T17:41:30.328' '2022-06-02T17:41:33.616'\n",
       "  '2022-06-02T17:41:36.905' '2022-06-02T17:41:40.193'\n",
       "  '2022-06-02T17:41:43.482' '2022-06-02T17:41:46.770'\n",
       "  '2022-06-02T17:41:50.059' '2022-06-02T17:41:53.347'\n",
       "  '2022-06-02T17:41:56.635' '2022-06-02T17:41:59.924'\n",
       "  '2022-06-02T17:42:03.212' '2022-06-02T17:42:06.501'\n",
       "  '2022-06-02T17:42:09.789' '2022-06-02T17:42:13.077'\n",
       "  '2022-06-02T17:42:16.366' '2022-06-02T17:42:19.654'\n",
       "  '2022-06-02T17:42:22.943' '2022-06-02T17:42:26.231'\n",
       "  '2022-06-02T17:42:29.520' '2022-06-02T17:42:32.808'\n",
       "  '2022-06-02T17:42:36.096' '2022-06-02T17:42:39.385'\n",
       "  '2022-06-02T17:42:42.673' '2022-06-02T17:42:45.962'\n",
       "  '2022-06-02T17:42:49.250' '2022-06-02T17:42:52.539'\n",
       "  '2022-06-02T17:42:55.827' '2022-06-02T17:42:59.115'\n",
       "  '2022-06-02T17:43:02.404' '2022-06-02T17:43:05.692'\n",
       "  '2022-06-02T17:43:08.981' '2022-06-02T17:43:12.269'\n",
       "  '2022-06-02T17:43:15.558' '2022-06-02T17:43:18.846'\n",
       "  '2022-06-02T17:43:22.134' '2022-06-02T17:43:25.423'\n",
       "  '2022-06-02T17:43:28.711' '2022-06-02T17:43:32.000'\n",
       "  '2022-06-02T17:43:35.288' '2022-06-02T17:43:38.577'\n",
       "  '2022-06-02T17:43:41.865' '2022-06-02T17:43:45.153'\n",
       "  '2022-06-02T17:43:48.442' '2022-06-02T17:43:51.730'\n",
       "  '2022-06-02T17:43:55.019' '2022-06-02T17:43:58.307'\n",
       "  '2022-06-02T17:44:01.596' '2022-06-02T17:44:04.884'\n",
       "  '2022-06-02T17:44:08.172' '2022-06-02T17:44:11.461'\n",
       "  '2022-06-02T17:44:14.749' '2022-06-02T17:44:18.038'\n",
       "  '2022-06-02T17:44:21.326' '2022-06-02T17:44:24.615'\n",
       "  '2022-06-02T17:44:27.903' '2022-06-02T17:44:31.191'\n",
       "  '2022-06-02T17:44:34.480' '2022-06-02T17:44:37.768'\n",
       "  '2022-06-02T17:44:41.057' '2022-06-02T17:44:44.345'\n",
       "  '2022-06-02T17:44:47.634' '2022-06-02T17:44:50.922'\n",
       "  '2022-06-02T17:44:54.210' '2022-06-02T17:44:57.499'\n",
       "  '2022-06-02T17:45:00.787' '2022-06-02T17:45:04.076'\n",
       "  '2022-06-02T17:45:07.364' '2022-06-02T17:45:10.653'\n",
       "  '2022-06-02T17:45:13.941' '2022-06-02T17:45:17.229'\n",
       "  '2022-06-02T17:45:20.518' '2022-06-02T17:45:23.806'\n",
       "  '2022-06-02T17:45:27.095' '2022-06-02T17:45:30.383'\n",
       "  '2022-06-02T17:45:33.672' '2022-06-02T17:45:36.960'\n",
       "  '2022-06-02T17:45:40.248' '2022-06-02T17:45:43.537'\n",
       "  '2022-06-02T17:45:46.825' '2022-06-02T17:45:50.114'\n",
       "  '2022-06-02T17:45:53.402' '2022-06-02T17:45:56.690'\n",
       "  '2022-06-02T17:45:59.979' '2022-06-02T17:46:03.267'\n",
       "  '2022-06-02T17:46:06.556' '2022-06-02T17:46:09.844'\n",
       "  '2022-06-02T17:46:13.133' '2022-06-02T17:46:16.421'\n",
       "  '2022-06-02T17:46:19.709' '2022-06-02T17:46:22.998'\n",
       "  '2022-06-02T17:46:26.286' '2022-06-02T17:46:29.575'\n",
       "  '2022-06-02T17:46:32.863' '2022-06-02T17:46:36.152'\n",
       "  '2022-06-02T17:46:39.440' '2022-06-02T17:46:42.728'\n",
       "  '2022-06-02T17:46:46.017' '2022-06-02T17:46:49.305'\n",
       "  '2022-06-02T17:46:52.594' '2022-06-02T17:46:55.882'\n",
       "  '2022-06-02T17:46:59.171' '2022-06-02T17:47:02.459'\n",
       "  '2022-06-02T17:47:05.747' '2022-06-02T17:47:09.036'\n",
       "  '2022-06-02T17:47:12.324' '2022-06-02T17:47:15.613'\n",
       "  '2022-06-02T17:47:18.901' '2022-06-02T17:47:22.190'\n",
       "  '2022-06-02T17:47:25.478' '2022-06-02T17:47:28.766'\n",
       "  '2022-06-02T17:47:32.055' '2022-06-02T17:47:35.343'\n",
       "  '2022-06-02T17:47:38.632' '2022-06-02T17:47:41.920'\n",
       "  '2022-06-02T17:47:45.209' '2022-06-02T17:47:48.497'\n",
       "  '2022-06-02T17:47:51.785' '2022-06-02T17:47:55.074'\n",
       "  '2022-06-02T17:47:58.362' '2022-06-02T17:48:01.651'\n",
       "  '2022-06-02T17:48:04.939' '2022-06-02T17:48:08.228'\n",
       "  '2022-06-02T17:48:11.516' '2022-06-02T17:48:14.804'\n",
       "  '2022-06-02T17:48:18.093' '2022-06-02T17:48:21.381'\n",
       "  '2022-06-02T17:48:24.670' '2022-06-02T17:48:27.958'\n",
       "  '2022-06-02T17:48:31.247' '2022-06-02T17:48:34.535'\n",
       "  '2022-06-02T17:48:37.823' '2022-06-02T17:48:41.112'\n",
       "  '2022-06-02T17:48:44.400' '2022-06-02T17:48:47.689']>,)"
      ]
     },
     "execution_count": 41,
     "metadata": {},
     "output_type": "execute_result"
    }
   ],
   "source": [
    "ds.axis_world_coords('time')"
   ]
  },
  {
   "cell_type": "markdown",
   "id": "f8086eda",
   "metadata": {},
   "source": [
    "### Slicing Datasets\n",
    "\n",
    "Another useful feature of the `Dataset` class, which it inherits from `NDCube` is the ability to \"slice\" the dataset and get a smaller dataset, with the array and coordinate information in tact.\n",
    "\n",
    "For example, to extract the Stokes I component of the dataset we would do:"
   ]
  },
  {
   "cell_type": "code",
   "execution_count": 42,
   "id": "4f478ae2",
   "metadata": {},
   "outputs": [
    {
     "data": {
      "text/plain": [
       "<dkist.dataset.dataset.Dataset object at 0x7f8c5edf0550>\n",
       "This Dataset has 3 pixel and 4 world dimensions\n",
       "\n",
       "dask.array<getitem, shape=(490, 976, 2555), dtype=float64, chunksize=(1, 976, 2555), chunktype=numpy.ndarray>\n",
       "\n",
       "Pixel Dim  Axis Name                Data size  Bounds\n",
       "        0  raster scan step number        490  None\n",
       "        1  spatial along slit             976  None\n",
       "        2  dispersion axis               2555  None\n",
       "\n",
       "World Dim  Axis Name                  Physical Type                   Units\n",
       "        0  time                       time                            s\n",
       "        1  helioprojective longitude  custom:pos.helioprojective.lon  arcsec\n",
       "        2  helioprojective latitude   custom:pos.helioprojective.lat  arcsec\n",
       "        3  wavelength                 em.wl                           nm\n",
       "\n",
       "Correlation between pixel and world axes:\n",
       "\n",
       "             Pixel Dim\n",
       "World Dim    0    1    2\n",
       "        0  yes   no   no\n",
       "        1  yes  yes   no\n",
       "        2  yes  yes   no\n",
       "        3   no   no  yes"
      ]
     },
     "execution_count": 42,
     "metadata": {},
     "output_type": "execute_result"
    }
   ],
   "source": [
    "ds[0]"
   ]
  },
  {
   "cell_type": "markdown",
   "id": "7b0f123d",
   "metadata": {},
   "source": [
    "This is because the Stokes axis is the first array axis, and the \"I\" profile is the first one (0-indexing).\n",
    "\n",
    "Note how we have dropped a world coordinate; this information is preserved in the `.global_coords` attribute, which contains the coordinate information which applies to the whole dataset:"
   ]
  },
  {
   "cell_type": "code",
   "execution_count": 43,
   "id": "6eb8091e",
   "metadata": {},
   "outputs": [
    {
     "data": {
      "text/plain": [
       "<ndcube.global_coords.GlobalCoords object at 0x7f8c5ed7b810>\n",
       "GlobalCoords(stokes ['phys.polarization.stokes']:\n",
       "'I')"
      ]
     },
     "execution_count": 43,
     "metadata": {},
     "output_type": "execute_result"
    }
   ],
   "source": [
    "ds[0].global_coords"
   ]
  },
  {
   "cell_type": "markdown",
   "id": "e9b56e38",
   "metadata": {},
   "source": [
    "We can also slice out a section of an axis of the dataset:"
   ]
  },
  {
   "cell_type": "code",
   "execution_count": 49,
   "id": "8f1d1b38",
   "metadata": {},
   "outputs": [
    {
     "data": {
      "text/plain": [
       "<dkist.dataset.dataset.Dataset object at 0x7f8c5ec71e10>\n",
       "This Dataset has 4 pixel and 5 world dimensions\n",
       "\n",
       "dask.array<getitem, shape=(4, 480, 976, 2555), dtype=float64, chunksize=(1, 1, 976, 2555), chunktype=numpy.ndarray>\n",
       "\n",
       "Pixel Dim  Axis Name                Data size  Bounds\n",
       "        0  polarization state               4  None\n",
       "        1  raster scan step number        480  None\n",
       "        2  spatial along slit             976  None\n",
       "        3  dispersion axis               2555  None\n",
       "\n",
       "World Dim  Axis Name                  Physical Type                   Units\n",
       "        0  stokes                     phys.polarization.stokes        unknown\n",
       "        1  time                       time                            s\n",
       "        2  helioprojective longitude  custom:pos.helioprojective.lon  arcsec\n",
       "        3  helioprojective latitude   custom:pos.helioprojective.lat  arcsec\n",
       "        4  wavelength                 em.wl                           nm\n",
       "\n",
       "Correlation between pixel and world axes:\n",
       "\n",
       "               Pixel Dim\n",
       "World Dim    0    1    2    3\n",
       "        0  yes   no   no   no\n",
       "        1   no  yes   no   no\n",
       "        2   no  yes  yes   no\n",
       "        3   no  yes  yes   no\n",
       "        4   no   no   no  yes"
      ]
     },
     "execution_count": 49,
     "metadata": {},
     "output_type": "execute_result"
    }
   ],
   "source": [
    "ds[:, 10:2000, :, :]"
   ]
  },
  {
   "cell_type": "code",
   "execution_count": 47,
   "id": "a736e174",
   "metadata": {},
   "outputs": [
    {
     "data": {
      "text/plain": [
       "<ndcube.global_coords.GlobalCoords object at 0x7f8c5eff5890>\n",
       "GlobalCoords(time ['time']:\n",
       "<Time object: scale='utc' format='isot' value=2022-06-02T17:21:59.648>,\n",
       "             stokes ['phys.polarization.stokes']:\n",
       "'I')"
      ]
     },
     "execution_count": 47,
     "metadata": {},
     "output_type": "execute_result"
    }
   ],
   "source": [
    "ds[0, 0].global_coords"
   ]
  },
  {
   "cell_type": "markdown",
   "id": "ec4a3f25",
   "metadata": {},
   "source": [
    "This selects only 100 of the raster step points.\n",
    "\n",
    "\n",
    "## TiledDataset\n",
    "\n",
    "So far we have been working with VISP data, which is continuous in a sense, in that there are no gaps or overlaps in the coordinates axes.\n",
    "However, instruments like VBI take multiple images at different locations with the intention of tiling them together to form a larger image.\n",
    "In this case, those images do not share a common pixel grid and therefore cannot be simply stacked together.\n",
    "It is possible to use `reproject` to regrid the images into a larger array, but since this would interpolate the data, it is not done by default.\n",
    "We will cover an example of how to do this later in the workshop.\n",
    "\n",
    "This kind of tiled data cannot be stored in a single `Dataset` object.\n",
    "There is therefore a wrapper object called `TiledDataset`, which is essentially an array of `Dataset` objects.\n",
    "Let's demonstrate this with a VBI dataset."
   ]
  },
  {
   "cell_type": "code",
   "execution_count": 50,
   "id": "c194a913",
   "metadata": {},
   "outputs": [
    {
     "data": {
      "application/vnd.jupyter.widget-view+json": {
       "model_id": "fc1d67756efd4c5eab6db840004e546e",
       "version_major": 2,
       "version_minor": 0
      },
      "text/plain": [
       "Files Downloaded:   0%|          | 0/1 [00:00<?, ?file/s]"
      ]
     },
     "metadata": {},
     "output_type": "display_data"
    },
    {
     "data": {
      "text/plain": [
       "<dkist.dataset.tiled_dataset.TiledDataset at 0x7f8c5f2a54d0>"
      ]
     },
     "execution_count": 50,
     "metadata": {},
     "output_type": "execute_result"
    }
   ],
   "source": [
    "res = Fido.search(a.dkist.Dataset(\"BLKGA\"))\n",
    "files = Fido.fetch(res, path=\"~/sunpy/data/{instrument}/{dataset_id}\")\n",
    "tds = dkist.Dataset.from_asdf(files[0])\n",
    "tds"
   ]
  },
  {
   "cell_type": "markdown",
   "id": "977f9944",
   "metadata": {},
   "source": [
    "To access the individual tiles, we can then index this normally to get back the `Dataset` objects."
   ]
  },
  {
   "cell_type": "code",
   "execution_count": 61,
   "id": "46f291a5",
   "metadata": {},
   "outputs": [
    {
     "data": {
      "text/plain": [
       "dkist.dataset.tiled_dataset.TiledDataset"
      ]
     },
     "execution_count": 61,
     "metadata": {},
     "output_type": "execute_result"
    }
   ],
   "source": [
    "type(tds)"
   ]
  },
  {
   "cell_type": "code",
   "execution_count": 62,
   "id": "a1a6ea72",
   "metadata": {},
   "outputs": [
    {
     "data": {
      "text/plain": [
       "dkist.dataset.dataset.Dataset"
      ]
     },
     "execution_count": 62,
     "metadata": {},
     "output_type": "execute_result"
    }
   ],
   "source": [
    "type(ds)"
   ]
  },
  {
   "cell_type": "code",
   "execution_count": 52,
   "id": "c0e1d744",
   "metadata": {},
   "outputs": [
    {
     "data": {
      "text/plain": [
       "(3, 3)"
      ]
     },
     "execution_count": 52,
     "metadata": {},
     "output_type": "execute_result"
    }
   ],
   "source": [
    "tds.shape"
   ]
  },
  {
   "cell_type": "code",
   "execution_count": 55,
   "id": "50cd8d63",
   "metadata": {
    "scrolled": true
   },
   "outputs": [
    {
     "data": {
      "text/plain": [
       "{'asdfObjectKey': 'pid_1_118/BLKGA/VBI_L1_20220602T172250_BLKGA.asdf',\n",
       " 'averageDatasetSpatialSampling': 0.01099999994039536,\n",
       " 'averageDatasetSpectralSampling': None,\n",
       " 'averageDatasetTemporalSampling': 82.26000000000653,\n",
       " 'boundingBox': '(-560.88,-346.83),(-677.78,-466.44)',\n",
       " 'browseMovieObjectKey': 'pid_1_118/BLKGA/BLKGA.mp4',\n",
       " 'bucket': 'data',\n",
       " 'calibrationDocumentationUrl': 'https://docs.dkist.nso.edu/projects/vbi/en/v0.16.0/l0_to_l1_vbi_summit-calibrated.html',\n",
       " 'contributingExperimentIds': [],\n",
       " 'contributingProposalIds': [],\n",
       " 'datasetId': 'BLKGA',\n",
       " 'datasetInventoryId': 5264,\n",
       " 'datasetSize': 2,\n",
       " 'endTime': '2022-06-02T17:47:30.855505',\n",
       " 'exposureTime': 5.009,\n",
       " 'frameCount': 171,\n",
       " 'hasAllStokes': False,\n",
       " 'hasSpectralAxis': False,\n",
       " 'hasTemporalAxis': True,\n",
       " 'headerDataUnitCreationDate': '2022-12-08T17:46:16.402000',\n",
       " 'headerDocumentationUrl': 'https://docs.dkist.nso.edu/projects/data-products/en/v3.0.0',\n",
       " 'headerVersion': '3.0.0',\n",
       " 'highLevelSoftwareVersion': 'Alakai_5-1',\n",
       " 'infoUrl': 'https://docs.dkist.nso.edu',\n",
       " 'inputDatasetCalibrationFramesPartId': None,\n",
       " 'inputDatasetObserveFramesPartId': 226,\n",
       " 'inputDatasetParametersPartId': 224,\n",
       " 'instrumentName': 'VBI',\n",
       " 'instrumentProgramExecutionId': 'id.85407.60330',\n",
       " 'observingProgramExecutionId': 'eid_1_118_opAvoqBr_R001.82591.13964206',\n",
       " 'originalFrameCount': 171,\n",
       " 'primaryExperimentId': 'eid_1_118',\n",
       " 'primaryProposalId': 'pid_1_118',\n",
       " 'qualityAverageFriedParameter': 0.08814365069897488,\n",
       " 'qualityAveragePolarimetricAccuracy': None,\n",
       " 'qualityReportObjectKey': 'pid_1_118/BLKGA/BLKGA.pdf',\n",
       " 'recipeId': 3,\n",
       " 'recipeInstanceId': 159,\n",
       " 'recipeRunId': 239,\n",
       " 'startTime': '2022-06-02T17:22:50.175505',\n",
       " 'stokesParameters': 'I',\n",
       " 'targetTypes': ['unknown'],\n",
       " 'wavelengthMax': 486.0,\n",
       " 'wavelengthMin': 486.0,\n",
       " 'workflowName': 'l0_to_l1_vbi_summit-calibrated',\n",
       " 'workflowVersion': '0.16.0'}"
      ]
     },
     "execution_count": 55,
     "metadata": {},
     "output_type": "execute_result"
    }
   ],
   "source": [
    "tds.inventory"
   ]
  },
  {
   "cell_type": "code",
   "execution_count": 58,
   "id": "8c45374a",
   "metadata": {},
   "outputs": [
    {
     "data": {
      "text/plain": [
       "<dkist.dataset.dataset.Dataset object at 0x7f8c5d702310>\n",
       "This Dataset has 3 pixel and 3 world dimensions\n",
       "\n",
       "dask.array<stack, shape=(19, 4096, 4096), dtype=float32, chunksize=(1, 4096, 4096), chunktype=numpy.ndarray>\n",
       "\n",
       "Pixel Dim  Axis Name                  Data size  Bounds\n",
       "        0  time                              19  None\n",
       "        1  helioprojective longitude       4096  None\n",
       "        2  helioprojective latitude        4096  None\n",
       "\n",
       "World Dim  Axis Name                  Physical Type                   Units\n",
       "        0  time                       time                            s\n",
       "        1  helioprojective longitude  custom:pos.helioprojective.lat  arcsec\n",
       "        2  helioprojective latitude   custom:pos.helioprojective.lon  arcsec\n",
       "\n",
       "Correlation between pixel and world axes:\n",
       "\n",
       "             Pixel Dim\n",
       "World Dim    0    1    2\n",
       "        0  yes   no   no\n",
       "        1  yes  yes  yes\n",
       "        2  yes  yes  yes"
      ]
     },
     "execution_count": 58,
     "metadata": {},
     "output_type": "execute_result"
    }
   ],
   "source": [
    "tds[0, 1]"
   ]
  },
  {
   "cell_type": "code",
   "execution_count": null,
   "id": "2b9e608f",
   "metadata": {},
   "outputs": [],
   "source": []
  },
  {
   "cell_type": "markdown",
   "id": "bb1d4594",
   "metadata": {},
   "source": [
    "```{error}\n",
    "Due to a known issue with the VBI level 1 FITS headers, the ordering of these tiles in the array is likley incorrect.\n",
    "```\n",
    "\n",
    "The `TiledDataset` stores the FITS headers for all the files of the individual `Dataset`s in the `combined_headers` attribute.\n",
    "This means that the metadata can still be inspected in many of the ways we will see in later sessions.\n",
    "Later releases of the user tools will also include helper functions for regridding a `TiledDataset` into a single `Dataset` object."
   ]
  }
 ],
 "metadata": {
  "kernelspec": {
   "display_name": "Python 3 (ipykernel)",
   "language": "python",
   "name": "python3"
  },
  "language_info": {
   "codemirror_mode": {
    "name": "ipython",
    "version": 3
   },
   "file_extension": ".py",
   "mimetype": "text/x-python",
   "name": "python",
   "nbconvert_exporter": "python",
   "pygments_lexer": "ipython3",
   "version": "3.11.3"
  }
 },
 "nbformat": 4,
 "nbformat_minor": 5
}
