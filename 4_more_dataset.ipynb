{
 "cells": [
  {
   "cell_type": "markdown",
   "id": "f94beceb",
   "metadata": {},
   "source": [
    "    \n",
    "# More `Dataset`\n",
    "\n",
    "Firstly we need to re-create our dataset object from the last notebook.\n",
    "Remember it was a `TiledDataset` so we will index it to just get the first `Dataset` object."
   ]
  },
  {
   "cell_type": "code",
   "execution_count": null,
   "id": "c24bca74",
   "metadata": {
    "tags": [
     "keep-inputs"
    ]
   },
   "outputs": [],
   "source": []
  },
  {
   "cell_type": "markdown",
   "id": "ec3aee78",
   "metadata": {},
   "source": [
    "The `Dataset` object allows us to do some basic inspection of the dataset as a whole without having to download the entire thing, using the metadata in the FITS headers.\n",
    "This will save you a good amount of time and also ease the load on the DKIST servers.\n",
    "For example, we can check the seeing conditions during the observation and discount any data which will not be of high enough quality to be useful.\n",
    "We will go through this as an excercise later.\n",
    "\n",
    "## The `headers` table\n",
    "\n",
    "The FITS headers from every file in a dataset are duplicated and stored in the ASDF file.\n",
    "This means that all the metadata about each file is accessible using only the ASDF file before downloading any of the actual data.\n",
    "(It also means any changes you make to the headers in the headers table won't be reflected in the FITS files.)\n",
    "These headers are stored as a table in the `headers` attribute of the `Dataset`."
   ]
  },
  {
   "cell_type": "code",
   "execution_count": null,
   "id": "9df38570",
   "metadata": {
    "tags": [
     "output_scroll"
    ]
   },
   "outputs": [],
   "source": []
  },
  {
   "cell_type": "markdown",
   "id": "b06434f2",
   "metadata": {},
   "source": [
    "Since the headers are stored as a table, it is straightforward to inspect a keyword for all files at once.\n",
    "For example, to see the time of every frame in the dataset:"
   ]
  },
  {
   "cell_type": "code",
   "execution_count": null,
   "id": "f91e2a6b",
   "metadata": {
    "tags": [
     "output_scroll"
    ]
   },
   "outputs": [],
   "source": []
  },
  {
   "cell_type": "markdown",
   "id": "5274438b",
   "metadata": {},
   "source": [
    "Or we can look at one or more rows (i.e.: files) by slicing the table."
   ]
  },
  {
   "cell_type": "code",
   "execution_count": null,
   "id": "0e813712",
   "metadata": {},
   "outputs": [],
   "source": []
  },
  {
   "cell_type": "markdown",
   "id": "13befbc2",
   "metadata": {},
   "source": [
    "The table is an instance of {obj}`astropy.table.Table`, and can therefore be inspected and manipulated in any of the usual ways for Table objects.\n",
    "Details of how to work with `Table` can be found on the astropy documentation.\n",
    "Notably though, columns can be used as arrays in many contexts.\n",
    "They can therefore be used for plotting, which allows us to visually inspect how metadata values vary over the many files in the dataset.\n",
    "For example, we might want to inspect the seeing conditions and plot the Fried parameter for all frames.\n",
    "\n",
    "First, if you're not familiar with all of the keywords in the header, they can be checked in the documentation.\n",
    "Helpfully, `Dataset` provides some additional metadata which includes a link to that documentation:"
   ]
  },
  {
   "cell_type": "code",
   "execution_count": null,
   "id": "a3320e5b",
   "metadata": {},
   "outputs": [],
   "source": []
  },
  {
   "cell_type": "markdown",
   "id": "e1dcdfaf",
   "metadata": {},
   "source": [
    "If you follow this link and then click on \"Level One FITS Specification\" you will find a list of all the FITS keywords used for level 1 data with a description of each.\n",
    "Using this we can find that the Fried parameter is stored with the keyword `\"ATMOS_R0\"`.\n",
    "Then it's trivial to plot this information:"
   ]
  },
  {
   "cell_type": "code",
   "execution_count": null,
   "id": "b868a871",
   "metadata": {},
   "outputs": [],
   "source": []
  },
  {
   "cell_type": "markdown",
   "id": "d45b6ed1",
   "metadata": {},
   "source": [
    "Or we can use multiple columns from the headers to compare information or look at related values."
   ]
  },
  {
   "cell_type": "code",
   "execution_count": null,
   "id": "c2e7014b",
   "metadata": {},
   "outputs": [],
   "source": []
  },
  {
   "cell_type": "markdown",
   "id": "6cd71e0f",
   "metadata": {},
   "source": [
    "## Tracking files\n",
    "\n",
    "`Dataset` tracks information about the individual files that make up the datset in the `files` attribute."
   ]
  },
  {
   "cell_type": "code",
   "execution_count": null,
   "id": "b54dfb85",
   "metadata": {},
   "outputs": [],
   "source": []
  },
  {
   "cell_type": "markdown",
   "id": "da17bb77",
   "metadata": {},
   "source": [
    "This tells us that our (20, 4096, 4096) data array is stored as 20 files, each containing an array of (4096, 4096).\n",
    "Since the filenames are automatically generated from observation metadata, the `files` attribute can also track those before we even download the data."
   ]
  },
  {
   "cell_type": "code",
   "execution_count": null,
   "id": "7ab9fdc9",
   "metadata": {},
   "outputs": [],
   "source": []
  },
  {
   "cell_type": "markdown",
   "id": "6bbf1d5b",
   "metadata": {},
   "source": [
    "`Dataset` also knows the base path of the data - the path where the data is (or will be) saved."
   ]
  },
  {
   "cell_type": "code",
   "execution_count": null,
   "id": "7bb6dcf0",
   "metadata": {},
   "outputs": [],
   "source": []
  },
  {
   "cell_type": "markdown",
   "id": "e3c10d1f",
   "metadata": {},
   "source": [
    "When we download the data for this dataset later on, this is where it will be saved.\n",
    "So in general you may want to use the path interpolation feature of the various download functions to keep your data files arranged sensibly, as we have for this example.\n",
    "\n",
    "### Reducing file downloads\n",
    "We have mentioned a few times already that we can reduce the size of a data download by finding just the data that interests us and slicing the dataset down to just that portion.\n",
    "However, there is an important point to note about this, which is that you need to keep in mind how the data are stored across the dataset's files.\n",
    "For this example let's use a larger and more complicated dataset."
   ]
  },
  {
   "cell_type": "code",
   "execution_count": null,
   "id": "1fa4cfa0",
   "metadata": {},
   "outputs": [],
   "source": []
  },
  {
   "cell_type": "code",
   "execution_count": null,
   "id": "83ad1073",
   "metadata": {},
   "outputs": [],
   "source": []
  },
  {
   "cell_type": "markdown",
   "id": "41c4b2aa",
   "metadata": {},
   "source": [
    "So in this case we can see that each FITS file contains effectively a 2D image - a single raster scan at one polarisation state - and that we have many of these files to make a full 4D dataset.\n",
    "What this means is that if we look at a subset of the scan steps or polarisation states, we will reduce the number of files across which the array is stored."
   ]
  },
  {
   "cell_type": "code",
   "execution_count": null,
   "id": "e37f722d",
   "metadata": {},
   "outputs": [],
   "source": []
  },
  {
   "cell_type": "markdown",
   "id": "d68622e2",
   "metadata": {},
   "source": [
    "First, notice that when we slice a `Dataset` like this, the output we get here shows us not just the updated array shape but also the updated dimensions.\n",
    "Because we're looking at a single polarisation state, that axis and the corresponding physical axis have been removed.\n",
    "\n",
    "Going back to the `files` attribute, we can see that we do indeed have fewer files for this subset of the data."
   ]
  },
  {
   "cell_type": "code",
   "execution_count": null,
   "id": "44fce5f6",
   "metadata": {},
   "outputs": [],
   "source": []
  },
  {
   "cell_type": "markdown",
   "id": "5561b309",
   "metadata": {},
   "source": [
    "However, if we decide we want to look at a single wavelength, we are taking a row of pixels from every single file.\n",
    "So although we reduce the dimensions of the array, we are not reducing the number of files we need to reference - and therefore download."
   ]
  },
  {
   "cell_type": "code",
   "execution_count": null,
   "id": "4473fbaa",
   "metadata": {},
   "outputs": [],
   "source": []
  },
  {
   "cell_type": "code",
   "execution_count": null,
   "id": "a0d3253f",
   "metadata": {},
   "outputs": [],
   "source": []
  },
  {
   "cell_type": "markdown",
   "id": "9debdad4",
   "metadata": {},
   "source": [
    "## Downloading the quality report and preview movie\n",
    "\n",
    "For each dataset a quality report is produced during calibration which gives useful information about the quality of the data.\n",
    "This is accessible through the `Dataset`'s `quality_report()` method, which will download a PDF of the quality report to the base path of the dataset.\n",
    "This uses parfive underneath, which is the same library `Fido` uses, so it will return the same kind of `results` object.\n",
    "If the download has been successful, this can be treated as a list of filenames."
   ]
  },
  {
   "cell_type": "code",
   "execution_count": null,
   "id": "f4d183b2",
   "metadata": {},
   "outputs": [],
   "source": []
  },
  {
   "cell_type": "markdown",
   "id": "fabcb37a",
   "metadata": {},
   "source": [
    "This method takes the optional arguments `path` and `overwrite`.\n",
    "`path` allows you to specify a different location for the download, and `overwrite` is a boolean which tells the method whether or not to download a new copy if the file already exists.\n",
    "\n",
    "Similarly, each dataset also has a short preview movie showing the data.\n",
    "This can be downloaded in exactly the same way as the quality report but using the `preview_movie()` method:"
   ]
  },
  {
   "cell_type": "code",
   "execution_count": null,
   "id": "7a3aee80",
   "metadata": {},
   "outputs": [],
   "source": []
  }
 ],
 "metadata": {
  "kernelspec": {
   "display_name": "Python 3",
   "language": "python",
   "name": "python3"
  }
 },
 "nbformat": 4,
 "nbformat_minor": 5
}
